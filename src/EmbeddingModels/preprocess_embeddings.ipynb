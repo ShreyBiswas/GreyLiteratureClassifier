{
 "cells": [
  {
   "cell_type": "code",
   "execution_count": 1,
   "metadata": {},
   "outputs": [],
   "source": [
    "from tqdm.notebook import tqdm\n",
    "import pandas as pd"
   ]
  },
  {
   "cell_type": "code",
   "execution_count": 2,
   "metadata": {},
   "outputs": [],
   "source": [
    "DEV = False\n",
    "# model_name = 'dunzhang/stella_en_400M_v5'\n",
    "model_name = \"avsolatorio/GIST-Embedding-v0\" # train when I've got a spare two hours"
   ]
  },
  {
   "cell_type": "code",
   "execution_count": 3,
   "metadata": {},
   "outputs": [
    {
     "data": {
      "text/html": [
       "<div>\n",
       "<style scoped>\n",
       "    .dataframe tbody tr th:only-of-type {\n",
       "        vertical-align: middle;\n",
       "    }\n",
       "\n",
       "    .dataframe tbody tr th {\n",
       "        vertical-align: top;\n",
       "    }\n",
       "\n",
       "    .dataframe thead th {\n",
       "        text-align: right;\n",
       "    }\n",
       "</style>\n",
       "<table border=\"1\" class=\"dataframe\">\n",
       "  <thead>\n",
       "    <tr style=\"text-align: right;\">\n",
       "      <th></th>\n",
       "      <th>url</th>\n",
       "      <th>text</th>\n",
       "      <th>class</th>\n",
       "      <th>relevance</th>\n",
       "    </tr>\n",
       "  </thead>\n",
       "  <tbody>\n",
       "    <tr>\n",
       "      <th>0</th>\n",
       "      <td>https://www.wetlands.org/wp-content/uploads/20...</td>\n",
       "      <td>\\n \\n \\nFlamingo\\nFlamingo\\nFlamingo\\nFlaming...</td>\n",
       "      <td>Birds</td>\n",
       "      <td>relevant</td>\n",
       "    </tr>\n",
       "    <tr>\n",
       "      <th>1</th>\n",
       "      <td>https://www.wetlands.org/publications/flamingo...</td>\n",
       "      <td>\\n\\n \\n \\n \\n \\n \\n \\nABOUT THE GROUP \\n \\nThe...</td>\n",
       "      <td>Birds</td>\n",
       "      <td>relevant</td>\n",
       "    </tr>\n",
       "    <tr>\n",
       "      <th>2</th>\n",
       "      <td>https://www.wetlands.org/publications/the-stat...</td>\n",
       "      <td>\\n\\n\\n\\n\\n\\n(FIRST PAGE) \\n \\n \\n \\n \\nTHE STA...</td>\n",
       "      <td>Birds</td>\n",
       "      <td>relevant</td>\n",
       "    </tr>\n",
       "    <tr>\n",
       "      <th>3</th>\n",
       "      <td>https://www.sciencedirect.com/science/article/...</td>\n",
       "      <td>\\nPlease contact us via our\\nsupport center fo...</td>\n",
       "      <td>Mammals</td>\n",
       "      <td>relevant</td>\n",
       "    </tr>\n",
       "    <tr>\n",
       "      <th>4</th>\n",
       "      <td>https://www.wetlands.org/publications/strategi...</td>\n",
       "      <td>Strategies for wise use of Wetlands:\\nBest Pra...</td>\n",
       "      <td>Wetlands</td>\n",
       "      <td>relevant</td>\n",
       "    </tr>\n",
       "  </tbody>\n",
       "</table>\n",
       "</div>"
      ],
      "text/plain": [
       "                                                 url  \\\n",
       "0  https://www.wetlands.org/wp-content/uploads/20...   \n",
       "1  https://www.wetlands.org/publications/flamingo...   \n",
       "2  https://www.wetlands.org/publications/the-stat...   \n",
       "3  https://www.sciencedirect.com/science/article/...   \n",
       "4  https://www.wetlands.org/publications/strategi...   \n",
       "\n",
       "                                                text     class relevance  \n",
       "0   \\n \\n \\nFlamingo\\nFlamingo\\nFlamingo\\nFlaming...     Birds  relevant  \n",
       "1  \\n\\n \\n \\n \\n \\n \\n \\nABOUT THE GROUP \\n \\nThe...     Birds  relevant  \n",
       "2  \\n\\n\\n\\n\\n\\n(FIRST PAGE) \\n \\n \\n \\n \\nTHE STA...     Birds  relevant  \n",
       "3  \\nPlease contact us via our\\nsupport center fo...   Mammals  relevant  \n",
       "4  Strategies for wise use of Wetlands:\\nBest Pra...  Wetlands  relevant  "
      ]
     },
     "execution_count": 3,
     "metadata": {},
     "output_type": "execute_result"
    }
   ],
   "source": [
    "def import_labelled_data(path=\"data/labelled/data.json\", group_relevant=True):\n",
    "    data = pd.read_json(path, encoding=\"latin-1\")\n",
    "    data[\"relevance\"] = data[\"class\"].apply(\n",
    "        lambda x: \"relevant\" if x != \"irrelevant\" else x\n",
    "    )\n",
    "    return data\n",
    "\n",
    "data = import_labelled_data(path='../../data/labelled/data.json',group_relevant=False)\n",
    "\n",
    "# drop null classes\n",
    "data = data.dropna(subset=[\"class\"])\n",
    "\n",
    "if DEV:\n",
    "    data = data.sample(5000)\n",
    "\n",
    "# train test split\n",
    "from sklearn.model_selection import train_test_split\n",
    "train_data, test_data = train_test_split(data, test_size=0.2, random_state=42)\n",
    "\n",
    "data.head()"
   ]
  },
  {
   "cell_type": "code",
   "execution_count": 4,
   "metadata": {},
   "outputs": [],
   "source": [
    "from chunking import chunk_dataset_and_explode\n",
    "\n",
    "# roughly 4 characters per token\n",
    "max_len = 2048\n",
    "\n",
    "train_data = chunk_dataset_and_explode(train_data, max_len=max_len, overlap=int(max_len * 0.2))\n",
    "test_data = chunk_dataset_and_explode(test_data, max_len=max_len, overlap=int(max_len * 0.2))"
   ]
  },
  {
   "cell_type": "code",
   "execution_count": 5,
   "metadata": {},
   "outputs": [
    {
     "data": {
      "text/plain": [
       "Dataset({\n",
       "    features: ['chunk_id', 'url', 'text', 'class', 'relevance'],\n",
       "    num_rows: 122195\n",
       "})"
      ]
     },
     "execution_count": 5,
     "metadata": {},
     "output_type": "execute_result"
    }
   ],
   "source": [
    "from datasets import Dataset\n",
    "\n",
    "train_dataset = Dataset.from_pandas(train_data, split=\"train\")\n",
    "test_dataset = Dataset.from_pandas(test_data, split=\"test\")\n",
    "\n",
    "train_dataset"
   ]
  },
  {
   "cell_type": "code",
   "execution_count": 6,
   "metadata": {},
   "outputs": [
    {
     "data": {
      "text/plain": [
       "SentenceTransformer(\n",
       "  (0): Transformer({'max_seq_length': 512, 'do_lower_case': True}) with Transformer model: BertModel \n",
       "  (1): Pooling({'word_embedding_dimension': 768, 'pooling_mode_cls_token': True, 'pooling_mode_mean_tokens': False, 'pooling_mode_max_tokens': False, 'pooling_mode_mean_sqrt_len_tokens': False, 'pooling_mode_weightedmean_tokens': False, 'pooling_mode_lasttoken': False, 'include_prompt': True})\n",
       "  (2): Normalize()\n",
       ")"
      ]
     },
     "execution_count": 6,
     "metadata": {},
     "output_type": "execute_result"
    }
   ],
   "source": [
    "# embeddings\n",
    "from sentence_transformers import SentenceTransformer\n",
    "\n",
    "\n",
    "model = SentenceTransformer(model_name,trust_remote_code=True,similarity_fn_name='dot')\n",
    "\n",
    "model.cuda()\n",
    "# model.cpu()"
   ]
  },
  {
   "cell_type": "code",
   "execution_count": 7,
   "metadata": {},
   "outputs": [
    {
     "data": {
      "text/plain": [
       "device(type='cuda', index=0)"
      ]
     },
     "execution_count": 7,
     "metadata": {},
     "output_type": "execute_result"
    }
   ],
   "source": [
    "model.device\n"
   ]
  },
  {
   "cell_type": "code",
   "execution_count": 8,
   "metadata": {},
   "outputs": [],
   "source": [
    "# clear cuda cache\n",
    "import torch\n",
    "torch.cuda.empty_cache()"
   ]
  },
  {
   "cell_type": "code",
   "execution_count": 9,
   "metadata": {},
   "outputs": [
    {
     "data": {
      "application/vnd.jupyter.widget-view+json": {
       "model_id": "a895176c909e49cbbd4181ab92c09105",
       "version_major": 2,
       "version_minor": 0
      },
      "text/plain": [
       "Batches:   0%|          | 0/3819 [00:00<?, ?it/s]"
      ]
     },
     "metadata": {},
     "output_type": "display_data"
    },
    {
     "name": "stderr",
     "output_type": "stream",
     "text": [
      "c:\\Users\\shrey\\.virtualenvs\\GreyLiteratureClassifier-pwi3iMQR\\Lib\\site-packages\\transformers\\models\\bert\\modeling_bert.py:439: UserWarning: 1Torch was not compiled with flash attention. (Triggered internally at ..\\aten\\src\\ATen\\native\\transformers\\cuda\\sdp_utils.cpp:455.)\n",
      "  attn_output = torch.nn.functional.scaled_dot_product_attention(\n"
     ]
    }
   ],
   "source": [
    "train_embeddings = model.encode(\n",
    "    train_dataset[\"text\"],\n",
    "    show_progress_bar=True,\n",
    "    normalize_embeddings=True,\n",
    ")"
   ]
  },
  {
   "cell_type": "code",
   "execution_count": 10,
   "metadata": {},
   "outputs": [
    {
     "data": {
      "application/vnd.jupyter.widget-view+json": {
       "model_id": "3ccb6815d1dc4dc79f096b97569b6ea1",
       "version_major": 2,
       "version_minor": 0
      },
      "text/plain": [
       "Batches:   0%|          | 0/842 [00:00<?, ?it/s]"
      ]
     },
     "metadata": {},
     "output_type": "display_data"
    }
   ],
   "source": [
    "test_embeddings = model.encode(\n",
    "    test_dataset[\"text\"],\n",
    "    show_progress_bar=True,\n",
    "    normalize_embeddings=True,\n",
    ")"
   ]
  },
  {
   "cell_type": "code",
   "execution_count": 11,
   "metadata": {},
   "outputs": [
    {
     "data": {
      "text/plain": [
       "(122195, 768)"
      ]
     },
     "execution_count": 11,
     "metadata": {},
     "output_type": "execute_result"
    }
   ],
   "source": [
    "train_embeddings.shape"
   ]
  },
  {
   "cell_type": "code",
   "execution_count": 12,
   "metadata": {},
   "outputs": [
    {
     "data": {
      "text/plain": [
       "array([-3.09738684e-02, -5.73649332e-02,  1.82388201e-02, -3.32309529e-02,\n",
       "        4.77531515e-02, -2.00871639e-02,  2.39493307e-02,  2.52473261e-02,\n",
       "       -7.57582858e-02, -6.51207045e-02,  2.09446419e-02, -1.14720818e-02,\n",
       "       -4.41362150e-02,  2.30766200e-02,  9.02883895e-03,  5.82449995e-02,\n",
       "        3.54298092e-02,  1.09698288e-02, -1.88599620e-02,  1.50688067e-02,\n",
       "        1.46394931e-02, -6.05719164e-03, -6.56022877e-03,  2.88828518e-02,\n",
       "        4.75077294e-02, -2.93905623e-02,  2.93811113e-02,  2.09692419e-02,\n",
       "       -5.65504804e-02,  2.66036410e-02,  2.96469592e-02, -2.05935221e-02,\n",
       "       -5.85723855e-02,  4.49135900e-02,  3.42251100e-02, -2.81485058e-02,\n",
       "       -2.74868850e-02, -3.43200676e-02, -2.10785698e-02,  1.02992086e-02,\n",
       "       -2.56073344e-02,  2.80118058e-03, -3.74934673e-02, -1.70398075e-02,\n",
       "       -4.25287001e-02,  4.05347385e-02, -1.88313238e-02,  3.40081044e-02,\n",
       "       -1.64272671e-03, -2.94003934e-02, -9.01349708e-02, -3.67292203e-03,\n",
       "        1.39281042e-02,  2.69886795e-02, -1.77597925e-02,  3.64317074e-02,\n",
       "       -1.69794466e-02, -3.78541015e-02, -1.57445278e-02, -6.07644990e-02,\n",
       "        4.67010252e-02, -1.16604380e-03,  2.45559085e-02,  3.59952636e-02,\n",
       "        3.19001265e-02, -3.88712287e-02,  9.14255995e-03,  6.03848770e-02,\n",
       "        1.08418707e-02, -4.29138243e-02, -1.33276703e-02, -2.48001833e-02,\n",
       "       -2.58528125e-02, -2.86561009e-02,  1.09520368e-02, -4.18133028e-02,\n",
       "       -5.62909571e-03,  2.14524474e-02,  3.46559361e-02,  3.50946933e-02,\n",
       "        4.90892380e-02,  1.62099171e-02,  6.70694921e-04,  2.73125526e-02,\n",
       "        1.90664157e-02, -5.18332645e-02, -1.65988076e-02,  3.07565997e-03,\n",
       "       -4.79885526e-02,  5.70509285e-02, -1.73805077e-02, -5.03084064e-02,\n",
       "        4.02444638e-02,  5.67185134e-02,  3.46856341e-02,  1.70746464e-02,\n",
       "        7.25533022e-03,  3.57787572e-02,  2.58401297e-02,  3.21111046e-02,\n",
       "       -5.05018383e-02,  9.72092152e-03,  1.66612994e-02,  3.01528368e-02,\n",
       "       -7.82378688e-02, -5.93449809e-02,  4.85833921e-03, -2.04996169e-02,\n",
       "        9.39158257e-03,  2.22677365e-02,  1.02054859e-02,  5.99334855e-03,\n",
       "       -2.09201612e-02,  2.19312757e-02, -7.31015205e-02,  7.88097084e-02,\n",
       "       -1.28132198e-02, -5.01427725e-02, -2.95327026e-02, -2.01785006e-02,\n",
       "        4.78982516e-02,  1.45430984e-02,  1.21896714e-02,  4.92063314e-02,\n",
       "        5.03136590e-03, -3.30225304e-02,  6.31085085e-03,  7.13541210e-02,\n",
       "       -6.53721616e-02, -6.83672950e-02,  4.57440726e-02,  7.03839362e-02,\n",
       "       -3.67518999e-02,  3.87376524e-03, -2.61388738e-02, -2.14329027e-02,\n",
       "        3.96016724e-02, -1.15093235e-02,  4.53079082e-02, -2.28766873e-02,\n",
       "       -5.41020371e-03, -2.13797539e-02,  3.05099022e-02, -3.56621924e-03,\n",
       "        1.40445633e-02, -2.84129009e-02,  1.24587407e-02, -3.91195901e-02,\n",
       "        5.91514213e-03,  4.22891490e-02,  6.05486799e-03,  1.87937607e-04,\n",
       "        2.16876846e-02, -5.07808402e-02, -4.28646617e-03,  1.00525785e-02,\n",
       "        1.06508499e-02, -3.74622643e-03, -5.39132990e-02,  1.65846590e-02,\n",
       "        3.53240408e-02,  2.07580440e-02,  5.13873436e-03, -1.49486912e-03,\n",
       "       -1.37996133e-02, -4.23412994e-02,  1.92144315e-03,  1.16255740e-02,\n",
       "        7.32006179e-03,  2.98589058e-02, -2.17816979e-02,  7.62696145e-03,\n",
       "        9.06609148e-02, -9.16398969e-03,  4.15783338e-02,  3.55343428e-03,\n",
       "        5.46216182e-02,  2.92232744e-02,  3.75426537e-03, -5.50840283e-03,\n",
       "       -4.94105965e-02,  4.44768369e-02, -1.67479413e-03, -1.94505265e-03,\n",
       "       -1.45721631e-02, -4.77957800e-02,  4.11067158e-02, -2.20934190e-02,\n",
       "        5.53907715e-02,  2.13590730e-02, -5.91363534e-02, -7.67705590e-02,\n",
       "        4.21805754e-02, -6.76736049e-03,  4.32227924e-02, -3.75180393e-02,\n",
       "       -4.39343937e-02,  5.03825098e-02,  1.51842618e-02,  4.49627824e-02,\n",
       "       -3.43988985e-02, -1.82941817e-02,  3.51249240e-02, -4.15923037e-02,\n",
       "       -8.33078548e-02,  3.35100666e-02,  4.40650918e-02, -4.08031195e-02,\n",
       "       -3.97612862e-02,  1.36446282e-02, -7.70756751e-02, -1.11995200e-02,\n",
       "        3.32172848e-02, -1.13581782e-02,  4.66940925e-02,  1.11703817e-02,\n",
       "        3.30621079e-02, -2.35373229e-02,  3.61586623e-02, -7.75215253e-02,\n",
       "        3.43364887e-02,  1.73623431e-02, -2.43443865e-02,  1.07785929e-02,\n",
       "       -2.22366508e-02,  5.16151078e-02,  7.90129378e-02, -3.24916989e-02,\n",
       "       -1.58818476e-02,  3.36237736e-02, -2.32389625e-02,  3.00309416e-02,\n",
       "       -4.28709388e-03,  1.96934752e-02,  5.18190749e-02,  8.68403353e-03,\n",
       "       -2.50947177e-02, -2.57435814e-02,  6.28869534e-02, -5.14595918e-02,\n",
       "        1.63162090e-02,  2.31086425e-02,  2.76797786e-02,  7.70237893e-02,\n",
       "        1.50074521e-02,  3.27389911e-02,  2.50278506e-02, -2.34568361e-02,\n",
       "       -6.59383088e-02, -5.15703373e-02, -1.25696394e-03,  3.11763608e-03,\n",
       "        4.85351533e-02, -1.99158005e-02,  6.63210172e-03, -7.71055892e-02,\n",
       "       -4.36387807e-02, -9.24292300e-03,  4.15754579e-02,  3.80291082e-02,\n",
       "       -1.46222431e-02, -3.41270701e-03, -1.69918723e-02,  1.99470986e-02,\n",
       "       -5.43893082e-03, -7.71137103e-02, -4.81378138e-02, -2.77535617e-02,\n",
       "        1.08805122e-02,  1.07778460e-02,  3.24466787e-02, -1.11798327e-02,\n",
       "        1.44790635e-02,  5.58889238e-03, -2.81390958e-02,  5.99599257e-03,\n",
       "        2.45784260e-02, -1.48811918e-02,  1.40632475e-02, -7.61495950e-03,\n",
       "        3.75317708e-02,  5.04469052e-02, -5.32540120e-02, -5.78290112e-02,\n",
       "        4.41378951e-02, -5.17013147e-02,  4.20130417e-02,  1.43261638e-03,\n",
       "       -6.83279661e-03,  1.20236920e-02,  4.66456227e-02, -2.87222099e-02,\n",
       "       -6.93895342e-03,  3.49214859e-02,  4.39958237e-02,  5.61384670e-02,\n",
       "       -2.84940042e-02,  3.59384082e-02,  2.58480441e-02,  2.45331191e-02,\n",
       "        5.07474281e-02, -2.75145452e-02, -1.09108966e-02, -6.27631741e-03,\n",
       "       -3.75630741e-04, -3.29247564e-02, -1.95039308e-03, -3.71297933e-02,\n",
       "       -2.51736104e-01, -3.59713053e-03,  2.53119562e-02,  4.66405740e-03,\n",
       "        4.54379991e-03,  6.14534877e-03,  5.05345985e-02, -2.99300030e-02,\n",
       "       -8.24414380e-03, -1.21197235e-02,  4.20552120e-03, -6.01716433e-03,\n",
       "        3.44073512e-02,  6.15863279e-02,  6.40955046e-02,  3.63043211e-02,\n",
       "        5.24649322e-02, -2.21436843e-02,  9.77299362e-03,  4.56326874e-03,\n",
       "       -1.89029742e-02, -1.95520148e-02, -1.27077496e-04, -2.42762771e-02,\n",
       "       -3.94266751e-03,  2.22484227e-02, -4.81087603e-02, -1.73275769e-02,\n",
       "       -7.11881146e-02, -3.38293500e-02, -7.04381941e-03, -2.94434596e-02,\n",
       "       -3.29558481e-03, -2.04420276e-02,  5.85183455e-03,  1.08407838e-02,\n",
       "        1.88359525e-02,  3.98476459e-02,  1.21362451e-02, -2.67616473e-02,\n",
       "       -4.21294458e-02, -1.00468833e-03, -3.79678085e-02, -2.58825719e-02,\n",
       "        5.84672652e-02,  1.73541845e-03,  5.51740592e-03,  4.87738289e-03,\n",
       "       -1.04575064e-02,  4.79340106e-02,  2.57589109e-02, -7.02612707e-03,\n",
       "       -2.71085855e-02, -1.99475437e-02, -2.41528172e-02, -2.44562738e-02,\n",
       "       -4.93770093e-02, -3.45126749e-03, -1.61893498e-02, -8.43230076e-03,\n",
       "        2.11309902e-02, -2.45673843e-02, -3.89323197e-02,  3.63295921e-03,\n",
       "       -1.18534938e-02, -4.32556719e-02, -3.38717923e-02, -3.54270637e-02,\n",
       "        6.52678832e-02, -9.45043657e-03, -3.30029018e-02,  6.92462362e-03,\n",
       "       -3.81174241e-03, -9.13463607e-02, -2.50185840e-03, -3.08800824e-02,\n",
       "       -1.75632574e-02, -3.63068692e-02,  3.02796513e-02, -1.88294705e-02,\n",
       "       -2.04927903e-02, -2.64904667e-02,  2.03556269e-02,  5.77939488e-02,\n",
       "       -1.44678727e-02, -7.94423893e-02,  6.95766322e-03,  2.65636668e-02,\n",
       "       -3.77788022e-02, -5.21483272e-02,  6.77621961e-02,  1.28342295e-02,\n",
       "       -1.12710278e-02, -3.36843282e-02,  6.42144531e-02,  5.88367507e-02,\n",
       "       -2.97489464e-02, -4.34768051e-02,  3.41162942e-02,  7.03997770e-03,\n",
       "        7.73371458e-02, -4.10246141e-02,  1.53970700e-02, -1.18886791e-02,\n",
       "        2.70103123e-02, -2.09883181e-03, -3.85379465e-03,  1.07992105e-02,\n",
       "        3.99971530e-02, -2.68871654e-02,  6.80124164e-02,  3.61865759e-02,\n",
       "        9.67670511e-03, -2.39120536e-02,  1.94507986e-04, -3.52027081e-02,\n",
       "        6.50245510e-03,  2.39756852e-02,  5.42587377e-02, -2.21797768e-02,\n",
       "        9.13807005e-03, -1.39667569e-02, -3.61063257e-02, -5.34448922e-02,\n",
       "       -4.47209924e-02, -3.70819457e-02, -4.03418532e-03,  2.25263909e-02,\n",
       "       -3.85144465e-02,  2.35336386e-02, -2.42431313e-02,  3.90856303e-02,\n",
       "        3.06946672e-02, -1.87491104e-02,  5.19946218e-02, -1.27541972e-02,\n",
       "       -5.39211780e-02, -4.15008962e-02, -4.26068902e-03,  2.94270497e-02,\n",
       "       -5.49944080e-02,  1.71578601e-02,  4.28520516e-02,  3.19740660e-02,\n",
       "        2.34475005e-02,  3.66768427e-02, -4.51701554e-03,  4.94078780e-03,\n",
       "        3.09930183e-02,  2.60333009e-02, -2.44346522e-02, -3.06960866e-02,\n",
       "        9.08673648e-03, -1.57192927e-02,  3.15596089e-02, -5.57245798e-02,\n",
       "        3.85867469e-02,  5.83968982e-02, -7.59144686e-03, -6.90271929e-02,\n",
       "        4.33334662e-03, -4.81886975e-02, -2.01365147e-02, -1.43463751e-02,\n",
       "        4.12180182e-03,  7.00207725e-02, -3.38421315e-02,  2.95677576e-02,\n",
       "        1.21549787e-02, -5.13701774e-02,  2.41835006e-02, -1.75476335e-02,\n",
       "       -1.89604890e-02,  3.05283982e-02, -2.42045876e-02,  2.95426883e-03,\n",
       "       -3.28460336e-02, -5.76734431e-02,  1.60987563e-02, -9.89049487e-03,\n",
       "       -2.24964190e-02, -1.77753344e-02,  8.81532580e-03, -1.32721029e-02,\n",
       "        5.71832061e-02, -4.76309378e-03,  4.20964174e-02, -3.53671499e-02,\n",
       "        8.30811076e-03,  1.95361953e-02, -5.18495170e-03, -3.60215036e-03,\n",
       "        1.10622654e-02,  4.14368175e-02, -7.10493624e-02, -8.56607184e-02,\n",
       "        6.03039972e-02, -1.23908436e-02,  1.04431366e-03,  1.68094561e-02,\n",
       "        2.51071062e-02, -1.94937587e-02, -3.68046276e-02, -3.29357833e-02,\n",
       "       -2.81579467e-03, -5.99819086e-02,  1.18526053e-02, -1.73406918e-02,\n",
       "        2.12521572e-02,  2.98943836e-02, -5.27180433e-02, -1.02629596e-02,\n",
       "       -4.04910780e-02,  5.25081567e-02, -3.41870869e-03, -6.60446063e-02,\n",
       "       -3.35407141e-03, -2.20899507e-02, -2.60741357e-02, -4.83182678e-03,\n",
       "        2.02623699e-02, -8.28188192e-03, -5.52663282e-02, -3.69149223e-02,\n",
       "       -1.20826857e-02,  6.26141354e-02, -1.89687870e-02,  3.91559303e-02,\n",
       "        3.65728661e-02, -3.62094082e-02,  1.10406689e-02, -4.77233902e-02,\n",
       "       -2.52060946e-02, -2.14356259e-02,  1.32774720e-02,  2.57054921e-02,\n",
       "       -5.29184602e-02,  8.36470351e-03, -3.18446979e-02,  3.97297926e-02,\n",
       "       -9.88887623e-03,  5.60141951e-02,  1.57093368e-02, -4.87002768e-02,\n",
       "       -2.56156269e-02,  1.58905517e-02, -4.72571887e-02,  2.33624931e-02,\n",
       "       -1.10735791e-02,  5.36536090e-02, -5.17187230e-02,  1.79517120e-02,\n",
       "       -2.04550698e-02, -4.77937609e-02,  3.69957574e-02, -1.49618657e-02,\n",
       "       -2.96865944e-02, -7.78664881e-03, -1.70023099e-03,  1.90053863e-04,\n",
       "        5.21248132e-02,  3.74151729e-02, -3.54437828e-02,  1.27276378e-02,\n",
       "        3.64956409e-02,  3.20667103e-02, -3.65214087e-02, -1.71981882e-02,\n",
       "        2.62458939e-02, -1.93700697e-02, -1.85301830e-03, -3.10909804e-02,\n",
       "        2.03548688e-02,  1.64289083e-02,  1.88839827e-02,  4.38691676e-03,\n",
       "        8.07515532e-03, -2.47489195e-02,  4.03847620e-02, -7.24474117e-02,\n",
       "       -2.30867025e-02, -1.40692317e-03, -3.88546288e-02, -7.88906962e-03,\n",
       "       -2.92172120e-03, -4.28127907e-02, -3.07131838e-03, -2.14863233e-02,\n",
       "       -2.96479482e-02,  5.90641808e-04,  2.65426058e-02, -1.71660520e-02,\n",
       "       -2.22212486e-02, -1.56242009e-02, -3.26459087e-03,  1.23442123e-02,\n",
       "        1.68122333e-02,  3.38375680e-02,  7.71627529e-03,  1.04523534e-02,\n",
       "       -5.56742847e-02,  5.05520850e-02,  1.59709286e-02,  7.23579386e-03,\n",
       "       -4.17584665e-02,  1.09275347e-02,  1.52877299e-02, -3.81492600e-02,\n",
       "        2.85095144e-02,  3.65645252e-02, -2.10359804e-02, -5.54173179e-02,\n",
       "        2.86341086e-02,  2.65845899e-02, -5.61686642e-02, -1.50386756e-02,\n",
       "        1.35406870e-02, -8.44215453e-02,  6.97640330e-02,  1.14229908e-02,\n",
       "        2.97223944e-02, -1.77927874e-02,  5.74618131e-02,  1.74801145e-02,\n",
       "        3.32614072e-02,  2.63613351e-02, -1.77817065e-02,  5.47075085e-02,\n",
       "        3.38200256e-02,  7.61895627e-02,  2.57137418e-02,  2.44667809e-02,\n",
       "        2.93092541e-02,  4.45512123e-02, -2.01153625e-02, -2.26065200e-02,\n",
       "        6.57062978e-02,  4.57370508e-04, -3.52529846e-02,  2.97242142e-02,\n",
       "        5.17636389e-02,  9.68402438e-03,  6.23378046e-02,  2.82999724e-02,\n",
       "       -1.97234023e-02,  1.83268618e-02, -2.97328327e-02,  1.16376895e-02,\n",
       "        4.04784977e-02,  1.17117027e-02,  7.20290840e-02,  1.41365109e-02,\n",
       "       -1.94527060e-02, -5.30664138e-02,  1.64168384e-02,  3.51416267e-04,\n",
       "       -2.21908707e-02,  4.31677513e-03, -3.04452376e-03, -2.12501213e-02,\n",
       "        3.88904512e-02,  6.64785504e-02,  5.32206520e-02, -1.92650091e-02,\n",
       "       -1.62545666e-02, -2.52085067e-02,  1.04810558e-02,  1.00424699e-02,\n",
       "       -9.22241714e-03,  3.00632212e-02,  5.37823588e-02,  2.75894124e-02,\n",
       "       -5.31890951e-02, -1.30610429e-02,  1.70322563e-02,  6.31645741e-03,\n",
       "        2.66022943e-02, -1.06640160e-02, -7.43359048e-03,  2.30567139e-02,\n",
       "       -1.19399540e-02, -1.16913216e-02, -1.13385934e-02, -5.91793470e-02,\n",
       "       -1.80989560e-02, -8.39512274e-02,  9.95576009e-03,  4.77951914e-02,\n",
       "       -3.76105942e-02, -2.01571770e-02, -1.83147695e-02, -9.65065137e-03,\n",
       "       -1.87171642e-02,  3.71429548e-02, -6.08102605e-02,  3.52442847e-03,\n",
       "        6.07250892e-02,  4.55160178e-02,  1.41225634e-02,  1.62104785e-03,\n",
       "        3.91704068e-02,  5.15624955e-02, -4.56795990e-02,  2.79327054e-02,\n",
       "        6.92279115e-02,  2.78116837e-02, -6.08117469e-02, -1.23221651e-02,\n",
       "       -3.65107134e-02,  5.78781888e-02,  2.36989167e-02,  3.06754373e-02,\n",
       "       -6.84826672e-02,  8.51118118e-02, -2.11302843e-02, -4.51470586e-03,\n",
       "        4.91038412e-02, -4.27507274e-02, -2.07505319e-02, -2.13240702e-02,\n",
       "       -1.71731412e-02, -2.41628215e-02, -1.17178783e-02,  5.99195659e-02,\n",
       "       -4.01710644e-02,  4.74462984e-03,  3.65378857e-02, -1.80444140e-02,\n",
       "       -5.57371043e-03,  2.17795502e-02, -3.59486751e-02, -3.55377682e-02,\n",
       "       -4.91449907e-02, -1.20365852e-02,  1.86094176e-02, -1.00615636e-01,\n",
       "        3.47221619e-03,  1.85414664e-02,  1.20798098e-02, -5.63323274e-02,\n",
       "        3.95608582e-02,  2.81564295e-02,  4.72121611e-02, -2.90199276e-02,\n",
       "        2.09576897e-02, -2.95379944e-02, -3.55236083e-02, -2.93979421e-02,\n",
       "       -7.91099072e-02,  2.04767045e-02,  6.58928305e-02, -6.28798008e-02,\n",
       "        1.93023980e-02, -3.28968205e-02,  1.50909219e-02, -4.79550287e-02,\n",
       "        1.87150035e-02,  1.52097037e-03, -1.75859947e-02, -4.34195735e-02],\n",
       "      dtype=float32)"
      ]
     },
     "execution_count": 12,
     "metadata": {},
     "output_type": "execute_result"
    }
   ],
   "source": [
    "train_embeddings[0]"
   ]
  },
  {
   "cell_type": "code",
   "execution_count": 13,
   "metadata": {},
   "outputs": [],
   "source": [
    "# add to pandas dataframe\n",
    "train_data[\"embeddings\"] = train_embeddings.tolist()\n",
    "test_data[\"embeddings\"] = test_embeddings.tolist()"
   ]
  },
  {
   "cell_type": "code",
   "execution_count": 14,
   "metadata": {},
   "outputs": [
    {
     "data": {
      "text/html": [
       "<div>\n",
       "<style scoped>\n",
       "    .dataframe tbody tr th:only-of-type {\n",
       "        vertical-align: middle;\n",
       "    }\n",
       "\n",
       "    .dataframe tbody tr th {\n",
       "        vertical-align: top;\n",
       "    }\n",
       "\n",
       "    .dataframe thead th {\n",
       "        text-align: right;\n",
       "    }\n",
       "</style>\n",
       "<table border=\"1\" class=\"dataframe\">\n",
       "  <thead>\n",
       "    <tr style=\"text-align: right;\">\n",
       "      <th></th>\n",
       "      <th>chunk_id</th>\n",
       "      <th>url</th>\n",
       "      <th>text</th>\n",
       "      <th>class</th>\n",
       "      <th>relevance</th>\n",
       "      <th>embeddings</th>\n",
       "    </tr>\n",
       "  </thead>\n",
       "  <tbody>\n",
       "    <tr>\n",
       "      <th>0</th>\n",
       "      <td>4176</td>\n",
       "      <td>https://www.conservationevidence.com/individua...</td>\n",
       "      <td>Cease or prohibit shipping(Summarised by: Anaë...</td>\n",
       "      <td>Subtidal Benthic Invertebrate Conservation</td>\n",
       "      <td>relevant</td>\n",
       "      <td>[-0.03097386844456196, -0.05736493319272995, 0...</td>\n",
       "    </tr>\n",
       "    <tr>\n",
       "      <th>1</th>\n",
       "      <td>4176</td>\n",
       "      <td>https://www.conservationevidence.com/individua...</td>\n",
       "      <td>ed, and their biomass converted to energy valu...</td>\n",
       "      <td>Subtidal Benthic Invertebrate Conservation</td>\n",
       "      <td>relevant</td>\n",
       "      <td>[-0.023276297375559807, -0.050277337431907654,...</td>\n",
       "    </tr>\n",
       "    <tr>\n",
       "      <th>2</th>\n",
       "      <td>8508</td>\n",
       "      <td>https://budget.finance.go.ug/sites/default/fil...</td>\n",
       "      <td>LG Draft Budget Estimates 2024/25 VOTE: 718 Lu...</td>\n",
       "      <td>irrelevant</td>\n",
       "      <td>irrelevant</td>\n",
       "      <td>[0.0002742694632615894, 0.009270773269236088, ...</td>\n",
       "    </tr>\n",
       "    <tr>\n",
       "      <th>3</th>\n",
       "      <td>8508</td>\n",
       "      <td>https://budget.finance.go.ug/sites/default/fil...</td>\n",
       "      <td>ies/Fees 1,100,213 1,034,087 Registration fees...</td>\n",
       "      <td>irrelevant</td>\n",
       "      <td>irrelevant</td>\n",
       "      <td>[0.011356459930539131, -0.01759961247444153, -...</td>\n",
       "    </tr>\n",
       "    <tr>\n",
       "      <th>4</th>\n",
       "      <td>8508</td>\n",
       "      <td>https://budget.finance.go.ug/sites/default/fil...</td>\n",
       "      <td>0 0 0 0 Tourism Development 2,000 0 0 0 2,000 ...</td>\n",
       "      <td>irrelevant</td>\n",
       "      <td>irrelevant</td>\n",
       "      <td>[0.014761500991880894, -0.024308089166879654, ...</td>\n",
       "    </tr>\n",
       "  </tbody>\n",
       "</table>\n",
       "</div>"
      ],
      "text/plain": [
       "   chunk_id                                                url  \\\n",
       "0      4176  https://www.conservationevidence.com/individua...   \n",
       "1      4176  https://www.conservationevidence.com/individua...   \n",
       "2      8508  https://budget.finance.go.ug/sites/default/fil...   \n",
       "3      8508  https://budget.finance.go.ug/sites/default/fil...   \n",
       "4      8508  https://budget.finance.go.ug/sites/default/fil...   \n",
       "\n",
       "                                                text  \\\n",
       "0  Cease or prohibit shipping(Summarised by: Anaë...   \n",
       "1  ed, and their biomass converted to energy valu...   \n",
       "2  LG Draft Budget Estimates 2024/25 VOTE: 718 Lu...   \n",
       "3  ies/Fees 1,100,213 1,034,087 Registration fees...   \n",
       "4  0 0 0 0 Tourism Development 2,000 0 0 0 2,000 ...   \n",
       "\n",
       "                                        class   relevance  \\\n",
       "0  Subtidal Benthic Invertebrate Conservation    relevant   \n",
       "1  Subtidal Benthic Invertebrate Conservation    relevant   \n",
       "2                                  irrelevant  irrelevant   \n",
       "3                                  irrelevant  irrelevant   \n",
       "4                                  irrelevant  irrelevant   \n",
       "\n",
       "                                          embeddings  \n",
       "0  [-0.03097386844456196, -0.05736493319272995, 0...  \n",
       "1  [-0.023276297375559807, -0.050277337431907654,...  \n",
       "2  [0.0002742694632615894, 0.009270773269236088, ...  \n",
       "3  [0.011356459930539131, -0.01759961247444153, -...  \n",
       "4  [0.014761500991880894, -0.024308089166879654, ...  "
      ]
     },
     "execution_count": 14,
     "metadata": {},
     "output_type": "execute_result"
    }
   ],
   "source": [
    "train_data.head()"
   ]
  },
  {
   "cell_type": "code",
   "execution_count": 15,
   "metadata": {},
   "outputs": [],
   "source": [
    "import os\n",
    "\n",
    "# Create the folder if it doesn't exist\n",
    "if not os.path.exists(f\"embeddings/{model_name}/dev\"):\n",
    "    os.makedirs(f\"embeddings/{model_name}/dev\")\n",
    "\n",
    "if DEV:\n",
    "    train_data.to_json(f\"embeddings/{model_name}/dev/train_embeddings.json\", orient='records', indent=4)\n",
    "    test_data.to_json(f\"embeddings/{model_name}/dev/test_embeddings.json\", orient='records', indent=4)\n",
    "else:\n",
    "    train_data.to_json(f\"embeddings/{model_name}/train_embeddings.json\", orient='records')\n",
    "    test_data.to_json(f\"embeddings/{model_name}/test_embeddings.json\", orient='records')\n",
    "\n",
    "    # also save dev data\n",
    "    devTrain = train_data.sample(10000)\n",
    "    devTest = test_data.sample(int(10000*0.2))\n",
    "    devTrain.to_json(f\"embeddings/{model_name}/dev/train_embeddings.json\", orient='records')\n",
    "    devTest.to_json(f\"embeddings/{model_name}/dev/test_embeddings.json\", orient='records')\n",
    "\n"
   ]
  },
  {
   "cell_type": "code",
   "execution_count": 16,
   "metadata": {},
   "outputs": [
    {
     "name": "stdout",
     "output_type": "stream",
     "text": [
      "True\n",
      "0\n",
      "NVIDIA GeForce RTX 3050 6GB Laptop GPU\n",
      "12.1\n"
     ]
    }
   ],
   "source": [
    "import torch\n",
    "print(torch.cuda.is_available())\n",
    "print(torch.cuda.current_device())\n",
    "print(torch.cuda.get_device_name(0))\n",
    "# get version of cuda\n",
    "print(torch.version.cuda)\n",
    "# clear cache\n",
    "torch.cuda.empty_cache()"
   ]
  }
 ],
 "metadata": {
  "kernelspec": {
   "display_name": "venv",
   "language": "python",
   "name": "python3"
  },
  "language_info": {
   "codemirror_mode": {
    "name": "ipython",
    "version": 3
   },
   "file_extension": ".py",
   "mimetype": "text/x-python",
   "name": "python",
   "nbconvert_exporter": "python",
   "pygments_lexer": "ipython3",
   "version": "3.11.3"
  }
 },
 "nbformat": 4,
 "nbformat_minor": 2
}
