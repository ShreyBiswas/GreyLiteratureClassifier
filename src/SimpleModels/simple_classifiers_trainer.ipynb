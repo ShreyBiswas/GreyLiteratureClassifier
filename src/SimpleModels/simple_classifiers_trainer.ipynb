{
 "cells": [
  {
   "cell_type": "code",
   "execution_count": 1,
   "metadata": {},
   "outputs": [],
   "source": [
    "# import pandas as pd\n",
    "import cudf as pd\n",
    "from tqdm.auto import tqdm"
   ]
  },
  {
   "cell_type": "code",
   "execution_count": 2,
   "metadata": {},
   "outputs": [
    {
     "name": "stdout",
     "output_type": "stream",
     "text": [
      "Loading data...\n"
     ]
    },
    {
     "name": "stderr",
     "output_type": "stream",
     "text": [
      "/workspace/GreyLit/venv/lib/python3.10/site-packages/cudf/io/json.py:108: UserWarning: Using CPU via Pandas to read JSON dataset, this may be GPU accelerated in the future\n",
      "  warnings.warn(\n"
     ]
    },
    {
     "name": "stdout",
     "output_type": "stream",
     "text": [
      "Data loaded.\n",
      "<class 'cudf.core.dataframe.DataFrame'>\n",
      "RangeIndex: 19284 entries, 0 to 19283\n",
      "Data columns (total 4 columns):\n",
      " #   Column        Non-Null Count  Dtype\n",
      "---  ------        --------------  -----\n",
      " 0   url           19284 non-null  object\n",
      " 1   text          19284 non-null  object\n",
      " 2   relevance     19284 non-null  object\n",
      " 3   multiclasses  19284 non-null  list\n",
      "dtypes: list(1), object(3)\n",
      "memory usage: 1.3+ GB\n"
     ]
    }
   ],
   "source": [
    "def import_labelled_data(path=\"data/labelled/data.json\"):\n",
    "    data = pd.read_json(path, encoding=\"latin-1\")\n",
    "    return data\n",
    "\n",
    "\n",
    "print(\"Loading data...\")\n",
    "\n",
    "data = import_labelled_data(\n",
    "    path=\"../../data/level-0.5/data.json\"\n",
    ")\n",
    "\n",
    "print(\"Data loaded.\")\n",
    "\n",
    "data = data.sample(frac=1).reset_index(drop=True)\n",
    "\n",
    "# data = data.sample(2500)\n",
    "\n",
    "data.info()"
   ]
  },
  {
   "cell_type": "code",
   "execution_count": 3,
   "metadata": {},
   "outputs": [],
   "source": [
    "def train_test_split(x, y=None, test_size=0.2,shuffle=False):\n",
    "    split = int(len(x) * (1 - test_size))\n",
    "    xTrain, xTest = x.iloc[:split], x.iloc[split:]\n",
    "    if y is not None:\n",
    "        yTrain, yTest = y.iloc[:split], y.iloc[split:]\n",
    "        return xTrain, xTest, yTrain, yTest\n",
    "    return xTrain, xTest\n",
    "\n",
    "\n",
    "trainData, testData = train_test_split(data, test_size=0.2)"
   ]
  },
  {
   "cell_type": "code",
   "execution_count": 4,
   "metadata": {},
   "outputs": [
    {
     "data": {
      "text/html": [
       "<div>\n",
       "<style scoped>\n",
       "    .dataframe tbody tr th:only-of-type {\n",
       "        vertical-align: middle;\n",
       "    }\n",
       "\n",
       "    .dataframe tbody tr th {\n",
       "        vertical-align: top;\n",
       "    }\n",
       "\n",
       "    .dataframe thead th {\n",
       "        text-align: right;\n",
       "    }\n",
       "</style>\n",
       "<table border=\"1\" class=\"dataframe\">\n",
       "  <thead>\n",
       "    <tr style=\"text-align: right;\">\n",
       "      <th></th>\n",
       "      <th>url</th>\n",
       "      <th>text</th>\n",
       "      <th>relevance</th>\n",
       "      <th>multiclasses</th>\n",
       "    </tr>\n",
       "  </thead>\n",
       "  <tbody>\n",
       "    <tr>\n",
       "      <th>0</th>\n",
       "      <td>https://products.z-wavealliance.org/ProductMan...</td>\n",
       "      <td>™ ELEMENT THERMOSTAT USER GUIDE Welcome ™ The ...</td>\n",
       "      <td>irrelevant</td>\n",
       "      <td>[]</td>\n",
       "    </tr>\n",
       "    <tr>\n",
       "      <th>1</th>\n",
       "      <td>https://region8.bfar.da.gov.ph/wp-content/uplo...</td>\n",
       "      <td>re Agricultu of ror Delortment materiars 7 oth...</td>\n",
       "      <td>irrelevant</td>\n",
       "      <td>[]</td>\n",
       "    </tr>\n",
       "    <tr>\n",
       "      <th>2</th>\n",
       "      <td>https://doe.gov.ph/sites/default/files/pdf/iss...</td>\n",
       "      <td>IMEM Implementing Rules Interim Mindanao Elect...</td>\n",
       "      <td>irrelevant</td>\n",
       "      <td>[]</td>\n",
       "    </tr>\n",
       "    <tr>\n",
       "      <th>3</th>\n",
       "      <td>https://www.conservationevidence.com/individua...</td>\n",
       "      <td>(Summarised by: William Morgan)A replicated st...</td>\n",
       "      <td>relevant</td>\n",
       "      <td>[Reptiles]</td>\n",
       "    </tr>\n",
       "    <tr>\n",
       "      <th>4</th>\n",
       "      <td>https://www.deloitte.com/content/dam/assets-sh...</td>\n",
       "      <td>State and local government IT leaders often fa...</td>\n",
       "      <td>irrelevant</td>\n",
       "      <td>[]</td>\n",
       "    </tr>\n",
       "  </tbody>\n",
       "</table>\n",
       "</div>"
      ],
      "text/plain": [
       "                                                 url  \\\n",
       "0  https://products.z-wavealliance.org/ProductMan...   \n",
       "1  https://region8.bfar.da.gov.ph/wp-content/uplo...   \n",
       "2  https://doe.gov.ph/sites/default/files/pdf/iss...   \n",
       "3  https://www.conservationevidence.com/individua...   \n",
       "4  https://www.deloitte.com/content/dam/assets-sh...   \n",
       "\n",
       "                                                text   relevance multiclasses  \n",
       "0  ™ ELEMENT THERMOSTAT USER GUIDE Welcome ™ The ...  irrelevant           []  \n",
       "1  re Agricultu of ror Delortment materiars 7 oth...  irrelevant           []  \n",
       "2  IMEM Implementing Rules Interim Mindanao Elect...  irrelevant           []  \n",
       "3  (Summarised by: William Morgan)A replicated st...    relevant   [Reptiles]  \n",
       "4  State and local government IT leaders often fa...  irrelevant           []  "
      ]
     },
     "execution_count": 4,
     "metadata": {},
     "output_type": "execute_result"
    }
   ],
   "source": [
    "trainData.head()"
   ]
  },
  {
   "cell_type": "code",
   "execution_count": 5,
   "metadata": {},
   "outputs": [
    {
     "name": "stdout",
     "output_type": "stream",
     "text": [
      "Estimated time to train on full dataset:  362.5392  seconds\n",
      "Vectorizing complete.\n",
      "Training complete.\n"
     ]
    }
   ],
   "source": [
    "from cuML_LogisticRegressionClassifier import LogisticRegressionClassifier\n",
    "\n",
    "# roughly 47s for 2500 articles\n",
    "print('Estimated time to train on full dataset: ', 47 / 2500 * len(data), ' seconds')\n",
    "\n",
    "logistic = LogisticRegressionClassifier()\n",
    "logistic.train(trainData)"
   ]
  },
  {
   "cell_type": "code",
   "execution_count": 6,
   "metadata": {},
   "outputs": [],
   "source": [
    "from cupy import unique\n",
    "\n",
    "def precision_score(y_true, y_pred, average: str = 'macro', zero_division = 0) -> float:\n",
    "    if average == 'macro':\n",
    "        precis = 0\n",
    "        for i in unique(y_true):\n",
    "            tp = sum((y_true == i) & (y_pred == i))\n",
    "            fp = sum((y_true != i) & (y_pred == i))\n",
    "            if tp + fp == 0:\n",
    "                print(f'Zero Division: Class {i} was never predicted.')\n",
    "                tp, fp = 0,1\n",
    "            precis += tp / (tp + fp)\n",
    "\n",
    "        return precis / len(unique(y_true))\n",
    "\n",
    "    elif average == 'micro':\n",
    "        tp = sum(y_true == y_pred)\n",
    "        fp = sum(y_true != y_pred)\n",
    "        if tp + fp == 0:\n",
    "            print(f'Zero Division: Class {i} was never predicted.')\n",
    "            tp, fp = 0,1\n",
    "        return tp / (tp + fp)\n",
    "\n",
    "def recall_score(y_true, y_pred, average: str = 'macro', zero_division = 0) -> float:\n",
    "    if average == 'macro':\n",
    "        recall = 0\n",
    "        for i in unique(y_true):\n",
    "            tp = sum((y_true == i) & (y_pred == i))\n",
    "            fn = sum((y_true == i) & (y_pred != i))\n",
    "            if tp + fn == 0:\n",
    "                print(f'Zero Division: Class {i} never appeared in the test set.')\n",
    "                tp, fn = 0,1\n",
    "            recall += tp / (tp + fn)\n",
    "\n",
    "        return recall / len(unique(y_true))\n",
    "\n",
    "    elif average == 'micro':\n",
    "        tp = sum(y_true == y_pred)\n",
    "        fn = sum(y_true != y_pred)\n",
    "        if tp + fn == 0:\n",
    "            print(f'Zero Division: Class {i} never appeared in the test set.')\n",
    "            tp, fn = 0,1\n",
    "        return tp / (tp + fn)\n",
    "\n",
    "def f1_score(y_true, y_pred, average: str = 'macro', zero_division = 0) -> float:\n",
    "    if average == 'macro':\n",
    "        precis = precision_score(y_true, y_pred, average, zero_division)\n",
    "        recall = recall_score(y_true, y_pred, average, zero_division)\n",
    "        return 2 * (precis * recall) / (precis + recall)\n",
    "    elif average == 'micro':\n",
    "        precis = precision_score(y_true, y_pred, average, zero_division)\n",
    "        recall = recall_score(y_true, y_pred, average, zero_division)\n",
    "        return 2 * (precis * recall) / (precis + recall)"
   ]
  },
  {
   "cell_type": "code",
   "execution_count": 7,
   "metadata": {},
   "outputs": [],
   "source": [
    "from sklearn.metrics import accuracy_score, confusion_matrix, f1_score, precision_score\n",
    "\n",
    "def calculate_metrics(trueYInts, predYInts, predYProbabilities):\n",
    "    return {\n",
    "            \"accuracy\": accuracy_score(trueYInts, predYInts),\n",
    "            \"f1\": f1_score(trueYInts, predYInts, average='macro',zero_division=0),\n",
    "            \"precision\": precision_score(trueYInts, predYInts, average='macro',zero_division=0),\n",
    "            \"confusion_matrix\": confusion_matrix(trueYInts, predYInts),\n",
    "            \"predictions\": predYInts,\n",
    "            \"probabilities\": predYProbabilities\n",
    "        }\n",
    "\n",
    "\n",
    "def format_output(results):\n",
    "    print(f\"Accuracy: {results['accuracy']} \\t F1: {results['f1']} \\t Precision: {results['precision']} \\t\")\n",
    "    print(\"\\n\\n\")"
   ]
  },
  {
   "cell_type": "code",
   "execution_count": 8,
   "metadata": {},
   "outputs": [],
   "source": [
    "def eval(classifier):\n",
    "    predYInts, predYProbabilities = classifier.predict_threshold(testData, threshold=0.5)\n",
    "    trueYInts = (testData['relevance']=='relevant').astype('int32').to_numpy()\n",
    "    predYInts = predYInts.astype('int32').get()\n",
    "    predYProbabilities = predYProbabilities.get()\n",
    "\n",
    "    return trueYInts, predYInts, predYProbabilities\n"
   ]
  },
  {
   "cell_type": "code",
   "execution_count": 9,
   "metadata": {},
   "outputs": [],
   "source": [
    "trueYInts, predYInts, predYProbabilities = eval(logistic)\n"
   ]
  },
  {
   "cell_type": "code",
   "execution_count": 19,
   "metadata": {},
   "outputs": [
    {
     "data": {
      "text/plain": [
       "3857"
      ]
     },
     "execution_count": 19,
     "metadata": {},
     "output_type": "execute_result"
    }
   ],
   "source": [
    "len(testData)"
   ]
  },
  {
   "cell_type": "code",
   "execution_count": 20,
   "metadata": {},
   "outputs": [
    {
     "name": "stdout",
     "output_type": "stream",
     "text": [
      "Files processed per second:  75.62745098039215\n"
     ]
    }
   ],
   "source": [
    "print('Files processed per second: ', 3857 / 51)"
   ]
  },
  {
   "cell_type": "code",
   "execution_count": 10,
   "metadata": {},
   "outputs": [],
   "source": [
    "testData = testData.to_pandas()"
   ]
  },
  {
   "cell_type": "code",
   "execution_count": 11,
   "metadata": {},
   "outputs": [],
   "source": [
    "textPreds = predYInts.astype('str')\n",
    "\n",
    "textPreds[textPreds == '0'] = 'irrelevant'\n",
    "textPreds[textPreds == '1'] = 'relevant'\n",
    "\n",
    "testData['predictions'] = textPreds\n"
   ]
  },
  {
   "cell_type": "code",
   "execution_count": 12,
   "metadata": {},
   "outputs": [
    {
     "data": {
      "text/plain": [
       "(numpy.ndarray, numpy.ndarray, numpy.ndarray)"
      ]
     },
     "execution_count": 12,
     "metadata": {},
     "output_type": "execute_result"
    }
   ],
   "source": [
    "type(trueYInts), type(predYInts), type(predYProbabilities)"
   ]
  },
  {
   "cell_type": "code",
   "execution_count": 13,
   "metadata": {},
   "outputs": [
    {
     "name": "stdout",
     "output_type": "stream",
     "text": [
      "Accuracy: 0.9953331604874255 \t F1: 0.99528569915283 \t Precision: 0.9955529104195711 \t\n",
      "\n",
      "\n",
      "\n"
     ]
    }
   ],
   "source": [
    "results = calculate_metrics(trueYInts, predYInts, predYProbabilities)\n",
    "\n",
    "format_output(results)"
   ]
  },
  {
   "cell_type": "code",
   "execution_count": 18,
   "metadata": {},
   "outputs": [
    {
     "name": "stdout",
     "output_type": "stream",
     "text": [
      "<class 'pandas.core.frame.DataFrame'>\n",
      "RangeIndex: 3857 entries, 15427 to 19283\n",
      "Data columns (total 5 columns):\n",
      " #   Column        Non-Null Count  Dtype \n",
      "---  ------        --------------  ----- \n",
      " 0   url           3857 non-null   object\n",
      " 1   text          3857 non-null   object\n",
      " 2   relevance     3857 non-null   object\n",
      " 3   multiclasses  3857 non-null   object\n",
      " 4   predictions   3857 non-null   object\n",
      "dtypes: object(5)\n",
      "memory usage: 150.8+ KB\n"
     ]
    }
   ],
   "source": [
    "testData.info()"
   ]
  },
  {
   "cell_type": "code",
   "execution_count": 14,
   "metadata": {},
   "outputs": [
    {
     "data": {
      "image/png": "[encoded data removed]",
      "text/plain": [
       "<Figure size 2000x500 with 2 Axes>"
      ]
     },
     "metadata": {},
     "output_type": "display_data"
    }
   ],
   "source": [
    "import matplotlib.pyplot as plt\n",
    "from sklearn.metrics import confusion_matrix, ConfusionMatrixDisplay\n",
    "\n",
    "fig, axs = plt.subplots(1, 1, figsize=(20, 5))\n",
    "\n",
    "\n",
    "confusion = confusion_matrix(testData['relevance'], testData['predictions'])\n",
    "disp = ConfusionMatrixDisplay(confusion_matrix=confusion)\n",
    "disp.plot(ax=axs, cmap='plasma')\n",
    "\n",
    "plt.show()\n",
    "\n"
   ]
  },
  {
   "cell_type": "code",
   "execution_count": 15,
   "metadata": {},
   "outputs": [
    {
     "data": {
      "image/png": "[encoded data removed]",
      "text/plain": [
       "<Figure size 2000x500 with 1 Axes>"
      ]
     },
     "metadata": {},
     "output_type": "display_data"
    }
   ],
   "source": [
    "from sklearn.metrics import precision_recall_curve, PrecisionRecallDisplay\n",
    "\n",
    "precision, recall, thresholds = precision_recall_curve(trueYInts, predYProbabilities[:,1])\n",
    "\n",
    "fig, axs = plt.subplots(1, 1, figsize=(20, 5))\n",
    "\n",
    "disp = PrecisionRecallDisplay(precision=precision, recall=recall)\n",
    "disp.plot(ax=axs)\n",
    "\n",
    "plt.show()\n"
   ]
  },
  {
   "cell_type": "code",
   "execution_count": 16,
   "metadata": {},
   "outputs": [],
   "source": [
    "# save logistic regression model\n",
    "\n",
    "import pickle\n",
    "import os\n",
    "\n",
    "with open('models/LogisticRegression.pkl', 'wb') as f:\n",
    "    pickle.dump(logistic, f)\n",
    "\n"
   ]
  },
  {
   "cell_type": "code",
   "execution_count": 17,
   "metadata": {},
   "outputs": [],
   "source": [
    "# from numpy import arange\n",
    "# thresholds = list(arange(0.49, 0.53, 0.01))\n",
    "# thresholds.sort()\n",
    "\n",
    "\n",
    "# yTrue = trainData['relevance'].apply(lambda x: True if x == 'relevant' else False)\n",
    "\n",
    "# precisions = []\n",
    "# recalls = []\n",
    "# accuracies = []\n",
    "\n",
    "# for threshold in tqdm(thresholds):\n",
    "#     yPred = logistic.predict_threshold(trainData, threshold)\n",
    "#     precisions.append(precision_score(yTrue, yPred, average='macro',zero_division=0))\n",
    "#     recalls.append(f1_score(yTrue, yPred, average='macro',zero_division=0))\n",
    "#     accuracies.append(accuracy_score(yTrue, yPred))\n",
    "\n",
    "# plt.plot(thresholds, precisions, label='Precision')\n",
    "# plt.plot(thresholds, recalls, label='Recall')\n",
    "# plt.plot(thresholds, accuracies, label='Accuracy')\n",
    "# plt.xlabel('Threshold')\n",
    "# plt.ylabel('Score')\n",
    "# plt.legend()\n",
    "\n",
    "# plt.show()"
   ]
  },
  {
   "cell_type": "code",
   "execution_count": null,
   "metadata": {},
   "outputs": [],
   "source": []
  }
 ],
 "metadata": {
  "kernelspec": {
   "display_name": "grey-literature-classification-bv5LGFdB",
   "language": "python",
   "name": "python3"
  },
  "language_info": {
   "codemirror_mode": {
    "name": "ipython",
    "version": 3
   },
   "file_extension": ".py",
   "mimetype": "text/x-python",
   "name": "python",
   "nbconvert_exporter": "python",
   "pygments_lexer": "ipython3",
   "version": "3.10.12"
  }
 },
 "nbformat": 4,
 "nbformat_minor": 2
}
