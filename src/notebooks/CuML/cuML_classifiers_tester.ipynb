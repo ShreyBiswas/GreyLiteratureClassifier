{
 "cells": [
  {
   "cell_type": "code",
   "execution_count": 1,
   "metadata": {},
   "outputs": [],
   "source": [
    "import cudf as pd\n",
    "from tqdm.auto import tqdm\n",
    "\n",
    "from time import time"
   ]
  },
  {
   "cell_type": "code",
   "execution_count": 15,
   "metadata": {},
   "outputs": [
    {
     "name": "stdout",
     "output_type": "stream",
     "text": [
      "Loading data...\n"
     ]
    },
    {
     "name": "stderr",
     "output_type": "stream",
     "text": [
      "/workspace/GreyLit/venv/lib/python3.10/site-packages/cudf/io/json.py:108: UserWarning: Using CPU via Pandas to read JSON dataset, this may be GPU accelerated in the future\n",
      "  warnings.warn(\n"
     ]
    },
    {
     "name": "stdout",
     "output_type": "stream",
     "text": [
      "Data loaded.\n",
      "<class 'cudf.core.dataframe.DataFrame'>\n",
      "RangeIndex: 10688 entries, 0 to 10687\n",
      "Data columns (total 4 columns):\n",
      " #   Column        Non-Null Count  Dtype\n",
      "---  ------        --------------  -----\n",
      " 0   url           10688 non-null  object\n",
      " 1   text          10688 non-null  object\n",
      " 2   relevance     10688 non-null  object\n",
      " 3   multiclasses  10688 non-null  list\n",
      "dtypes: list(1), object(3)\n",
      "memory usage: 1.3+ GB\n"
     ]
    },
    {
     "data": {
      "text/html": [
       "<div>\n",
       "<style scoped>\n",
       "    .dataframe tbody tr th:only-of-type {\n",
       "        vertical-align: middle;\n",
       "    }\n",
       "\n",
       "    .dataframe tbody tr th {\n",
       "        vertical-align: top;\n",
       "    }\n",
       "\n",
       "    .dataframe thead th {\n",
       "        text-align: right;\n",
       "    }\n",
       "</style>\n",
       "<table border=\"1\" class=\"dataframe\">\n",
       "  <thead>\n",
       "    <tr style=\"text-align: right;\">\n",
       "      <th></th>\n",
       "      <th>url</th>\n",
       "      <th>text</th>\n",
       "      <th>relevance</th>\n",
       "      <th>multiclasses</th>\n",
       "    </tr>\n",
       "  </thead>\n",
       "  <tbody>\n",
       "    <tr>\n",
       "      <th>0</th>\n",
       "      <td>https://www.kanungu.go.ug/sites/default/files/...</td>\n",
       "      <td> KANUNGU DISTRICT HIV AND AIDS STRATEGIC PLAN...</td>\n",
       "      <td>irrelevant</td>\n",
       "      <td>[]</td>\n",
       "    </tr>\n",
       "    <tr>\n",
       "      <th>1</th>\n",
       "      <td>https://documents1.worldbank.org/curated/en/64...</td>\n",
       "      <td>d e z i r o h t u A WB Report No.107108 e r u ...</td>\n",
       "      <td>irrelevant</td>\n",
       "      <td>[]</td>\n",
       "    </tr>\n",
       "    <tr>\n",
       "      <th>2</th>\n",
       "      <td>https://repositorio.unac.edu.pe/bitstream/hand...</td>\n",
       "      <td>UNIVERSIDAD NACIONAL DEL CALLAO ESCUELA DE POS...</td>\n",
       "      <td>irrelevant</td>\n",
       "      <td>[]</td>\n",
       "    </tr>\n",
       "    <tr>\n",
       "      <th>3</th>\n",
       "      <td>https://www.workforcebusinessdevelopment.org/_...</td>\n",
       "      <td>LIGHTHOUSE LIGHTHOUSE WHY ARE GOALS SO DIFFICU...</td>\n",
       "      <td>irrelevant</td>\n",
       "      <td>[]</td>\n",
       "    </tr>\n",
       "    <tr>\n",
       "      <th>4</th>\n",
       "      <td>https://world-champions.org/wp-content/uploads...</td>\n",
       "      <td>“WORLD CHAMPIONS” is a charitable foundation f...</td>\n",
       "      <td>irrelevant</td>\n",
       "      <td>[]</td>\n",
       "    </tr>\n",
       "  </tbody>\n",
       "</table>\n",
       "</div>"
      ],
      "text/plain": [
       "                                                 url  \\\n",
       "0  https://www.kanungu.go.ug/sites/default/files/...   \n",
       "1  https://documents1.worldbank.org/curated/en/64...   \n",
       "2  https://repositorio.unac.edu.pe/bitstream/hand...   \n",
       "3  https://www.workforcebusinessdevelopment.org/_...   \n",
       "4  https://world-champions.org/wp-content/uploads...   \n",
       "\n",
       "                                                text   relevance multiclasses  \n",
       "0   KANUNGU DISTRICT HIV AND AIDS STRATEGIC PLAN...  irrelevant           []  \n",
       "1  d e z i r o h t u A WB Report No.107108 e r u ...  irrelevant           []  \n",
       "2  UNIVERSIDAD NACIONAL DEL CALLAO ESCUELA DE POS...  irrelevant           []  \n",
       "3  LIGHTHOUSE LIGHTHOUSE WHY ARE GOALS SO DIFFICU...  irrelevant           []  \n",
       "4  “WORLD CHAMPIONS” is a charitable foundation f...  irrelevant           []  "
      ]
     },
     "execution_count": 15,
     "metadata": {},
     "output_type": "execute_result"
    }
   ],
   "source": [
    "def import_labelled_data(path=\"data/level-0.5/data.json\"):\n",
    "    data = pd.read_json(path, encoding=\"latin-1\")\n",
    "    return data\n",
    "\n",
    "\n",
    "\n",
    "print(\"Loading data...\")\n",
    "\n",
    "test_dataset = import_labelled_data(path=\"../../data/level-0.5/irrelevant.json\", )\n",
    "\n",
    "print(\"Data loaded.\")\n",
    "\n",
    "\n",
    "# test_dataset = test_dataset.sample(2500)\n",
    "\n",
    "test_dataset = test_dataset.sample(frac=1).reset_index(drop=True)\n",
    "\n",
    "\n",
    "test_dataset.info()\n",
    "test_dataset.head()"
   ]
  },
  {
   "cell_type": "code",
   "execution_count": 16,
   "metadata": {},
   "outputs": [],
   "source": [
    "from pickle import load\n",
    "\n",
    "with open('models/LogisticRegression.pkl', 'rb') as file:\n",
    "    classifier = load(file)"
   ]
  },
  {
   "cell_type": "code",
   "execution_count": 17,
   "metadata": {},
   "outputs": [],
   "source": [
    "start = time()\n",
    "\n",
    "predictions, probabilities = classifier.predict_threshold(test_dataset, threshold=0.5)\n",
    "\n",
    "end = time()"
   ]
  },
  {
   "cell_type": "code",
   "execution_count": 18,
   "metadata": {},
   "outputs": [
    {
     "name": "stdout",
     "output_type": "stream",
     "text": [
      "\n",
      "\n",
      "Prediction time on 10688 articles:  56.48227095603943  seconds\n",
      "\n",
      "Files processed per second: 189.22751899119902\n"
     ]
    }
   ],
   "source": [
    "print(f'\\n\\nPrediction time on {len(test_dataset)} articles: ', end-start, ' seconds')\n",
    "print(f'\\nFiles processed per second: {len(test_dataset) / (end-start)}')"
   ]
  },
  {
   "cell_type": "code",
   "execution_count": 19,
   "metadata": {},
   "outputs": [],
   "source": [
    "test_dataset['score'] = probabilities[:,1]\n",
    "test_dataset['prediction'] = classifier.boolPredictionsToLabels(predictions)\n",
    "\n",
    "test_dataset = test_dataset.sort_values(by='score', ascending=False)"
   ]
  },
  {
   "cell_type": "code",
   "execution_count": 20,
   "metadata": {},
   "outputs": [
    {
     "name": "stdout",
     "output_type": "stream",
     "text": [
      "<class 'cudf.core.dataframe.DataFrame'>\n",
      "Index: 10688 entries, 6406 to 5915\n",
      "Data columns (total 6 columns):\n",
      " #   Column        Non-Null Count  Dtype\n",
      "---  ------        --------------  -----\n",
      " 0   url           10688 non-null  object\n",
      " 1   text          10688 non-null  object\n",
      " 2   relevance     10688 non-null  object\n",
      " 3   multiclasses  10688 non-null  list\n",
      " 4   score         10688 non-null  float64\n",
      " 5   prediction    10688 non-null  object\n",
      "dtypes: float64(1), list(1), object(4)\n",
      "memory usage: 1.3+ GB\n"
     ]
    },
    {
     "data": {
      "text/plain": [
       "prediction\n",
       "irrelevant    10672\n",
       "relevant         16\n",
       "Name: count, dtype: int64"
      ]
     },
     "execution_count": 20,
     "metadata": {},
     "output_type": "execute_result"
    }
   ],
   "source": [
    "test_dataset.info()\n",
    "test_dataset.head()\n",
    "test_dataset['prediction'].value_counts()"
   ]
  },
  {
   "cell_type": "code",
   "execution_count": 21,
   "metadata": {},
   "outputs": [
    {
     "data": {
      "image/png": "[encoded data removed]",
      "text/plain": [
       "<Figure size 2000x500 with 2 Axes>"
      ]
     },
     "metadata": {},
     "output_type": "display_data"
    }
   ],
   "source": [
    "import matplotlib.pyplot as plt\n",
    "from sklearn.metrics import confusion_matrix, ConfusionMatrixDisplay\n",
    "\n",
    "fig, axs = plt.subplots(1, 1, figsize=(20, 5))\n",
    "\n",
    "\n",
    "confusion = confusion_matrix(test_dataset['relevance'].to_numpy(), test_dataset['prediction'].to_numpy())\n",
    "disp = ConfusionMatrixDisplay(confusion_matrix=confusion)\n",
    "disp.plot(ax=axs, cmap='plasma')\n",
    "\n",
    "plt.show()"
   ]
  },
  {
   "cell_type": "code",
   "execution_count": 35,
   "metadata": {},
   "outputs": [],
   "source": [
    "def readjust_threshold(probabilities, threshold=0.5):\n",
    "    return (probabilities > threshold).astype(f'<U{len(\"irrelevant\")}').replace({'True': 'relevant', 'False': 'irrelevant'})"
   ]
  },
  {
   "cell_type": "code",
   "execution_count": 40,
   "metadata": {},
   "outputs": [
    {
     "data": {
      "text/plain": [
       "score\n",
       "irrelevant    10672\n",
       "relevant         16\n",
       "Name: count, dtype: int64"
      ]
     },
     "execution_count": 40,
     "metadata": {},
     "output_type": "execute_result"
    }
   ],
   "source": [
    "readjust_threshold(test_dataset['score'], threshold=0.5).value_counts()"
   ]
  },
  {
   "cell_type": "code",
   "execution_count": 43,
   "metadata": {},
   "outputs": [
    {
     "data": {
      "application/vnd.jupyter.widget-view+json": {
       "model_id": "25abf0187d3c4cbcb5d736ba4c9c058f",
       "version_major": 2,
       "version_minor": 0
      },
      "text/plain": [
       "  0%|          | 0/40 [00:00<?, ?it/s]"
      ]
     },
     "metadata": {},
     "output_type": "display_data"
    },
    {
     "data": {
      "image/png": "[encoded data removed]",
      "text/plain": [
       "<Figure size 640x480 with 1 Axes>"
      ]
     },
     "metadata": {},
     "output_type": "display_data"
    }
   ],
   "source": [
    "from numpy import arange\n",
    "ranges = list(arange(0.2,0.3,0.0025))\n",
    "\n",
    "relevants = []\n",
    "\n",
    "for threshold in tqdm(ranges):\n",
    "    new_predictions = readjust_threshold(test_dataset['score'], threshold=threshold)\n",
    "    relevants.append(len(new_predictions[new_predictions == 'relevant']))\n",
    "\n",
    "plt.plot(ranges, relevants)\n",
    "plt.xlabel('Threshold')\n",
    "plt.ylabel('Relevant articles')\n",
    "plt.show()\n",
    "\n"
   ]
  },
  {
   "cell_type": "code",
   "execution_count": 38,
   "metadata": {},
   "outputs": [
    {
     "data": {
      "text/html": [
       "<div>\n",
       "<style scoped>\n",
       "    .dataframe tbody tr th:only-of-type {\n",
       "        vertical-align: middle;\n",
       "    }\n",
       "\n",
       "    .dataframe tbody tr th {\n",
       "        vertical-align: top;\n",
       "    }\n",
       "\n",
       "    .dataframe thead th {\n",
       "        text-align: right;\n",
       "    }\n",
       "</style>\n",
       "<table border=\"1\" class=\"dataframe\">\n",
       "  <thead>\n",
       "    <tr style=\"text-align: right;\">\n",
       "      <th></th>\n",
       "      <th>url</th>\n",
       "      <th>score</th>\n",
       "      <th>prediction</th>\n",
       "      <th>text</th>\n",
       "    </tr>\n",
       "  </thead>\n",
       "  <tbody>\n",
       "    <tr>\n",
       "      <th>6406</th>\n",
       "      <td>https://digitalarchive.worldfishcenter.org/bit...</td>\n",
       "      <td>0.854538</td>\n",
       "      <td>relevant</td>\n",
       "      <td>MARINE ECOLOGY PROGRESS SERIES Vol. 588: 85–10...</td>\n",
       "    </tr>\n",
       "    <tr>\n",
       "      <th>6160</th>\n",
       "      <td>https://wsobirds.org/images/pdfs/BeyondBirdFee...</td>\n",
       "      <td>0.825297</td>\n",
       "      <td>relevant</td>\n",
       "      <td>BEYOND THE BIRD FEEDER: Creating a Bird-Friend...</td>\n",
       "    </tr>\n",
       "    <tr>\n",
       "      <th>6817</th>\n",
       "      <td>https://digitalarchive.worldfishcenter.org/bit...</td>\n",
       "      <td>0.789381</td>\n",
       "      <td>relevant</td>\n",
       "      <td>S t a From October 2006 to May 2008, The World...</td>\n",
       "    </tr>\n",
       "    <tr>\n",
       "      <th>3179</th>\n",
       "      <td>https://wwjournal.org/wp-content/uploads/sites...</td>\n",
       "      <td>0.721217</td>\n",
       "      <td>relevant</td>\n",
       "      <td>Western Wildlife 11:11–18 • 2024 Submitted: 18...</td>\n",
       "    </tr>\n",
       "    <tr>\n",
       "      <th>2151</th>\n",
       "      <td>https://cms.zsl.org/sites/default/files/2022-1...</td>\n",
       "      <td>0.704993</td>\n",
       "      <td>relevant</td>\n",
       "      <td>CAFF Assessment Series Report September 2015 A...</td>\n",
       "    </tr>\n",
       "    <tr>\n",
       "      <th>7698</th>\n",
       "      <td>https://zooreach.org/downloads/ZOO_CAMP_PHVA_r...</td>\n",
       "      <td>0.690064</td>\n",
       "      <td>relevant</td>\n",
       "      <td>THE STATUS AND DISTRIBUTION OF REPTILES IN THE...</td>\n",
       "    </tr>\n",
       "    <tr>\n",
       "      <th>7400</th>\n",
       "      <td>https://cms.zsl.org/sites/default/files/2022-1...</td>\n",
       "      <td>0.688614</td>\n",
       "      <td>relevant</td>\n",
       "      <td>W Stefanie Deinet I L D Christina Ieronymidou ...</td>\n",
       "    </tr>\n",
       "    <tr>\n",
       "      <th>6766</th>\n",
       "      <td>https://apps.worldagroforestry.org/downloads/P...</td>\n",
       "      <td>0.682692</td>\n",
       "      <td>relevant</td>\n",
       "      <td>Conservation Agriculture With Trees: Principle...</td>\n",
       "    </tr>\n",
       "    <tr>\n",
       "      <th>5539</th>\n",
       "      <td>http://www.wpcouncil.org/wp-content/uploads/20...</td>\n",
       "      <td>0.662959</td>\n",
       "      <td>relevant</td>\n",
       "      <td>2021 Quantitative estimates of post-release su...</td>\n",
       "    </tr>\n",
       "    <tr>\n",
       "      <th>6736</th>\n",
       "      <td>http://wiki.daz3d.com/lib/exe/fetch.php/public...</td>\n",
       "      <td>0.638514</td>\n",
       "      <td>relevant</td>\n",
       "      <td>Avian Models for 3D Applications by Ken Gillil...</td>\n",
       "    </tr>\n",
       "    <tr>\n",
       "      <th>4221</th>\n",
       "      <td>https://wos.org/documents/Publications/WA%20Bi...</td>\n",
       "      <td>0.615407</td>\n",
       "      <td>relevant</td>\n",
       "      <td>Washington Birds 9:1-7 (2006) WHITE-FACED IBIS...</td>\n",
       "    </tr>\n",
       "    <tr>\n",
       "      <th>1416</th>\n",
       "      <td>https://zooreach.org/downloads/ZOO_CAMP_PHVA_r...</td>\n",
       "      <td>0.559114</td>\n",
       "      <td>relevant</td>\n",
       "      <td>T h e The STaTuS and diSTribuTion S T a of f e...</td>\n",
       "    </tr>\n",
       "    <tr>\n",
       "      <th>6399</th>\n",
       "      <td>https://dcprime.com/wp-content/uploads/2019/12...</td>\n",
       "      <td>0.548371</td>\n",
       "      <td>relevant</td>\n",
       "      <td>Durable Responses and Survival in High Risk AM...</td>\n",
       "    </tr>\n",
       "    <tr>\n",
       "      <th>4706</th>\n",
       "      <td>https://apps.worldagroforestry.org/downloads/P...</td>\n",
       "      <td>0.527820</td>\n",
       "      <td>relevant</td>\n",
       "      <td>Technical Handbook No 12 USEFUL TREES AND SHRU...</td>\n",
       "    </tr>\n",
       "    <tr>\n",
       "      <th>1681</th>\n",
       "      <td>https://www.xerces.org/sites/default/files/201...</td>\n",
       "      <td>0.519531</td>\n",
       "      <td>relevant</td>\n",
       "      <td>Protecting California’s Butterfly Groves Manag...</td>\n",
       "    </tr>\n",
       "    <tr>\n",
       "      <th>2340</th>\n",
       "      <td>https://www.forestfoundation.ph/wp-content/upl...</td>\n",
       "      <td>0.517133</td>\n",
       "      <td>relevant</td>\n",
       "      <td>AbouttheForest Foundation Philippines Establis...</td>\n",
       "    </tr>\n",
       "  </tbody>\n",
       "</table>\n",
       "</div>"
      ],
      "text/plain": [
       "                                                    url     score prediction  \\\n",
       "6406  https://digitalarchive.worldfishcenter.org/bit...  0.854538   relevant   \n",
       "6160  https://wsobirds.org/images/pdfs/BeyondBirdFee...  0.825297   relevant   \n",
       "6817  https://digitalarchive.worldfishcenter.org/bit...  0.789381   relevant   \n",
       "3179  https://wwjournal.org/wp-content/uploads/sites...  0.721217   relevant   \n",
       "2151  https://cms.zsl.org/sites/default/files/2022-1...  0.704993   relevant   \n",
       "7698  https://zooreach.org/downloads/ZOO_CAMP_PHVA_r...  0.690064   relevant   \n",
       "7400  https://cms.zsl.org/sites/default/files/2022-1...  0.688614   relevant   \n",
       "6766  https://apps.worldagroforestry.org/downloads/P...  0.682692   relevant   \n",
       "5539  http://www.wpcouncil.org/wp-content/uploads/20...  0.662959   relevant   \n",
       "6736  http://wiki.daz3d.com/lib/exe/fetch.php/public...  0.638514   relevant   \n",
       "4221  https://wos.org/documents/Publications/WA%20Bi...  0.615407   relevant   \n",
       "1416  https://zooreach.org/downloads/ZOO_CAMP_PHVA_r...  0.559114   relevant   \n",
       "6399  https://dcprime.com/wp-content/uploads/2019/12...  0.548371   relevant   \n",
       "4706  https://apps.worldagroforestry.org/downloads/P...  0.527820   relevant   \n",
       "1681  https://www.xerces.org/sites/default/files/201...  0.519531   relevant   \n",
       "2340  https://www.forestfoundation.ph/wp-content/upl...  0.517133   relevant   \n",
       "\n",
       "                                                   text  \n",
       "6406  MARINE ECOLOGY PROGRESS SERIES Vol. 588: 85–10...  \n",
       "6160  BEYOND THE BIRD FEEDER: Creating a Bird-Friend...  \n",
       "6817  S t a From October 2006 to May 2008, The World...  \n",
       "3179  Western Wildlife 11:11–18 • 2024 Submitted: 18...  \n",
       "2151  CAFF Assessment Series Report September 2015 A...  \n",
       "7698  THE STATUS AND DISTRIBUTION OF REPTILES IN THE...  \n",
       "7400  W Stefanie Deinet I L D Christina Ieronymidou ...  \n",
       "6766  Conservation Agriculture With Trees: Principle...  \n",
       "5539  2021 Quantitative estimates of post-release su...  \n",
       "6736  Avian Models for 3D Applications by Ken Gillil...  \n",
       "4221  Washington Birds 9:1-7 (2006) WHITE-FACED IBIS...  \n",
       "1416  T h e The STaTuS and diSTribuTion S T a of f e...  \n",
       "6399  Durable Responses and Survival in High Risk AM...  \n",
       "4706  Technical Handbook No 12 USEFUL TREES AND SHRU...  \n",
       "1681  Protecting California’s Butterfly Groves Manag...  \n",
       "2340  AbouttheForest Foundation Philippines Establis...  "
      ]
     },
     "metadata": {},
     "output_type": "display_data"
    }
   ],
   "source": [
    "# pd.options.display.max_colwidth = 200\n",
    "\n",
    "display(test_dataset[test_dataset['prediction']=='relevant'][['url', 'score', 'prediction','text']])"
   ]
  },
  {
   "cell_type": "code",
   "execution_count": 39,
   "metadata": {},
   "outputs": [
    {
     "data": {
      "text/plain": [
       "array(['https://digitalarchive.worldfishcenter.org/bitstream/handle/20.500.12348/692/4226.pdf?sequence=1&isAllowed=y',\n",
       "       'https://wsobirds.org/images/pdfs/BeyondBirdFeederBookletFINAL.compressed.pdf',\n",
       "       'https://digitalarchive.worldfishcenter.org/bitstream/handle/20.500.12348/1418/WF_2033.pdf?sequence=1&isAllowed=y',\n",
       "       'https://wwjournal.org/wp-content/uploads/sites/9/2024/06/Roy_etal_WW_2024.pdf',\n",
       "       'https://cms.zsl.org/sites/default/files/2022-12/ASTI_MigBirds_Index_2015_0.pdf',\n",
       "       'https://zooreach.org/downloads/ZOO_CAMP_PHVA_reports/2014-Reptile-Report.pdf',\n",
       "       'https://cms.zsl.org/sites/default/files/2022-12/wildlife-comeback-in-europe.pdf',\n",
       "       'https://apps.worldagroforestry.org/downloads/Publications/PDFS/TM17693.pdf',\n",
       "       'http://www.wpcouncil.org/wp-content/uploads/2020/11/08.C1-Hutchinson-et-al-2021.pdf',\n",
       "       'http://wiki.daz3d.com/lib/exe/fetch.php/public/read_me/index/16122/16122_songbirdremixvultures2.pdf',\n",
       "       'https://wos.org/documents/Publications/WA%20Birds/2006/wabirds2006.pdf',\n",
       "       'https://zooreach.org/downloads/ZOO_CAMP_PHVA_reports/2010EHFWBreport.pdf',\n",
       "       'https://dcprime.com/wp-content/uploads/2019/12/Poster-1381-Luca-Janssen.pdf',\n",
       "       'https://apps.worldagroforestry.org/downloads/Publications/PDFS/B10462.pdf',\n",
       "       'https://www.xerces.org/sites/default/files/2018-05/17-040_01_ProtectingCaliforniaButterflyGroves.pdf',\n",
       "       'https://www.forestfoundation.ph/wp-content/uploads/2017/11/Forest-Foundation-Ph-4th-PNPCSI-Symposium.pdf'],\n",
       "      dtype=object)"
      ]
     },
     "execution_count": 39,
     "metadata": {},
     "output_type": "execute_result"
    }
   ],
   "source": [
    "test_dataset[test_dataset['prediction']=='relevant']['url'].to_numpy()"
   ]
  }
 ],
 "metadata": {
  "kernelspec": {
   "display_name": "venv",
   "language": "python",
   "name": "python3"
  },
  "language_info": {
   "codemirror_mode": {
    "name": "ipython",
    "version": 3
   },
   "file_extension": ".py",
   "mimetype": "text/x-python",
   "name": "python",
   "nbconvert_exporter": "python",
   "pygments_lexer": "ipython3",
   "version": "3.10.12"
  }
 },
 "nbformat": 4,
 "nbformat_minor": 2
}
