{
 "cells": [
  {
   "cell_type": "code",
   "execution_count": 1,
   "metadata": {},
   "outputs": [],
   "source": [
    "from FastFitClassifier import FastFitClassifier\n",
    "import pandas as pd\n",
    "from tqdm.auto import tqdm\n",
    "\n",
    "tqdm.pandas()"
   ]
  },
  {
   "cell_type": "code",
   "execution_count": 2,
   "metadata": {},
   "outputs": [],
   "source": [
    "DEV = False\n",
    "model_path = \"./models/relevance/avsolatorio/GIST-small-Embedding-v0\"\n",
    "\n",
    "\n",
    "\n",
    "if not DEV:\n",
    "    model_path = './models/relevance/avsolatorio/GIST-Embedding-v0'\n",
    "\n",
    "# model_path = './models/relevance/dev/jinaai/jina-embeddings-v2-small-en'"
   ]
  },
  {
   "cell_type": "code",
   "execution_count": 4,
   "metadata": {},
   "outputs": [
    {
     "name": "stdout",
     "output_type": "stream",
     "text": [
      "Loading data...\n"
     ]
    },
    {
     "name": "stdout",
     "output_type": "stream",
     "text": [
      "Data loaded.\n",
      "<class 'pandas.core.frame.DataFrame'>\n",
      "RangeIndex: 200 entries, 0 to 199\n",
      "Data columns (total 6 columns):\n",
      " #   Column        Non-Null Count  Dtype  \n",
      "---  ------        --------------  -----  \n",
      " 0   url           200 non-null    object \n",
      " 1   text          200 non-null    object \n",
      " 2   relevance     200 non-null    object \n",
      " 3   multiclasses  200 non-null    object \n",
      " 4   score         200 non-null    float64\n",
      " 5   prediction    200 non-null    object \n",
      "dtypes: float64(1), object(5)\n",
      "memory usage: 9.5+ KB\n"
     ]
    }
   ],
   "source": [
    "def import_labelled_data(path=\"data/level-0.5/data.json\"):\n",
    "    data = pd.read_json(path, encoding=\"latin-1\")\n",
    "    return data\n",
    "\n",
    "\n",
    "\n",
    "print(\"Loading data...\")\n",
    "\n",
    "# test_dataset = import_labelled_data(path=\"../../../data/level-0.5/irrelevant.json\", )\n",
    "test_dataset = import_labelled_data(path=\"../../../data/level-1.5/potential.json\", )\n",
    "\n",
    "print(\"Data loaded.\")\n",
    "\n",
    "if DEV:\n",
    "    test_dataset = test_dataset.sample(5000)\n",
    "\n",
    "test_dataset = test_dataset.sample(frac=1).reset_index(drop=True)\n",
    "\n",
    "\n",
    "test_dataset.info()"
   ]
  },
  {
   "cell_type": "code",
   "execution_count": 5,
   "metadata": {},
   "outputs": [
    {
     "data": {
      "text/html": [
       "<div>\n",
       "<style scoped>\n",
       "    .dataframe tbody tr th:only-of-type {\n",
       "        vertical-align: middle;\n",
       "    }\n",
       "\n",
       "    .dataframe tbody tr th {\n",
       "        vertical-align: top;\n",
       "    }\n",
       "\n",
       "    .dataframe thead th {\n",
       "        text-align: right;\n",
       "    }\n",
       "</style>\n",
       "<table border=\"1\" class=\"dataframe\">\n",
       "  <thead>\n",
       "    <tr style=\"text-align: right;\">\n",
       "      <th></th>\n",
       "      <th>url</th>\n",
       "      <th>text</th>\n",
       "      <th>relevance</th>\n",
       "      <th>multiclasses</th>\n",
       "      <th>score</th>\n",
       "      <th>prediction</th>\n",
       "    </tr>\n",
       "  </thead>\n",
       "  <tbody>\n",
       "    <tr>\n",
       "      <th>0</th>\n",
       "      <td>https://digitalarchive.worldfishcenter.org/bit...</td>\n",
       "      <td>t! ~~'1. Rol~ of Fish in Enhancing Ric~field E...</td>\n",
       "      <td>irrelevant</td>\n",
       "      <td>[]</td>\n",
       "      <td>0.287289</td>\n",
       "      <td>irrelevant</td>\n",
       "    </tr>\n",
       "    <tr>\n",
       "      <th>1</th>\n",
       "      <td>http://www.wpcouncil.org/wp-content/uploads/20...</td>\n",
       "      <td>Fishery Ecosystem Plan for Pacific Pelagic Fis...</td>\n",
       "      <td>irrelevant</td>\n",
       "      <td>[]</td>\n",
       "      <td>0.238165</td>\n",
       "      <td>irrelevant</td>\n",
       "    </tr>\n",
       "    <tr>\n",
       "      <th>2</th>\n",
       "      <td>http://www.decommore.com/wp-content/uploads/20...</td>\n",
       "      <td>Spring-Summer Collection 2017 K A S &amp; I N D I ...</td>\n",
       "      <td>irrelevant</td>\n",
       "      <td>[]</td>\n",
       "      <td>0.230700</td>\n",
       "      <td>irrelevant</td>\n",
       "    </tr>\n",
       "    <tr>\n",
       "      <th>3</th>\n",
       "      <td>http://wyorksgeologytrust.org/misc/Gorpley%20C...</td>\n",
       "      <td>Rocks and Landscapes of Gorpley Clough, Todmor...</td>\n",
       "      <td>irrelevant</td>\n",
       "      <td>[]</td>\n",
       "      <td>0.199494</td>\n",
       "      <td>irrelevant</td>\n",
       "    </tr>\n",
       "    <tr>\n",
       "      <th>4</th>\n",
       "      <td>https://yearofthesalmon.org/wp-content/uploads...</td>\n",
       "      <td>International Year of the Salmon Synthesis Sym...</td>\n",
       "      <td>irrelevant</td>\n",
       "      <td>[]</td>\n",
       "      <td>0.218488</td>\n",
       "      <td>irrelevant</td>\n",
       "    </tr>\n",
       "  </tbody>\n",
       "</table>\n",
       "</div>"
      ],
      "text/plain": [
       "                                                 url  \\\n",
       "0  https://digitalarchive.worldfishcenter.org/bit...   \n",
       "1  http://www.wpcouncil.org/wp-content/uploads/20...   \n",
       "2  http://www.decommore.com/wp-content/uploads/20...   \n",
       "3  http://wyorksgeologytrust.org/misc/Gorpley%20C...   \n",
       "4  https://yearofthesalmon.org/wp-content/uploads...   \n",
       "\n",
       "                                                text   relevance multiclasses  \\\n",
       "0  t! ~~'1. Rol~ of Fish in Enhancing Ric~field E...  irrelevant           []   \n",
       "1  Fishery Ecosystem Plan for Pacific Pelagic Fis...  irrelevant           []   \n",
       "2  Spring-Summer Collection 2017 K A S & I N D I ...  irrelevant           []   \n",
       "3  Rocks and Landscapes of Gorpley Clough, Todmor...  irrelevant           []   \n",
       "4  International Year of the Salmon Synthesis Sym...  irrelevant           []   \n",
       "\n",
       "      score  prediction  \n",
       "0  0.287289  irrelevant  \n",
       "1  0.238165  irrelevant  \n",
       "2  0.230700  irrelevant  \n",
       "3  0.199494  irrelevant  \n",
       "4  0.218488  irrelevant  "
      ]
     },
     "execution_count": 5,
     "metadata": {},
     "output_type": "execute_result"
    }
   ],
   "source": [
    "test_dataset.head()"
   ]
  },
  {
   "cell_type": "code",
   "execution_count": 6,
   "metadata": {},
   "outputs": [],
   "source": [
    "import torch\n",
    "torch.cuda.empty_cache()"
   ]
  },
  {
   "cell_type": "code",
   "execution_count": 7,
   "metadata": {},
   "outputs": [
    {
     "name": "stdout",
     "output_type": "stream",
     "text": [
      "Loading model from ./models/relevance/avsolatorio/GIST-Embedding-v0 ...\r"
     ]
    },
    {
     "name": "stdout",
     "output_type": "stream",
     "text": [
      "\n",
      "Model loaded.\n",
      "Tokenizer loaded with max_length: 512\n",
      "Building classifier pipeline...\r"
     ]
    },
    {
     "name": "stderr",
     "output_type": "stream",
     "text": [
      "The model 'FastFit' is not supported for text-classification. Supported models are ['AlbertForSequenceClassification', 'BartForSequenceClassification', 'BertForSequenceClassification', 'BigBirdForSequenceClassification', 'BigBirdPegasusForSequenceClassification', 'BioGptForSequenceClassification', 'BloomForSequenceClassification', 'CamembertForSequenceClassification', 'CanineForSequenceClassification', 'LlamaForSequenceClassification', 'ConvBertForSequenceClassification', 'CTRLForSequenceClassification', 'Data2VecTextForSequenceClassification', 'DebertaForSequenceClassification', 'DebertaV2ForSequenceClassification', 'DistilBertForSequenceClassification', 'ElectraForSequenceClassification', 'ErnieForSequenceClassification', 'ErnieMForSequenceClassification', 'EsmForSequenceClassification', 'FalconForSequenceClassification', 'FlaubertForSequenceClassification', 'FNetForSequenceClassification', 'FunnelForSequenceClassification', 'GemmaForSequenceClassification', 'Gemma2ForSequenceClassification', 'GPT2ForSequenceClassification', 'GPT2ForSequenceClassification', 'GPTBigCodeForSequenceClassification', 'GPTNeoForSequenceClassification', 'GPTNeoXForSequenceClassification', 'GPTJForSequenceClassification', 'IBertForSequenceClassification', 'JambaForSequenceClassification', 'JetMoeForSequenceClassification', 'LayoutLMForSequenceClassification', 'LayoutLMv2ForSequenceClassification', 'LayoutLMv3ForSequenceClassification', 'LEDForSequenceClassification', 'LiltForSequenceClassification', 'LlamaForSequenceClassification', 'LongformerForSequenceClassification', 'LukeForSequenceClassification', 'MarkupLMForSequenceClassification', 'MBartForSequenceClassification', 'MegaForSequenceClassification', 'MegatronBertForSequenceClassification', 'MistralForSequenceClassification', 'MixtralForSequenceClassification', 'MobileBertForSequenceClassification', 'MPNetForSequenceClassification', 'MptForSequenceClassification', 'MraForSequenceClassification', 'MT5ForSequenceClassification', 'MvpForSequenceClassification', 'NezhaForSequenceClassification', 'NystromformerForSequenceClassification', 'OpenLlamaForSequenceClassification', 'OpenAIGPTForSequenceClassification', 'OPTForSequenceClassification', 'PerceiverForSequenceClassification', 'PersimmonForSequenceClassification', 'PhiForSequenceClassification', 'Phi3ForSequenceClassification', 'PLBartForSequenceClassification', 'QDQBertForSequenceClassification', 'Qwen2ForSequenceClassification', 'Qwen2MoeForSequenceClassification', 'ReformerForSequenceClassification', 'RemBertForSequenceClassification', 'RobertaForSequenceClassification', 'RobertaPreLayerNormForSequenceClassification', 'RoCBertForSequenceClassification', 'RoFormerForSequenceClassification', 'SqueezeBertForSequenceClassification', 'StableLmForSequenceClassification', 'Starcoder2ForSequenceClassification', 'T5ForSequenceClassification', 'TapasForSequenceClassification', 'TransfoXLForSequenceClassification', 'UMT5ForSequenceClassification', 'XLMForSequenceClassification', 'XLMRobertaForSequenceClassification', 'XLMRobertaXLForSequenceClassification', 'XLNetForSequenceClassification', 'XmodForSequenceClassification', 'YosoForSequenceClassification'].\n"
     ]
    },
    {
     "name": "stdout",
     "output_type": "stream",
     "text": [
      "\n",
      "Classifier pipeline built.\n"
     ]
    }
   ],
   "source": [
    "classifier = FastFitClassifier(\n",
    "    model_path=model_path,\n",
    "    text_overlap_proportion=0.2,\n",
    "    device='cuda:0',\n",
    "    # max_length=4096\n",
    "    max_length=512\n",
    ")"
   ]
  },
  {
   "cell_type": "markdown",
   "metadata": {},
   "source": [
    "#### Profiling Section"
   ]
  },
  {
   "cell_type": "code",
   "execution_count": 8,
   "metadata": {},
   "outputs": [],
   "source": [
    "%load_ext line_profiler"
   ]
  },
  {
   "cell_type": "code",
   "execution_count": 9,
   "metadata": {},
   "outputs": [
    {
     "name": "stdout",
     "output_type": "stream",
     "text": [
      "Chunking data...\r"
     ]
    },
    {
     "data": {
      "application/vnd.jupyter.widget-view+json": {
       "model_id": "916164c3417d487d93fcb56a8a3d5d6b",
       "version_major": 2,
       "version_minor": 0
      },
      "text/plain": [
       "  0%|          | 0/200 [00:00<?, ?it/s]"
      ]
     },
     "metadata": {},
     "output_type": "display_data"
    },
    {
     "name": "stdout",
     "output_type": "stream",
     "text": [
      "Data chunked.\n",
      "Predicting from chunks...\r"
     ]
    },
    {
     "data": {
      "application/vnd.jupyter.widget-view+json": {
       "model_id": "5120c89065284494a61575b58b0d1efd",
       "version_major": 2,
       "version_minor": 0
      },
      "text/plain": [
       "Files\t:   0%|          | 0/200 [00:00<?, ?it/s]"
      ]
     },
     "metadata": {},
     "output_type": "display_data"
    },
    {
     "data": {
      "application/vnd.jupyter.widget-view+json": {
       "model_id": "cd0493871ee14ffb91a88609b665b933",
       "version_major": 2,
       "version_minor": 0
      },
      "text/plain": [
       "Chunks\t:   0%|          | 0/6822 [00:00<?, ?it/s]"
      ]
     },
     "metadata": {},
     "output_type": "display_data"
    },
    {
     "name": "stdout",
     "output_type": "stream",
     "text": [
      "Calculated predictions.\n"
     ]
    },
    {
     "name": "stdout",
     "output_type": "stream",
     "text": [
      "Timer unit: 0.001 s\n",
      "\n",
      "Total time: 88.1924 s\n",
      "File: /workspace/GreyLit/GreyLiteratureClassifier/src/FastFit/level-1/FastFitClassifier.py\n",
      "Function: predict_chunks at line 52\n",
      "\n",
      "Line #      Hits         Time  Per Hit   % Time  Line Contents\n",
      "==============================================================\n",
      "    52                                               def predict_chunks(self, chunked_text, chunk_id_counts,chunk_ids, batch_size=64):\n",
      "    53         1          0.0      0.0      0.0          predictions = []\n",
      "    54         1          0.0      0.0      0.0          scores = []\n",
      "    55                                           \n",
      "    56         1          0.0      0.0      0.0          i = 0\n",
      "    57                                           \n",
      "    58         1          0.1      0.1      0.0          print(\"Predicting from chunks...\", end=\"\\r\")\n",
      "    59                                           \n",
      "    60         2         32.2     16.1      0.0          with tqdm(total=len(chunk_id_counts),desc='Files\\t') as files_pbar:\n",
      "    61         2         36.2     18.1      0.0              with tqdm(total=len(chunked_text),desc='Chunks\\t',miniters=50) as chunks_pbar:\n",
      "    62                                           \n",
      "    63      6823      86741.8     12.7     98.4                  for output in self.classifier(chunked_text,batch_size=batch_size,num_workers=16,truncation=True):\n",
      "    64      6822         12.4      0.0      0.0                      predictions.append(output['label'])\n",
      "    65      6822          7.9      0.0      0.0                      scores.append(output['score'])\n",
      "    66      6822        391.2      0.1      0.4                      chunks_pbar.update(1)\n",
      "    67                                           \n",
      "    68      6822        412.1      0.1      0.5                      chunk_id_counts[chunk_ids.iloc[i]] -= 1\n",
      "    69      6822        309.4      0.0      0.4                      if chunk_id_counts[chunk_ids.iloc[i]] == 0:\n",
      "    70       200        240.2      1.2      0.3                          files_pbar.update(1)\n",
      "    71      6822          8.7      0.0      0.0                      i += 1\n",
      "    72                                           \n",
      "    73         1          0.1      0.1      0.0          print(\"Calculated predictions.\")\n",
      "    74         1          0.0      0.0      0.0          return predictions, scores"
     ]
    }
   ],
   "source": [
    "from transformers.pipelines.pt_utils import KeyDataset\n",
    "from datasets import Dataset\n",
    "print(\"Chunking data...\", end=\"\\r\")\n",
    "from chunking import chunk_dataset_and_explode\n",
    "\n",
    "# data = test_dataset.sample(100)\n",
    "data = test_dataset.copy()\n",
    "\n",
    "max_len=4096\n",
    "\n",
    "chunked_data = chunk_dataset_and_explode(\n",
    "    data, max_len=max_len, overlap=int(max_len * 0.2)\n",
    ")\n",
    "\n",
    "# get dict of chunk_ids to counts of that id so we can track when we've finished all chunks for a file\n",
    "chunk_id_counts = chunked_data[\"chunk_id\"].value_counts().to_dict()\n",
    "\n",
    "print(\"Data chunked.\")\n",
    "\n",
    "chunked_dataset = Dataset.from_pandas(chunked_data)\n",
    "\n",
    "print(\"Predicting...\", end=\"\\r\")\n",
    "\n",
    "%lprun -u 1e-3 -f FastFitClassifier.predict_chunks classifier.predict_chunks(KeyDataset(chunked_dataset,'text'),chunk_id_counts, chunked_data['chunk_id'],batch_size=16)"
   ]
  },
  {
   "cell_type": "markdown",
   "metadata": {},
   "source": [
    "##### End Profiling"
   ]
  },
  {
   "cell_type": "code",
   "execution_count": 10,
   "metadata": {},
   "outputs": [
    {
     "name": "stdout",
     "output_type": "stream",
     "text": [
      "Chunking data...\r"
     ]
    },
    {
     "data": {
      "application/vnd.jupyter.widget-view+json": {
       "model_id": "e5626707b63b42239510911ac0155188",
       "version_major": 2,
       "version_minor": 0
      },
      "text/plain": [
       "  0%|          | 0/200 [00:00<?, ?it/s]"
      ]
     },
     "metadata": {},
     "output_type": "display_data"
    },
    {
     "name": "stdout",
     "output_type": "stream",
     "text": [
      "Data chunked.\n",
      "Converting to Dataset format...\n",
      "Predicting from chunks...\r"
     ]
    },
    {
     "data": {
      "application/vnd.jupyter.widget-view+json": {
       "model_id": "e944bdd5bb9d4351a5e5003ddc26d9b8",
       "version_major": 2,
       "version_minor": 0
      },
      "text/plain": [
       "Files\t:   0%|          | 0/200 [00:00<?, ?it/s]"
      ]
     },
     "metadata": {},
     "output_type": "display_data"
    },
    {
     "data": {
      "application/vnd.jupyter.widget-view+json": {
       "model_id": "eaa4ce6d1cf04dba89bfb488c6b51ac7",
       "version_major": 2,
       "version_minor": 0
      },
      "text/plain": [
       "Chunks\t:   0%|          | 0/53755 [00:00<?, ?it/s]"
      ]
     },
     "metadata": {},
     "output_type": "display_data"
    },
    {
     "name": "stdout",
     "output_type": "stream",
     "text": [
      "Calculated predictions.\n",
      "Evaluating model...\n",
      "\n",
      "-----------------------------------------------------\n",
      "\n",
      "Classification Report: \n",
      "              precision    recall  f1-score   support\n",
      "\n",
      "  irrelevant       1.00      0.54      0.70       200\n",
      "    relevant       0.00      0.00      0.00         0\n",
      "\n",
      "    accuracy                           0.54       200\n",
      "   macro avg       0.50      0.27      0.35       200\n",
      "weighted avg       1.00      0.54      0.70       200\n",
      "\n",
      "-----------------------------------------------------\n",
      "Accuracy: 0.535\n",
      "Precision: 0.5\n",
      "Specificity: 0.535\n"
     ]
    },
    {
     "name": "stderr",
     "output_type": "stream",
     "text": [
      "/workspace/GreyLit/venv/lib/python3.10/site-packages/sklearn/metrics/_classification.py:1531: UndefinedMetricWarning: Recall is ill-defined and being set to 0.0 in labels with no true samples. Use `zero_division` parameter to control this behavior.\n",
      "  _warn_prf(average, modifier, f\"{metric.capitalize()} is\", len(result))\n",
      "/workspace/GreyLit/venv/lib/python3.10/site-packages/sklearn/metrics/_classification.py:1531: UndefinedMetricWarning: Recall is ill-defined and being set to 0.0 in labels with no true samples. Use `zero_division` parameter to control this behavior.\n",
      "  _warn_prf(average, modifier, f\"{metric.capitalize()} is\", len(result))\n",
      "/workspace/GreyLit/venv/lib/python3.10/site-packages/sklearn/metrics/_classification.py:1531: UndefinedMetricWarning: Recall is ill-defined and being set to 0.0 in labels with no true samples. Use `zero_division` parameter to control this behavior.\n",
      "  _warn_prf(average, modifier, f\"{metric.capitalize()} is\", len(result))\n"
     ]
    },
    {
     "data": {
      "image/png": "[encoded data removed]",
      "text/plain": [
       "<Figure size 640x480 with 2 Axes>"
      ]
     },
     "metadata": {},
     "output_type": "display_data"
    }
   ],
   "source": [
    "\n",
    "#! on fastfit/modeling.py, line 838, inserting **kwargs\n",
    "#! it's easier than getting the tokenizer to stop outputting\n",
    "#! extra info like token_type_ids\n",
    "\n",
    "predicted_data = classifier.evaluate(\n",
    "    test_dataset,\n",
    "    metrics=[\n",
    "        \"accuracy\",\n",
    "        \"precision\",\n",
    "        \"classification-report\",\n",
    "        \"specificity\",\n",
    "        \"confusion-matrix-mpl\",\n",
    "    ],\n",
    "    aggregate=\"majority\",\n",
    "    batch_size=48,\n",
    ")"
   ]
  },
  {
   "cell_type": "code",
   "execution_count": 11,
   "metadata": {},
   "outputs": [],
   "source": [
    "potential = predicted_data[predicted_data[\"predictions\"] == \"relevant\"]\n",
    "potential = potential.sort_values(by=\"score-lv1\", ascending=False)\n"
   ]
  },
  {
   "cell_type": "code",
   "execution_count": 12,
   "metadata": {},
   "outputs": [],
   "source": [
    "potential = potential[potential['text'].apply(lambda x: x!='No summary for this intervention.')]\n",
    "potential = potential[potential['score-lv1'].apply(lambda x: x>=0.95)].reset_index(drop=True)"
   ]
  },
  {
   "cell_type": "code",
   "execution_count": 13,
   "metadata": {},
   "outputs": [
    {
     "data": {
      "text/html": [
       "<div>\n",
       "<style scoped>\n",
       "    .dataframe tbody tr th:only-of-type {\n",
       "        vertical-align: middle;\n",
       "    }\n",
       "\n",
       "    .dataframe tbody tr th {\n",
       "        vertical-align: top;\n",
       "    }\n",
       "\n",
       "    .dataframe thead th {\n",
       "        text-align: right;\n",
       "    }\n",
       "</style>\n",
       "<table border=\"1\" class=\"dataframe\">\n",
       "  <thead>\n",
       "    <tr style=\"text-align: right;\">\n",
       "      <th></th>\n",
       "      <th>url</th>\n",
       "      <th>text</th>\n",
       "      <th>relevance</th>\n",
       "      <th>multiclasses</th>\n",
       "      <th>score</th>\n",
       "      <th>prediction</th>\n",
       "      <th>predictions</th>\n",
       "      <th>score-lv1</th>\n",
       "    </tr>\n",
       "  </thead>\n",
       "  <tbody>\n",
       "    <tr>\n",
       "      <th>0</th>\n",
       "      <td>https://wsobirds.org/images/pdfs/BeyondBirdFee...</td>\n",
       "      <td>BEYOND THE BIRD FEEDER: Creating a Bird-Friend...</td>\n",
       "      <td>irrelevant</td>\n",
       "      <td>[]</td>\n",
       "      <td>0.886178</td>\n",
       "      <td>relevant</td>\n",
       "      <td>relevant</td>\n",
       "      <td>0.999999</td>\n",
       "    </tr>\n",
       "    <tr>\n",
       "      <th>1</th>\n",
       "      <td>https://yearofthesalmon.org/wp-content/uploads...</td>\n",
       "      <td>Potential factors influencing variation in fre...</td>\n",
       "      <td>irrelevant</td>\n",
       "      <td>[]</td>\n",
       "      <td>0.246988</td>\n",
       "      <td>irrelevant</td>\n",
       "      <td>relevant</td>\n",
       "      <td>0.999997</td>\n",
       "    </tr>\n",
       "    <tr>\n",
       "      <th>2</th>\n",
       "      <td>https://zooreach.org/downloads/Education_pkt_c...</td>\n",
       "      <td>Freshwater Turtles, tortoises and terrapins Pa...</td>\n",
       "      <td>irrelevant</td>\n",
       "      <td>[]</td>\n",
       "      <td>0.189166</td>\n",
       "      <td>irrelevant</td>\n",
       "      <td>relevant</td>\n",
       "      <td>0.999898</td>\n",
       "    </tr>\n",
       "    <tr>\n",
       "      <th>3</th>\n",
       "      <td>https://www.wyomingwildsheep.org/wp-content/up...</td>\n",
       "      <td>CONSERVATION VISION 2025 Why Wild Sheep? Wild ...</td>\n",
       "      <td>irrelevant</td>\n",
       "      <td>[]</td>\n",
       "      <td>0.233056</td>\n",
       "      <td>irrelevant</td>\n",
       "      <td>relevant</td>\n",
       "      <td>0.999887</td>\n",
       "    </tr>\n",
       "    <tr>\n",
       "      <th>4</th>\n",
       "      <td>https://wtip.org/wp-content/uploads/2022/02/20...</td>\n",
       "      <td>Wild Bee Surveys in Minnesota February, 2019 O...</td>\n",
       "      <td>irrelevant</td>\n",
       "      <td>[]</td>\n",
       "      <td>0.358882</td>\n",
       "      <td>irrelevant</td>\n",
       "      <td>relevant</td>\n",
       "      <td>0.999875</td>\n",
       "    </tr>\n",
       "    <tr>\n",
       "      <th>...</th>\n",
       "      <td>...</td>\n",
       "      <td>...</td>\n",
       "      <td>...</td>\n",
       "      <td>...</td>\n",
       "      <td>...</td>\n",
       "      <td>...</td>\n",
       "      <td>...</td>\n",
       "      <td>...</td>\n",
       "    </tr>\n",
       "    <tr>\n",
       "      <th>78</th>\n",
       "      <td>https://files.worldwildlife.org/wwfcmsprod/fil...</td>\n",
       "      <td>NEPAL CONNECTING CORRIDORS TERAI ARC LANDSCAPE...</td>\n",
       "      <td>irrelevant</td>\n",
       "      <td>[]</td>\n",
       "      <td>0.436584</td>\n",
       "      <td>irrelevant</td>\n",
       "      <td>relevant</td>\n",
       "      <td>0.954129</td>\n",
       "    </tr>\n",
       "    <tr>\n",
       "      <th>79</th>\n",
       "      <td>https://www.wyomingmining.org/wp-content/uploa...</td>\n",
       "      <td>Reclamation Challenges/Progress in the Four Co...</td>\n",
       "      <td>irrelevant</td>\n",
       "      <td>[]</td>\n",
       "      <td>0.196303</td>\n",
       "      <td>irrelevant</td>\n",
       "      <td>relevant</td>\n",
       "      <td>0.952725</td>\n",
       "    </tr>\n",
       "    <tr>\n",
       "      <th>80</th>\n",
       "      <td>https://yearofthesalmon.org/wp-content/uploads...</td>\n",
       "      <td>Pink Salmon in the North American Arctic th IY...</td>\n",
       "      <td>irrelevant</td>\n",
       "      <td>[]</td>\n",
       "      <td>0.296485</td>\n",
       "      <td>irrelevant</td>\n",
       "      <td>relevant</td>\n",
       "      <td>0.952076</td>\n",
       "    </tr>\n",
       "    <tr>\n",
       "      <th>81</th>\n",
       "      <td>https://zooreach.org/downloads/ZOO_CAMP_PHVA_r...</td>\n",
       "      <td>Conservation Assessment and Management Plan (C...</td>\n",
       "      <td>irrelevant</td>\n",
       "      <td>[]</td>\n",
       "      <td>0.196773</td>\n",
       "      <td>irrelevant</td>\n",
       "      <td>relevant</td>\n",
       "      <td>0.951790</td>\n",
       "    </tr>\n",
       "    <tr>\n",
       "      <th>82</th>\n",
       "      <td>https://www.wrc-rca.org/wp-content/uploads/201...</td>\n",
       "      <td>Caltrans MSHCP Biologist Training June 26, 201...</td>\n",
       "      <td>irrelevant</td>\n",
       "      <td>[]</td>\n",
       "      <td>0.372982</td>\n",
       "      <td>irrelevant</td>\n",
       "      <td>relevant</td>\n",
       "      <td>0.950529</td>\n",
       "    </tr>\n",
       "  </tbody>\n",
       "</table>\n",
       "<p>83 rows × 8 columns</p>\n",
       "</div>"
      ],
      "text/plain": [
       "                                                  url  \\\n",
       "0   https://wsobirds.org/images/pdfs/BeyondBirdFee...   \n",
       "1   https://yearofthesalmon.org/wp-content/uploads...   \n",
       "2   https://zooreach.org/downloads/Education_pkt_c...   \n",
       "3   https://www.wyomingwildsheep.org/wp-content/up...   \n",
       "4   https://wtip.org/wp-content/uploads/2022/02/20...   \n",
       "..                                                ...   \n",
       "78  https://files.worldwildlife.org/wwfcmsprod/fil...   \n",
       "79  https://www.wyomingmining.org/wp-content/uploa...   \n",
       "80  https://yearofthesalmon.org/wp-content/uploads...   \n",
       "81  https://zooreach.org/downloads/ZOO_CAMP_PHVA_r...   \n",
       "82  https://www.wrc-rca.org/wp-content/uploads/201...   \n",
       "\n",
       "                                                 text   relevance  \\\n",
       "0   BEYOND THE BIRD FEEDER: Creating a Bird-Friend...  irrelevant   \n",
       "1   Potential factors influencing variation in fre...  irrelevant   \n",
       "2   Freshwater Turtles, tortoises and terrapins Pa...  irrelevant   \n",
       "3   CONSERVATION VISION 2025 Why Wild Sheep? Wild ...  irrelevant   \n",
       "4   Wild Bee Surveys in Minnesota February, 2019 O...  irrelevant   \n",
       "..                                                ...         ...   \n",
       "78  NEPAL CONNECTING CORRIDORS TERAI ARC LANDSCAPE...  irrelevant   \n",
       "79  Reclamation Challenges/Progress in the Four Co...  irrelevant   \n",
       "80  Pink Salmon in the North American Arctic th IY...  irrelevant   \n",
       "81  Conservation Assessment and Management Plan (C...  irrelevant   \n",
       "82  Caltrans MSHCP Biologist Training June 26, 201...  irrelevant   \n",
       "\n",
       "   multiclasses     score  prediction predictions  score-lv1  \n",
       "0            []  0.886178    relevant    relevant   0.999999  \n",
       "1            []  0.246988  irrelevant    relevant   0.999997  \n",
       "2            []  0.189166  irrelevant    relevant   0.999898  \n",
       "3            []  0.233056  irrelevant    relevant   0.999887  \n",
       "4            []  0.358882  irrelevant    relevant   0.999875  \n",
       "..          ...       ...         ...         ...        ...  \n",
       "78           []  0.436584  irrelevant    relevant   0.954129  \n",
       "79           []  0.196303  irrelevant    relevant   0.952725  \n",
       "80           []  0.296485  irrelevant    relevant   0.952076  \n",
       "81           []  0.196773  irrelevant    relevant   0.951790  \n",
       "82           []  0.372982  irrelevant    relevant   0.950529  \n",
       "\n",
       "[83 rows x 8 columns]"
      ]
     },
     "execution_count": 13,
     "metadata": {},
     "output_type": "execute_result"
    }
   ],
   "source": [
    "potential"
   ]
  },
  {
   "cell_type": "code",
   "execution_count": 14,
   "metadata": {},
   "outputs": [
    {
     "name": "stdout",
     "output_type": "stream",
     "text": [
      "Max score: 0.9999989425694501\n",
      "Min score: 0.9505292897423109\n"
     ]
    }
   ],
   "source": [
    "# get max min range of score\n",
    "max_score = potential['score-lv1'].max()\n",
    "min_score = potential['score-lv1'].min()\n",
    "print(f\"Max score: {max_score}\")\n",
    "print(f\"Min score: {min_score}\")\n",
    "\n"
   ]
  },
  {
   "cell_type": "code",
   "execution_count": 15,
   "metadata": {},
   "outputs": [
    {
     "data": {
      "text/html": [
       "<div>\n",
       "<style scoped>\n",
       "    .dataframe tbody tr th:only-of-type {\n",
       "        vertical-align: middle;\n",
       "    }\n",
       "\n",
       "    .dataframe tbody tr th {\n",
       "        vertical-align: top;\n",
       "    }\n",
       "\n",
       "    .dataframe thead th {\n",
       "        text-align: right;\n",
       "    }\n",
       "</style>\n",
       "<table border=\"1\" class=\"dataframe\">\n",
       "  <thead>\n",
       "    <tr style=\"text-align: right;\">\n",
       "      <th></th>\n",
       "      <th>url</th>\n",
       "      <th>text</th>\n",
       "      <th>relevance</th>\n",
       "      <th>multiclasses</th>\n",
       "      <th>score</th>\n",
       "      <th>prediction</th>\n",
       "      <th>predictions</th>\n",
       "      <th>score-lv1</th>\n",
       "    </tr>\n",
       "  </thead>\n",
       "  <tbody>\n",
       "    <tr>\n",
       "      <th>0</th>\n",
       "      <td>https://wsobirds.org/images/pdfs/BeyondBirdFeederBookletFINAL.compressed.pdf</td>\n",
       "      <td>BEYOND THE BIRD FEEDER: Creating a Bird-Friendly Yard with Native Wisconsin Plants i a m l o h t r a B k c a J By MARIETTE NOWAK for the Wisconsin Society for Ornithology, Inc. ver millions of years, birds and plants have Odeveloped mutually beneficial relationships. Birds help pollinate plants, disperse their seeds, and eat the insects that can ravage them. To entice the help of birds, plants...</td>\n",
       "      <td>irrelevant</td>\n",
       "      <td>[]</td>\n",
       "      <td>0.886178</td>\n",
       "      <td>relevant</td>\n",
       "      <td>relevant</td>\n",
       "      <td>0.999999</td>\n",
       "    </tr>\n",
       "    <tr>\n",
       "      <th>1</th>\n",
       "      <td>https://yearofthesalmon.org/wp-content/uploads/2022/12/63-Potential-factors-influencing-variation-David_Scott.pdf</td>\n",
       "      <td>Potential factors influencing variation in freshwater and estuarine growth rates of juvenile Chinook salmon in the Fraser River, B.C. David Scott, Misty MacDuffee, Lia Chalifour, Scott G. Hinch th IYS Symposium October 5 , 2022 Acknowledgments Raincoast Conserva.on Founda.on Misty MacDuﬀee and the rest of the team Fisheries and Oceans Canada Murray Manson, Eric Rondeau, Terry Beacham, Suzanne ...</td>\n",
       "      <td>irrelevant</td>\n",
       "      <td>[]</td>\n",
       "      <td>0.246988</td>\n",
       "      <td>irrelevant</td>\n",
       "      <td>relevant</td>\n",
       "      <td>0.999997</td>\n",
       "    </tr>\n",
       "    <tr>\n",
       "      <th>2</th>\n",
       "      <td>https://zooreach.org/downloads/Education_pkt_catalogue/Freshwater%20Turtles%20Tortoises%20and%20terrapins.pdf</td>\n",
       "      <td>Freshwater Turtles, tortoises and terrapins Packet consists of a Cover Foldout    Booklet Rakhi (wrist band) Mask Sticker Poster How do we differentiate a turtle from a tortoise? What do they eat? What are the different size, shape and colour of these creatures? Are these reptiles linked to our life? This packet has easy to learn materials to understand basics of these animals.</td>\n",
       "      <td>irrelevant</td>\n",
       "      <td>[]</td>\n",
       "      <td>0.189166</td>\n",
       "      <td>irrelevant</td>\n",
       "      <td>relevant</td>\n",
       "      <td>0.999898</td>\n",
       "    </tr>\n",
       "    <tr>\n",
       "      <th>3</th>\n",
       "      <td>https://www.wyomingwildsheep.org/wp-content/uploads/2022/02/CV2025_V1.pdf</td>\n",
       "      <td>CONSERVATION VISION 2025 Why Wild Sheep? Wild mountain sheep are special. To the hunter-conservationist community and other peoples the world over, the sight of a wild sheep represents a living rarity among our grand mountain ranges, places that epitomize the allure of wilderness, and thefreedom and fortitude these last vestiges offer. For many, just knowing they still exist in healthy conditi...</td>\n",
       "      <td>irrelevant</td>\n",
       "      <td>[]</td>\n",
       "      <td>0.233056</td>\n",
       "      <td>irrelevant</td>\n",
       "      <td>relevant</td>\n",
       "      <td>0.999887</td>\n",
       "    </tr>\n",
       "    <tr>\n",
       "      <th>4</th>\n",
       "      <td>https://wtip.org/wp-content/uploads/2022/02/2019-bee-project-handout.pdf</td>\n",
       "      <td>Wild Bee Surveys in Minnesota February, 2019 Our knowledge of wild bees Wild bees are vital components of Minnesota’s ecosystems by providing essential ecosystem services such as pollination. Although our knowledge of the diversity and distribution of Minnesota’s bees is improving, large gaps still exist. Laying the foundation for bee research Minnesota has an engaged and growing community of ...</td>\n",
       "      <td>irrelevant</td>\n",
       "      <td>[]</td>\n",
       "      <td>0.358882</td>\n",
       "      <td>irrelevant</td>\n",
       "      <td>relevant</td>\n",
       "      <td>0.999875</td>\n",
       "    </tr>\n",
       "    <tr>\n",
       "      <th>5</th>\n",
       "      <td>https://www.xerces.org/sites/default/files/publications/24-004_Rethinking%20Weed%20Management%20at%20Home.pdf</td>\n",
       "      <td>PROTECTING POLLINATORS FROM HERBICIDES Rethinking Weed Management at Home Herbicide use can negatively affect pollinators and other beneficial insects and remove flowering plants in the landscape. Allowing some “wildness” in some or all of your yard and managing unwanted plants without chemicals can provide a variety of ecological benefits. What does it mean to pollinators that herbicides are ...</td>\n",
       "      <td>irrelevant</td>\n",
       "      <td>[]</td>\n",
       "      <td>0.312299</td>\n",
       "      <td>irrelevant</td>\n",
       "      <td>relevant</td>\n",
       "      <td>0.999763</td>\n",
       "    </tr>\n",
       "    <tr>\n",
       "      <th>6</th>\n",
       "      <td>http://xerces.org/sites/default/files/publications/18-014.pdf</td>\n",
       "      <td>Nesting &amp; Overwintering Habitat FOR POLLINATORS &amp; OTHER BENEFICIAL INSECTS STEPS TO CREATE NESTING &amp; OVERWINTING HABITAT: P Save the stems œ Leave the leaves Z Redefine the “perfect” lawn Ŏ Rethink how you use mulch Œ Save a snag and “plant” a log ő Build a brush pile ō Build a rock pile or rock wall C Provide a safe water source ò Install a habitat sign Figure 1: By selecting native plants an...</td>\n",
       "      <td>irrelevant</td>\n",
       "      <td>[]</td>\n",
       "      <td>0.465836</td>\n",
       "      <td>irrelevant</td>\n",
       "      <td>relevant</td>\n",
       "      <td>0.999605</td>\n",
       "    </tr>\n",
       "    <tr>\n",
       "      <th>7</th>\n",
       "      <td>https://yearofthesalmon.org/wp-content/uploads/2022/12/33-Supplementary-stocking-selects-Ingerid_Hagen.pdf</td>\n",
       "      <td>Supplementary stocking selects for domesticated genotypes Ingerid J. Hagen, Arne J. Jensen, Geir H. Bolstad, Ola H. Diserud, Håvard Lo, Kjetil Hindar &amp; Sten Karlsson Supplementary stocking • Release of hatchery produced juveniles • Conservation or increase harvest • ~180 anadromous and marine species (Kitada 2018) • Concern: Unintentional domestication selection (Christie et al. 2012; 2016; Le...</td>\n",
       "      <td>irrelevant</td>\n",
       "      <td>[]</td>\n",
       "      <td>0.376609</td>\n",
       "      <td>irrelevant</td>\n",
       "      <td>relevant</td>\n",
       "      <td>0.999412</td>\n",
       "    </tr>\n",
       "    <tr>\n",
       "      <th>8</th>\n",
       "      <td>http://xerces.org/sites/default/files/2018-05/15-016_01_XercesSoc_Conservation-Status-Ecology-Monarch-US-web.pdf</td>\n",
       "      <td>Conservation Status and Ecology of the Monarch Butterfly in the United States Sarina Jepsen, Dale F. Schweitzer, Bruce Young, Nicole Sears, Margaret Ormes, and Scott Hoffman Black NatureServe and the Xerces Society for Invertebrate Conservation 1 Conservation Status and Ecology of the Monarch Butterfly in the United States Sarina Jepsen Dale F. Schweitzer Bruce Young Nicole Sears Margaret Orme...</td>\n",
       "      <td>irrelevant</td>\n",
       "      <td>[]</td>\n",
       "      <td>0.406931</td>\n",
       "      <td>irrelevant</td>\n",
       "      <td>relevant</td>\n",
       "      <td>0.998600</td>\n",
       "    </tr>\n",
       "    <tr>\n",
       "      <th>9</th>\n",
       "      <td>https://yearofthesalmon.org/wp-content/uploads/2022/12/34-A-synthesis-of-farmed-to-wild-Sten_Karlsson.pdf</td>\n",
       "      <td>A synthesis of farmed to wild genetic introgression and the consequences for wild Atlantic salmon Sten Karlsson*, Tonje Aronsen, Geir H. Bolstad, Ola H. Diserud, Peder Fiske, Ingerid J. Hagen, Kjetil Hindar, Eli Kvingedal, Line E. Sundt-Hansen, Grethe Robertsen, Sebastian Wacker International Year of the Salmon (IYS) Synthesis Symposium, 4-6 October 2022, Westin Bayshore, Vancouver, Canada Nor...</td>\n",
       "      <td>irrelevant</td>\n",
       "      <td>[]</td>\n",
       "      <td>0.217659</td>\n",
       "      <td>irrelevant</td>\n",
       "      <td>relevant</td>\n",
       "      <td>0.998241</td>\n",
       "    </tr>\n",
       "  </tbody>\n",
       "</table>\n",
       "</div>"
      ],
      "text/plain": [
       "                                                                                                                 url  \\\n",
       "0                                       https://wsobirds.org/images/pdfs/BeyondBirdFeederBookletFINAL.compressed.pdf   \n",
       "1  https://yearofthesalmon.org/wp-content/uploads/2022/12/63-Potential-factors-influencing-variation-David_Scott.pdf   \n",
       "2      https://zooreach.org/downloads/Education_pkt_catalogue/Freshwater%20Turtles%20Tortoises%20and%20terrapins.pdf   \n",
       "3                                          https://www.wyomingwildsheep.org/wp-content/uploads/2022/02/CV2025_V1.pdf   \n",
       "4                                           https://wtip.org/wp-content/uploads/2022/02/2019-bee-project-handout.pdf   \n",
       "5      https://www.xerces.org/sites/default/files/publications/24-004_Rethinking%20Weed%20Management%20at%20Home.pdf   \n",
       "6                                                      http://xerces.org/sites/default/files/publications/18-014.pdf   \n",
       "7         https://yearofthesalmon.org/wp-content/uploads/2022/12/33-Supplementary-stocking-selects-Ingerid_Hagen.pdf   \n",
       "8   http://xerces.org/sites/default/files/2018-05/15-016_01_XercesSoc_Conservation-Status-Ecology-Monarch-US-web.pdf   \n",
       "9          https://yearofthesalmon.org/wp-content/uploads/2022/12/34-A-synthesis-of-farmed-to-wild-Sten_Karlsson.pdf   \n",
       "\n",
       "                                                                                                                                                                                                                                                                                                                                                                                                              text  \\\n",
       "0  BEYOND THE BIRD FEEDER: Creating a Bird-Friendly Yard with Native Wisconsin Plants i a m l o h t r a B k c a J By MARIETTE NOWAK for the Wisconsin Society for Ornithology, Inc. ver millions of years, birds and plants have Odeveloped mutually beneficial relationships. Birds help pollinate plants, disperse their seeds, and eat the insects that can ravage them. To entice the help of birds, plants...   \n",
       "1  Potential factors influencing variation in freshwater and estuarine growth rates of juvenile Chinook salmon in the Fraser River, B.C. David Scott, Misty MacDuffee, Lia Chalifour, Scott G. Hinch th IYS Symposium October 5 , 2022 Acknowledgments Raincoast Conserva.on Founda.on Misty MacDuﬀee and the rest of the team Fisheries and Oceans Canada Murray Manson, Eric Rondeau, Terry Beacham, Suzanne ...   \n",
       "2             Freshwater Turtles, tortoises and terrapins Packet consists of a Cover Foldout    Booklet Rakhi (wrist band) Mask Sticker Poster How do we differentiate a turtle from a tortoise? What do they eat? What are the different size, shape and colour of these creatures? Are these reptiles linked to our life? This packet has easy to learn materials to understand basics of these animals.    \n",
       "3  CONSERVATION VISION 2025 Why Wild Sheep? Wild mountain sheep are special. To the hunter-conservationist community and other peoples the world over, the sight of a wild sheep represents a living rarity among our grand mountain ranges, places that epitomize the allure of wilderness, and thefreedom and fortitude these last vestiges offer. For many, just knowing they still exist in healthy conditi...   \n",
       "4  Wild Bee Surveys in Minnesota February, 2019 Our knowledge of wild bees Wild bees are vital components of Minnesota’s ecosystems by providing essential ecosystem services such as pollination. Although our knowledge of the diversity and distribution of Minnesota’s bees is improving, large gaps still exist. Laying the foundation for bee research Minnesota has an engaged and growing community of ...   \n",
       "5  PROTECTING POLLINATORS FROM HERBICIDES Rethinking Weed Management at Home Herbicide use can negatively affect pollinators and other beneficial insects and remove flowering plants in the landscape. Allowing some “wildness” in some or all of your yard and managing unwanted plants without chemicals can provide a variety of ecological benefits. What does it mean to pollinators that herbicides are ...   \n",
       "6  Nesting & Overwintering Habitat FOR POLLINATORS & OTHER BENEFICIAL INSECTS STEPS TO CREATE NESTING & OVERWINTING HABITAT: P Save the stems œ Leave the leaves Z Redefine the “perfect” lawn Ŏ Rethink how you use mulch Œ Save a snag and “plant” a log ő Build a brush pile ō Build a rock pile or rock wall C Provide a safe water source ò Install a habitat sign Figure 1: By selecting native plants an...   \n",
       "7  Supplementary stocking selects for domesticated genotypes Ingerid J. Hagen, Arne J. Jensen, Geir H. Bolstad, Ola H. Diserud, Håvard Lo, Kjetil Hindar & Sten Karlsson Supplementary stocking • Release of hatchery produced juveniles • Conservation or increase harvest • ~180 anadromous and marine species (Kitada 2018) • Concern: Unintentional domestication selection (Christie et al. 2012; 2016; Le...   \n",
       "8  Conservation Status and Ecology of the Monarch Butterfly in the United States Sarina Jepsen, Dale F. Schweitzer, Bruce Young, Nicole Sears, Margaret Ormes, and Scott Hoffman Black NatureServe and the Xerces Society for Invertebrate Conservation 1 Conservation Status and Ecology of the Monarch Butterfly in the United States Sarina Jepsen Dale F. Schweitzer Bruce Young Nicole Sears Margaret Orme...   \n",
       "9  A synthesis of farmed to wild genetic introgression and the consequences for wild Atlantic salmon Sten Karlsson*, Tonje Aronsen, Geir H. Bolstad, Ola H. Diserud, Peder Fiske, Ingerid J. Hagen, Kjetil Hindar, Eli Kvingedal, Line E. Sundt-Hansen, Grethe Robertsen, Sebastian Wacker International Year of the Salmon (IYS) Synthesis Symposium, 4-6 October 2022, Westin Bayshore, Vancouver, Canada Nor...   \n",
       "\n",
       "    relevance multiclasses     score  prediction predictions  score-lv1  \n",
       "0  irrelevant           []  0.886178    relevant    relevant   0.999999  \n",
       "1  irrelevant           []  0.246988  irrelevant    relevant   0.999997  \n",
       "2  irrelevant           []  0.189166  irrelevant    relevant   0.999898  \n",
       "3  irrelevant           []  0.233056  irrelevant    relevant   0.999887  \n",
       "4  irrelevant           []  0.358882  irrelevant    relevant   0.999875  \n",
       "5  irrelevant           []  0.312299  irrelevant    relevant   0.999763  \n",
       "6  irrelevant           []  0.465836  irrelevant    relevant   0.999605  \n",
       "7  irrelevant           []  0.376609  irrelevant    relevant   0.999412  \n",
       "8  irrelevant           []  0.406931  irrelevant    relevant   0.998600  \n",
       "9  irrelevant           []  0.217659  irrelevant    relevant   0.998241  "
      ]
     },
     "metadata": {},
     "output_type": "display_data"
    }
   ],
   "source": [
    "with pd.option_context('display.max_colwidth', 400):\n",
    "    display(potential.head(10))"
   ]
  }
 ],
 "metadata": {
  "kernelspec": {
   "display_name": "GreyLiteratureClassifier-pwi3iMQR",
   "language": "python",
   "name": "python3"
  },
  "language_info": {
   "codemirror_mode": {
    "name": "ipython",
    "version": 3
   },
   "file_extension": ".py",
   "mimetype": "text/x-python",
   "name": "python",
   "nbconvert_exporter": "python",
   "pygments_lexer": "ipython3",
   "version": "3.10.12"
  }
 },
 "nbformat": 4,
 "nbformat_minor": 2
}
