{
 "cells": [
  {
   "cell_type": "code",
   "execution_count": 1,
   "metadata": {},
   "outputs": [],
   "source": [
    "import pandas as pd\n",
    "from tqdm.auto import tqdm\n",
    "from time import time\n",
    "\n",
    "tqdm.pandas()"
   ]
  },
  {
   "cell_type": "code",
   "execution_count": 2,
   "metadata": {},
   "outputs": [
    {
     "name": "stdout",
     "output_type": "stream",
     "text": [
      "Loading data...\n"
     ]
    },
    {
     "name": "stdout",
     "output_type": "stream",
     "text": [
      "Data loaded.\n",
      "<class 'pandas.core.frame.DataFrame'>\n",
      "RangeIndex: 19284 entries, 0 to 19283\n",
      "Data columns (total 4 columns):\n",
      " #   Column        Non-Null Count  Dtype \n",
      "---  ------        --------------  ----- \n",
      " 0   url           19284 non-null  object\n",
      " 1   text          19284 non-null  object\n",
      " 2   relevance     19284 non-null  object\n",
      " 3   multiclasses  19284 non-null  object\n",
      "dtypes: object(4)\n",
      "memory usage: 602.8+ KB\n"
     ]
    },
    {
     "data": {
      "text/html": [
       "<div>\n",
       "<style scoped>\n",
       "    .dataframe tbody tr th:only-of-type {\n",
       "        vertical-align: middle;\n",
       "    }\n",
       "\n",
       "    .dataframe tbody tr th {\n",
       "        vertical-align: top;\n",
       "    }\n",
       "\n",
       "    .dataframe thead th {\n",
       "        text-align: right;\n",
       "    }\n",
       "</style>\n",
       "<table border=\"1\" class=\"dataframe\">\n",
       "  <thead>\n",
       "    <tr style=\"text-align: right;\">\n",
       "      <th></th>\n",
       "      <th>url</th>\n",
       "      <th>text</th>\n",
       "      <th>relevance</th>\n",
       "      <th>multiclasses</th>\n",
       "    </tr>\n",
       "  </thead>\n",
       "  <tbody>\n",
       "    <tr>\n",
       "      <th>0</th>\n",
       "      <td>https://www.conservationevidence.com/individua...</td>\n",
       "      <td>A replicated, site comparison study in 1994–19...</td>\n",
       "      <td>relevant</td>\n",
       "      <td>[Amphibians]</td>\n",
       "    </tr>\n",
       "    <tr>\n",
       "      <th>1</th>\n",
       "      <td>https://digitalarchive.worldfishcenter.org/bit...</td>\n",
       "      <td>h s i F d l r o W / a l a s o P e i n n o R , ...</td>\n",
       "      <td>irrelevant</td>\n",
       "      <td>[]</td>\n",
       "    </tr>\n",
       "    <tr>\n",
       "      <th>2</th>\n",
       "      <td>https://www.kanungu.go.ug/sites/default/files/...</td>\n",
       "      <td>DISTRICT PROFILE 2022 1 MAP SHOWING LOCATION O...</td>\n",
       "      <td>irrelevant</td>\n",
       "      <td>[]</td>\n",
       "    </tr>\n",
       "    <tr>\n",
       "      <th>3</th>\n",
       "      <td>http://worldwideuniversity.org/library/researc...</td>\n",
       "      <td>RESEARCH METHODS FOR EDUCATIONAL LEADERS Resea...</td>\n",
       "      <td>irrelevant</td>\n",
       "      <td>[]</td>\n",
       "    </tr>\n",
       "    <tr>\n",
       "      <th>4</th>\n",
       "      <td>https://www.conservationevidence.com/individua...</td>\n",
       "      <td>Use prescribed burning on pine forestsA site c...</td>\n",
       "      <td>relevant</td>\n",
       "      <td>[Birds]</td>\n",
       "    </tr>\n",
       "  </tbody>\n",
       "</table>\n",
       "</div>"
      ],
      "text/plain": [
       "                                                 url  \\\n",
       "0  https://www.conservationevidence.com/individua...   \n",
       "1  https://digitalarchive.worldfishcenter.org/bit...   \n",
       "2  https://www.kanungu.go.ug/sites/default/files/...   \n",
       "3  http://worldwideuniversity.org/library/researc...   \n",
       "4  https://www.conservationevidence.com/individua...   \n",
       "\n",
       "                                                text   relevance  multiclasses  \n",
       "0  A replicated, site comparison study in 1994–19...    relevant  [Amphibians]  \n",
       "1  h s i F d l r o W / a l a s o P e i n n o R , ...  irrelevant            []  \n",
       "2  DISTRICT PROFILE 2022 1 MAP SHOWING LOCATION O...  irrelevant            []  \n",
       "3  RESEARCH METHODS FOR EDUCATIONAL LEADERS Resea...  irrelevant            []  \n",
       "4  Use prescribed burning on pine forestsA site c...    relevant       [Birds]  "
      ]
     },
     "execution_count": 2,
     "metadata": {},
     "output_type": "execute_result"
    }
   ],
   "source": [
    "def import_labelled_data(path=\"data/labelled/data.json\"):\n",
    "    data = pd.read_json(path, encoding=\"latin-1\")\n",
    "    return data\n",
    "\n",
    "\n",
    "print(\"Loading data...\")\n",
    "\n",
    "data = import_labelled_data(\n",
    "    path=\"../../data/level-0.5/data.json\"\n",
    ")\n",
    "\n",
    "print(\"Data loaded.\")\n",
    "\n",
    "\n",
    "# data = data.sample(2500)\n",
    "\n",
    "data = data.sample(frac=1).reset_index(drop=True)\n",
    "\n",
    "data.info()\n",
    "data.head()"
   ]
  },
  {
   "cell_type": "code",
   "execution_count": 3,
   "metadata": {},
   "outputs": [],
   "source": [
    "def train_test_split(x, y=None, test_size=0.2,shuffle=False):\n",
    "    if shuffle:\n",
    "        x = x.sample(frac=1).reset_index(drop=True)\n",
    "    split = int(len(x) * (1 - test_size))\n",
    "    xTrain, xTest = x.iloc[:split], x.iloc[split:]\n",
    "    if y is not None:\n",
    "        yTrain, yTest = y.iloc[:split], y.iloc[split:]\n",
    "        return xTrain, xTest, yTrain, yTest\n",
    "    return xTrain, xTest\n",
    "\n",
    "\n",
    "trainData, testData = train_test_split(data, test_size=0.2) # already shuffled above"
   ]
  },
  {
   "cell_type": "code",
   "execution_count": 4,
   "metadata": {},
   "outputs": [
    {
     "data": {
      "text/html": [
       "<div>\n",
       "<style scoped>\n",
       "    .dataframe tbody tr th:only-of-type {\n",
       "        vertical-align: middle;\n",
       "    }\n",
       "\n",
       "    .dataframe tbody tr th {\n",
       "        vertical-align: top;\n",
       "    }\n",
       "\n",
       "    .dataframe thead th {\n",
       "        text-align: right;\n",
       "    }\n",
       "</style>\n",
       "<table border=\"1\" class=\"dataframe\">\n",
       "  <thead>\n",
       "    <tr style=\"text-align: right;\">\n",
       "      <th></th>\n",
       "      <th>url</th>\n",
       "      <th>text</th>\n",
       "      <th>relevance</th>\n",
       "      <th>multiclasses</th>\n",
       "    </tr>\n",
       "  </thead>\n",
       "  <tbody>\n",
       "    <tr>\n",
       "      <th>0</th>\n",
       "      <td>https://www.conservationevidence.com/individua...</td>\n",
       "      <td>A replicated, site comparison study in 1994–19...</td>\n",
       "      <td>relevant</td>\n",
       "      <td>[Amphibians]</td>\n",
       "    </tr>\n",
       "    <tr>\n",
       "      <th>1</th>\n",
       "      <td>https://digitalarchive.worldfishcenter.org/bit...</td>\n",
       "      <td>h s i F d l r o W / a l a s o P e i n n o R , ...</td>\n",
       "      <td>irrelevant</td>\n",
       "      <td>[]</td>\n",
       "    </tr>\n",
       "    <tr>\n",
       "      <th>2</th>\n",
       "      <td>https://www.kanungu.go.ug/sites/default/files/...</td>\n",
       "      <td>DISTRICT PROFILE 2022 1 MAP SHOWING LOCATION O...</td>\n",
       "      <td>irrelevant</td>\n",
       "      <td>[]</td>\n",
       "    </tr>\n",
       "    <tr>\n",
       "      <th>3</th>\n",
       "      <td>http://worldwideuniversity.org/library/researc...</td>\n",
       "      <td>RESEARCH METHODS FOR EDUCATIONAL LEADERS Resea...</td>\n",
       "      <td>irrelevant</td>\n",
       "      <td>[]</td>\n",
       "    </tr>\n",
       "    <tr>\n",
       "      <th>4</th>\n",
       "      <td>https://www.conservationevidence.com/individua...</td>\n",
       "      <td>Use prescribed burning on pine forestsA site c...</td>\n",
       "      <td>relevant</td>\n",
       "      <td>[Birds]</td>\n",
       "    </tr>\n",
       "  </tbody>\n",
       "</table>\n",
       "</div>"
      ],
      "text/plain": [
       "                                                 url  \\\n",
       "0  https://www.conservationevidence.com/individua...   \n",
       "1  https://digitalarchive.worldfishcenter.org/bit...   \n",
       "2  https://www.kanungu.go.ug/sites/default/files/...   \n",
       "3  http://worldwideuniversity.org/library/researc...   \n",
       "4  https://www.conservationevidence.com/individua...   \n",
       "\n",
       "                                                text   relevance  multiclasses  \n",
       "0  A replicated, site comparison study in 1994–19...    relevant  [Amphibians]  \n",
       "1  h s i F d l r o W / a l a s o P e i n n o R , ...  irrelevant            []  \n",
       "2  DISTRICT PROFILE 2022 1 MAP SHOWING LOCATION O...  irrelevant            []  \n",
       "3  RESEARCH METHODS FOR EDUCATIONAL LEADERS Resea...  irrelevant            []  \n",
       "4  Use prescribed burning on pine forestsA site c...    relevant       [Birds]  "
      ]
     },
     "execution_count": 4,
     "metadata": {},
     "output_type": "execute_result"
    }
   ],
   "source": [
    "trainData.head()"
   ]
  },
  {
   "cell_type": "code",
   "execution_count": 5,
   "metadata": {},
   "outputs": [],
   "source": [
    "from LogisticRegressionClassifier import LogisticRegressionClassifier\n",
    "\n",
    "\n",
    "logistic = LogisticRegressionClassifier()\n",
    "\n",
    "\n",
    "\n",
    "start = time()\n",
    "\n",
    "logistic.train(trainData)\n",
    "\n",
    "end = time()"
   ]
  },
  {
   "cell_type": "code",
   "execution_count": 6,
   "metadata": {},
   "outputs": [
    {
     "name": "stdout",
     "output_type": "stream",
     "text": [
      "\n",
      "\n",
      "Training time on 15427 articles:  310.4533121585846  seconds\n",
      "\n",
      "Files processed per second: 49.69185186892011\n"
     ]
    }
   ],
   "source": [
    "print(f'\\n\\nTraining time on {len(trainData)} articles: ', end-start, ' seconds')\n",
    "print(f'\\nFiles processed per second: {len(trainData) / (end-start)}')"
   ]
  },
  {
   "cell_type": "code",
   "execution_count": 7,
   "metadata": {},
   "outputs": [],
   "source": [
    "def evaluate(classifier):\n",
    "    predYBools, predYProbabilities = classifier.predict_threshold(testData,threshold=0.5)\n",
    "    return testData['relevance'].map({'relevant':1, 'irrelevant': 0}),predYBools, predYProbabilities\n"
   ]
  },
  {
   "cell_type": "code",
   "execution_count": 8,
   "metadata": {},
   "outputs": [],
   "source": [
    "start = time()\n",
    "\n",
    "trueYInts, predYBools, predYProbabilities = evaluate(logistic)\n",
    "\n",
    "end = time()"
   ]
  },
  {
   "cell_type": "code",
   "execution_count": 9,
   "metadata": {},
   "outputs": [
    {
     "name": "stdout",
     "output_type": "stream",
     "text": [
      "\n",
      "\n",
      "Training time on 15427 articles:  73.51406478881836  seconds\n",
      "\n",
      "Files processed per second: 209.85099986399445\n"
     ]
    }
   ],
   "source": [
    "print(f'\\n\\nPrediction time on {len(trainData)} articles: ', end-start, ' seconds')\n",
    "print(f'\\nFiles processed per second: {len(trainData) / (end-start)}')"
   ]
  },
  {
   "cell_type": "code",
   "execution_count": 10,
   "metadata": {},
   "outputs": [],
   "source": [
    "from sklearn.metrics import accuracy_score, confusion_matrix, f1_score, precision_score\n",
    "\n",
    "def calculate_metrics(trueYInts, predYBools, predYProbabilities):\n",
    "    return {\n",
    "            \"accuracy\": accuracy_score(trueYInts, predYBools),\n",
    "            \"f1\": f1_score(trueYInts, predYBools, average='macro',zero_division=0),\n",
    "            \"precision\": precision_score(trueYInts, predYBools, average='macro',zero_division=0),\n",
    "            \"confusion_matrix\": confusion_matrix(trueYInts, predYBools),\n",
    "            \"predictions\": logistic.boolPredictionsToLabels(predYBools.astype('bool').astype(f'<U{len(\"irrelevant\")}')),\n",
    "            \"probabilities\": predYProbabilities[:,1]\n",
    "        }\n",
    "\n",
    "\n",
    "# need the f'<U{len(\"irrelevant\")}' to ensure the strings don't get\n",
    "# truncated to the same length as 'False'\n",
    "# so we set the max length to the length of 'irrelevant'\n",
    "\n",
    "\n",
    "\n",
    "def format_output(results):\n",
    "    print(f\"Accuracy: {results['accuracy']} \\t F1: {results['f1']} \\t Precision: {results['precision']} \\t\")\n",
    "    print(\"\\n\\n\")"
   ]
  },
  {
   "cell_type": "code",
   "execution_count": 11,
   "metadata": {},
   "outputs": [
    {
     "name": "stdout",
     "output_type": "stream",
     "text": [
      "Accuracy: 0.9961109670728545 \t F1: 0.9960647475041193 \t Precision: 0.9962656057938636 \t\n",
      "\n",
      "\n",
      "\n"
     ]
    }
   ],
   "source": [
    "results = calculate_metrics(trueYInts, predYBools.astype('int32'), predYProbabilities)\n",
    "\n",
    "format_output(results)"
   ]
  },
  {
   "cell_type": "code",
   "execution_count": 12,
   "metadata": {},
   "outputs": [
    {
     "name": "stdout",
     "output_type": "stream",
     "text": [
      "<class 'pandas.core.frame.DataFrame'>\n",
      "RangeIndex: 3857 entries, 15427 to 19283\n",
      "Data columns (total 4 columns):\n",
      " #   Column        Non-Null Count  Dtype \n",
      "---  ------        --------------  ----- \n",
      " 0   url           3857 non-null   object\n",
      " 1   text          3857 non-null   object\n",
      " 2   relevance     3857 non-null   object\n",
      " 3   multiclasses  3857 non-null   object\n",
      "dtypes: object(4)\n",
      "memory usage: 120.7+ KB\n"
     ]
    }
   ],
   "source": [
    "testData.info()"
   ]
  },
  {
   "cell_type": "code",
   "execution_count": 13,
   "metadata": {},
   "outputs": [],
   "source": [
    "testData = testData.assign(predictions=results['predictions'], score=results['probabilities'])\n"
   ]
  },
  {
   "cell_type": "code",
   "execution_count": 14,
   "metadata": {},
   "outputs": [
    {
     "name": "stdout",
     "output_type": "stream",
     "text": [
      "<class 'pandas.core.frame.DataFrame'>\n",
      "RangeIndex: 3857 entries, 15427 to 19283\n",
      "Data columns (total 6 columns):\n",
      " #   Column        Non-Null Count  Dtype  \n",
      "---  ------        --------------  -----  \n",
      " 0   url           3857 non-null   object \n",
      " 1   text          3857 non-null   object \n",
      " 2   relevance     3857 non-null   object \n",
      " 3   multiclasses  3857 non-null   object \n",
      " 4   predictions   3857 non-null   object \n",
      " 5   score         3857 non-null   float64\n",
      "dtypes: float64(1), object(5)\n",
      "memory usage: 180.9+ KB\n"
     ]
    },
    {
     "data": {
      "text/html": [
       "<div>\n",
       "<style scoped>\n",
       "    .dataframe tbody tr th:only-of-type {\n",
       "        vertical-align: middle;\n",
       "    }\n",
       "\n",
       "    .dataframe tbody tr th {\n",
       "        vertical-align: top;\n",
       "    }\n",
       "\n",
       "    .dataframe thead th {\n",
       "        text-align: right;\n",
       "    }\n",
       "</style>\n",
       "<table border=\"1\" class=\"dataframe\">\n",
       "  <thead>\n",
       "    <tr style=\"text-align: right;\">\n",
       "      <th></th>\n",
       "      <th>url</th>\n",
       "      <th>text</th>\n",
       "      <th>relevance</th>\n",
       "      <th>multiclasses</th>\n",
       "      <th>predictions</th>\n",
       "      <th>score</th>\n",
       "    </tr>\n",
       "  </thead>\n",
       "  <tbody>\n",
       "    <tr>\n",
       "      <th>15427</th>\n",
       "      <td>https://theprofessionals.com.pg/storage/pdf/La...</td>\n",
       "      <td>Professionals Commercial - Residential - Land ...</td>\n",
       "      <td>irrelevant</td>\n",
       "      <td>[]</td>\n",
       "      <td>irrelevant</td>\n",
       "      <td>0.065118</td>\n",
       "    </tr>\n",
       "    <tr>\n",
       "      <th>15428</th>\n",
       "      <td>https://wvculture.org/wp-content/uploads/2021/...</td>\n",
       "      <td>- 2 Page U S D I /NPS NRHP Registration Form P...</td>\n",
       "      <td>irrelevant</td>\n",
       "      <td>[]</td>\n",
       "      <td>irrelevant</td>\n",
       "      <td>0.015077</td>\n",
       "    </tr>\n",
       "    <tr>\n",
       "      <th>15429</th>\n",
       "      <td>https://www.conservationevidence.com/individua...</td>\n",
       "      <td>Reduce predation by translocating predators A ...</td>\n",
       "      <td>relevant</td>\n",
       "      <td>[Birds]</td>\n",
       "      <td>relevant</td>\n",
       "      <td>0.980168</td>\n",
       "    </tr>\n",
       "    <tr>\n",
       "      <th>15430</th>\n",
       "      <td>https://www.conservationevidence.com/individua...</td>\n",
       "      <td>Asian clams: Add chemicals to the waterA contr...</td>\n",
       "      <td>relevant</td>\n",
       "      <td>[Fish, Invasive]</td>\n",
       "      <td>relevant</td>\n",
       "      <td>0.813505</td>\n",
       "    </tr>\n",
       "    <tr>\n",
       "      <th>15431</th>\n",
       "      <td>https://repositorio.unheval.edu.pe/bitstream/h...</td>\n",
       "      <td>i UNIVERSIDAD NACIONAL HERMILIO VALDIZÁN FACUL...</td>\n",
       "      <td>irrelevant</td>\n",
       "      <td>[]</td>\n",
       "      <td>irrelevant</td>\n",
       "      <td>0.003876</td>\n",
       "    </tr>\n",
       "  </tbody>\n",
       "</table>\n",
       "</div>"
      ],
      "text/plain": [
       "                                                     url  \\\n",
       "15427  https://theprofessionals.com.pg/storage/pdf/La...   \n",
       "15428  https://wvculture.org/wp-content/uploads/2021/...   \n",
       "15429  https://www.conservationevidence.com/individua...   \n",
       "15430  https://www.conservationevidence.com/individua...   \n",
       "15431  https://repositorio.unheval.edu.pe/bitstream/h...   \n",
       "\n",
       "                                                    text   relevance  \\\n",
       "15427  Professionals Commercial - Residential - Land ...  irrelevant   \n",
       "15428  - 2 Page U S D I /NPS NRHP Registration Form P...  irrelevant   \n",
       "15429  Reduce predation by translocating predators A ...    relevant   \n",
       "15430  Asian clams: Add chemicals to the waterA contr...    relevant   \n",
       "15431  i UNIVERSIDAD NACIONAL HERMILIO VALDIZÁN FACUL...  irrelevant   \n",
       "\n",
       "           multiclasses predictions     score  \n",
       "15427                []  irrelevant  0.065118  \n",
       "15428                []  irrelevant  0.015077  \n",
       "15429           [Birds]    relevant  0.980168  \n",
       "15430  [Fish, Invasive]    relevant  0.813505  \n",
       "15431                []  irrelevant  0.003876  "
      ]
     },
     "execution_count": 14,
     "metadata": {},
     "output_type": "execute_result"
    }
   ],
   "source": [
    "testData.info()\n",
    "testData.head()"
   ]
  },
  {
   "cell_type": "code",
   "execution_count": 15,
   "metadata": {},
   "outputs": [
    {
     "data": {
      "image/png": "[encoded data removed]",
      "text/plain": [
       "<Figure size 2000x500 with 2 Axes>"
      ]
     },
     "metadata": {},
     "output_type": "display_data"
    }
   ],
   "source": [
    "import matplotlib.pyplot as plt\n",
    "from sklearn.metrics import confusion_matrix, ConfusionMatrixDisplay\n",
    "\n",
    "fig, axs = plt.subplots(1, 1, figsize=(20, 5))\n",
    "\n",
    "\n",
    "confusion = confusion_matrix(testData['relevance'], testData['predictions'])\n",
    "disp = ConfusionMatrixDisplay(confusion_matrix=confusion)\n",
    "disp.plot(ax=axs, cmap='plasma')\n",
    "\n",
    "plt.show()\n",
    "\n"
   ]
  },
  {
   "cell_type": "code",
   "execution_count": 16,
   "metadata": {},
   "outputs": [
    {
     "data": {
      "image/png": "[encoded data removed]",
      "text/plain": [
       "<Figure size 2000x500 with 1 Axes>"
      ]
     },
     "metadata": {},
     "output_type": "display_data"
    }
   ],
   "source": [
    "from sklearn.metrics import precision_recall_curve, PrecisionRecallDisplay\n",
    "\n",
    "precision, recall, thresholds = precision_recall_curve(trueYInts, predYProbabilities[:,1])\n",
    "\n",
    "fig, axs = plt.subplots(1, 1, figsize=(20, 5))\n",
    "\n",
    "disp = PrecisionRecallDisplay(precision=precision, recall=recall)\n",
    "disp.plot(ax=axs)\n",
    "\n",
    "plt.show()\n"
   ]
  },
  {
   "cell_type": "code",
   "execution_count": 17,
   "metadata": {},
   "outputs": [],
   "source": [
    "# save logistic regression model\n",
    "\n",
    "import pickle\n",
    "import os\n",
    "\n",
    "if len(data) <= 15000:\n",
    "    path = 'models/dev/LogisticRegression.pkl'\n",
    "else:\n",
    "    path = 'models/LogisticRegression.pkl'\n",
    "\n",
    "with open(path, 'wb') as f:\n",
    "    pickle.dump(logistic, f)\n",
    "\n"
   ]
  }
 ],
 "metadata": {
  "kernelspec": {
   "display_name": "grey-literature-classification-bv5LGFdB",
   "language": "python",
   "name": "python3"
  },
  "language_info": {
   "codemirror_mode": {
    "name": "ipython",
    "version": 3
   },
   "file_extension": ".py",
   "mimetype": "text/x-python",
   "name": "python",
   "nbconvert_exporter": "python",
   "pygments_lexer": "ipython3",
   "version": "3.10.12"
  }
 },
 "nbformat": 4,
 "nbformat_minor": 2
}
