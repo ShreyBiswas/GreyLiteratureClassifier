{
 "cells": [
  {
   "cell_type": "code",
   "execution_count": 18,
   "metadata": {},
   "outputs": [],
   "source": [
    "import pandas as pd\n",
    "from sklearn.metrics import accuracy_score, precision_score, recall_score, f1_score, confusion_matrix, classification_report"
   ]
  },
  {
   "cell_type": "code",
   "execution_count": 19,
   "metadata": {},
   "outputs": [],
   "source": [
    "DEV = True"
   ]
  },
  {
   "cell_type": "code",
   "execution_count": 20,
   "metadata": {},
   "outputs": [],
   "source": [
    "embedding_model_name = 'dunzhang/stella_en_400M_v5'\n",
    "embedding_model_name = \"avsolatorio/GIST-Embedding-v0\""
   ]
  },
  {
   "cell_type": "code",
   "execution_count": 21,
   "metadata": {},
   "outputs": [
    {
     "name": "stdout",
     "output_type": "stream",
     "text": [
      "Loading model avsolatorio/GIST-Embedding-v0...\n",
      "<class 'pandas.core.frame.DataFrame'>\n",
      "RangeIndex: 10000 entries, 0 to 9999\n",
      "Data columns (total 6 columns):\n",
      " #   Column      Non-Null Count  Dtype \n",
      "---  ------      --------------  ----- \n",
      " 0   chunk_id    10000 non-null  int64 \n",
      " 1   url         9191 non-null   object\n",
      " 2   text        10000 non-null  object\n",
      " 3   class       10000 non-null  object\n",
      " 4   relevance   10000 non-null  object\n",
      " 5   embeddings  10000 non-null  object\n",
      "dtypes: int64(1), object(5)\n",
      "memory usage: 468.9+ KB\n"
     ]
    },
    {
     "data": {
      "text/html": [
       "<div>\n",
       "<style scoped>\n",
       "    .dataframe tbody tr th:only-of-type {\n",
       "        vertical-align: middle;\n",
       "    }\n",
       "\n",
       "    .dataframe tbody tr th {\n",
       "        vertical-align: top;\n",
       "    }\n",
       "\n",
       "    .dataframe thead th {\n",
       "        text-align: right;\n",
       "    }\n",
       "</style>\n",
       "<table border=\"1\" class=\"dataframe\">\n",
       "  <thead>\n",
       "    <tr style=\"text-align: right;\">\n",
       "      <th></th>\n",
       "      <th>chunk_id</th>\n",
       "      <th>url</th>\n",
       "      <th>text</th>\n",
       "      <th>class</th>\n",
       "      <th>relevance</th>\n",
       "      <th>embeddings</th>\n",
       "    </tr>\n",
       "  </thead>\n",
       "  <tbody>\n",
       "    <tr>\n",
       "      <th>0</th>\n",
       "      <td>9354</td>\n",
       "      <td>https://www.defensedaily.com/wp-content/upload...</td>\n",
       "      <td>ask force found that a minor modified LCS (of ...</td>\n",
       "      <td>irrelevant</td>\n",
       "      <td>irrelevant</td>\n",
       "      <td>[-0.0026561695, -0.0181116443, -0.018887395, 0...</td>\n",
       "    </tr>\n",
       "    <tr>\n",
       "      <th>1</th>\n",
       "      <td>7587</td>\n",
       "      <td>https://dcwltd.com/wp-content/uploads/2023/11/...</td>\n",
       "      <td>HELKE '1203320068837332 2 Equity share NAINA C...</td>\n",
       "      <td>irrelevant</td>\n",
       "      <td>irrelevant</td>\n",
       "      <td>[0.011645609500000001, -0.026258425800000002, ...</td>\n",
       "    </tr>\n",
       "    <tr>\n",
       "      <th>2</th>\n",
       "      <td>7587</td>\n",
       "      <td>https://dcwltd.com/wp-content/uploads/2023/11/...</td>\n",
       "      <td>97413193131 8196 Equity share KAMLESHBHAI GORE...</td>\n",
       "      <td>irrelevant</td>\n",
       "      <td>irrelevant</td>\n",
       "      <td>[-0.0142423259, -0.017405754000000002, -0.0213...</td>\n",
       "    </tr>\n",
       "    <tr>\n",
       "      <th>3</th>\n",
       "      <td>7370</td>\n",
       "      <td>PDF-PLACEHOLDER</td>\n",
       "      <td>erflies. Journal \\nof Insect Conservation, 15,...</td>\n",
       "      <td>..</td>\n",
       "      <td>relevant</td>\n",
       "      <td>[0.0079465974, -0.030159454800000002, -0.01160...</td>\n",
       "    </tr>\n",
       "    <tr>\n",
       "      <th>4</th>\n",
       "      <td>9343</td>\n",
       "      <td>https://deercreekflorida.com/wp-content/upload...</td>\n",
       "      <td>or: Boca By Design 561-447-5444 Photobooth: Da...</td>\n",
       "      <td>irrelevant</td>\n",
       "      <td>irrelevant</td>\n",
       "      <td>[0.0083078193, 0.008548152600000001, 0.0175007...</td>\n",
       "    </tr>\n",
       "  </tbody>\n",
       "</table>\n",
       "</div>"
      ],
      "text/plain": [
       "   chunk_id                                                url  \\\n",
       "0      9354  https://www.defensedaily.com/wp-content/upload...   \n",
       "1      7587  https://dcwltd.com/wp-content/uploads/2023/11/...   \n",
       "2      7587  https://dcwltd.com/wp-content/uploads/2023/11/...   \n",
       "3      7370                                    PDF-PLACEHOLDER   \n",
       "4      9343  https://deercreekflorida.com/wp-content/upload...   \n",
       "\n",
       "                                                text       class   relevance  \\\n",
       "0  ask force found that a minor modified LCS (of ...  irrelevant  irrelevant   \n",
       "1  HELKE '1203320068837332 2 Equity share NAINA C...  irrelevant  irrelevant   \n",
       "2  97413193131 8196 Equity share KAMLESHBHAI GORE...  irrelevant  irrelevant   \n",
       "3  erflies. Journal \\nof Insect Conservation, 15,...          ..    relevant   \n",
       "4  or: Boca By Design 561-447-5444 Photobooth: Da...  irrelevant  irrelevant   \n",
       "\n",
       "                                          embeddings  \n",
       "0  [-0.0026561695, -0.0181116443, -0.018887395, 0...  \n",
       "1  [0.011645609500000001, -0.026258425800000002, ...  \n",
       "2  [-0.0142423259, -0.017405754000000002, -0.0213...  \n",
       "3  [0.0079465974, -0.030159454800000002, -0.01160...  \n",
       "4  [0.0083078193, 0.008548152600000001, 0.0175007...  "
      ]
     },
     "execution_count": 21,
     "metadata": {},
     "output_type": "execute_result"
    }
   ],
   "source": [
    "print(f'Loading model {embedding_model_name}...')\n",
    "\n",
    "if DEV:\n",
    "    train_data = pd.read_json(f'embeddings/{embedding_model_name}/dev/train_embeddings.json', orient='records')\n",
    "    test_data = pd.read_json(f'embeddings/{embedding_model_name}/dev/test_embeddings.json', orient='records')\n",
    "else:\n",
    "    train_data = pd.read_json(f'embeddings/{embedding_model_name}/train_embeddings.json', orient='records')\n",
    "    test_data = pd.read_json(f'embeddings/{embedding_model_name}/test_embeddings.json', orient='records')\n",
    "\n",
    "\n",
    "train_data.info()\n",
    "train_data.head()"
   ]
  },
  {
   "cell_type": "code",
   "execution_count": 22,
   "metadata": {},
   "outputs": [],
   "source": [
    "yLabels = train_data['relevance'].tolist()\n",
    "xFeatures = train_data['embeddings'].tolist()"
   ]
  },
  {
   "cell_type": "code",
   "execution_count": 23,
   "metadata": {},
   "outputs": [],
   "source": [
    "import pickle\n",
    "\n",
    "def save_model(classifier, model_name):\n",
    "    pickle.dump(classifier, open(f'models/{model_name}.pkl', \"wb\"),protocol=5)\n",
    "    print(f\"{model_name} saved to disk\")"
   ]
  },
  {
   "cell_type": "code",
   "execution_count": 24,
   "metadata": {},
   "outputs": [],
   "source": [
    "# logistic regression\n",
    "from sklearn.linear_model import LogisticRegression\n",
    "\n",
    "logistic = LogisticRegression(max_iter=1000)"
   ]
  },
  {
   "cell_type": "code",
   "execution_count": 25,
   "metadata": {},
   "outputs": [],
   "source": [
    "# random forest\n",
    "from sklearn.ensemble import RandomForestClassifier\n",
    "\n",
    "forest = RandomForestClassifier()\n"
   ]
  },
  {
   "cell_type": "code",
   "execution_count": 26,
   "metadata": {},
   "outputs": [],
   "source": [
    "# naive bayes\n",
    "\n",
    "from sklearn.naive_bayes import GaussianNB\n",
    "\n",
    "bayes = GaussianNB()\n"
   ]
  },
  {
   "cell_type": "code",
   "execution_count": 27,
   "metadata": {},
   "outputs": [],
   "source": [
    "# nearest neigbours\n",
    "from sklearn.neighbors import KNeighborsClassifier\n",
    "\n",
    "neighbours = KNeighborsClassifier()\n",
    "\n"
   ]
  },
  {
   "cell_type": "code",
   "execution_count": 28,
   "metadata": {},
   "outputs": [],
   "source": [
    "# rbf svm\n",
    "from sklearn.svm import SVC\n",
    "\n",
    "svm = SVC(kernel='rbf')\n"
   ]
  },
  {
   "cell_type": "code",
   "execution_count": 29,
   "metadata": {},
   "outputs": [],
   "source": [
    "# nn\n",
    "from sklearn.neural_network import MLPClassifier\n",
    "\n",
    "nn = MLPClassifier()\n"
   ]
  },
  {
   "cell_type": "code",
   "execution_count": 30,
   "metadata": {},
   "outputs": [],
   "source": [
    "classifiers = [forest, logistic , bayes, neighbours, svm, nn]\n"
   ]
  },
  {
   "cell_type": "code",
   "execution_count": 31,
   "metadata": {},
   "outputs": [
    {
     "name": "stdout",
     "output_type": "stream",
     "text": [
      "Training RandomForestClassifier...\n",
      "RandomForestClassifier saved to disk\n",
      "Training RandomForestClassifier complete in 51.2842 seconds. Saved to disk.\n",
      "\n",
      "Training LogisticRegression...\n",
      "LogisticRegression saved to diskk...\n",
      "Training LogisticRegression complete in 0.7761 seconds. Saved to disk.\n",
      "\n",
      "Training GaussianNB...\n",
      "GaussianNB saved to diskg to disk...\n",
      "Training GaussianNB complete in 0.9572 seconds. Saved to disk.\n",
      "\n",
      "Training KNeighborsClassifier...\n",
      "KNeighborsClassifier saved to disk..\n",
      "Training KNeighborsClassifier complete in 0.7118 seconds. Saved to disk.\n",
      "\n",
      "Training SVC...\n",
      "SVC saved to disk. Saving to disk...\n",
      "Training SVC complete in 11.3104 seconds. Saved to disk.\n",
      "\n",
      "Training MLPClassifier...\n",
      "MLPClassifier saved to disko disk...\n",
      "Training MLPClassifier complete in 53.4399 seconds. Saved to disk.\n",
      "\n"
     ]
    }
   ],
   "source": [
    "import time\n",
    "\n",
    "for classifier in classifiers:\n",
    "\n",
    "    print(f\"Training {classifier.__class__.__name__}...\")\n",
    "    start = time.time()\n",
    "    classifier.fit(xFeatures, yLabels)\n",
    "    end = time.time()\n",
    "    print(\"Training Complete. Saving to disk...\", end=\"\\r\")\n",
    "    save_model(classifier, classifier.__class__.__name__)\n",
    "    print(f\"Training {classifier.__class__.__name__} complete in {round(end-start, 4)} seconds. Saved to disk.\\n\")\n"
   ]
  },
  {
   "cell_type": "code",
   "execution_count": 32,
   "metadata": {},
   "outputs": [],
   "source": [
    "testData = {\n",
    "    'relevance':test_data['relevance'].tolist(),\n",
    "    'embeddings':test_data['embeddings'].tolist()\n",
    "}\n",
    "\n",
    "# maximise function with high precision\n",
    "def precision_accuracy(accu, prec,ratio=0.3):\n",
    "    return ratio * accu + (1-ratio) * prec"
   ]
  },
  {
   "cell_type": "code",
   "execution_count": 33,
   "metadata": {},
   "outputs": [
    {
     "name": "stdout",
     "output_type": "stream",
     "text": [
      "Classifier: LogisticRegression \n",
      "Accuracy: 0.9965 \t F1: 0.996279 \t Precision: 0.996408 \t Precision-Accuracy: 0.996436\n",
      "\n",
      "\n",
      "\n",
      "Classifier: SVC \n",
      "Accuracy: 0.9965 \t F1: 0.996281 \t Precision: 0.996154 \t Precision-Accuracy: 0.996258\n",
      "\n",
      "\n",
      "\n",
      "Classifier: KNeighborsClassifier \n",
      "Accuracy: 0.9965 \t F1: 0.996287 \t Precision: 0.995419 \t Precision-Accuracy: 0.995743\n",
      "\n",
      "\n",
      "\n",
      "Classifier: RandomForestClassifier \n",
      "Accuracy: 0.994 \t F1: 0.99361 \t Precision: 0.994668 \t Precision-Accuracy: 0.994468\n",
      "\n",
      "\n",
      "\n",
      "Classifier: MLPClassifier \n",
      "Accuracy: 0.9935 \t F1: 0.993076 \t Precision: 0.99427 \t Precision-Accuracy: 0.994039\n",
      "\n",
      "\n",
      "\n",
      "Classifier: GaussianNB \n",
      "Accuracy: 0.991 \t F1: 0.990464 \t Precision: 0.989029 \t Precision-Accuracy: 0.98962\n",
      "\n",
      "\n",
      "\n"
     ]
    }
   ],
   "source": [
    "results = {}\n",
    "\n",
    "for classifier in classifiers:\n",
    "    predYLabels = classifier.predict(testData[\"embeddings\"])\n",
    "\n",
    "    results[classifier.__class__.__name__] = {\n",
    "        \"accuracy\": accuracy_score(testData['relevance'], predYLabels),\n",
    "        \"f1\": f1_score(\n",
    "            testData['relevance'], predYLabels, average=\"macro\", zero_division=0\n",
    "        ),\n",
    "        \"precision\": precision_score(\n",
    "            testData['relevance'], predYLabels, average=\"macro\", zero_division=0\n",
    "        ),\n",
    "        \"confusion_matrix\": confusion_matrix(testData['relevance'], predYLabels,labels=['relevant','irrelevant']),\n",
    "    }\n",
    "    results[classifier.__class__.__name__][\"precision-accuracy\"] = precision_accuracy(\n",
    "        results[classifier.__class__.__name__][\"accuracy\"],\n",
    "        results[classifier.__class__.__name__][\"precision\"],\n",
    "    )\n",
    "\n",
    "\n",
    "def format_output(metrics):\n",
    "    for classifier, metric in sorted(metrics.items(),key=lambda x: x[1]['precision-accuracy'],reverse=True):\n",
    "        for key, value in metric.items():\n",
    "            # truncate\n",
    "            if key != \"confusion_matrix\":\n",
    "                metric[key] = round(value, 6)\n",
    "        print(\n",
    "            f\"Classifier: {classifier} \\nAccuracy: {metric['accuracy']} \\t F1: {metric['f1']} \\t Precision: {metric['precision']} \\t Precision-Accuracy: {metric['precision-accuracy']}\"\n",
    "        )\n",
    "        print(\"\\n\\n\")\n",
    "\n",
    "\n",
    "format_output(results)"
   ]
  },
  {
   "cell_type": "code",
   "execution_count": 34,
   "metadata": {},
   "outputs": [
    {
     "data": {
      "image/png": "[encoded data removed]",
      "text/plain": [
       "<Figure size 2000x500 with 12 Axes>"
      ]
     },
     "metadata": {},
     "output_type": "display_data"
    }
   ],
   "source": [
    "import matplotlib.pyplot as plt\n",
    "from sklearn.metrics import ConfusionMatrixDisplay\n",
    "\n",
    "\n",
    "# display in len(classifiers) subplot squares\n",
    "\n",
    "fig, axs = plt.subplots(2, int(len(classifiers)/2), figsize=(20, 5))\n",
    "plt.subplots_adjust(hspace=0.75)\n",
    "\n",
    "\n",
    "for i, classifier in enumerate(classifiers):\n",
    "    confusion = results[classifier.__class__.__name__][\"confusion_matrix\"]\n",
    "    disp = ConfusionMatrixDisplay(confusion_matrix=confusion, display_labels=['irrelevant', 'relevant'])\n",
    "    disp.plot(ax=axs[int(i/3), i % 3])\n",
    "    # add title\n",
    "    axs[int(i/3), i % 3].set_title(classifier.__class__.__name__)\n",
    "\n",
    "\n",
    "\n",
    "plt.show()"
   ]
  }
 ],
 "metadata": {
  "kernelspec": {
   "display_name": "GreyLiteratureClassifier-pwi3iMQR",
   "language": "python",
   "name": "python3"
  },
  "language_info": {
   "codemirror_mode": {
    "name": "ipython",
    "version": 3
   },
   "file_extension": ".py",
   "mimetype": "text/x-python",
   "name": "python",
   "nbconvert_exporter": "python",
   "pygments_lexer": "ipython3",
   "version": "3.11.3"
  }
 },
 "nbformat": 4,
 "nbformat_minor": 2
}
