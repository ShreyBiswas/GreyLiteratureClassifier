{
 "cells": [
  {
   "cell_type": "code",
   "execution_count": 1,
   "metadata": {},
   "outputs": [],
   "source": [
    "# import pandas as pd\n",
    "import cudf as pd\n",
    "from tqdm.auto import tqdm\n",
    "tqdm.pandas()\n",
    "\n",
    "from time import time"
   ]
  },
  {
   "cell_type": "code",
   "execution_count": 2,
   "metadata": {},
   "outputs": [
    {
     "name": "stdout",
     "output_type": "stream",
     "text": [
      "Loading data...\n"
     ]
    },
    {
     "name": "stderr",
     "output_type": "stream",
     "text": [
      "/workspace/GreyLit/venv/lib/python3.10/site-packages/cudf/io/json.py:108: UserWarning: Using CPU via Pandas to read JSON dataset, this may be GPU accelerated in the future\n",
      "  warnings.warn(\n"
     ]
    },
    {
     "name": "stdout",
     "output_type": "stream",
     "text": [
      "Data loaded.\n",
      "<class 'cudf.core.dataframe.DataFrame'>\n",
      "RangeIndex: 19284 entries, 0 to 19283\n",
      "Data columns (total 4 columns):\n",
      " #   Column        Non-Null Count  Dtype\n",
      "---  ------        --------------  -----\n",
      " 0   url           19284 non-null  object\n",
      " 1   text          19284 non-null  object\n",
      " 2   relevance     19284 non-null  object\n",
      " 3   multiclasses  19284 non-null  list\n",
      "dtypes: list(1), object(3)\n",
      "memory usage: 1.3+ GB\n"
     ]
    }
   ],
   "source": [
    "def import_labelled_data(path=\"data/labelled/data.json\"):\n",
    "    data = pd.read_json(path, encoding=\"latin-1\")\n",
    "    return data\n",
    "\n",
    "\n",
    "print(\"Loading data...\")\n",
    "\n",
    "data = import_labelled_data(\n",
    "    path=\"../../data/level-0.5/data.json\"\n",
    ")\n",
    "\n",
    "print(\"Data loaded.\")\n",
    "\n",
    "\n",
    "# data = data.sample(2500)\n",
    "\n",
    "data = data.sample(frac=1).reset_index(drop=True)\n",
    "\n",
    "\n",
    "data.info()\n",
    "data.head()\n",
    "data.value_counts()"
   ]
  },
  {
   "cell_type": "code",
   "execution_count": 3,
   "metadata": {},
   "outputs": [
    {
     "name": "stdout",
     "output_type": "stream",
     "text": [
      "<class 'cudf.core.dataframe.DataFrame'>\n",
      "RangeIndex: 19284 entries, 0 to 19283\n",
      "Data columns (total 4 columns):\n",
      " #   Column        Non-Null Count  Dtype\n",
      "---  ------        --------------  -----\n",
      " 0   url           19284 non-null  object\n",
      " 1   text          19284 non-null  object\n",
      " 2   relevance     19284 non-null  object\n",
      " 3   multiclasses  19284 non-null  list\n",
      "dtypes: list(1), object(3)\n",
      "memory usage: 1.3+ GB\n"
     ]
    },
    {
     "data": {
      "text/html": [
       "<div>\n",
       "<style scoped>\n",
       "    .dataframe tbody tr th:only-of-type {\n",
       "        vertical-align: middle;\n",
       "    }\n",
       "\n",
       "    .dataframe tbody tr th {\n",
       "        vertical-align: top;\n",
       "    }\n",
       "\n",
       "    .dataframe thead th {\n",
       "        text-align: right;\n",
       "    }\n",
       "</style>\n",
       "<table border=\"1\" class=\"dataframe\">\n",
       "  <thead>\n",
       "    <tr style=\"text-align: right;\">\n",
       "      <th></th>\n",
       "      <th>url</th>\n",
       "      <th>text</th>\n",
       "      <th>relevance</th>\n",
       "      <th>multiclasses</th>\n",
       "    </tr>\n",
       "  </thead>\n",
       "  <tbody>\n",
       "    <tr>\n",
       "      <th>0</th>\n",
       "      <td>https://www.armorysupply.pe/wp-content/uploads...</td>\n",
       "      <td>Safety &amp; Instruction Manual ® ™ M&amp;P M2.0 PISTO...</td>\n",
       "      <td>irrelevant</td>\n",
       "      <td>[]</td>\n",
       "    </tr>\n",
       "    <tr>\n",
       "      <th>1</th>\n",
       "      <td>https://www.delltechnologies.com/asset/en-my/p...</td>\n",
       "      <td>ANALYST BRIEF Sponsored by: Dell Investment in...</td>\n",
       "      <td>irrelevant</td>\n",
       "      <td>[]</td>\n",
       "    </tr>\n",
       "    <tr>\n",
       "      <th>2</th>\n",
       "      <td>https://www.conservationevidence.com/individua...</td>\n",
       "      <td>Provide bat boxes for roosting batsA replicate...</td>\n",
       "      <td>relevant</td>\n",
       "      <td>[Bats]</td>\n",
       "    </tr>\n",
       "    <tr>\n",
       "      <th>3</th>\n",
       "      <td>http://wvumedicine.org/princeton/wp-content/up...</td>\n",
       "      <td>February 2023 Rowena Chambers, MD, Retires Aft...</td>\n",
       "      <td>irrelevant</td>\n",
       "      <td>[]</td>\n",
       "    </tr>\n",
       "    <tr>\n",
       "      <th>4</th>\n",
       "      <td>https://worldbicyclerelief.org/wp-content/uplo...</td>\n",
       "      <td>2023 IMPACT REPORT Dear Friends, We’re thrille...</td>\n",
       "      <td>irrelevant</td>\n",
       "      <td>[]</td>\n",
       "    </tr>\n",
       "  </tbody>\n",
       "</table>\n",
       "</div>"
      ],
      "text/plain": [
       "                                                 url  \\\n",
       "0  https://www.armorysupply.pe/wp-content/uploads...   \n",
       "1  https://www.delltechnologies.com/asset/en-my/p...   \n",
       "2  https://www.conservationevidence.com/individua...   \n",
       "3  http://wvumedicine.org/princeton/wp-content/up...   \n",
       "4  https://worldbicyclerelief.org/wp-content/uplo...   \n",
       "\n",
       "                                                text   relevance multiclasses  \n",
       "0  Safety & Instruction Manual ® ™ M&P M2.0 PISTO...  irrelevant           []  \n",
       "1  ANALYST BRIEF Sponsored by: Dell Investment in...  irrelevant           []  \n",
       "2  Provide bat boxes for roosting batsA replicate...    relevant       [Bats]  \n",
       "3  February 2023 Rowena Chambers, MD, Retires Aft...  irrelevant           []  \n",
       "4  2023 IMPACT REPORT Dear Friends, We’re thrille...  irrelevant           []  "
      ]
     },
     "metadata": {},
     "output_type": "display_data"
    },
    {
     "name": "stdout",
     "output_type": "stream",
     "text": [
      "relevance\n",
      "irrelevant    10688\n",
      "relevant       8596\n",
      "Name: count, dtype: int64\n"
     ]
    }
   ],
   "source": [
    "\n",
    "\n",
    "data.info()\n",
    "display(data.head())\n",
    "print(data['relevance'].value_counts())"
   ]
  },
  {
   "cell_type": "code",
   "execution_count": 4,
   "metadata": {},
   "outputs": [],
   "source": [
    "def train_test_split(x, y=None, test_size=0.2,shuffle=False):\n",
    "    if shuffle:\n",
    "        x = x.sample(frac=1).reset_index(drop=True)\n",
    "    split = int(len(x) * (1 - test_size))\n",
    "    xTrain, xTest = x.iloc[:split], x.iloc[split:]\n",
    "    if y is not None:\n",
    "        yTrain, yTest = y.iloc[:split], y.iloc[split:]\n",
    "        return xTrain, xTest, yTrain, yTest\n",
    "    return xTrain, xTest\n",
    "\n",
    "\n",
    "trainData, testData = train_test_split(data, test_size=0.2) # already shuffled above"
   ]
  },
  {
   "cell_type": "code",
   "execution_count": 5,
   "metadata": {},
   "outputs": [
    {
     "data": {
      "text/html": [
       "<div>\n",
       "<style scoped>\n",
       "    .dataframe tbody tr th:only-of-type {\n",
       "        vertical-align: middle;\n",
       "    }\n",
       "\n",
       "    .dataframe tbody tr th {\n",
       "        vertical-align: top;\n",
       "    }\n",
       "\n",
       "    .dataframe thead th {\n",
       "        text-align: right;\n",
       "    }\n",
       "</style>\n",
       "<table border=\"1\" class=\"dataframe\">\n",
       "  <thead>\n",
       "    <tr style=\"text-align: right;\">\n",
       "      <th></th>\n",
       "      <th>url</th>\n",
       "      <th>text</th>\n",
       "      <th>relevance</th>\n",
       "      <th>multiclasses</th>\n",
       "    </tr>\n",
       "  </thead>\n",
       "  <tbody>\n",
       "    <tr>\n",
       "      <th>0</th>\n",
       "      <td>https://www.armorysupply.pe/wp-content/uploads...</td>\n",
       "      <td>Safety &amp; Instruction Manual ® ™ M&amp;P M2.0 PISTO...</td>\n",
       "      <td>irrelevant</td>\n",
       "      <td>[]</td>\n",
       "    </tr>\n",
       "    <tr>\n",
       "      <th>1</th>\n",
       "      <td>https://www.delltechnologies.com/asset/en-my/p...</td>\n",
       "      <td>ANALYST BRIEF Sponsored by: Dell Investment in...</td>\n",
       "      <td>irrelevant</td>\n",
       "      <td>[]</td>\n",
       "    </tr>\n",
       "    <tr>\n",
       "      <th>2</th>\n",
       "      <td>https://www.conservationevidence.com/individua...</td>\n",
       "      <td>Provide bat boxes for roosting batsA replicate...</td>\n",
       "      <td>relevant</td>\n",
       "      <td>[Bats]</td>\n",
       "    </tr>\n",
       "    <tr>\n",
       "      <th>3</th>\n",
       "      <td>http://wvumedicine.org/princeton/wp-content/up...</td>\n",
       "      <td>February 2023 Rowena Chambers, MD, Retires Aft...</td>\n",
       "      <td>irrelevant</td>\n",
       "      <td>[]</td>\n",
       "    </tr>\n",
       "    <tr>\n",
       "      <th>4</th>\n",
       "      <td>https://worldbicyclerelief.org/wp-content/uplo...</td>\n",
       "      <td>2023 IMPACT REPORT Dear Friends, We’re thrille...</td>\n",
       "      <td>irrelevant</td>\n",
       "      <td>[]</td>\n",
       "    </tr>\n",
       "  </tbody>\n",
       "</table>\n",
       "</div>"
      ],
      "text/plain": [
       "                                                 url  \\\n",
       "0  https://www.armorysupply.pe/wp-content/uploads...   \n",
       "1  https://www.delltechnologies.com/asset/en-my/p...   \n",
       "2  https://www.conservationevidence.com/individua...   \n",
       "3  http://wvumedicine.org/princeton/wp-content/up...   \n",
       "4  https://worldbicyclerelief.org/wp-content/uplo...   \n",
       "\n",
       "                                                text   relevance multiclasses  \n",
       "0  Safety & Instruction Manual ® ™ M&P M2.0 PISTO...  irrelevant           []  \n",
       "1  ANALYST BRIEF Sponsored by: Dell Investment in...  irrelevant           []  \n",
       "2  Provide bat boxes for roosting batsA replicate...    relevant       [Bats]  \n",
       "3  February 2023 Rowena Chambers, MD, Retires Aft...  irrelevant           []  \n",
       "4  2023 IMPACT REPORT Dear Friends, We’re thrille...  irrelevant           []  "
      ]
     },
     "execution_count": 5,
     "metadata": {},
     "output_type": "execute_result"
    }
   ],
   "source": [
    "trainData.head()"
   ]
  },
  {
   "cell_type": "code",
   "execution_count": 6,
   "metadata": {},
   "outputs": [
    {
     "name": "stdout",
     "output_type": "stream",
     "text": [
      "Estimated time to train on full dataset:  516.8112  seconds\n",
      "Vectorizing complete.\n",
      "Training complete.\n"
     ]
    }
   ],
   "source": [
    "from cuML_LogisticRegressionClassifier import LogisticRegressionClassifier\n",
    "\n",
    "logistic = LogisticRegressionClassifier()\n",
    "\n",
    "\n",
    "start = time()\n",
    "\n",
    "logistic.train(trainData)\n",
    "\n",
    "end = time()"
   ]
  },
  {
   "cell_type": "code",
   "execution_count": 7,
   "metadata": {},
   "outputs": [
    {
     "name": "stdout",
     "output_type": "stream",
     "text": [
      "\n",
      "\n",
      "Training time:  57.01621961593628  seconds\n",
      "\n",
      "Files processed per second: 270.57213024498884\n"
     ]
    }
   ],
   "source": [
    "print(f'\\n\\nTraining time on {len(trainData)} articles: ', end-start, ' seconds')\n",
    "print(f'\\nFiles processed per second: {len(trainData) / (end-start)}')"
   ]
  },
  {
   "cell_type": "code",
   "execution_count": 8,
   "metadata": {},
   "outputs": [],
   "source": [
    "def evaluate(classifier):\n",
    "    predYBools, predYProbabilities = classifier.predict_threshold(testData, threshold=0.5)\n",
    "    trueYInts = (testData['relevance']=='relevant').astype('int32').to_numpy()\n",
    "    predYBools = predYBools.get()\n",
    "    predYProbabilities = predYProbabilities.get()\n",
    "\n",
    "    return trueYInts, predYBools, predYProbabilities\n"
   ]
  },
  {
   "cell_type": "code",
   "execution_count": 9,
   "metadata": {},
   "outputs": [],
   "source": [
    "start = time()\n",
    "\n",
    "trueYInts, predYBools, predYProbabilities = evaluate(logistic)\n",
    "\n",
    "end = time()\n"
   ]
  },
  {
   "cell_type": "code",
   "execution_count": 10,
   "metadata": {},
   "outputs": [
    {
     "name": "stdout",
     "output_type": "stream",
     "text": [
      "\n",
      "\n",
      "Training time on 15427 articles:  51.451972007751465  seconds\n",
      "\n",
      "Files processed per second: 299.8330170450193\n"
     ]
    }
   ],
   "source": [
    "print(f'\\n\\nPrediction time on {len(trainData)} articles: ', end-start, ' seconds')\n",
    "print(f'\\nFiles processed per second: {len(trainData) / (end-start)}')"
   ]
  },
  {
   "cell_type": "markdown",
   "metadata": {},
   "source": [
    "#### Switch back to Pandas and Numpy below\n",
    "The bulk of computation is in training and evaluation; we can do metrics on CPU."
   ]
  },
  {
   "cell_type": "code",
   "execution_count": 11,
   "metadata": {},
   "outputs": [],
   "source": [
    "from sklearn.metrics import accuracy_score, confusion_matrix, f1_score, precision_score\n",
    "\n",
    "def calculate_metrics(trueYInts, predYBools, predYProbabilities):\n",
    "    return {\n",
    "            \"accuracy\": accuracy_score(trueYInts, predYBools),\n",
    "            \"f1\": f1_score(trueYInts, predYBools, average='macro',zero_division=0),\n",
    "            \"precision\": precision_score(trueYInts, predYBools, average='macro',zero_division=0),\n",
    "            \"confusion_matrix\": confusion_matrix(trueYInts, predYBools),\n",
    "            \"predictions\": logistic.boolPredictionsToLabels(predYBools.astype('bool').astype(f'<U{len(\"irrelevant\")}')),\n",
    "            \"probabilities\": predYProbabilities[:,1]\n",
    "        }\n",
    "\n",
    "# need the f'<U{len(\"irrelevant\")}' to ensure the strings don't get\n",
    "# truncated to the same length as 'False'\n",
    "# so we set the max length to the length of 'irrelevant'\n",
    "\n",
    "def format_output(results):\n",
    "    print(f\"Accuracy: {results['accuracy']} \\t F1: {results['f1']} \\t Precision: {results['precision']} \\t\")\n",
    "    print(\"\\n\\n\")"
   ]
  },
  {
   "cell_type": "code",
   "execution_count": 12,
   "metadata": {},
   "outputs": [
    {
     "name": "stdout",
     "output_type": "stream",
     "text": [
      "Accuracy: 0.9955924293492352 \t F1: 0.9955420557399066 \t Precision: 0.9958543344648229 \t\n",
      "\n",
      "\n",
      "\n"
     ]
    }
   ],
   "source": [
    "results = calculate_metrics(trueYInts, predYBools.astype('int32'), predYProbabilities)\n",
    "\n",
    "format_output(results)"
   ]
  },
  {
   "cell_type": "code",
   "execution_count": 13,
   "metadata": {},
   "outputs": [],
   "source": [
    "testData = testData.to_pandas()"
   ]
  },
  {
   "cell_type": "code",
   "execution_count": 14,
   "metadata": {},
   "outputs": [],
   "source": [
    "testData['predictions'] = results['predictions']\n",
    "testData['score'] = results['probabilities']"
   ]
  },
  {
   "cell_type": "code",
   "execution_count": 15,
   "metadata": {},
   "outputs": [
    {
     "name": "stdout",
     "output_type": "stream",
     "text": [
      "<class 'pandas.core.frame.DataFrame'>\n",
      "RangeIndex: 3857 entries, 15427 to 19283\n",
      "Data columns (total 6 columns):\n",
      " #   Column        Non-Null Count  Dtype  \n",
      "---  ------        --------------  -----  \n",
      " 0   url           3857 non-null   object \n",
      " 1   text          3857 non-null   object \n",
      " 2   relevance     3857 non-null   object \n",
      " 3   multiclasses  3857 non-null   object \n",
      " 4   predictions   3857 non-null   object \n",
      " 5   score         3857 non-null   float64\n",
      "dtypes: float64(1), object(5)\n",
      "memory usage: 180.9+ KB\n"
     ]
    },
    {
     "data": {
      "text/html": [
       "<div>\n",
       "<style scoped>\n",
       "    .dataframe tbody tr th:only-of-type {\n",
       "        vertical-align: middle;\n",
       "    }\n",
       "\n",
       "    .dataframe tbody tr th {\n",
       "        vertical-align: top;\n",
       "    }\n",
       "\n",
       "    .dataframe thead th {\n",
       "        text-align: right;\n",
       "    }\n",
       "</style>\n",
       "<table border=\"1\" class=\"dataframe\">\n",
       "  <thead>\n",
       "    <tr style=\"text-align: right;\">\n",
       "      <th></th>\n",
       "      <th>url</th>\n",
       "      <th>text</th>\n",
       "      <th>relevance</th>\n",
       "      <th>multiclasses</th>\n",
       "      <th>predictions</th>\n",
       "      <th>score</th>\n",
       "    </tr>\n",
       "  </thead>\n",
       "  <tbody>\n",
       "    <tr>\n",
       "      <th>15427</th>\n",
       "      <td>https://www.conservationevidence.com/individua...</td>\n",
       "      <td>Log/remove trees within forests: effects on ma...</td>\n",
       "      <td>relevant</td>\n",
       "      <td>[Forests]</td>\n",
       "      <td>relevant</td>\n",
       "      <td>0.996308</td>\n",
       "    </tr>\n",
       "    <tr>\n",
       "      <th>15428</th>\n",
       "      <td>https://www.conservationevidence.com/individua...</td>\n",
       "      <td>Use wildlife refuges to reduce hunting impacts...</td>\n",
       "      <td>relevant</td>\n",
       "      <td>[Mammals]</td>\n",
       "      <td>relevant</td>\n",
       "      <td>0.988396</td>\n",
       "    </tr>\n",
       "    <tr>\n",
       "      <th>15429</th>\n",
       "      <td>https://www.dbs.com/iwov-resources/pdf/hongkon...</td>\n",
       "      <td>星 展 銀 行（ 香 港 ）有 限 公 司 DBS BANK (HONG KONG) LIM...</td>\n",
       "      <td>irrelevant</td>\n",
       "      <td>[]</td>\n",
       "      <td>irrelevant</td>\n",
       "      <td>0.010260</td>\n",
       "    </tr>\n",
       "    <tr>\n",
       "      <th>15430</th>\n",
       "      <td>http://dazzlechocolate.com/assets/press/2007.0...</td>\n",
       "      <td>. i keiayaan jmdl berjmym u\"lsmkawffrl bmngk$t...</td>\n",
       "      <td>irrelevant</td>\n",
       "      <td>[]</td>\n",
       "      <td>irrelevant</td>\n",
       "      <td>0.075592</td>\n",
       "    </tr>\n",
       "    <tr>\n",
       "      <th>15431</th>\n",
       "      <td>https://www.conservationevidence.com/individua...</td>\n",
       "      <td>A replicated controlled study of 440 gardens a...</td>\n",
       "      <td>relevant</td>\n",
       "      <td>[Birds]</td>\n",
       "      <td>relevant</td>\n",
       "      <td>0.987349</td>\n",
       "    </tr>\n",
       "  </tbody>\n",
       "</table>\n",
       "</div>"
      ],
      "text/plain": [
       "                                                     url  \\\n",
       "15427  https://www.conservationevidence.com/individua...   \n",
       "15428  https://www.conservationevidence.com/individua...   \n",
       "15429  https://www.dbs.com/iwov-resources/pdf/hongkon...   \n",
       "15430  http://dazzlechocolate.com/assets/press/2007.0...   \n",
       "15431  https://www.conservationevidence.com/individua...   \n",
       "\n",
       "                                                    text   relevance  \\\n",
       "15427  Log/remove trees within forests: effects on ma...    relevant   \n",
       "15428  Use wildlife refuges to reduce hunting impacts...    relevant   \n",
       "15429  星 展 銀 行（ 香 港 ）有 限 公 司 DBS BANK (HONG KONG) LIM...  irrelevant   \n",
       "15430  . i keiayaan jmdl berjmym u\"lsmkawffrl bmngk$t...  irrelevant   \n",
       "15431  A replicated controlled study of 440 gardens a...    relevant   \n",
       "\n",
       "      multiclasses predictions     score  \n",
       "15427    [Forests]    relevant  0.996308  \n",
       "15428    [Mammals]    relevant  0.988396  \n",
       "15429           []  irrelevant  0.010260  \n",
       "15430           []  irrelevant  0.075592  \n",
       "15431      [Birds]    relevant  0.987349  "
      ]
     },
     "execution_count": 15,
     "metadata": {},
     "output_type": "execute_result"
    }
   ],
   "source": [
    "testData.info()\n",
    "testData.head()"
   ]
  },
  {
   "cell_type": "code",
   "execution_count": 16,
   "metadata": {},
   "outputs": [
    {
     "data": {
      "image/png": "[encoded data removed]",
      "text/plain": [
       "<Figure size 2000x500 with 2 Axes>"
      ]
     },
     "metadata": {},
     "output_type": "display_data"
    }
   ],
   "source": [
    "import matplotlib.pyplot as plt\n",
    "from sklearn.metrics import confusion_matrix, ConfusionMatrixDisplay\n",
    "\n",
    "fig, axs = plt.subplots(1, 1, figsize=(20, 5))\n",
    "\n",
    "\n",
    "confusion = confusion_matrix(testData['relevance'], testData['predictions'])\n",
    "disp = ConfusionMatrixDisplay(confusion_matrix=confusion)\n",
    "disp.plot(ax=axs, cmap='plasma')\n",
    "\n",
    "plt.show()\n",
    "\n"
   ]
  },
  {
   "cell_type": "code",
   "execution_count": 17,
   "metadata": {},
   "outputs": [
    {
     "data": {
      "image/png": "[encoded data removed]",
      "text/plain": [
       "<Figure size 2000x500 with 1 Axes>"
      ]
     },
     "metadata": {},
     "output_type": "display_data"
    }
   ],
   "source": [
    "from sklearn.metrics import precision_recall_curve, PrecisionRecallDisplay\n",
    "\n",
    "precision, recall, thresholds = precision_recall_curve(trueYInts, predYProbabilities[:,1])\n",
    "\n",
    "fig, axs = plt.subplots(1, 1, figsize=(20, 5))\n",
    "\n",
    "disp = PrecisionRecallDisplay(precision=precision, recall=recall)\n",
    "disp.plot(ax=axs)\n",
    "\n",
    "plt.show()\n"
   ]
  },
  {
   "cell_type": "code",
   "execution_count": 18,
   "metadata": {},
   "outputs": [],
   "source": [
    "# save logistic regression model\n",
    "\n",
    "import pickle\n",
    "import os\n",
    "\n",
    "if len(data) <= 15000:\n",
    "    path = 'models/dev/LogisticRegression.pkl'\n",
    "else:\n",
    "    path = 'models/LogisticRegression.pkl'\n",
    "\n",
    "with open(path, 'wb') as f:\n",
    "    pickle.dump(logistic, f)\n",
    "\n"
   ]
  }
 ],
 "metadata": {
  "kernelspec": {
   "display_name": "grey-literature-classification-bv5LGFdB",
   "language": "python",
   "name": "python3"
  },
  "language_info": {
   "codemirror_mode": {
    "name": "ipython",
    "version": 3
   },
   "file_extension": ".py",
   "mimetype": "text/x-python",
   "name": "python",
   "nbconvert_exporter": "python",
   "pygments_lexer": "ipython3",
   "version": "3.10.12"
  }
 },
 "nbformat": 4,
 "nbformat_minor": 2
}
