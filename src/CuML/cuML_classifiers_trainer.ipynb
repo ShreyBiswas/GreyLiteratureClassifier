{
 "cells": [
  {
   "cell_type": "code",
   "execution_count": 1,
   "metadata": {},
   "outputs": [],
   "source": [
    "# import pandas as pd\n",
    "import cudf as pd\n",
    "from tqdm.auto import tqdm\n",
    "tqdm.pandas()"
   ]
  },
  {
   "cell_type": "code",
   "execution_count": 2,
   "metadata": {},
   "outputs": [
    {
     "name": "stdout",
     "output_type": "stream",
     "text": [
      "Loading data...\n"
     ]
    },
    {
     "name": "stderr",
     "output_type": "stream",
     "text": [
      "/workspace/GreyLit/venv/lib/python3.10/site-packages/cudf/io/json.py:108: UserWarning: Using CPU via Pandas to read JSON dataset, this may be GPU accelerated in the future\n",
      "  warnings.warn(\n"
     ]
    },
    {
     "name": "stdout",
     "output_type": "stream",
     "text": [
      "Data loaded.\n",
      "<class 'cudf.core.dataframe.DataFrame'>\n",
      "RangeIndex: 19284 entries, 0 to 19283\n",
      "Data columns (total 4 columns):\n",
      " #   Column        Non-Null Count  Dtype\n",
      "---  ------        --------------  -----\n",
      " 0   url           19284 non-null  object\n",
      " 1   text          19284 non-null  object\n",
      " 2   relevance     19284 non-null  object\n",
      " 3   multiclasses  19284 non-null  list\n",
      "dtypes: list(1), object(3)\n",
      "memory usage: 1.3+ GB\n"
     ]
    },
    {
     "data": {
      "text/html": [
       "<div>\n",
       "<style scoped>\n",
       "    .dataframe tbody tr th:only-of-type {\n",
       "        vertical-align: middle;\n",
       "    }\n",
       "\n",
       "    .dataframe tbody tr th {\n",
       "        vertical-align: top;\n",
       "    }\n",
       "\n",
       "    .dataframe thead th {\n",
       "        text-align: right;\n",
       "    }\n",
       "</style>\n",
       "<table border=\"1\" class=\"dataframe\">\n",
       "  <thead>\n",
       "    <tr style=\"text-align: right;\">\n",
       "      <th></th>\n",
       "      <th>url</th>\n",
       "      <th>text</th>\n",
       "      <th>relevance</th>\n",
       "      <th>multiclasses</th>\n",
       "    </tr>\n",
       "  </thead>\n",
       "  <tbody>\n",
       "    <tr>\n",
       "      <th>0</th>\n",
       "      <td>https://www.wetlands.org/publications/global-o...</td>\n",
       "      <td>\\n\\n\\n\\n\\n\\n\\n\\n\\n\\n\\n\\n\\n\\n\\n\\n\\n\\n\\n\\n\\n\\n\\n...</td>\n",
       "      <td>relevant</td>\n",
       "      <td>[Birds]</td>\n",
       "    </tr>\n",
       "    <tr>\n",
       "      <th>1</th>\n",
       "      <td>https://www.osinergmin.gob.pe/seccion/centro_d...</td>\n",
       "      <td>Guía para la ade en el Decreto S establecidas ...</td>\n",
       "      <td>irrelevant</td>\n",
       "      <td>[]</td>\n",
       "    </tr>\n",
       "    <tr>\n",
       "      <th>2</th>\n",
       "      <td>https://www.bantaykita.ph/uploads/2/9/9/2/2992...</td>\n",
       "      <td>subnational primer: caraga region transparency...</td>\n",
       "      <td>irrelevant</td>\n",
       "      <td>[]</td>\n",
       "    </tr>\n",
       "    <tr>\n",
       "      <th>3</th>\n",
       "      <td>https://vamaurienne.ovh/wp-content/uploads/201...</td>\n",
       "      <td>N° 610 SÉNAT SESSION EXTRAORDINAIRE DE 2014-20...</td>\n",
       "      <td>irrelevant</td>\n",
       "      <td>[]</td>\n",
       "    </tr>\n",
       "    <tr>\n",
       "      <th>4</th>\n",
       "      <td>http://ftpmirror.your.org/pub/misc/bitsavers/p...</td>\n",
       "      <td>LIQUID INK ACCESSORY KITS BALLPOINT PEN ACCESS...</td>\n",
       "      <td>irrelevant</td>\n",
       "      <td>[]</td>\n",
       "    </tr>\n",
       "  </tbody>\n",
       "</table>\n",
       "</div>"
      ],
      "text/plain": [
       "                                                 url  \\\n",
       "0  https://www.wetlands.org/publications/global-o...   \n",
       "1  https://www.osinergmin.gob.pe/seccion/centro_d...   \n",
       "2  https://www.bantaykita.ph/uploads/2/9/9/2/2992...   \n",
       "3  https://vamaurienne.ovh/wp-content/uploads/201...   \n",
       "4  http://ftpmirror.your.org/pub/misc/bitsavers/p...   \n",
       "\n",
       "                                                text   relevance multiclasses  \n",
       "0  \\n\\n\\n\\n\\n\\n\\n\\n\\n\\n\\n\\n\\n\\n\\n\\n\\n\\n\\n\\n\\n\\n\\n...    relevant      [Birds]  \n",
       "1  Guía para la ade en el Decreto S establecidas ...  irrelevant           []  \n",
       "2  subnational primer: caraga region transparency...  irrelevant           []  \n",
       "3  N° 610 SÉNAT SESSION EXTRAORDINAIRE DE 2014-20...  irrelevant           []  \n",
       "4  LIQUID INK ACCESSORY KITS BALLPOINT PEN ACCESS...  irrelevant           []  "
      ]
     },
     "execution_count": 2,
     "metadata": {},
     "output_type": "execute_result"
    }
   ],
   "source": [
    "def import_labelled_data(path=\"data/labelled/data.json\"):\n",
    "    data = pd.read_json(path, encoding=\"latin-1\")\n",
    "    return data\n",
    "\n",
    "\n",
    "print(\"Loading data...\")\n",
    "\n",
    "data = import_labelled_data(\n",
    "    path=\"../../data/level-0.5/data.json\"\n",
    ")\n",
    "\n",
    "print(\"Data loaded.\")\n",
    "\n",
    "\n",
    "# data = data.sample(2500)\n",
    "\n",
    "data = data.sample(frac=1).reset_index(drop=True)\n",
    "\n",
    "data.info()\n",
    "data.head()"
   ]
  },
  {
   "cell_type": "code",
   "execution_count": 3,
   "metadata": {},
   "outputs": [],
   "source": [
    "def train_test_split(x, y=None, test_size=0.2,shuffle=False):\n",
    "    if shuffle:\n",
    "        x = x.sample(frac=1).reset_index(drop=True)\n",
    "    split = int(len(x) * (1 - test_size))\n",
    "    xTrain, xTest = x.iloc[:split], x.iloc[split:]\n",
    "    if y is not None:\n",
    "        yTrain, yTest = y.iloc[:split], y.iloc[split:]\n",
    "        return xTrain, xTest, yTrain, yTest\n",
    "    return xTrain, xTest\n",
    "\n",
    "\n",
    "trainData, testData = train_test_split(data, test_size=0.2) # already shuffled above"
   ]
  },
  {
   "cell_type": "code",
   "execution_count": 4,
   "metadata": {},
   "outputs": [
    {
     "data": {
      "text/html": [
       "<div>\n",
       "<style scoped>\n",
       "    .dataframe tbody tr th:only-of-type {\n",
       "        vertical-align: middle;\n",
       "    }\n",
       "\n",
       "    .dataframe tbody tr th {\n",
       "        vertical-align: top;\n",
       "    }\n",
       "\n",
       "    .dataframe thead th {\n",
       "        text-align: right;\n",
       "    }\n",
       "</style>\n",
       "<table border=\"1\" class=\"dataframe\">\n",
       "  <thead>\n",
       "    <tr style=\"text-align: right;\">\n",
       "      <th></th>\n",
       "      <th>url</th>\n",
       "      <th>text</th>\n",
       "      <th>relevance</th>\n",
       "      <th>multiclasses</th>\n",
       "    </tr>\n",
       "  </thead>\n",
       "  <tbody>\n",
       "    <tr>\n",
       "      <th>0</th>\n",
       "      <td>https://www.wetlands.org/publications/global-o...</td>\n",
       "      <td>\\n\\n\\n\\n\\n\\n\\n\\n\\n\\n\\n\\n\\n\\n\\n\\n\\n\\n\\n\\n\\n\\n\\n...</td>\n",
       "      <td>relevant</td>\n",
       "      <td>[Birds]</td>\n",
       "    </tr>\n",
       "    <tr>\n",
       "      <th>1</th>\n",
       "      <td>https://www.osinergmin.gob.pe/seccion/centro_d...</td>\n",
       "      <td>Guía para la ade en el Decreto S establecidas ...</td>\n",
       "      <td>irrelevant</td>\n",
       "      <td>[]</td>\n",
       "    </tr>\n",
       "    <tr>\n",
       "      <th>2</th>\n",
       "      <td>https://www.bantaykita.ph/uploads/2/9/9/2/2992...</td>\n",
       "      <td>subnational primer: caraga region transparency...</td>\n",
       "      <td>irrelevant</td>\n",
       "      <td>[]</td>\n",
       "    </tr>\n",
       "    <tr>\n",
       "      <th>3</th>\n",
       "      <td>https://vamaurienne.ovh/wp-content/uploads/201...</td>\n",
       "      <td>N° 610 SÉNAT SESSION EXTRAORDINAIRE DE 2014-20...</td>\n",
       "      <td>irrelevant</td>\n",
       "      <td>[]</td>\n",
       "    </tr>\n",
       "    <tr>\n",
       "      <th>4</th>\n",
       "      <td>http://ftpmirror.your.org/pub/misc/bitsavers/p...</td>\n",
       "      <td>LIQUID INK ACCESSORY KITS BALLPOINT PEN ACCESS...</td>\n",
       "      <td>irrelevant</td>\n",
       "      <td>[]</td>\n",
       "    </tr>\n",
       "  </tbody>\n",
       "</table>\n",
       "</div>"
      ],
      "text/plain": [
       "                                                 url  \\\n",
       "0  https://www.wetlands.org/publications/global-o...   \n",
       "1  https://www.osinergmin.gob.pe/seccion/centro_d...   \n",
       "2  https://www.bantaykita.ph/uploads/2/9/9/2/2992...   \n",
       "3  https://vamaurienne.ovh/wp-content/uploads/201...   \n",
       "4  http://ftpmirror.your.org/pub/misc/bitsavers/p...   \n",
       "\n",
       "                                                text   relevance multiclasses  \n",
       "0  \\n\\n\\n\\n\\n\\n\\n\\n\\n\\n\\n\\n\\n\\n\\n\\n\\n\\n\\n\\n\\n\\n\\n...    relevant      [Birds]  \n",
       "1  Guía para la ade en el Decreto S establecidas ...  irrelevant           []  \n",
       "2  subnational primer: caraga region transparency...  irrelevant           []  \n",
       "3  N° 610 SÉNAT SESSION EXTRAORDINAIRE DE 2014-20...  irrelevant           []  \n",
       "4  LIQUID INK ACCESSORY KITS BALLPOINT PEN ACCESS...  irrelevant           []  "
      ]
     },
     "execution_count": 4,
     "metadata": {},
     "output_type": "execute_result"
    }
   ],
   "source": [
    "trainData.head()"
   ]
  },
  {
   "cell_type": "code",
   "execution_count": 5,
   "metadata": {},
   "outputs": [
    {
     "name": "stdout",
     "output_type": "stream",
     "text": [
      "Estimated time to train on full dataset:  516.8112  seconds\n",
      "Vectorizing complete.\n",
      "Training complete.\n"
     ]
    }
   ],
   "source": [
    "from cuML_LogisticRegressionClassifier import LogisticRegressionClassifier\n",
    "\n",
    "# Vectorization on 2500 articles takes roughly 1m 7s\n",
    "# Training is instant\n",
    "\n",
    "print('Estimated time to train on full dataset: ', 67 / 2500 * len(data), ' seconds')\n",
    "\n",
    "# 1min 0.9s for all 19284 articles\n",
    "\n",
    "logistic = LogisticRegressionClassifier()\n",
    "logistic.train(trainData)"
   ]
  },
  {
   "cell_type": "code",
   "execution_count": 6,
   "metadata": {},
   "outputs": [
    {
     "name": "stdout",
     "output_type": "stream",
     "text": [
      "Estimated articles processed per second:  75.62745098039215\n",
      "Estimated time to predict on 3857 articles:  51.0  seconds\n"
     ]
    }
   ],
   "source": [
    "def eval(classifier):\n",
    "    predYBools, predYProbabilities = classifier.predict_threshold(testData, threshold=0.5)\n",
    "    trueYInts = (testData['relevance']=='relevant').astype('int32').to_numpy()\n",
    "    predYBools = predYBools.get()\n",
    "    predYProbabilities = predYProbabilities.get()\n",
    "\n",
    "    return trueYInts, predYBools, predYProbabilities\n",
    "\n",
    "print('Estimated articles processed per second: ', 3857 / 51)\n",
    "print(f'Estimated time to predict on {len(testData)} articles: ', 51 / 3857 * len(testData), ' seconds')"
   ]
  },
  {
   "cell_type": "code",
   "execution_count": 7,
   "metadata": {},
   "outputs": [],
   "source": [
    "# 1m 1s for 2500 articles\n",
    "\n",
    "trueYInts, predYBools, predYProbabilities = eval(logistic)\n"
   ]
  },
  {
   "cell_type": "markdown",
   "metadata": {},
   "source": [
    "#### Switch back to Pandas and Numpy below\n",
    "The bulk of computation is in training and evaluation; we can do metrics on CPU."
   ]
  },
  {
   "cell_type": "code",
   "execution_count": 23,
   "metadata": {},
   "outputs": [],
   "source": [
    "from sklearn.metrics import accuracy_score, confusion_matrix, f1_score, precision_score\n",
    "\n",
    "def calculate_metrics(trueYInts, predYBools, predYProbabilities):\n",
    "    return {\n",
    "            \"accuracy\": accuracy_score(trueYInts, predYBools),\n",
    "            \"f1\": f1_score(trueYInts, predYBools, average='macro',zero_division=0),\n",
    "            \"precision\": precision_score(trueYInts, predYBools, average='macro',zero_division=0),\n",
    "            \"confusion_matrix\": confusion_matrix(trueYInts, predYBools),\n",
    "            \"predictions\": logistic.boolPredictionsToLabels(predYBools.astype('bool').astype(f'<U{len(\"irrelevant\")}')),\n",
    "            \"probabilities\": predYProbabilities[:,1]\n",
    "        }\n",
    "\n",
    "# need the f'<U{len(\"irrelevant\")}' to ensure the strings don't get\n",
    "# truncated to the same length as 'False'\n",
    "# so we set the max length to the length of 'irrelevant'\n",
    "\n",
    "def format_output(results):\n",
    "    print(f\"Accuracy: {results['accuracy']} \\t F1: {results['f1']} \\t Precision: {results['precision']} \\t\")\n",
    "    print(\"\\n\\n\")"
   ]
  },
  {
   "cell_type": "code",
   "execution_count": 25,
   "metadata": {},
   "outputs": [
    {
     "name": "stdout",
     "output_type": "stream",
     "text": [
      "Accuracy: 0.9929997407311382 \t F1: 0.9929493716830533 \t Precision: 0.9932437888543788 \t\n",
      "\n",
      "\n",
      "\n"
     ]
    }
   ],
   "source": [
    "results = calculate_metrics(trueYInts, predYBools.astype('int32'), predYProbabilities)\n",
    "\n",
    "format_output(results)"
   ]
  },
  {
   "cell_type": "code",
   "execution_count": 26,
   "metadata": {},
   "outputs": [
    {
     "ename": "AttributeError",
     "evalue": "'DataFrame' object has no attribute 'to_pandas'",
     "output_type": "error",
     "traceback": [
      "\u001b[0;31m---------------------------------------------------------------------------\u001b[0m",
      "\u001b[0;31mAttributeError\u001b[0m                            Traceback (most recent call last)",
      "Cell \u001b[0;32mIn[26], line 1\u001b[0m\n\u001b[0;32m----> 1\u001b[0m testData \u001b[38;5;241m=\u001b[39m \u001b[43mtestData\u001b[49m\u001b[38;5;241;43m.\u001b[39;49m\u001b[43mto_pandas\u001b[49m()\n",
      "File \u001b[0;32m/workspace/GreyLit/venv/lib/python3.10/site-packages/pandas/core/generic.py:6299\u001b[0m, in \u001b[0;36mNDFrame.__getattr__\u001b[0;34m(self, name)\u001b[0m\n\u001b[1;32m   6292\u001b[0m \u001b[38;5;28;01mif\u001b[39;00m (\n\u001b[1;32m   6293\u001b[0m     name \u001b[38;5;129;01mnot\u001b[39;00m \u001b[38;5;129;01min\u001b[39;00m \u001b[38;5;28mself\u001b[39m\u001b[38;5;241m.\u001b[39m_internal_names_set\n\u001b[1;32m   6294\u001b[0m     \u001b[38;5;129;01mand\u001b[39;00m name \u001b[38;5;129;01mnot\u001b[39;00m \u001b[38;5;129;01min\u001b[39;00m \u001b[38;5;28mself\u001b[39m\u001b[38;5;241m.\u001b[39m_metadata\n\u001b[1;32m   6295\u001b[0m     \u001b[38;5;129;01mand\u001b[39;00m name \u001b[38;5;129;01mnot\u001b[39;00m \u001b[38;5;129;01min\u001b[39;00m \u001b[38;5;28mself\u001b[39m\u001b[38;5;241m.\u001b[39m_accessors\n\u001b[1;32m   6296\u001b[0m     \u001b[38;5;129;01mand\u001b[39;00m \u001b[38;5;28mself\u001b[39m\u001b[38;5;241m.\u001b[39m_info_axis\u001b[38;5;241m.\u001b[39m_can_hold_identifiers_and_holds_name(name)\n\u001b[1;32m   6297\u001b[0m ):\n\u001b[1;32m   6298\u001b[0m     \u001b[38;5;28;01mreturn\u001b[39;00m \u001b[38;5;28mself\u001b[39m[name]\n\u001b[0;32m-> 6299\u001b[0m \u001b[38;5;28;01mreturn\u001b[39;00m \u001b[38;5;28;43mobject\u001b[39;49m\u001b[38;5;241;43m.\u001b[39;49m\u001b[38;5;21;43m__getattribute__\u001b[39;49m\u001b[43m(\u001b[49m\u001b[38;5;28;43mself\u001b[39;49m\u001b[43m,\u001b[49m\u001b[43m \u001b[49m\u001b[43mname\u001b[49m\u001b[43m)\u001b[49m\n",
      "\u001b[0;31mAttributeError\u001b[0m: 'DataFrame' object has no attribute 'to_pandas'"
     ]
    }
   ],
   "source": [
    "testData = testData.to_pandas()"
   ]
  },
  {
   "cell_type": "code",
   "execution_count": 27,
   "metadata": {},
   "outputs": [],
   "source": [
    "testData['predictions'] = results['predictions']\n",
    "testData['score'] = results['probabilities']"
   ]
  },
  {
   "cell_type": "code",
   "execution_count": 34,
   "metadata": {},
   "outputs": [
    {
     "name": "stdout",
     "output_type": "stream",
     "text": [
      "<class 'pandas.core.frame.DataFrame'>\n",
      "RangeIndex: 3857 entries, 15427 to 19283\n",
      "Data columns (total 6 columns):\n",
      " #   Column        Non-Null Count  Dtype  \n",
      "---  ------        --------------  -----  \n",
      " 0   url           3857 non-null   object \n",
      " 1   text          3857 non-null   object \n",
      " 2   relevance     3857 non-null   object \n",
      " 3   multiclasses  3857 non-null   object \n",
      " 4   predictions   3857 non-null   object \n",
      " 5   score         3857 non-null   float64\n",
      "dtypes: float64(1), object(5)\n",
      "memory usage: 180.9+ KB\n"
     ]
    },
    {
     "data": {
      "text/html": [
       "<div>\n",
       "<style scoped>\n",
       "    .dataframe tbody tr th:only-of-type {\n",
       "        vertical-align: middle;\n",
       "    }\n",
       "\n",
       "    .dataframe tbody tr th {\n",
       "        vertical-align: top;\n",
       "    }\n",
       "\n",
       "    .dataframe thead th {\n",
       "        text-align: right;\n",
       "    }\n",
       "</style>\n",
       "<table border=\"1\" class=\"dataframe\">\n",
       "  <thead>\n",
       "    <tr style=\"text-align: right;\">\n",
       "      <th></th>\n",
       "      <th>url</th>\n",
       "      <th>text</th>\n",
       "      <th>relevance</th>\n",
       "      <th>multiclasses</th>\n",
       "      <th>predictions</th>\n",
       "      <th>score</th>\n",
       "    </tr>\n",
       "  </thead>\n",
       "  <tbody>\n",
       "    <tr>\n",
       "      <th>15427</th>\n",
       "      <td>https://vamaurienne.ovh/wp-content/uploads/201...</td>\n",
       "      <td>Santé environnement Impacts de l’exposition ch...</td>\n",
       "      <td>irrelevant</td>\n",
       "      <td>[]</td>\n",
       "      <td>irrelevant</td>\n",
       "      <td>0.010854</td>\n",
       "    </tr>\n",
       "    <tr>\n",
       "      <th>15428</th>\n",
       "      <td>https://budget.finance.go.ug/sites/default/fil...</td>\n",
       "      <td>LG Draft Budget Estimates 2024/25 VOTE: 844 Ka...</td>\n",
       "      <td>irrelevant</td>\n",
       "      <td>[]</td>\n",
       "      <td>irrelevant</td>\n",
       "      <td>0.011687</td>\n",
       "    </tr>\n",
       "    <tr>\n",
       "      <th>15429</th>\n",
       "      <td>https://www.conservationevidence.com/individua...</td>\n",
       "      <td>A replicated, site comparison study in 1992–20...</td>\n",
       "      <td>relevant</td>\n",
       "      <td>[Fish, Marine]</td>\n",
       "      <td>relevant</td>\n",
       "      <td>0.995776</td>\n",
       "    </tr>\n",
       "    <tr>\n",
       "      <th>15430</th>\n",
       "      <td>https://www.conservationevidence.com/individua...</td>\n",
       "      <td>A 2004 review (Nicoll et al. 2004) of the same...</td>\n",
       "      <td>relevant</td>\n",
       "      <td>[Birds]</td>\n",
       "      <td>relevant</td>\n",
       "      <td>0.986032</td>\n",
       "    </tr>\n",
       "    <tr>\n",
       "      <th>15431</th>\n",
       "      <td>https://www.wusv.org/fileadmin/Documents/Veran...</td>\n",
       "      <td>Global Dog deutsche schäferhunde - pastor alem...</td>\n",
       "      <td>irrelevant</td>\n",
       "      <td>[]</td>\n",
       "      <td>irrelevant</td>\n",
       "      <td>0.030982</td>\n",
       "    </tr>\n",
       "  </tbody>\n",
       "</table>\n",
       "</div>"
      ],
      "text/plain": [
       "                                                     url  \\\n",
       "15427  https://vamaurienne.ovh/wp-content/uploads/201...   \n",
       "15428  https://budget.finance.go.ug/sites/default/fil...   \n",
       "15429  https://www.conservationevidence.com/individua...   \n",
       "15430  https://www.conservationevidence.com/individua...   \n",
       "15431  https://www.wusv.org/fileadmin/Documents/Veran...   \n",
       "\n",
       "                                                    text   relevance  \\\n",
       "15427  Santé environnement Impacts de l’exposition ch...  irrelevant   \n",
       "15428  LG Draft Budget Estimates 2024/25 VOTE: 844 Ka...  irrelevant   \n",
       "15429  A replicated, site comparison study in 1992–20...    relevant   \n",
       "15430  A 2004 review (Nicoll et al. 2004) of the same...    relevant   \n",
       "15431  Global Dog deutsche schäferhunde - pastor alem...  irrelevant   \n",
       "\n",
       "         multiclasses predictions     score  \n",
       "15427              []  irrelevant  0.010854  \n",
       "15428              []  irrelevant  0.011687  \n",
       "15429  [Fish, Marine]    relevant  0.995776  \n",
       "15430         [Birds]    relevant  0.986032  \n",
       "15431              []  irrelevant  0.030982  "
      ]
     },
     "execution_count": 34,
     "metadata": {},
     "output_type": "execute_result"
    }
   ],
   "source": [
    "testData.info()\n",
    "testData.head()"
   ]
  },
  {
   "cell_type": "code",
   "execution_count": 30,
   "metadata": {},
   "outputs": [
    {
     "data": {
      "image/png": "[encoded data removed]",
      "text/plain": [
       "<Figure size 2000x500 with 2 Axes>"
      ]
     },
     "metadata": {},
     "output_type": "display_data"
    }
   ],
   "source": [
    "import matplotlib.pyplot as plt\n",
    "from sklearn.metrics import confusion_matrix, ConfusionMatrixDisplay\n",
    "\n",
    "fig, axs = plt.subplots(1, 1, figsize=(20, 5))\n",
    "\n",
    "\n",
    "confusion = confusion_matrix(testData['relevance'], testData['predictions'])\n",
    "disp = ConfusionMatrixDisplay(confusion_matrix=confusion)\n",
    "disp.plot(ax=axs, cmap='plasma')\n",
    "\n",
    "plt.show()\n",
    "\n"
   ]
  },
  {
   "cell_type": "code",
   "execution_count": 31,
   "metadata": {},
   "outputs": [
    {
     "data": {
      "image/png": "[encoded data removed]",
      "text/plain": [
       "<Figure size 2000x500 with 1 Axes>"
      ]
     },
     "metadata": {},
     "output_type": "display_data"
    }
   ],
   "source": [
    "from sklearn.metrics import precision_recall_curve, PrecisionRecallDisplay\n",
    "\n",
    "precision, recall, thresholds = precision_recall_curve(trueYInts, predYProbabilities[:,1])\n",
    "\n",
    "fig, axs = plt.subplots(1, 1, figsize=(20, 5))\n",
    "\n",
    "disp = PrecisionRecallDisplay(precision=precision, recall=recall)\n",
    "disp.plot(ax=axs)\n",
    "\n",
    "plt.show()\n"
   ]
  },
  {
   "cell_type": "code",
   "execution_count": 32,
   "metadata": {},
   "outputs": [],
   "source": [
    "# save logistic regression model\n",
    "\n",
    "import pickle\n",
    "import os\n",
    "\n",
    "if len(data) <= 15000:\n",
    "    path = 'models/dev/LogisticRegression.pkl'\n",
    "else:\n",
    "    path = 'models/LogisticRegression.pkl'\n",
    "\n",
    "with open(path, 'wb') as f:\n",
    "    pickle.dump(logistic, f)\n",
    "\n"
   ]
  }
 ],
 "metadata": {
  "kernelspec": {
   "display_name": "grey-literature-classification-bv5LGFdB",
   "language": "python",
   "name": "python3"
  },
  "language_info": {
   "codemirror_mode": {
    "name": "ipython",
    "version": 3
   },
   "file_extension": ".py",
   "mimetype": "text/x-python",
   "name": "python",
   "nbconvert_exporter": "python",
   "pygments_lexer": "ipython3",
   "version": "3.10.12"
  }
 },
 "nbformat": 4,
 "nbformat_minor": 2
}
