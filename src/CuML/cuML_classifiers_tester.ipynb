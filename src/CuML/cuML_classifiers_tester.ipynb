{
 "cells": [
  {
   "cell_type": "code",
   "execution_count": 1,
   "metadata": {},
   "outputs": [],
   "source": [
    "import cudf as pd\n",
    "from tqdm.auto import tqdm"
   ]
  },
  {
   "cell_type": "code",
   "execution_count": 2,
   "metadata": {},
   "outputs": [
    {
     "name": "stdout",
     "output_type": "stream",
     "text": [
      "Loading data...\n"
     ]
    },
    {
     "name": "stderr",
     "output_type": "stream",
     "text": [
      "/workspace/GreyLit/venv/lib/python3.10/site-packages/cudf/io/json.py:108: UserWarning: Using CPU via Pandas to read JSON dataset, this may be GPU accelerated in the future\n",
      "  warnings.warn(\n"
     ]
    },
    {
     "name": "stdout",
     "output_type": "stream",
     "text": [
      "Data loaded.\n",
      "<class 'cudf.core.dataframe.DataFrame'>\n",
      "RangeIndex: 10688 entries, 0 to 10687\n",
      "Data columns (total 4 columns):\n",
      " #   Column        Non-Null Count  Dtype\n",
      "---  ------        --------------  -----\n",
      " 0   url           10688 non-null  object\n",
      " 1   text          10688 non-null  object\n",
      " 2   relevance     10688 non-null  object\n",
      " 3   multiclasses  10688 non-null  list\n",
      "dtypes: list(1), object(3)\n",
      "memory usage: 1.3+ GB\n"
     ]
    },
    {
     "data": {
      "text/html": [
       "<div>\n",
       "<style scoped>\n",
       "    .dataframe tbody tr th:only-of-type {\n",
       "        vertical-align: middle;\n",
       "    }\n",
       "\n",
       "    .dataframe tbody tr th {\n",
       "        vertical-align: top;\n",
       "    }\n",
       "\n",
       "    .dataframe thead th {\n",
       "        text-align: right;\n",
       "    }\n",
       "</style>\n",
       "<table border=\"1\" class=\"dataframe\">\n",
       "  <thead>\n",
       "    <tr style=\"text-align: right;\">\n",
       "      <th></th>\n",
       "      <th>url</th>\n",
       "      <th>text</th>\n",
       "      <th>relevance</th>\n",
       "      <th>multiclasses</th>\n",
       "    </tr>\n",
       "  </thead>\n",
       "  <tbody>\n",
       "    <tr>\n",
       "      <th>0</th>\n",
       "      <td>https://www.bpi.com.ph/content/dam/regulatory-...</td>\n",
       "      <td>Ill s•curttlea . . . . . . . IIEAD 41 !Ill• ex...</td>\n",
       "      <td>irrelevant</td>\n",
       "      <td>[]</td>\n",
       "    </tr>\n",
       "    <tr>\n",
       "      <th>1</th>\n",
       "      <td>https://deadliestwebattacks.com/assets/devops-...</td>\n",
       "      <td>DevOps Is Automation, DevSecOps Is People Mike...</td>\n",
       "      <td>irrelevant</td>\n",
       "      <td>[]</td>\n",
       "    </tr>\n",
       "    <tr>\n",
       "      <th>2</th>\n",
       "      <td>https://zenodo.org/records/10679712/files/ELAI...</td>\n",
       "      <td>ELAION: ML-Based System for Olive Classiﬁcatio...</td>\n",
       "      <td>irrelevant</td>\n",
       "      <td>[]</td>\n",
       "    </tr>\n",
       "    <tr>\n",
       "      <th>3</th>\n",
       "      <td>http://wvumedicine.org/princeton/wp-content/up...</td>\n",
       "      <td>February 2023 Rowena Chambers, MD, Retires Aft...</td>\n",
       "      <td>irrelevant</td>\n",
       "      <td>[]</td>\n",
       "    </tr>\n",
       "    <tr>\n",
       "      <th>4</th>\n",
       "      <td>https://repositorio.unfv.edu.pe/bitstream/hand...</td>\n",
       "      <td>Vicerrectorado de INVESTIGACIÓN ESCUELA UNIVER...</td>\n",
       "      <td>irrelevant</td>\n",
       "      <td>[]</td>\n",
       "    </tr>\n",
       "  </tbody>\n",
       "</table>\n",
       "</div>"
      ],
      "text/plain": [
       "                                                 url  \\\n",
       "0  https://www.bpi.com.ph/content/dam/regulatory-...   \n",
       "1  https://deadliestwebattacks.com/assets/devops-...   \n",
       "2  https://zenodo.org/records/10679712/files/ELAI...   \n",
       "3  http://wvumedicine.org/princeton/wp-content/up...   \n",
       "4  https://repositorio.unfv.edu.pe/bitstream/hand...   \n",
       "\n",
       "                                                text   relevance multiclasses  \n",
       "0  Ill s•curttlea . . . . . . . IIEAD 41 !Ill• ex...  irrelevant           []  \n",
       "1  DevOps Is Automation, DevSecOps Is People Mike...  irrelevant           []  \n",
       "2  ELAION: ML-Based System for Olive Classiﬁcatio...  irrelevant           []  \n",
       "3  February 2023 Rowena Chambers, MD, Retires Aft...  irrelevant           []  \n",
       "4  Vicerrectorado de INVESTIGACIÓN ESCUELA UNIVER...  irrelevant           []  "
      ]
     },
     "execution_count": 2,
     "metadata": {},
     "output_type": "execute_result"
    }
   ],
   "source": [
    "def import_labelled_data(path=\"data/level-0.5/data.json\"):\n",
    "    data = pd.read_json(path, encoding=\"latin-1\")\n",
    "    return data\n",
    "\n",
    "\n",
    "\n",
    "print(\"Loading data...\")\n",
    "\n",
    "test_dataset = import_labelled_data(path=\"../../data/level-0.5/irrelevant.json\", )\n",
    "\n",
    "print(\"Data loaded.\")\n",
    "\n",
    "\n",
    "# test_dataset = test_dataset.sample(2500)\n",
    "\n",
    "test_dataset = test_dataset.sample(frac=1).reset_index(drop=True)\n",
    "\n",
    "\n",
    "test_dataset.info()\n",
    "test_dataset.head()"
   ]
  },
  {
   "cell_type": "code",
   "execution_count": 3,
   "metadata": {},
   "outputs": [],
   "source": [
    "from pickle import load\n",
    "\n",
    "with open('models/LogisticRegression.pkl', 'rb') as file:\n",
    "    classifier = load(file)"
   ]
  },
  {
   "cell_type": "code",
   "execution_count": 4,
   "metadata": {},
   "outputs": [
    {
     "name": "stdout",
     "output_type": "stream",
     "text": [
      "Estimated articles processed per second: 178.13333333333333\n",
      "Predicted time to predict 10688 articles: 60.0 seconds\n"
     ]
    }
   ],
   "source": [
    "# prediction on 10688 articles takes 1m 0.4s\n",
    "\n",
    "print(f'Estimated articles processed per second: {10688 / 60}')\n",
    "print(f'Predicted time to predict {len(test_dataset)} articles: {60 / 10688 *len(test_dataset)} seconds')\n",
    "\n",
    "predictions, probabilities = classifier.predict_threshold(test_dataset, threshold=0.5)"
   ]
  },
  {
   "cell_type": "code",
   "execution_count": 5,
   "metadata": {},
   "outputs": [],
   "source": [
    "\n",
    "test_dataset['score'] = probabilities.get()[:,1]\n",
    "test_dataset['prediction'] = classifier.boolPredictionsToLabels(predictions.get().astype(f'<U{len(\"irrelevant\")}'))\n",
    "\n",
    "test_dataset = test_dataset.sort_values(by='score', ascending=False)"
   ]
  },
  {
   "cell_type": "code",
   "execution_count": 9,
   "metadata": {},
   "outputs": [
    {
     "name": "stdout",
     "output_type": "stream",
     "text": [
      "<class 'cudf.core.dataframe.DataFrame'>\n",
      "Index: 10688 entries, 10117 to 848\n",
      "Data columns (total 6 columns):\n",
      " #   Column        Non-Null Count  Dtype\n",
      "---  ------        --------------  -----\n",
      " 0   url           10688 non-null  object\n",
      " 1   text          10688 non-null  object\n",
      " 2   relevance     10688 non-null  object\n",
      " 3   multiclasses  10688 non-null  list\n",
      " 4   score         10688 non-null  float64\n",
      " 5   prediction    10688 non-null  object\n",
      "dtypes: float64(1), list(1), object(4)\n",
      "memory usage: 1.3+ GB\n"
     ]
    },
    {
     "data": {
      "text/html": [
       "<div>\n",
       "<style scoped>\n",
       "    .dataframe tbody tr th:only-of-type {\n",
       "        vertical-align: middle;\n",
       "    }\n",
       "\n",
       "    .dataframe tbody tr th {\n",
       "        vertical-align: top;\n",
       "    }\n",
       "\n",
       "    .dataframe thead th {\n",
       "        text-align: right;\n",
       "    }\n",
       "</style>\n",
       "<table border=\"1\" class=\"dataframe\">\n",
       "  <thead>\n",
       "    <tr style=\"text-align: right;\">\n",
       "      <th></th>\n",
       "      <th>url</th>\n",
       "      <th>text</th>\n",
       "      <th>relevance</th>\n",
       "      <th>multiclasses</th>\n",
       "      <th>score</th>\n",
       "      <th>prediction</th>\n",
       "    </tr>\n",
       "  </thead>\n",
       "  <tbody>\n",
       "    <tr>\n",
       "      <th>10117</th>\n",
       "      <td>https://digitalarchive.worldfishcenter.org/bit...</td>\n",
       "      <td>MARINE ECOLOGY PROGRESS SERIES Vol. 588: 85–10...</td>\n",
       "      <td>irrelevant</td>\n",
       "      <td>[]</td>\n",
       "      <td>0.843850</td>\n",
       "      <td>relevant</td>\n",
       "    </tr>\n",
       "    <tr>\n",
       "      <th>8779</th>\n",
       "      <td>https://wsobirds.org/images/pdfs/BeyondBirdFee...</td>\n",
       "      <td>BEYOND THE BIRD FEEDER: Creating a Bird-Friend...</td>\n",
       "      <td>irrelevant</td>\n",
       "      <td>[]</td>\n",
       "      <td>0.805893</td>\n",
       "      <td>relevant</td>\n",
       "    </tr>\n",
       "    <tr>\n",
       "      <th>10445</th>\n",
       "      <td>https://digitalarchive.worldfishcenter.org/bit...</td>\n",
       "      <td>S t a From October 2006 to May 2008, The World...</td>\n",
       "      <td>irrelevant</td>\n",
       "      <td>[]</td>\n",
       "      <td>0.770467</td>\n",
       "      <td>relevant</td>\n",
       "    </tr>\n",
       "    <tr>\n",
       "      <th>1385</th>\n",
       "      <td>https://cms.zsl.org/sites/default/files/2022-1...</td>\n",
       "      <td>CAFF Assessment Series Report September 2015 A...</td>\n",
       "      <td>irrelevant</td>\n",
       "      <td>[]</td>\n",
       "      <td>0.694472</td>\n",
       "      <td>relevant</td>\n",
       "    </tr>\n",
       "    <tr>\n",
       "      <th>8668</th>\n",
       "      <td>https://wwjournal.org/wp-content/uploads/sites...</td>\n",
       "      <td>Western Wildlife 11:11–18 • 2024 Submitted: 18...</td>\n",
       "      <td>irrelevant</td>\n",
       "      <td>[]</td>\n",
       "      <td>0.683714</td>\n",
       "      <td>relevant</td>\n",
       "    </tr>\n",
       "  </tbody>\n",
       "</table>\n",
       "</div>"
      ],
      "text/plain": [
       "                                                     url  \\\n",
       "10117  https://digitalarchive.worldfishcenter.org/bit...   \n",
       "8779   https://wsobirds.org/images/pdfs/BeyondBirdFee...   \n",
       "10445  https://digitalarchive.worldfishcenter.org/bit...   \n",
       "1385   https://cms.zsl.org/sites/default/files/2022-1...   \n",
       "8668   https://wwjournal.org/wp-content/uploads/sites...   \n",
       "\n",
       "                                                    text   relevance  \\\n",
       "10117  MARINE ECOLOGY PROGRESS SERIES Vol. 588: 85–10...  irrelevant   \n",
       "8779   BEYOND THE BIRD FEEDER: Creating a Bird-Friend...  irrelevant   \n",
       "10445  S t a From October 2006 to May 2008, The World...  irrelevant   \n",
       "1385   CAFF Assessment Series Report September 2015 A...  irrelevant   \n",
       "8668   Western Wildlife 11:11–18 • 2024 Submitted: 18...  irrelevant   \n",
       "\n",
       "      multiclasses     score prediction  \n",
       "10117           []  0.843850   relevant  \n",
       "8779            []  0.805893   relevant  \n",
       "10445           []  0.770467   relevant  \n",
       "1385            []  0.694472   relevant  \n",
       "8668            []  0.683714   relevant  "
      ]
     },
     "execution_count": 9,
     "metadata": {},
     "output_type": "execute_result"
    }
   ],
   "source": [
    "test_dataset.info()\n",
    "test_dataset.head()"
   ]
  },
  {
   "cell_type": "code",
   "execution_count": 7,
   "metadata": {},
   "outputs": [
    {
     "data": {
      "image/png": "[encoded data removed]",
      "text/plain": [
       "<Figure size 2000x500 with 2 Axes>"
      ]
     },
     "metadata": {},
     "output_type": "display_data"
    }
   ],
   "source": [
    "import matplotlib.pyplot as plt\n",
    "from sklearn.metrics import confusion_matrix, ConfusionMatrixDisplay\n",
    "\n",
    "fig, axs = plt.subplots(1, 1, figsize=(20, 5))\n",
    "\n",
    "\n",
    "confusion = confusion_matrix(test_dataset['relevance'].to_numpy(), test_dataset['prediction'].to_numpy())\n",
    "disp = ConfusionMatrixDisplay(confusion_matrix=confusion)\n",
    "disp.plot(ax=axs, cmap='plasma')\n",
    "\n",
    "plt.show()"
   ]
  },
  {
   "cell_type": "code",
   "execution_count": 20,
   "metadata": {},
   "outputs": [],
   "source": [
    "def readjust_threshold(probabilities, threshold=0.5):\n",
    "    return (probabilities > threshold).astype(f'<U{len(\"irrelevant\")}').replace({'True': 'irrelevant', 'False': 'relevant'})"
   ]
  },
  {
   "cell_type": "code",
   "execution_count": 21,
   "metadata": {},
   "outputs": [
    {
     "data": {
      "text/plain": [
       "10117    irrelevant\n",
       "8779     irrelevant\n",
       "10445    irrelevant\n",
       "1385     irrelevant\n",
       "8668     irrelevant\n",
       "            ...    \n",
       "4583       relevant\n",
       "10082      relevant\n",
       "2538       relevant\n",
       "8856       relevant\n",
       "848        relevant\n",
       "Name: score, Length: 10688, dtype: object"
      ]
     },
     "execution_count": 21,
     "metadata": {},
     "output_type": "execute_result"
    }
   ],
   "source": [
    "readjust_threshold(test_dataset['score'], threshold=0.5)"
   ]
  },
  {
   "cell_type": "code",
   "execution_count": 35,
   "metadata": {},
   "outputs": [
    {
     "data": {
      "application/vnd.jupyter.widget-view+json": {
       "model_id": "0fa2040dba5443d381c08231f855dd2b",
       "version_major": 2,
       "version_minor": 0
      },
      "text/plain": [
       "  0%|          | 0/1000 [00:00<?, ?it/s]"
      ]
     },
     "metadata": {},
     "output_type": "display_data"
    },
    {
     "data": {
      "text/plain": [
       "[<matplotlib.lines.Line2D at 0x750e97131390>]"
      ]
     },
     "execution_count": 35,
     "metadata": {},
     "output_type": "execute_result"
    },
    {
     "data": {
      "image/png": "[encoded data removed]",
      "text/plain": [
       "<Figure size 640x480 with 1 Axes>"
      ]
     },
     "metadata": {},
     "output_type": "display_data"
    }
   ],
   "source": [
    "from numpy import arange\n",
    "ranges = list(arange(0,0.005,0.00005))\n",
    "\n",
    "relevants = []\n",
    "\n",
    "for threshold in tqdm(ranges):\n",
    "    new_predictions = readjust_threshold(test_dataset['score'], threshold=threshold)\n",
    "    relevants.append(len(new_predictions[new_predictions == 'relevant']))\n",
    "\n",
    "plt.plot(ranges, relevants)\n",
    "\n"
   ]
  },
  {
   "cell_type": "code",
   "execution_count": 8,
   "metadata": {},
   "outputs": [
    {
     "data": {
      "text/html": [
       "<div>\n",
       "<style scoped>\n",
       "    .dataframe tbody tr th:only-of-type {\n",
       "        vertical-align: middle;\n",
       "    }\n",
       "\n",
       "    .dataframe tbody tr th {\n",
       "        vertical-align: top;\n",
       "    }\n",
       "\n",
       "    .dataframe thead th {\n",
       "        text-align: right;\n",
       "    }\n",
       "</style>\n",
       "<table border=\"1\" class=\"dataframe\">\n",
       "  <thead>\n",
       "    <tr style=\"text-align: right;\">\n",
       "      <th></th>\n",
       "      <th>url</th>\n",
       "      <th>score</th>\n",
       "      <th>prediction</th>\n",
       "    </tr>\n",
       "  </thead>\n",
       "  <tbody>\n",
       "    <tr>\n",
       "      <th>10117</th>\n",
       "      <td>https://digitalarchive.worldfishcenter.org/bit...</td>\n",
       "      <td>0.843850</td>\n",
       "      <td>relevant</td>\n",
       "    </tr>\n",
       "    <tr>\n",
       "      <th>8779</th>\n",
       "      <td>https://wsobirds.org/images/pdfs/BeyondBirdFee...</td>\n",
       "      <td>0.805893</td>\n",
       "      <td>relevant</td>\n",
       "    </tr>\n",
       "    <tr>\n",
       "      <th>10445</th>\n",
       "      <td>https://digitalarchive.worldfishcenter.org/bit...</td>\n",
       "      <td>0.770467</td>\n",
       "      <td>relevant</td>\n",
       "    </tr>\n",
       "    <tr>\n",
       "      <th>1385</th>\n",
       "      <td>https://cms.zsl.org/sites/default/files/2022-1...</td>\n",
       "      <td>0.694472</td>\n",
       "      <td>relevant</td>\n",
       "    </tr>\n",
       "    <tr>\n",
       "      <th>8668</th>\n",
       "      <td>https://wwjournal.org/wp-content/uploads/sites...</td>\n",
       "      <td>0.683714</td>\n",
       "      <td>relevant</td>\n",
       "    </tr>\n",
       "    <tr>\n",
       "      <th>9911</th>\n",
       "      <td>http://www.wpcouncil.org/wp-content/uploads/20...</td>\n",
       "      <td>0.656541</td>\n",
       "      <td>relevant</td>\n",
       "    </tr>\n",
       "    <tr>\n",
       "      <th>6639</th>\n",
       "      <td>https://apps.worldagroforestry.org/downloads/P...</td>\n",
       "      <td>0.655423</td>\n",
       "      <td>relevant</td>\n",
       "    </tr>\n",
       "    <tr>\n",
       "      <th>778</th>\n",
       "      <td>https://zooreach.org/downloads/ZOO_CAMP_PHVA_r...</td>\n",
       "      <td>0.650072</td>\n",
       "      <td>relevant</td>\n",
       "    </tr>\n",
       "    <tr>\n",
       "      <th>8709</th>\n",
       "      <td>https://cms.zsl.org/sites/default/files/2022-1...</td>\n",
       "      <td>0.621324</td>\n",
       "      <td>relevant</td>\n",
       "    </tr>\n",
       "    <tr>\n",
       "      <th>8613</th>\n",
       "      <td>https://wos.org/documents/Publications/WA%20Bi...</td>\n",
       "      <td>0.577225</td>\n",
       "      <td>relevant</td>\n",
       "    </tr>\n",
       "  </tbody>\n",
       "</table>\n",
       "</div>"
      ],
      "text/plain": [
       "                                                     url     score prediction\n",
       "10117  https://digitalarchive.worldfishcenter.org/bit...  0.843850   relevant\n",
       "8779   https://wsobirds.org/images/pdfs/BeyondBirdFee...  0.805893   relevant\n",
       "10445  https://digitalarchive.worldfishcenter.org/bit...  0.770467   relevant\n",
       "1385   https://cms.zsl.org/sites/default/files/2022-1...  0.694472   relevant\n",
       "8668   https://wwjournal.org/wp-content/uploads/sites...  0.683714   relevant\n",
       "9911   http://www.wpcouncil.org/wp-content/uploads/20...  0.656541   relevant\n",
       "6639   https://apps.worldagroforestry.org/downloads/P...  0.655423   relevant\n",
       "778    https://zooreach.org/downloads/ZOO_CAMP_PHVA_r...  0.650072   relevant\n",
       "8709   https://cms.zsl.org/sites/default/files/2022-1...  0.621324   relevant\n",
       "8613   https://wos.org/documents/Publications/WA%20Bi...  0.577225   relevant"
      ]
     },
     "metadata": {},
     "output_type": "display_data"
    },
    {
     "data": {
      "text/plain": [
       "array(['https://digitalarchive.worldfishcenter.org/bitstream/handle/20.500.12348/692/4226.pdf?sequence=1&isAllowed=y',\n",
       "       'https://wsobirds.org/images/pdfs/BeyondBirdFeederBookletFINAL.compressed.pdf',\n",
       "       'https://digitalarchive.worldfishcenter.org/bitstream/handle/20.500.12348/1418/WF_2033.pdf?sequence=1&isAllowed=y',\n",
       "       'https://cms.zsl.org/sites/default/files/2022-12/ASTI_MigBirds_Index_2015_0.pdf',\n",
       "       'https://wwjournal.org/wp-content/uploads/sites/9/2024/06/Roy_etal_WW_2024.pdf',\n",
       "       'http://www.wpcouncil.org/wp-content/uploads/2020/11/08.C1-Hutchinson-et-al-2021.pdf',\n",
       "       'https://apps.worldagroforestry.org/downloads/Publications/PDFS/TM17693.pdf',\n",
       "       'https://zooreach.org/downloads/ZOO_CAMP_PHVA_reports/2014-Reptile-Report.pdf',\n",
       "       'https://cms.zsl.org/sites/default/files/2022-12/wildlife-comeback-in-europe.pdf',\n",
       "       'https://wos.org/documents/Publications/WA%20Birds/2006/wabirds2006.pdf'],\n",
       "      dtype=object)"
      ]
     },
     "metadata": {},
     "output_type": "display_data"
    }
   ],
   "source": [
    "# pd.options.display.max_colwidth = 200\n",
    "\n",
    "display(test_dataset[['url', 'score', 'prediction']].head(10))\n",
    "display(test_dataset['url'].head(10).to_numpy())"
   ]
  },
  {
   "cell_type": "code",
   "execution_count": 10,
   "metadata": {},
   "outputs": [
    {
     "data": {
      "text/plain": [
       "array(['https://digitalarchive.worldfishcenter.org/bitstream/handle/20.500.12348/692/4226.pdf?sequence=1&isAllowed=y',\n",
       "       'https://wsobirds.org/images/pdfs/BeyondBirdFeederBookletFINAL.compressed.pdf',\n",
       "       'https://digitalarchive.worldfishcenter.org/bitstream/handle/20.500.12348/1418/WF_2033.pdf?sequence=1&isAllowed=y',\n",
       "       'https://cms.zsl.org/sites/default/files/2022-12/ASTI_MigBirds_Index_2015_0.pdf',\n",
       "       'https://wwjournal.org/wp-content/uploads/sites/9/2024/06/Roy_etal_WW_2024.pdf',\n",
       "       'http://www.wpcouncil.org/wp-content/uploads/2020/11/08.C1-Hutchinson-et-al-2021.pdf',\n",
       "       'https://apps.worldagroforestry.org/downloads/Publications/PDFS/TM17693.pdf',\n",
       "       'https://zooreach.org/downloads/ZOO_CAMP_PHVA_reports/2014-Reptile-Report.pdf',\n",
       "       'https://cms.zsl.org/sites/default/files/2022-12/wildlife-comeback-in-europe.pdf',\n",
       "       'https://wos.org/documents/Publications/WA%20Birds/2006/wabirds2006.pdf',\n",
       "       'https://dcprime.com/wp-content/uploads/2019/12/Poster-1381-Luca-Janssen.pdf',\n",
       "       'https://www.forestfoundation.ph/wp-content/uploads/2017/11/Forest-Foundation-Ph-4th-PNPCSI-Symposium.pdf',\n",
       "       'https://zooreach.org/downloads/ZOO_CAMP_PHVA_reports/2010EHFWBreport.pdf',\n",
       "       'http://wiki.daz3d.com/lib/exe/fetch.php/public/read_me/index/16122/16122_songbirdremixvultures2.pdf',\n",
       "       'https://apps.worldagroforestry.org/downloads/Publications/PDFS/B10462.pdf'],\n",
       "      dtype=object)"
      ]
     },
     "metadata": {},
     "output_type": "display_data"
    }
   ],
   "source": [
    "display(test_dataset['url'].head(15).to_numpy())"
   ]
  }
 ],
 "metadata": {
  "kernelspec": {
   "display_name": "venv",
   "language": "python",
   "name": "python3"
  },
  "language_info": {
   "codemirror_mode": {
    "name": "ipython",
    "version": 3
   },
   "file_extension": ".py",
   "mimetype": "text/x-python",
   "name": "python",
   "nbconvert_exporter": "python",
   "pygments_lexer": "ipython3",
   "version": "3.10.12"
  }
 },
 "nbformat": 4,
 "nbformat_minor": 2
}
