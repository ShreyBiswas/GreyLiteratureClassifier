{
 "cells": [
  {
   "cell_type": "code",
   "execution_count": 1,
   "metadata": {},
   "outputs": [],
   "source": [
    "import cudf as pd\n",
    "from tqdm.auto import tqdm\n",
    "\n",
    "from time import time"
   ]
  },
  {
   "cell_type": "code",
   "execution_count": 2,
   "metadata": {},
   "outputs": [
    {
     "name": "stdout",
     "output_type": "stream",
     "text": [
      "Loading data...\n"
     ]
    },
    {
     "name": "stderr",
     "output_type": "stream",
     "text": [
      "/workspace/GreyLit/venv/lib/python3.10/site-packages/cudf/io/json.py:108: UserWarning: Using CPU via Pandas to read JSON dataset, this may be GPU accelerated in the future\n",
      "  warnings.warn(\n"
     ]
    },
    {
     "name": "stdout",
     "output_type": "stream",
     "text": [
      "Data loaded.\n",
      "<class 'cudf.core.dataframe.DataFrame'>\n",
      "RangeIndex: 10688 entries, 0 to 10687\n",
      "Data columns (total 4 columns):\n",
      " #   Column        Non-Null Count  Dtype\n",
      "---  ------        --------------  -----\n",
      " 0   url           10688 non-null  object\n",
      " 1   text          10688 non-null  object\n",
      " 2   relevance     10688 non-null  object\n",
      " 3   multiclasses  10688 non-null  list\n",
      "dtypes: list(1), object(3)\n",
      "memory usage: 1.3+ GB\n"
     ]
    },
    {
     "data": {
      "text/html": [
       "<div>\n",
       "<style scoped>\n",
       "    .dataframe tbody tr th:only-of-type {\n",
       "        vertical-align: middle;\n",
       "    }\n",
       "\n",
       "    .dataframe tbody tr th {\n",
       "        vertical-align: top;\n",
       "    }\n",
       "\n",
       "    .dataframe thead th {\n",
       "        text-align: right;\n",
       "    }\n",
       "</style>\n",
       "<table border=\"1\" class=\"dataframe\">\n",
       "  <thead>\n",
       "    <tr style=\"text-align: right;\">\n",
       "      <th></th>\n",
       "      <th>url</th>\n",
       "      <th>text</th>\n",
       "      <th>relevance</th>\n",
       "      <th>multiclasses</th>\n",
       "    </tr>\n",
       "  </thead>\n",
       "  <tbody>\n",
       "    <tr>\n",
       "      <th>0</th>\n",
       "      <td>http://blog-mairiemoulezan.com/wp-content/uplo...</td>\n",
       "      <td>N°72– MAI 2015 Infos Page 1 Le budget 2015 a é...</td>\n",
       "      <td>irrelevant</td>\n",
       "      <td>[]</td>\n",
       "    </tr>\n",
       "    <tr>\n",
       "      <th>1</th>\n",
       "      <td>https://www.dbtechnologies.com/docs/299/4266/V...</td>\n",
       "      <td>MANUALE D’USO – Sezione 1 USER MANUAL - Sectio...</td>\n",
       "      <td>irrelevant</td>\n",
       "      <td>[]</td>\n",
       "    </tr>\n",
       "    <tr>\n",
       "      <th>2</th>\n",
       "      <td>https://zambialii.org/akn/zm/judgment/zmic/201...</td>\n",
       "      <td>• ) COMP/70hwlO IN THE HIGH COURT fOR ZAMBIA C...</td>\n",
       "      <td>irrelevant</td>\n",
       "      <td>[]</td>\n",
       "    </tr>\n",
       "    <tr>\n",
       "      <th>3</th>\n",
       "      <td>https://www.dbp.ph/wp-content/uploads/2018/11/...</td>\n",
       "      <td>REPUBLIC OF THE PHILIPPINES COMMISSION ON AUDI...</td>\n",
       "      <td>irrelevant</td>\n",
       "      <td>[]</td>\n",
       "    </tr>\n",
       "    <tr>\n",
       "      <th>4</th>\n",
       "      <td>https://www.xbrlfrance.org/wp-content/uploads/...</td>\n",
       "      <td>Thématique Assurance L’exploitation des donnée...</td>\n",
       "      <td>irrelevant</td>\n",
       "      <td>[]</td>\n",
       "    </tr>\n",
       "  </tbody>\n",
       "</table>\n",
       "</div>"
      ],
      "text/plain": [
       "                                                 url  \\\n",
       "0  http://blog-mairiemoulezan.com/wp-content/uplo...   \n",
       "1  https://www.dbtechnologies.com/docs/299/4266/V...   \n",
       "2  https://zambialii.org/akn/zm/judgment/zmic/201...   \n",
       "3  https://www.dbp.ph/wp-content/uploads/2018/11/...   \n",
       "4  https://www.xbrlfrance.org/wp-content/uploads/...   \n",
       "\n",
       "                                                text   relevance multiclasses  \n",
       "0  N°72– MAI 2015 Infos Page 1 Le budget 2015 a é...  irrelevant           []  \n",
       "1  MANUALE D’USO – Sezione 1 USER MANUAL - Sectio...  irrelevant           []  \n",
       "2  • ) COMP/70hwlO IN THE HIGH COURT fOR ZAMBIA C...  irrelevant           []  \n",
       "3  REPUBLIC OF THE PHILIPPINES COMMISSION ON AUDI...  irrelevant           []  \n",
       "4  Thématique Assurance L’exploitation des donnée...  irrelevant           []  "
      ]
     },
     "execution_count": 2,
     "metadata": {},
     "output_type": "execute_result"
    }
   ],
   "source": [
    "def import_labelled_data(path=\"data/level-0.5/data.json\"):\n",
    "    data = pd.read_json(path, encoding=\"latin-1\")\n",
    "    return data\n",
    "\n",
    "\n",
    "\n",
    "print(\"Loading data...\")\n",
    "\n",
    "test_dataset = import_labelled_data(path=\"../../data/level-0.5/irrelevant.json\", )\n",
    "\n",
    "print(\"Data loaded.\")\n",
    "\n",
    "\n",
    "# test_dataset = test_dataset.sample(2500)\n",
    "\n",
    "test_dataset = test_dataset.sample(frac=1).reset_index(drop=True)\n",
    "\n",
    "\n",
    "test_dataset.info()\n",
    "test_dataset.head()"
   ]
  },
  {
   "cell_type": "code",
   "execution_count": 3,
   "metadata": {},
   "outputs": [],
   "source": [
    "from pickle import load\n",
    "\n",
    "with open('models/LogisticRegression.pkl', 'rb') as file:\n",
    "    classifier = load(file)"
   ]
  },
  {
   "cell_type": "code",
   "execution_count": 4,
   "metadata": {},
   "outputs": [],
   "source": [
    "start = time()\n",
    "\n",
    "predictions, probabilities = classifier.predict_threshold(test_dataset, threshold=0.5)\n",
    "\n",
    "end = time()"
   ]
  },
  {
   "cell_type": "code",
   "execution_count": 5,
   "metadata": {},
   "outputs": [
    {
     "name": "stdout",
     "output_type": "stream",
     "text": [
      "\n",
      "\n",
      "Prediction time on 10688 articles:  61.689617395401  seconds\n",
      "\n",
      "Files processed per second: 173.25443812522002\n"
     ]
    }
   ],
   "source": [
    "print(f'\\n\\nPrediction time on {len(test_dataset)} articles: ', end-start, ' seconds')\n",
    "print(f'\\nFiles processed per second: {len(test_dataset) / (end-start)}')"
   ]
  },
  {
   "cell_type": "code",
   "execution_count": 6,
   "metadata": {},
   "outputs": [],
   "source": [
    "test_dataset['score'] = probabilities.get()[:,1]\n",
    "test_dataset['prediction'] = classifier.boolPredictionsToLabels(predictions.get().astype(f'<U{len(\"irrelevant\")}'))\n",
    "\n",
    "test_dataset = test_dataset.sort_values(by='score', ascending=False)"
   ]
  },
  {
   "cell_type": "code",
   "execution_count": 7,
   "metadata": {},
   "outputs": [
    {
     "name": "stdout",
     "output_type": "stream",
     "text": [
      "<class 'cudf.core.dataframe.DataFrame'>\n",
      "Index: 10688 entries, 4014 to 10606\n",
      "Data columns (total 6 columns):\n",
      " #   Column        Non-Null Count  Dtype\n",
      "---  ------        --------------  -----\n",
      " 0   url           10688 non-null  object\n",
      " 1   text          10688 non-null  object\n",
      " 2   relevance     10688 non-null  object\n",
      " 3   multiclasses  10688 non-null  list\n",
      " 4   score         10688 non-null  float64\n",
      " 5   prediction    10688 non-null  object\n",
      "dtypes: float64(1), list(1), object(4)\n",
      "memory usage: 1.3+ GB\n"
     ]
    },
    {
     "data": {
      "text/html": [
       "<div>\n",
       "<style scoped>\n",
       "    .dataframe tbody tr th:only-of-type {\n",
       "        vertical-align: middle;\n",
       "    }\n",
       "\n",
       "    .dataframe tbody tr th {\n",
       "        vertical-align: top;\n",
       "    }\n",
       "\n",
       "    .dataframe thead th {\n",
       "        text-align: right;\n",
       "    }\n",
       "</style>\n",
       "<table border=\"1\" class=\"dataframe\">\n",
       "  <thead>\n",
       "    <tr style=\"text-align: right;\">\n",
       "      <th></th>\n",
       "      <th>url</th>\n",
       "      <th>text</th>\n",
       "      <th>relevance</th>\n",
       "      <th>multiclasses</th>\n",
       "      <th>score</th>\n",
       "      <th>prediction</th>\n",
       "    </tr>\n",
       "  </thead>\n",
       "  <tbody>\n",
       "    <tr>\n",
       "      <th>4014</th>\n",
       "      <td>https://digitalarchive.worldfishcenter.org/bit...</td>\n",
       "      <td>MARINE ECOLOGY PROGRESS SERIES Vol. 588: 85–10...</td>\n",
       "      <td>irrelevant</td>\n",
       "      <td>[]</td>\n",
       "      <td>0.854538</td>\n",
       "      <td>relevant</td>\n",
       "    </tr>\n",
       "    <tr>\n",
       "      <th>237</th>\n",
       "      <td>https://wsobirds.org/images/pdfs/BeyondBirdFee...</td>\n",
       "      <td>BEYOND THE BIRD FEEDER: Creating a Bird-Friend...</td>\n",
       "      <td>irrelevant</td>\n",
       "      <td>[]</td>\n",
       "      <td>0.825297</td>\n",
       "      <td>relevant</td>\n",
       "    </tr>\n",
       "    <tr>\n",
       "      <th>9024</th>\n",
       "      <td>https://digitalarchive.worldfishcenter.org/bit...</td>\n",
       "      <td>S t a From October 2006 to May 2008, The World...</td>\n",
       "      <td>irrelevant</td>\n",
       "      <td>[]</td>\n",
       "      <td>0.789381</td>\n",
       "      <td>relevant</td>\n",
       "    </tr>\n",
       "    <tr>\n",
       "      <th>1907</th>\n",
       "      <td>https://wwjournal.org/wp-content/uploads/sites...</td>\n",
       "      <td>Western Wildlife 11:11–18 • 2024 Submitted: 18...</td>\n",
       "      <td>irrelevant</td>\n",
       "      <td>[]</td>\n",
       "      <td>0.721217</td>\n",
       "      <td>relevant</td>\n",
       "    </tr>\n",
       "    <tr>\n",
       "      <th>6903</th>\n",
       "      <td>https://cms.zsl.org/sites/default/files/2022-1...</td>\n",
       "      <td>CAFF Assessment Series Report September 2015 A...</td>\n",
       "      <td>irrelevant</td>\n",
       "      <td>[]</td>\n",
       "      <td>0.704993</td>\n",
       "      <td>relevant</td>\n",
       "    </tr>\n",
       "  </tbody>\n",
       "</table>\n",
       "</div>"
      ],
      "text/plain": [
       "                                                    url  \\\n",
       "4014  https://digitalarchive.worldfishcenter.org/bit...   \n",
       "237   https://wsobirds.org/images/pdfs/BeyondBirdFee...   \n",
       "9024  https://digitalarchive.worldfishcenter.org/bit...   \n",
       "1907  https://wwjournal.org/wp-content/uploads/sites...   \n",
       "6903  https://cms.zsl.org/sites/default/files/2022-1...   \n",
       "\n",
       "                                                   text   relevance  \\\n",
       "4014  MARINE ECOLOGY PROGRESS SERIES Vol. 588: 85–10...  irrelevant   \n",
       "237   BEYOND THE BIRD FEEDER: Creating a Bird-Friend...  irrelevant   \n",
       "9024  S t a From October 2006 to May 2008, The World...  irrelevant   \n",
       "1907  Western Wildlife 11:11–18 • 2024 Submitted: 18...  irrelevant   \n",
       "6903  CAFF Assessment Series Report September 2015 A...  irrelevant   \n",
       "\n",
       "     multiclasses     score prediction  \n",
       "4014           []  0.854538   relevant  \n",
       "237            []  0.825297   relevant  \n",
       "9024           []  0.789381   relevant  \n",
       "1907           []  0.721217   relevant  \n",
       "6903           []  0.704993   relevant  "
      ]
     },
     "execution_count": 7,
     "metadata": {},
     "output_type": "execute_result"
    }
   ],
   "source": [
    "test_dataset.info()\n",
    "test_dataset.head()"
   ]
  },
  {
   "cell_type": "code",
   "execution_count": 8,
   "metadata": {},
   "outputs": [
    {
     "data": {
      "image/png": "[encoded data removed]",
      "text/plain": [
       "<Figure size 2000x500 with 2 Axes>"
      ]
     },
     "metadata": {},
     "output_type": "display_data"
    }
   ],
   "source": [
    "import matplotlib.pyplot as plt\n",
    "from sklearn.metrics import confusion_matrix, ConfusionMatrixDisplay\n",
    "\n",
    "fig, axs = plt.subplots(1, 1, figsize=(20, 5))\n",
    "\n",
    "\n",
    "confusion = confusion_matrix(test_dataset['relevance'].to_numpy(), test_dataset['prediction'].to_numpy())\n",
    "disp = ConfusionMatrixDisplay(confusion_matrix=confusion)\n",
    "disp.plot(ax=axs, cmap='plasma')\n",
    "\n",
    "plt.show()"
   ]
  },
  {
   "cell_type": "code",
   "execution_count": 9,
   "metadata": {},
   "outputs": [],
   "source": [
    "def readjust_threshold(probabilities, threshold=0.5):\n",
    "    return (probabilities > threshold).astype(f'<U{len(\"irrelevant\")}').replace({'True': 'irrelevant', 'False': 'relevant'})"
   ]
  },
  {
   "cell_type": "code",
   "execution_count": 10,
   "metadata": {},
   "outputs": [
    {
     "data": {
      "text/plain": [
       "4014     irrelevant\n",
       "237      irrelevant\n",
       "9024     irrelevant\n",
       "1907     irrelevant\n",
       "6903     irrelevant\n",
       "            ...    \n",
       "7863       relevant\n",
       "2181       relevant\n",
       "4215       relevant\n",
       "3476       relevant\n",
       "10606      relevant\n",
       "Name: score, Length: 10688, dtype: object"
      ]
     },
     "execution_count": 10,
     "metadata": {},
     "output_type": "execute_result"
    }
   ],
   "source": [
    "readjust_threshold(test_dataset['score'], threshold=0.5)"
   ]
  },
  {
   "cell_type": "code",
   "execution_count": 11,
   "metadata": {},
   "outputs": [
    {
     "data": {
      "application/vnd.jupyter.widget-view+json": {
       "model_id": "b0bb0918e2a44b708f14f5b49cfb4182",
       "version_major": 2,
       "version_minor": 0
      },
      "text/plain": [
       "  0%|          | 0/100 [00:00<?, ?it/s]"
      ]
     },
     "metadata": {},
     "output_type": "display_data"
    },
    {
     "data": {
      "text/plain": [
       "[<matplotlib.lines.Line2D at 0x7f1e2190bc40>]"
      ]
     },
     "execution_count": 11,
     "metadata": {},
     "output_type": "execute_result"
    },
    {
     "data": {
      "image/png": "[encoded data removed]",
      "text/plain": [
       "<Figure size 640x480 with 1 Axes>"
      ]
     },
     "metadata": {},
     "output_type": "display_data"
    }
   ],
   "source": [
    "from numpy import arange\n",
    "ranges = list(arange(0,0.005,0.00005))\n",
    "\n",
    "relevants = []\n",
    "\n",
    "for threshold in tqdm(ranges):\n",
    "    new_predictions = readjust_threshold(test_dataset['score'], threshold=threshold)\n",
    "    relevants.append(len(new_predictions[new_predictions == 'relevant']))\n",
    "\n",
    "plt.plot(ranges, relevants)\n",
    "\n"
   ]
  },
  {
   "cell_type": "code",
   "execution_count": 18,
   "metadata": {},
   "outputs": [
    {
     "data": {
      "text/html": [
       "<div>\n",
       "<style scoped>\n",
       "    .dataframe tbody tr th:only-of-type {\n",
       "        vertical-align: middle;\n",
       "    }\n",
       "\n",
       "    .dataframe tbody tr th {\n",
       "        vertical-align: top;\n",
       "    }\n",
       "\n",
       "    .dataframe thead th {\n",
       "        text-align: right;\n",
       "    }\n",
       "</style>\n",
       "<table border=\"1\" class=\"dataframe\">\n",
       "  <thead>\n",
       "    <tr style=\"text-align: right;\">\n",
       "      <th></th>\n",
       "      <th>url</th>\n",
       "      <th>score</th>\n",
       "      <th>prediction</th>\n",
       "      <th>text</th>\n",
       "    </tr>\n",
       "  </thead>\n",
       "  <tbody>\n",
       "    <tr>\n",
       "      <th>4014</th>\n",
       "      <td>https://digitalarchive.worldfishcenter.org/bit...</td>\n",
       "      <td>0.854538</td>\n",
       "      <td>relevant</td>\n",
       "      <td>MARINE ECOLOGY PROGRESS SERIES Vol. 588: 85–10...</td>\n",
       "    </tr>\n",
       "    <tr>\n",
       "      <th>237</th>\n",
       "      <td>https://wsobirds.org/images/pdfs/BeyondBirdFee...</td>\n",
       "      <td>0.825297</td>\n",
       "      <td>relevant</td>\n",
       "      <td>BEYOND THE BIRD FEEDER: Creating a Bird-Friend...</td>\n",
       "    </tr>\n",
       "    <tr>\n",
       "      <th>9024</th>\n",
       "      <td>https://digitalarchive.worldfishcenter.org/bit...</td>\n",
       "      <td>0.789381</td>\n",
       "      <td>relevant</td>\n",
       "      <td>S t a From October 2006 to May 2008, The World...</td>\n",
       "    </tr>\n",
       "    <tr>\n",
       "      <th>1907</th>\n",
       "      <td>https://wwjournal.org/wp-content/uploads/sites...</td>\n",
       "      <td>0.721217</td>\n",
       "      <td>relevant</td>\n",
       "      <td>Western Wildlife 11:11–18 • 2024 Submitted: 18...</td>\n",
       "    </tr>\n",
       "    <tr>\n",
       "      <th>6903</th>\n",
       "      <td>https://cms.zsl.org/sites/default/files/2022-1...</td>\n",
       "      <td>0.704993</td>\n",
       "      <td>relevant</td>\n",
       "      <td>CAFF Assessment Series Report September 2015 A...</td>\n",
       "    </tr>\n",
       "    <tr>\n",
       "      <th>7654</th>\n",
       "      <td>https://zooreach.org/downloads/ZOO_CAMP_PHVA_r...</td>\n",
       "      <td>0.690064</td>\n",
       "      <td>relevant</td>\n",
       "      <td>THE STATUS AND DISTRIBUTION OF REPTILES IN THE...</td>\n",
       "    </tr>\n",
       "    <tr>\n",
       "      <th>720</th>\n",
       "      <td>https://cms.zsl.org/sites/default/files/2022-1...</td>\n",
       "      <td>0.688614</td>\n",
       "      <td>relevant</td>\n",
       "      <td>W Stefanie Deinet I L D Christina Ieronymidou ...</td>\n",
       "    </tr>\n",
       "    <tr>\n",
       "      <th>2696</th>\n",
       "      <td>https://apps.worldagroforestry.org/downloads/P...</td>\n",
       "      <td>0.682692</td>\n",
       "      <td>relevant</td>\n",
       "      <td>Conservation Agriculture With Trees: Principle...</td>\n",
       "    </tr>\n",
       "    <tr>\n",
       "      <th>9516</th>\n",
       "      <td>http://www.wpcouncil.org/wp-content/uploads/20...</td>\n",
       "      <td>0.662959</td>\n",
       "      <td>relevant</td>\n",
       "      <td>2021 Quantitative estimates of post-release su...</td>\n",
       "    </tr>\n",
       "    <tr>\n",
       "      <th>3747</th>\n",
       "      <td>http://wiki.daz3d.com/lib/exe/fetch.php/public...</td>\n",
       "      <td>0.638514</td>\n",
       "      <td>relevant</td>\n",
       "      <td>Avian Models for 3D Applications by Ken Gillil...</td>\n",
       "    </tr>\n",
       "    <tr>\n",
       "      <th>9659</th>\n",
       "      <td>https://wos.org/documents/Publications/WA%20Bi...</td>\n",
       "      <td>0.615407</td>\n",
       "      <td>relevant</td>\n",
       "      <td>Washington Birds 9:1-7 (2006) WHITE-FACED IBIS...</td>\n",
       "    </tr>\n",
       "    <tr>\n",
       "      <th>2595</th>\n",
       "      <td>https://zooreach.org/downloads/ZOO_CAMP_PHVA_r...</td>\n",
       "      <td>0.559114</td>\n",
       "      <td>relevant</td>\n",
       "      <td>T h e The STaTuS and diSTribuTion S T a of f e...</td>\n",
       "    </tr>\n",
       "    <tr>\n",
       "      <th>9421</th>\n",
       "      <td>https://dcprime.com/wp-content/uploads/2019/12...</td>\n",
       "      <td>0.548371</td>\n",
       "      <td>relevant</td>\n",
       "      <td>Durable Responses and Survival in High Risk AM...</td>\n",
       "    </tr>\n",
       "    <tr>\n",
       "      <th>7540</th>\n",
       "      <td>https://apps.worldagroforestry.org/downloads/P...</td>\n",
       "      <td>0.527820</td>\n",
       "      <td>relevant</td>\n",
       "      <td>Technical Handbook No 12 USEFUL TREES AND SHRU...</td>\n",
       "    </tr>\n",
       "    <tr>\n",
       "      <th>6808</th>\n",
       "      <td>https://www.xerces.org/sites/default/files/201...</td>\n",
       "      <td>0.519531</td>\n",
       "      <td>relevant</td>\n",
       "      <td>Protecting California’s Butterfly Groves Manag...</td>\n",
       "    </tr>\n",
       "    <tr>\n",
       "      <th>1701</th>\n",
       "      <td>https://www.forestfoundation.ph/wp-content/upl...</td>\n",
       "      <td>0.517134</td>\n",
       "      <td>relevant</td>\n",
       "      <td>AbouttheForest Foundation Philippines Establis...</td>\n",
       "    </tr>\n",
       "  </tbody>\n",
       "</table>\n",
       "</div>"
      ],
      "text/plain": [
       "                                                    url     score prediction  \\\n",
       "4014  https://digitalarchive.worldfishcenter.org/bit...  0.854538   relevant   \n",
       "237   https://wsobirds.org/images/pdfs/BeyondBirdFee...  0.825297   relevant   \n",
       "9024  https://digitalarchive.worldfishcenter.org/bit...  0.789381   relevant   \n",
       "1907  https://wwjournal.org/wp-content/uploads/sites...  0.721217   relevant   \n",
       "6903  https://cms.zsl.org/sites/default/files/2022-1...  0.704993   relevant   \n",
       "7654  https://zooreach.org/downloads/ZOO_CAMP_PHVA_r...  0.690064   relevant   \n",
       "720   https://cms.zsl.org/sites/default/files/2022-1...  0.688614   relevant   \n",
       "2696  https://apps.worldagroforestry.org/downloads/P...  0.682692   relevant   \n",
       "9516  http://www.wpcouncil.org/wp-content/uploads/20...  0.662959   relevant   \n",
       "3747  http://wiki.daz3d.com/lib/exe/fetch.php/public...  0.638514   relevant   \n",
       "9659  https://wos.org/documents/Publications/WA%20Bi...  0.615407   relevant   \n",
       "2595  https://zooreach.org/downloads/ZOO_CAMP_PHVA_r...  0.559114   relevant   \n",
       "9421  https://dcprime.com/wp-content/uploads/2019/12...  0.548371   relevant   \n",
       "7540  https://apps.worldagroforestry.org/downloads/P...  0.527820   relevant   \n",
       "6808  https://www.xerces.org/sites/default/files/201...  0.519531   relevant   \n",
       "1701  https://www.forestfoundation.ph/wp-content/upl...  0.517134   relevant   \n",
       "\n",
       "                                                   text  \n",
       "4014  MARINE ECOLOGY PROGRESS SERIES Vol. 588: 85–10...  \n",
       "237   BEYOND THE BIRD FEEDER: Creating a Bird-Friend...  \n",
       "9024  S t a From October 2006 to May 2008, The World...  \n",
       "1907  Western Wildlife 11:11–18 • 2024 Submitted: 18...  \n",
       "6903  CAFF Assessment Series Report September 2015 A...  \n",
       "7654  THE STATUS AND DISTRIBUTION OF REPTILES IN THE...  \n",
       "720   W Stefanie Deinet I L D Christina Ieronymidou ...  \n",
       "2696  Conservation Agriculture With Trees: Principle...  \n",
       "9516  2021 Quantitative estimates of post-release su...  \n",
       "3747  Avian Models for 3D Applications by Ken Gillil...  \n",
       "9659  Washington Birds 9:1-7 (2006) WHITE-FACED IBIS...  \n",
       "2595  T h e The STaTuS and diSTribuTion S T a of f e...  \n",
       "9421  Durable Responses and Survival in High Risk AM...  \n",
       "7540  Technical Handbook No 12 USEFUL TREES AND SHRU...  \n",
       "6808  Protecting California’s Butterfly Groves Manag...  \n",
       "1701  AbouttheForest Foundation Philippines Establis...  "
      ]
     },
     "metadata": {},
     "output_type": "display_data"
    }
   ],
   "source": [
    "# pd.options.display.max_colwidth = 200\n",
    "\n",
    "display(test_dataset[test_dataset['prediction']=='relevant'][['url', 'score', 'prediction','text']])"
   ]
  },
  {
   "cell_type": "code",
   "execution_count": 15,
   "metadata": {},
   "outputs": [
    {
     "data": {
      "text/plain": [
       "array(['https://digitalarchive.worldfishcenter.org/bitstream/handle/20.500.12348/692/4226.pdf?sequence=1&isAllowed=y',\n",
       "       'https://wsobirds.org/images/pdfs/BeyondBirdFeederBookletFINAL.compressed.pdf',\n",
       "       'https://digitalarchive.worldfishcenter.org/bitstream/handle/20.500.12348/1418/WF_2033.pdf?sequence=1&isAllowed=y',\n",
       "       'https://wwjournal.org/wp-content/uploads/sites/9/2024/06/Roy_etal_WW_2024.pdf',\n",
       "       'https://cms.zsl.org/sites/default/files/2022-12/ASTI_MigBirds_Index_2015_0.pdf',\n",
       "       'https://zooreach.org/downloads/ZOO_CAMP_PHVA_reports/2014-Reptile-Report.pdf',\n",
       "       'https://cms.zsl.org/sites/default/files/2022-12/wildlife-comeback-in-europe.pdf',\n",
       "       'https://apps.worldagroforestry.org/downloads/Publications/PDFS/TM17693.pdf',\n",
       "       'http://www.wpcouncil.org/wp-content/uploads/2020/11/08.C1-Hutchinson-et-al-2021.pdf',\n",
       "       'http://wiki.daz3d.com/lib/exe/fetch.php/public/read_me/index/16122/16122_songbirdremixvultures2.pdf',\n",
       "       'https://wos.org/documents/Publications/WA%20Birds/2006/wabirds2006.pdf',\n",
       "       'https://zooreach.org/downloads/ZOO_CAMP_PHVA_reports/2010EHFWBreport.pdf',\n",
       "       'https://dcprime.com/wp-content/uploads/2019/12/Poster-1381-Luca-Janssen.pdf',\n",
       "       'https://apps.worldagroforestry.org/downloads/Publications/PDFS/B10462.pdf',\n",
       "       'https://www.xerces.org/sites/default/files/2018-05/17-040_01_ProtectingCaliforniaButterflyGroves.pdf',\n",
       "       'https://www.forestfoundation.ph/wp-content/uploads/2017/11/Forest-Foundation-Ph-4th-PNPCSI-Symposium.pdf'],\n",
       "      dtype=object)"
      ]
     },
     "execution_count": 15,
     "metadata": {},
     "output_type": "execute_result"
    }
   ],
   "source": [
    "test_dataset[test_dataset['prediction']=='relevant']['url'].to_numpy()"
   ]
  }
 ],
 "metadata": {
  "kernelspec": {
   "display_name": "venv",
   "language": "python",
   "name": "python3"
  },
  "language_info": {
   "codemirror_mode": {
    "name": "ipython",
    "version": 3
   },
   "file_extension": ".py",
   "mimetype": "text/x-python",
   "name": "python",
   "nbconvert_exporter": "python",
   "pygments_lexer": "ipython3",
   "version": "3.10.12"
  }
 },
 "nbformat": 4,
 "nbformat_minor": 2
}
