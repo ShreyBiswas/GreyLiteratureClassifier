{
 "cells": [
  {
   "cell_type": "code",
   "execution_count": 1,
   "metadata": {},
   "outputs": [],
   "source": [
    "import pandas as pd\n",
    "from tqdm.auto import tqdm\n",
    "\n",
    "tqdm.pandas()"
   ]
  },
  {
   "cell_type": "code",
   "execution_count": 2,
   "metadata": {},
   "outputs": [
    {
     "name": "stdout",
     "output_type": "stream",
     "text": [
      "Loading data...\n",
      "Data loaded.\n",
      "<class 'pandas.core.frame.DataFrame'>\n",
      "RangeIndex: 2500 entries, 0 to 2499\n",
      "Data columns (total 4 columns):\n",
      " #   Column        Non-Null Count  Dtype \n",
      "---  ------        --------------  ----- \n",
      " 0   url           2500 non-null   object\n",
      " 1   text          2500 non-null   object\n",
      " 2   relevance     2500 non-null   object\n",
      " 3   multiclasses  2500 non-null   object\n",
      "dtypes: object(4)\n",
      "memory usage: 78.2+ KB\n"
     ]
    },
    {
     "data": {
      "text/html": [
       "<div>\n",
       "<style scoped>\n",
       "    .dataframe tbody tr th:only-of-type {\n",
       "        vertical-align: middle;\n",
       "    }\n",
       "\n",
       "    .dataframe tbody tr th {\n",
       "        vertical-align: top;\n",
       "    }\n",
       "\n",
       "    .dataframe thead th {\n",
       "        text-align: right;\n",
       "    }\n",
       "</style>\n",
       "<table border=\"1\" class=\"dataframe\">\n",
       "  <thead>\n",
       "    <tr style=\"text-align: right;\">\n",
       "      <th></th>\n",
       "      <th>url</th>\n",
       "      <th>text</th>\n",
       "      <th>relevance</th>\n",
       "      <th>multiclasses</th>\n",
       "    </tr>\n",
       "  </thead>\n",
       "  <tbody>\n",
       "    <tr>\n",
       "      <th>0</th>\n",
       "      <td>https://www.conservationevidence.com/individua...</td>\n",
       "      <td>A replicated controlled study of former agricu...</td>\n",
       "      <td>relevant</td>\n",
       "      <td>[Farmland]</td>\n",
       "    </tr>\n",
       "    <tr>\n",
       "      <th>1</th>\n",
       "      <td>https://region8.bfar.da.gov.ph/wp-content/uplo...</td>\n",
       "      <td>re Ag ricultu pa of rtment De 8 RESOURCES AQUA...</td>\n",
       "      <td>irrelevant</td>\n",
       "      <td>[]</td>\n",
       "    </tr>\n",
       "    <tr>\n",
       "      <th>2</th>\n",
       "      <td>https://www.conservationevidence.com/individua...</td>\n",
       "      <td>A replicated, before-and-after study in 2010 o...</td>\n",
       "      <td>relevant</td>\n",
       "      <td>[Animals Ex-Situ, Captivity]</td>\n",
       "    </tr>\n",
       "    <tr>\n",
       "      <th>3</th>\n",
       "      <td>https://www.conservationevidence.com/individua...</td>\n",
       "      <td>A replicated, before-and-after study in 2005 a...</td>\n",
       "      <td>relevant</td>\n",
       "      <td>[Bats]</td>\n",
       "    </tr>\n",
       "    <tr>\n",
       "      <th>4</th>\n",
       "      <td>https://apps.worldagroforestry.org/downloads/P...</td>\n",
       "      <td>One year after Tsunami Aceh The coastal areas ...</td>\n",
       "      <td>irrelevant</td>\n",
       "      <td>[]</td>\n",
       "    </tr>\n",
       "  </tbody>\n",
       "</table>\n",
       "</div>"
      ],
      "text/plain": [
       "                                                 url  \\\n",
       "0  https://www.conservationevidence.com/individua...   \n",
       "1  https://region8.bfar.da.gov.ph/wp-content/uplo...   \n",
       "2  https://www.conservationevidence.com/individua...   \n",
       "3  https://www.conservationevidence.com/individua...   \n",
       "4  https://apps.worldagroforestry.org/downloads/P...   \n",
       "\n",
       "                                                text   relevance  \\\n",
       "0  A replicated controlled study of former agricu...    relevant   \n",
       "1  re Ag ricultu pa of rtment De 8 RESOURCES AQUA...  irrelevant   \n",
       "2  A replicated, before-and-after study in 2010 o...    relevant   \n",
       "3  A replicated, before-and-after study in 2005 a...    relevant   \n",
       "4  One year after Tsunami Aceh The coastal areas ...  irrelevant   \n",
       "\n",
       "                   multiclasses  \n",
       "0                    [Farmland]  \n",
       "1                            []  \n",
       "2  [Animals Ex-Situ, Captivity]  \n",
       "3                        [Bats]  \n",
       "4                            []  "
      ]
     },
     "execution_count": 2,
     "metadata": {},
     "output_type": "execute_result"
    }
   ],
   "source": [
    "def import_labelled_data(path=\"data/labelled/data.json\"):\n",
    "    data = pd.read_json(path, encoding=\"latin-1\")\n",
    "    return data\n",
    "\n",
    "\n",
    "print(\"Loading data...\")\n",
    "\n",
    "data = import_labelled_data(\n",
    "    path=\"../../data/level-0.5/data.json\"\n",
    ")\n",
    "\n",
    "print(\"Data loaded.\")\n",
    "\n",
    "\n",
    "# data = data.sample(2500)\n",
    "\n",
    "data = data.sample(frac=1).reset_index(drop=True)\n",
    "\n",
    "data.info()\n",
    "data.head()"
   ]
  },
  {
   "cell_type": "code",
   "execution_count": 3,
   "metadata": {},
   "outputs": [],
   "source": [
    "def train_test_split(x, y=None, test_size=0.2,shuffle=False):\n",
    "    if shuffle:\n",
    "        x = x.sample(frac=1).reset_index(drop=True)\n",
    "    split = int(len(x) * (1 - test_size))\n",
    "    xTrain, xTest = x.iloc[:split], x.iloc[split:]\n",
    "    if y is not None:\n",
    "        yTrain, yTest = y.iloc[:split], y.iloc[split:]\n",
    "        return xTrain, xTest, yTrain, yTest\n",
    "    return xTrain, xTest\n",
    "\n",
    "\n",
    "trainData, testData = train_test_split(data, test_size=0.2) # already shuffled above"
   ]
  },
  {
   "cell_type": "code",
   "execution_count": 4,
   "metadata": {},
   "outputs": [
    {
     "data": {
      "text/html": [
       "<div>\n",
       "<style scoped>\n",
       "    .dataframe tbody tr th:only-of-type {\n",
       "        vertical-align: middle;\n",
       "    }\n",
       "\n",
       "    .dataframe tbody tr th {\n",
       "        vertical-align: top;\n",
       "    }\n",
       "\n",
       "    .dataframe thead th {\n",
       "        text-align: right;\n",
       "    }\n",
       "</style>\n",
       "<table border=\"1\" class=\"dataframe\">\n",
       "  <thead>\n",
       "    <tr style=\"text-align: right;\">\n",
       "      <th></th>\n",
       "      <th>url</th>\n",
       "      <th>text</th>\n",
       "      <th>relevance</th>\n",
       "      <th>multiclasses</th>\n",
       "    </tr>\n",
       "  </thead>\n",
       "  <tbody>\n",
       "    <tr>\n",
       "      <th>0</th>\n",
       "      <td>https://www.conservationevidence.com/individua...</td>\n",
       "      <td>A replicated controlled study of former agricu...</td>\n",
       "      <td>relevant</td>\n",
       "      <td>[Farmland]</td>\n",
       "    </tr>\n",
       "    <tr>\n",
       "      <th>1</th>\n",
       "      <td>https://region8.bfar.da.gov.ph/wp-content/uplo...</td>\n",
       "      <td>re Ag ricultu pa of rtment De 8 RESOURCES AQUA...</td>\n",
       "      <td>irrelevant</td>\n",
       "      <td>[]</td>\n",
       "    </tr>\n",
       "    <tr>\n",
       "      <th>2</th>\n",
       "      <td>https://www.conservationevidence.com/individua...</td>\n",
       "      <td>A replicated, before-and-after study in 2010 o...</td>\n",
       "      <td>relevant</td>\n",
       "      <td>[Animals Ex-Situ, Captivity]</td>\n",
       "    </tr>\n",
       "    <tr>\n",
       "      <th>3</th>\n",
       "      <td>https://www.conservationevidence.com/individua...</td>\n",
       "      <td>A replicated, before-and-after study in 2005 a...</td>\n",
       "      <td>relevant</td>\n",
       "      <td>[Bats]</td>\n",
       "    </tr>\n",
       "    <tr>\n",
       "      <th>4</th>\n",
       "      <td>https://apps.worldagroforestry.org/downloads/P...</td>\n",
       "      <td>One year after Tsunami Aceh The coastal areas ...</td>\n",
       "      <td>irrelevant</td>\n",
       "      <td>[]</td>\n",
       "    </tr>\n",
       "  </tbody>\n",
       "</table>\n",
       "</div>"
      ],
      "text/plain": [
       "                                                 url  \\\n",
       "0  https://www.conservationevidence.com/individua...   \n",
       "1  https://region8.bfar.da.gov.ph/wp-content/uplo...   \n",
       "2  https://www.conservationevidence.com/individua...   \n",
       "3  https://www.conservationevidence.com/individua...   \n",
       "4  https://apps.worldagroforestry.org/downloads/P...   \n",
       "\n",
       "                                                text   relevance  \\\n",
       "0  A replicated controlled study of former agricu...    relevant   \n",
       "1  re Ag ricultu pa of rtment De 8 RESOURCES AQUA...  irrelevant   \n",
       "2  A replicated, before-and-after study in 2010 o...    relevant   \n",
       "3  A replicated, before-and-after study in 2005 a...    relevant   \n",
       "4  One year after Tsunami Aceh The coastal areas ...  irrelevant   \n",
       "\n",
       "                   multiclasses  \n",
       "0                    [Farmland]  \n",
       "1                            []  \n",
       "2  [Animals Ex-Situ, Captivity]  \n",
       "3                        [Bats]  \n",
       "4                            []  "
      ]
     },
     "execution_count": 4,
     "metadata": {},
     "output_type": "execute_result"
    }
   ],
   "source": [
    "trainData.head()"
   ]
  },
  {
   "cell_type": "code",
   "execution_count": 5,
   "metadata": {},
   "outputs": [
    {
     "name": "stdout",
     "output_type": "stream",
     "text": [
      "Estimated time to train on full dataset:  67.0  seconds\n"
     ]
    }
   ],
   "source": [
    "from LogisticRegressionClassifier import LogisticRegressionClassifier\n",
    "\n",
    "# Vectorization on 2500 articles takes roughly\n",
    "# Training is instant\n",
    "\n",
    "print('Estimated time to train on full dataset: ', 67 / 2500 * len(data), ' seconds')\n",
    "\n",
    "\n",
    "logistic = LogisticRegressionClassifier()\n",
    "logistic.train(trainData)"
   ]
  },
  {
   "cell_type": "code",
   "execution_count": 7,
   "metadata": {},
   "outputs": [
    {
     "name": "stdout",
     "output_type": "stream",
     "text": [
      "Estimated articles processed per second:  75.62745098039215\n",
      "Estimated time to predict on 500 articles:  6.611355976147265  seconds\n"
     ]
    }
   ],
   "source": [
    "def eval(classifier):\n",
    "    predYBools, predYProbabilities = classifier.predict_threshold(testData,threshold=0.5)\n",
    "    return testData['relevance'].map({'relevant':1, 'irrelevant': 0}),predYBools, predYProbabilities\n",
    "\n",
    "\n",
    "print('Estimated articles processed per second: ', 3857 / 51)\n",
    "print(f'Estimated time to predict on {len(testData)} articles: ', 51 / 3857 * len(testData), ' seconds')"
   ]
  },
  {
   "cell_type": "code",
   "execution_count": 8,
   "metadata": {},
   "outputs": [],
   "source": [
    "trueYInts, predYBools, predYProbabilities = eval(logistic)\n",
    "# took 10.4s for 500 articles"
   ]
  },
  {
   "cell_type": "code",
   "execution_count": 9,
   "metadata": {},
   "outputs": [
    {
     "data": {
      "text/plain": [
       "(pandas.core.series.Series, numpy.ndarray, numpy.ndarray)"
      ]
     },
     "execution_count": 9,
     "metadata": {},
     "output_type": "execute_result"
    }
   ],
   "source": [
    "type(trueYInts), type(predYBools), type(predYProbabilities)"
   ]
  },
  {
   "cell_type": "code",
   "execution_count": 10,
   "metadata": {},
   "outputs": [],
   "source": [
    "from sklearn.metrics import accuracy_score, confusion_matrix, f1_score, precision_score\n",
    "\n",
    "def calculate_metrics(trueYInts, predYBools, predYProbabilities):\n",
    "    return {\n",
    "            \"accuracy\": accuracy_score(trueYInts, predYBools),\n",
    "            \"f1\": f1_score(trueYInts, predYBools, average='macro',zero_division=0),\n",
    "            \"precision\": precision_score(trueYInts, predYBools, average='macro',zero_division=0),\n",
    "            \"confusion_matrix\": confusion_matrix(trueYInts, predYBools),\n",
    "            \"predictions\": logistic.boolPredictionsToLabels(predYBools.astype('bool').astype(f'<U{len(\"irrelevant\")}')),\n",
    "            \"probabilities\": predYProbabilities[:,1]\n",
    "        }\n",
    "\n",
    "\n",
    "# need the f'<U{len(\"irrelevant\")}' to ensure the strings don't get\n",
    "# truncated to the same length as 'False'\n",
    "# so we set the max length to the length of 'irrelevant'\n",
    "\n",
    "\n",
    "\n",
    "def format_output(results):\n",
    "    print(f\"Accuracy: {results['accuracy']} \\t F1: {results['f1']} \\t Precision: {results['precision']} \\t\")\n",
    "    print(\"\\n\\n\")"
   ]
  },
  {
   "cell_type": "code",
   "execution_count": 11,
   "metadata": {},
   "outputs": [
    {
     "name": "stdout",
     "output_type": "stream",
     "text": [
      "Accuracy: 0.994 \t F1: 0.9939032073194028 \t Precision: 0.9946996466431095 \t\n",
      "\n",
      "\n",
      "\n"
     ]
    }
   ],
   "source": [
    "results = calculate_metrics(trueYInts, predYBools.astype('int32'), predYProbabilities)\n",
    "\n",
    "format_output(results)"
   ]
  },
  {
   "cell_type": "code",
   "execution_count": 12,
   "metadata": {},
   "outputs": [
    {
     "name": "stdout",
     "output_type": "stream",
     "text": [
      "<class 'pandas.core.frame.DataFrame'>\n",
      "RangeIndex: 500 entries, 2000 to 2499\n",
      "Data columns (total 4 columns):\n",
      " #   Column        Non-Null Count  Dtype \n",
      "---  ------        --------------  ----- \n",
      " 0   url           500 non-null    object\n",
      " 1   text          500 non-null    object\n",
      " 2   relevance     500 non-null    object\n",
      " 3   multiclasses  500 non-null    object\n",
      "dtypes: object(4)\n",
      "memory usage: 15.8+ KB\n"
     ]
    }
   ],
   "source": [
    "testData.info()"
   ]
  },
  {
   "cell_type": "code",
   "execution_count": 14,
   "metadata": {},
   "outputs": [],
   "source": [
    "testData = testData.assign(predictions=results['predictions'], score=results['probabilities'])\n"
   ]
  },
  {
   "cell_type": "code",
   "execution_count": 15,
   "metadata": {},
   "outputs": [
    {
     "name": "stdout",
     "output_type": "stream",
     "text": [
      "<class 'pandas.core.frame.DataFrame'>\n",
      "RangeIndex: 500 entries, 2000 to 2499\n",
      "Data columns (total 6 columns):\n",
      " #   Column        Non-Null Count  Dtype  \n",
      "---  ------        --------------  -----  \n",
      " 0   url           500 non-null    object \n",
      " 1   text          500 non-null    object \n",
      " 2   relevance     500 non-null    object \n",
      " 3   multiclasses  500 non-null    object \n",
      " 4   predictions   500 non-null    object \n",
      " 5   score         500 non-null    float64\n",
      "dtypes: float64(1), object(5)\n",
      "memory usage: 23.6+ KB\n"
     ]
    },
    {
     "data": {
      "text/html": [
       "<div>\n",
       "<style scoped>\n",
       "    .dataframe tbody tr th:only-of-type {\n",
       "        vertical-align: middle;\n",
       "    }\n",
       "\n",
       "    .dataframe tbody tr th {\n",
       "        vertical-align: top;\n",
       "    }\n",
       "\n",
       "    .dataframe thead th {\n",
       "        text-align: right;\n",
       "    }\n",
       "</style>\n",
       "<table border=\"1\" class=\"dataframe\">\n",
       "  <thead>\n",
       "    <tr style=\"text-align: right;\">\n",
       "      <th></th>\n",
       "      <th>url</th>\n",
       "      <th>text</th>\n",
       "      <th>relevance</th>\n",
       "      <th>multiclasses</th>\n",
       "      <th>predictions</th>\n",
       "      <th>score</th>\n",
       "    </tr>\n",
       "  </thead>\n",
       "  <tbody>\n",
       "    <tr>\n",
       "      <th>2000</th>\n",
       "      <td>https://budget.finance.go.ug/sites/default/fil...</td>\n",
       "      <td>LG Draft Budget Estimates 2024/25 VOTE: 708 Ka...</td>\n",
       "      <td>irrelevant</td>\n",
       "      <td>[]</td>\n",
       "      <td>irrelevant</td>\n",
       "      <td>0.043956</td>\n",
       "    </tr>\n",
       "    <tr>\n",
       "      <th>2001</th>\n",
       "      <td>https://documents1.worldbank.org/curated/ru/69...</td>\n",
       "      <td>dd ee zz ii rr oo hh tt uu AA ee rr uu ss oo l...</td>\n",
       "      <td>irrelevant</td>\n",
       "      <td>[]</td>\n",
       "      <td>irrelevant</td>\n",
       "      <td>0.044929</td>\n",
       "    </tr>\n",
       "    <tr>\n",
       "      <th>2002</th>\n",
       "      <td>https://muntinlupacity.gov.ph/wp-content/uploa...</td>\n",
       "      <td>REPUBLIKA NG PILPINAS PAMAHALAAI{G LUNGSOD NG ...</td>\n",
       "      <td>irrelevant</td>\n",
       "      <td>[]</td>\n",
       "      <td>irrelevant</td>\n",
       "      <td>0.074044</td>\n",
       "    </tr>\n",
       "    <tr>\n",
       "      <th>2003</th>\n",
       "      <td>https://documents1.worldbank.org/curated/en/85...</td>\n",
       "      <td>d e z Pearson et al. BMC Public Health (2018) ...</td>\n",
       "      <td>irrelevant</td>\n",
       "      <td>[]</td>\n",
       "      <td>irrelevant</td>\n",
       "      <td>0.063588</td>\n",
       "    </tr>\n",
       "    <tr>\n",
       "      <th>2004</th>\n",
       "      <td>https://www.conservationevidence.com/individua...</td>\n",
       "      <td>Manage wetlands or ponds by grazing or cutting...</td>\n",
       "      <td>relevant</td>\n",
       "      <td>[Insects]</td>\n",
       "      <td>relevant</td>\n",
       "      <td>0.929197</td>\n",
       "    </tr>\n",
       "  </tbody>\n",
       "</table>\n",
       "</div>"
      ],
      "text/plain": [
       "                                                    url  \\\n",
       "2000  https://budget.finance.go.ug/sites/default/fil...   \n",
       "2001  https://documents1.worldbank.org/curated/ru/69...   \n",
       "2002  https://muntinlupacity.gov.ph/wp-content/uploa...   \n",
       "2003  https://documents1.worldbank.org/curated/en/85...   \n",
       "2004  https://www.conservationevidence.com/individua...   \n",
       "\n",
       "                                                   text   relevance  \\\n",
       "2000  LG Draft Budget Estimates 2024/25 VOTE: 708 Ka...  irrelevant   \n",
       "2001  dd ee zz ii rr oo hh tt uu AA ee rr uu ss oo l...  irrelevant   \n",
       "2002  REPUBLIKA NG PILPINAS PAMAHALAAI{G LUNGSOD NG ...  irrelevant   \n",
       "2003  d e z Pearson et al. BMC Public Health (2018) ...  irrelevant   \n",
       "2004  Manage wetlands or ponds by grazing or cutting...    relevant   \n",
       "\n",
       "     multiclasses predictions     score  \n",
       "2000           []  irrelevant  0.043956  \n",
       "2001           []  irrelevant  0.044929  \n",
       "2002           []  irrelevant  0.074044  \n",
       "2003           []  irrelevant  0.063588  \n",
       "2004    [Insects]    relevant  0.929197  "
      ]
     },
     "execution_count": 15,
     "metadata": {},
     "output_type": "execute_result"
    }
   ],
   "source": [
    "testData.info()\n",
    "testData.head()"
   ]
  },
  {
   "cell_type": "code",
   "execution_count": 16,
   "metadata": {},
   "outputs": [
    {
     "data": {
      "image/png": "[encoded data removed]",
      "text/plain": [
       "<Figure size 2000x500 with 2 Axes>"
      ]
     },
     "metadata": {},
     "output_type": "display_data"
    }
   ],
   "source": [
    "import matplotlib.pyplot as plt\n",
    "from sklearn.metrics import confusion_matrix, ConfusionMatrixDisplay\n",
    "\n",
    "fig, axs = plt.subplots(1, 1, figsize=(20, 5))\n",
    "\n",
    "\n",
    "confusion = confusion_matrix(testData['relevance'], testData['predictions'])\n",
    "disp = ConfusionMatrixDisplay(confusion_matrix=confusion)\n",
    "disp.plot(ax=axs, cmap='plasma')\n",
    "\n",
    "plt.show()\n",
    "\n"
   ]
  },
  {
   "cell_type": "code",
   "execution_count": 17,
   "metadata": {},
   "outputs": [
    {
     "data": {
      "image/png": "[encoded data removed]",
      "text/plain": [
       "<Figure size 2000x500 with 1 Axes>"
      ]
     },
     "metadata": {},
     "output_type": "display_data"
    }
   ],
   "source": [
    "from sklearn.metrics import precision_recall_curve, PrecisionRecallDisplay\n",
    "\n",
    "precision, recall, thresholds = precision_recall_curve(trueYInts, predYProbabilities[:,1])\n",
    "\n",
    "fig, axs = plt.subplots(1, 1, figsize=(20, 5))\n",
    "\n",
    "disp = PrecisionRecallDisplay(precision=precision, recall=recall)\n",
    "disp.plot(ax=axs)\n",
    "\n",
    "plt.show()\n"
   ]
  },
  {
   "cell_type": "code",
   "execution_count": 28,
   "metadata": {},
   "outputs": [],
   "source": [
    "# save logistic regression model\n",
    "\n",
    "import pickle\n",
    "import os\n",
    "\n",
    "if len(data) <= 15000:\n",
    "    path = 'models/dev/LogisticRegression.pkl'\n",
    "else:\n",
    "    path = 'models/LogisticRegression.pkl'\n",
    "\n",
    "with open(path, 'wb') as f:\n",
    "    pickle.dump(logistic, f)\n",
    "\n"
   ]
  }
 ],
 "metadata": {
  "kernelspec": {
   "display_name": "grey-literature-classification-bv5LGFdB",
   "language": "python",
   "name": "python3"
  },
  "language_info": {
   "codemirror_mode": {
    "name": "ipython",
    "version": 3
   },
   "file_extension": ".py",
   "mimetype": "text/x-python",
   "name": "python",
   "nbconvert_exporter": "python",
   "pygments_lexer": "ipython3",
   "version": "3.10.12"
  }
 },
 "nbformat": 4,
 "nbformat_minor": 2
}
