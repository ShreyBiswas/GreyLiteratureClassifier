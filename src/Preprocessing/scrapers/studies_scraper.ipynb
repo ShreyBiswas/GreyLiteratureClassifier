{
 "cells": [
  {
   "cell_type": "code",
   "execution_count": 1,
   "metadata": {},
   "outputs": [],
   "source": [
    "import requests\n",
    "import bs4 as BeautifulSoup"
   ]
  },
  {
   "cell_type": "code",
   "execution_count": 2,
   "metadata": {},
   "outputs": [],
   "source": [
    "prefix = \"https://www.conservationevidence.com/individual-study/\" # add number to end, from 2 to 12261\n",
    "# skip 1, it's a test page\n",
    "\n",
    "def get_study_text(study_number):\n",
    "    url = prefix + str(study_number)\n",
    "    page = requests.get(url)\n",
    "    if page.status_code == 404:\n",
    "        raise ValueError(\"Study not found\")\n",
    "    soup = BeautifulSoup.BeautifulSoup(page.content, 'html.parser')\n",
    "\n",
    "    summary = soup.find_all('section', class_='summary')\n",
    "    if len(summary) == 0:\n",
    "        return None\n",
    "\n",
    "    # get <p> tags out\n",
    "    text = summary[0].find_all('p')\n",
    "    title = soup.find_all('h1', class_='h1')[0].get_text()\n",
    "\n",
    "    # and classes\n",
    "    summary_classes = summary[0].find_all('td',attrs={'data-head': 'Category'})\n",
    "    classes = [c.find('img')['alt'] for c in summary_classes if c.find('img') is not None]\n",
    "\n",
    "\n",
    "\n",
    "    return {'title': title, 'text':[t.get_text() for t in text], 'classes': classes}"
   ]
  },
  {
   "cell_type": "code",
   "execution_count": 3,
   "metadata": {},
   "outputs": [],
   "source": [
    "def parse_text(text):\n",
    "    author = text[0].removeprefix('\\nPublished source details\\n')\n",
    "    author = author.strip()\n",
    "    year = author.split(\"(\", 1)[1].split(\")\")[0]\n",
    "\n",
    "    text = set(text[1:])\n",
    "\n",
    "    return author, year, text"
   ]
  },
  {
   "cell_type": "code",
   "execution_count": 4,
   "metadata": {},
   "outputs": [],
   "source": [
    "def make_request(study_number):\n",
    "    try:\n",
    "        result = get_study_text(study_number)\n",
    "        if result['text'] is None:\n",
    "            return None\n",
    "        result['id'] = study_number\n",
    "        result['author'], result['year'], result['text'] = parse_text(result['text'])\n",
    "        return result\n",
    "    except ValueError as e:\n",
    "        # print(f\"404 Error in {study_number}: {e}\")\n",
    "        return None\n",
    "    except Exception as e:\n",
    "        print(f\"Error in {study_number}: {e}\")\n",
    "        return None\n"
   ]
  },
  {
   "cell_type": "code",
   "execution_count": 5,
   "metadata": {},
   "outputs": [],
   "source": [
    "from tqdm.notebook import tqdm\n",
    "from concurrent.futures import ThreadPoolExecutor, as_completed"
   ]
  },
  {
   "cell_type": "code",
   "execution_count": 6,
   "metadata": {},
   "outputs": [
    {
     "data": {
      "text/plain": [
       "{'title': 'The management of grass pastures for brent geese\\n\\n\\n\\nPublished source details\\n                                            Vickery J.A., Sutherland W.J. & Lane S.J. (1994) The management of grass pastures for brent geese. Journal of Applied Ecology, 31, 283-290.                                    \\n\\n\\n\\nShare\\n                \\n\\nTweet\\n                \\n\\n\\nIcons/envelope\\n\\n\\n\\nEmail\\n                \\n\\n\\n',\n",
       " 'text': {'A randomised, replicated, controlled experiment in 1990-1992 on a pasture in Essex, UK (Vickery et al. 1994) found similar grazing intensities of brent geese Branta bernicla (pests) on sheep-grazed plots (averaging 31.6-39.5 total goose droppings/m²/winter), cut and grazed plots (28.2-36.4 droppings), and cut-only plots (28.5-36.8 droppings). The amount of vegetation was similar between grazed (223-236 g dry weight/m²), cut and grazed (195-255 g/m²) and cut-only plots (188-232 g/m²). In another randomised, replicated, controlled experiment, grazing intensities of brent geese were similar in sheep-grazed (59.6 total droppings/m²) and cattle-grazed (60.2 droppings/m²) plots. In the first experiment, grazed plots contained sheep in April-May or June and July-September and grazing intensities varied from 13.5-92.2 livestock unit days. Cut and grazed plots were cut on 26 June then grazed for one or two one-month periods. Cut plots were cut in late June and late August. Each treatment was replicated six times in 100 x 75 m plots. In the second experiment six plots (of 50 x 50 m) were grazed by 14 cattle and six plots were grazed by 6-11 sheep in June-August. Goose droppings were monitored in sample areas (with 1.5 m-radiuses) at 5 and 10 random points/plot (first and second experiments, respectively).',\n",
       "  'A series of replicated controlled trials on grassland sites at two reserves in Essex, England, between 1990 and 1992 (Vickery et al. 1994) found that brent geese Branta bernicla did not graze at higher densities on plots that were areas grazed, compared to cut and grazed areas, or areas that were just cut. Goose grazing intensity was not affected by sheep grazing compared to cattle grazing. Six replicates of each treatment were used.',\n",
       "  'A series of replicated controlled trials on grassland sites at two reserves in Essex, England, between 1990 and 1992 (Vickery et al. 1994) found that brent geese Branta bernicla did not graze at higher densities on plots that were areas grazed, compared to cut and grazed areas, or areas that were just cut. Goose grazing intensity was not affected by sheep grazing compared to cattle grazing. Six replicates of each treatment were used.\\xa0',\n",
       "  'A series of replicated controlled trials on grassland sites at two reserves in Essex, England, between 1990 and 1992 (Vickery et al. 1994) found that brent geese Branta bernicla grazed at significantly higher densities on fertilised and cut areas, compared to unfertilised areas, but only at high levels of fertiliser application (50 kg N/ha used: 28-30 droppings/m2 for fertilised areas vs. 23-28 droppings/m2 for controls; 18 kg N/ha\\xa0 used: 30-35 droppings/m2 for fertilised areas vs. 25-35 droppings/m2 for control areas). There were no differences between trials using organic and inorganic fertiliser.',\n",
       "  'A series of replicated controlled trials on grassland sites at two reserves in Essex, England, between 1990 and 1992 (Vickery et al. 1994) found that brent geese Branta bernicla grazed at significantly higher densities on fertilised and cut areas, compared to unfertilised areas, but only at high levels of fertiliser application (50 kg N/ha used: 28-30 droppings/m2 for fertilised areas vs. 23-28 droppings/m2 for controls; 18 kg N/ha\\xa0 used: 30-35 droppings/m2 for fertilised areas vs. 25-35 droppings/m2 for control areas). There were no differences between trials using organic and inorganic fertiliser.\\xa0',\n",
       "  'A series of replicated controlled trials on grassland sites at two reserves in Essex, England, between 1990 and 1992 (Vickery et al. 1994) found that brent geese Branta bernicla grazed at significantly higher densities on fertilized and cut areas, compared to unfertilized areas, but only at high levels of fertilizer application (50 kg N/ha used: 28-30 droppings/m2 for fertilized areas vs 23-28 droppings/m2 for controls, 18 kg N/ha\\xa0used: 30-35 droppings/m2 for fertilized areas vs 25-35 droppings/m2 for control areas). There were no differences between trials using organic and inorganic fertilizer.',\n",
       "  'A series of replicated trials on grassland sites at two reserves in Essex, England, between 1990 and 1992 (Vickery et al. 1994) found that brent geese Branta bernicla grazing densities on 24 grassland plots were not affected by the frequency of grass cutting (between two and five times a year). There were no differences between areas that were only cut, cut and grazed or only grazed. This study is discussed further in ‘Fertilise grasslands’ and ‘Employ grazing in natural and semi-natural habitats’.',\n",
       "  'A series of replicated trials on grassland sites at two reserves in Essex, England, between 1990 and 1992 (Vickery et al. 1994) found that brent geese Branta bernicla grazing densities on 24 grassland plots were not affected by the frequency of grass cutting (between two and five times a year). There were no differences between areas that were only cut, cut and grazed or only grazed. This study is discussed further in ‘Fertilise grasslands’ and ‘Employ grazing in natural and semi-natural habitats’.\\xa0',\n",
       "  'Employ grazing in artificial grasslands/pastures',\n",
       "  'Fertilize artificial grasslands ',\n",
       "  'Mow or cut semi-natural grasslands/pastures',\n",
       "  \"Provide 'sacrificial' grasslands to reduce the impact of wild geese on crops\",\n",
       "  'This study is summarised as evidence for the following.',\n",
       "  'Use grazing instead of cutting for pasture or grassland management',\n",
       "  '\\xa0'},\n",
       " 'classes': ['Bird Conservation',\n",
       "  'Bird Conservation',\n",
       "  'Bird Conservation',\n",
       "  'Farmland Conservation',\n",
       "  'Natural Pest Control'],\n",
       " 'id': 2,\n",
       " 'author': 'Vickery J.A., Sutherland W.J. & Lane S.J. (1994) The management of grass pastures for brent geese. Journal of Applied Ecology, 31, 283-290.',\n",
       " 'year': '1994'}"
      ]
     },
     "execution_count": 6,
     "metadata": {},
     "output_type": "execute_result"
    }
   ],
   "source": [
    "make_request(2)"
   ]
  },
  {
   "cell_type": "code",
   "execution_count": 7,
   "metadata": {},
   "outputs": [
    {
     "data": {
      "application/vnd.jupyter.widget-view+json": {
       "model_id": "cddb0b2421ef44c3a53b4799e7454976",
       "version_major": 2,
       "version_minor": 0
      },
      "text/plain": [
       "  0%|          | 0/12259 [00:00<?, ?it/s]"
      ]
     },
     "metadata": {},
     "output_type": "display_data"
    }
   ],
   "source": [
    "def scrape():\n",
    "    n  = 12261\n",
    "    # n = 10\n",
    "\n",
    "    results = [0 for _ in range(n-2)]\n",
    "\n",
    "    with tqdm(total=n-2) as pbar:\n",
    "        with ThreadPoolExecutor(max_workers=20) as executor:\n",
    "            futures = [executor.submit(make_request, i) for i in range(2, n)]\n",
    "\n",
    "            for future in as_completed(futures):\n",
    "                pbar.update(1)\n",
    "                result = future.result()\n",
    "                # store in results variable\n",
    "                if result is not None:\n",
    "                    results[result['id']-2] = result\n",
    "\n",
    "\n",
    "    return results\n",
    "\n",
    "def retrieve():\n",
    "    folder = 'data/labelled/studies/'\n",
    "    import json\n",
    "    import os\n",
    "    for file in os.listdir(folder):\n",
    "        if file.endswith(\".json\"):\n",
    "            with open(os.path.join(folder,file)) as f:\n",
    "                data = json.load(f)\n",
    "                data['id'] = file.split(' - ')[0]\n",
    "                data['classes'] = [data['class']]\n",
    "                yield data\n",
    "\n",
    "\n",
    "results = scrape()\n",
    "# results = retrieve()"
   ]
  },
  {
   "cell_type": "code",
   "execution_count": null,
   "metadata": {},
   "outputs": [],
   "source": [
    "# remove None values\n",
    "results = [r for r in results if type(r) == dict]"
   ]
  },
  {
   "cell_type": "code",
   "execution_count": null,
   "metadata": {},
   "outputs": [
    {
     "data": {
      "text/plain": [
       "{'title': 'Habitat destruction and its effect on a population of smooth newts Triturus vulgaris: an unfortunate field experiment\\n\\n\\n\\nPublished source details\\n                                            Verrell P.A. (1987) Habitat destruction and its effect on a population of smooth newts Triturus vulgaris: an unfortunate field experiment. The Herpetological Journal, 1, 175-177.                                    \\n\\n\\n\\nShare\\n                \\n\\nTweet\\n                \\n\\n\\nIcons/envelope\\n\\n\\n\\nEmail\\n                \\n\\n\\n',\n",
       " 'text': {'As well as losing the benefits afforded by the terrestrial vegetation e.g. used as a terrestrial refuge/foraging area, European rabbit Oryctolagus cuniculus burrows known to be used as hibernacula by newts and common toads Bufo bufo, were also destroyed. Additionally, the opening up of Cleaver Pond has allowed greater ease of access and this has probably exacerbated problems of increased disturbance and capture of animals by members of the public. ',\n",
       "  \"From results of ‘before' and ‘after' newt surveys, the consequences of the marginal vegetation removal at Cleaver Pond suggests that this has been detrimental to the newt population. For both ponds the number of smooth newts recorded in 1986 were lower than in 1985. The decrease at Marigold Pond was 30% (cumulative total: 492 in 1985; 346 in 1986). However, the decrease at Cleaver Pond was far higher, estimated at 75% (65 in 1985; 16 in 1986). Additionally torching those parts of Cleaver Pond rendered more accessible in 1986 did not result in a high newt count (23 in total) suggesting that the between-years difference at Cleaver Pond was not due to a change in distribution within the pond.\",\n",
       "  \"From results of ‘before' and ‘after' newt surveys, the consequences of the marginal vegetation removal at Cleaver Pond suggests that this has been detrimental to the newt population. For both ponds the number of smooth newts recorded in 1986 were lower than in 1985. The decrease at Marigold Pond was 30% (cumulative total: 492 in 1985; 346 in 1986). However, the decrease at Cleaver Pond was far higher, estimated at 75% (65 in 1985; 16 in 1986). Additionally torching those parts of Cleaver Pond rendered more accessible in 1986 did not result in a high newt count (23 in total) suggesting that the between-years difference at Cleaver Pond was not due to a change in distribution within the pond.\\nAs well as losing the benefits afforded by the terrestrial vegetation e.g. used as a terrestrial refuge/foraging area, European rabbit Oryctolagus cuniculus burrows known to be used as hibernacula by newts and common toads Bufo bufo, were also destroyed. Additionally, the opening up of Cleaver Pond has allowed greater ease of access and this has probably exacerbated problems of increased disturbance and capture of animals by members of the public. \\nNote: If using or referring to this published study please read and quote the original paper.\",\n",
       "  'In England, several studies have shown that ponds with marginal scrub habitat are more likely to support amphibian populations than those without. Loss of terrestrial habitat surrounding ponds can be detrimental to amphibians which use ponds for breeding. An opportunity to study the effects of removal of marginal vegetation on a population of smooth newts Triturus vulgaris arose when scrub clearance was undertaken around a pond in Buckinghamshire, southern England.',\n",
       "  'Note: If using or referring to this published study please read and quote the original paper.',\n",
       "  'Vegetatation removal: Marginal vegetation (mainly hawthorn Crataegus monogyna) scrub around the northern edge of Cleaver Pond (situated on the Conniburrow housing estate, Milton Keynes), was cleared over winter between the 1985-1986 amphibian breeding seasons to control plant growth and render the site safer when visited by members of the public. Vegetation was cut and removed by the local authority. Prior to this management Cleaver Pond, and nearby Marigold Pond (approximately 400 m away and not subjected to vegetation removal), were subject to physical and biological surveys.   Smooth newt censuses: Night-time censuses were undertaken during the breeding seasons in 1985 and 1986 i.e. before and after the vegetation removal. Commencing in March, two or three visits per week between 19:30 to 11:00 h (starting at or around dusk) were made. In 1985 visits were terminated in mid-June, and in 1986 early July. At Marigold Pond in both years a census consisted of walking around the pond perimeter, scanning the shallower and less-vegetated areas with a spotlight and recording the number of newts observed. At Cleaver Pond with limited access in 1985, only a small area at the western end was accessible due to thick vegetation surrounding the pond elsewhere. During each visit, standing at the western end, the number of newts visible over a 10 minute period was recorded. In 1986, access to Cleaver Pond was greatly improved but the same census technique was employed as in 1985.'},\n",
       " 'classes': [],\n",
       " 'id': 7,\n",
       " 'author': 'Verrell P.A. (1987) Habitat destruction and its effect on a population of smooth newts Triturus vulgaris: an unfortunate field experiment. The Herpetological Journal, 1, 175-177.',\n",
       " 'year': '1987'}"
      ]
     },
     "execution_count": 9,
     "metadata": {},
     "output_type": "execute_result"
    }
   ],
   "source": [
    "results[3]"
   ]
  },
  {
   "cell_type": "code",
   "execution_count": null,
   "metadata": {},
   "outputs": [
    {
     "ename": "JSONDecodeError",
     "evalue": "Expecting value: line 1 column 1 (char 0)",
     "output_type": "error",
     "traceback": [
      "\u001b[1;31m---------------------------------------------------------------------------\u001b[0m",
      "\u001b[1;31mJSONDecodeError\u001b[0m                           Traceback (most recent call last)",
      "Cell \u001b[1;32mIn[10], line 9\u001b[0m\n\u001b[0;32m      7\u001b[0m \u001b[38;5;28;01mif\u001b[39;00m synopsis\u001b[38;5;241m.\u001b[39mendswith(\u001b[38;5;124m\"\u001b[39m\u001b[38;5;124m.json\u001b[39m\u001b[38;5;124m\"\u001b[39m):\n\u001b[0;32m      8\u001b[0m     \u001b[38;5;28;01mwith\u001b[39;00m \u001b[38;5;28mopen\u001b[39m(os\u001b[38;5;241m.\u001b[39mpath\u001b[38;5;241m.\u001b[39mjoin(\u001b[38;5;124m'\u001b[39m\u001b[38;5;124mdata/labelled/synopses\u001b[39m\u001b[38;5;124m'\u001b[39m,synopsis)) \u001b[38;5;28;01mas\u001b[39;00m f:\n\u001b[1;32m----> 9\u001b[0m         syn \u001b[38;5;241m=\u001b[39m \u001b[43mload\u001b[49m\u001b[43m(\u001b[49m\u001b[43mf\u001b[49m\u001b[43m)\u001b[49m\n\u001b[0;32m     10\u001b[0m         original_name \u001b[38;5;241m=\u001b[39m synopsis\u001b[38;5;241m.\u001b[39msplit(\u001b[38;5;124m'\u001b[39m\u001b[38;5;124m - \u001b[39m\u001b[38;5;124m'\u001b[39m)[\u001b[38;5;241m1\u001b[39m]\u001b[38;5;241m.\u001b[39msplit(\u001b[38;5;124m'\u001b[39m\u001b[38;5;124m.\u001b[39m\u001b[38;5;124m'\u001b[39m)[\u001b[38;5;241m0\u001b[39m]\n\u001b[0;32m     11\u001b[0m         class_name_map[original_name] \u001b[38;5;241m=\u001b[39m syn[\u001b[38;5;124m'\u001b[39m\u001b[38;5;124mclass\u001b[39m\u001b[38;5;124m'\u001b[39m]\n",
      "File \u001b[1;32m~\\AppData\\Local\\Programs\\Python\\Python311\\Lib\\json\\__init__.py:293\u001b[0m, in \u001b[0;36mload\u001b[1;34m(fp, cls, object_hook, parse_float, parse_int, parse_constant, object_pairs_hook, **kw)\u001b[0m\n\u001b[0;32m    274\u001b[0m \u001b[38;5;28;01mdef\u001b[39;00m \u001b[38;5;21mload\u001b[39m(fp, \u001b[38;5;241m*\u001b[39m, \u001b[38;5;28mcls\u001b[39m\u001b[38;5;241m=\u001b[39m\u001b[38;5;28;01mNone\u001b[39;00m, object_hook\u001b[38;5;241m=\u001b[39m\u001b[38;5;28;01mNone\u001b[39;00m, parse_float\u001b[38;5;241m=\u001b[39m\u001b[38;5;28;01mNone\u001b[39;00m,\n\u001b[0;32m    275\u001b[0m         parse_int\u001b[38;5;241m=\u001b[39m\u001b[38;5;28;01mNone\u001b[39;00m, parse_constant\u001b[38;5;241m=\u001b[39m\u001b[38;5;28;01mNone\u001b[39;00m, object_pairs_hook\u001b[38;5;241m=\u001b[39m\u001b[38;5;28;01mNone\u001b[39;00m, \u001b[38;5;241m*\u001b[39m\u001b[38;5;241m*\u001b[39mkw):\n\u001b[0;32m    276\u001b[0m \u001b[38;5;250m    \u001b[39m\u001b[38;5;124;03m\"\"\"Deserialize ``fp`` (a ``.read()``-supporting file-like object containing\u001b[39;00m\n\u001b[0;32m    277\u001b[0m \u001b[38;5;124;03m    a JSON document) to a Python object.\u001b[39;00m\n\u001b[0;32m    278\u001b[0m \n\u001b[1;32m   (...)\u001b[0m\n\u001b[0;32m    291\u001b[0m \u001b[38;5;124;03m    kwarg; otherwise ``JSONDecoder`` is used.\u001b[39;00m\n\u001b[0;32m    292\u001b[0m \u001b[38;5;124;03m    \"\"\"\u001b[39;00m\n\u001b[1;32m--> 293\u001b[0m     \u001b[38;5;28;01mreturn\u001b[39;00m \u001b[43mloads\u001b[49m\u001b[43m(\u001b[49m\u001b[43mfp\u001b[49m\u001b[38;5;241;43m.\u001b[39;49m\u001b[43mread\u001b[49m\u001b[43m(\u001b[49m\u001b[43m)\u001b[49m\u001b[43m,\u001b[49m\n\u001b[0;32m    294\u001b[0m \u001b[43m        \u001b[49m\u001b[38;5;28;43mcls\u001b[39;49m\u001b[38;5;241;43m=\u001b[39;49m\u001b[38;5;28;43mcls\u001b[39;49m\u001b[43m,\u001b[49m\u001b[43m \u001b[49m\u001b[43mobject_hook\u001b[49m\u001b[38;5;241;43m=\u001b[39;49m\u001b[43mobject_hook\u001b[49m\u001b[43m,\u001b[49m\n\u001b[0;32m    295\u001b[0m \u001b[43m        \u001b[49m\u001b[43mparse_float\u001b[49m\u001b[38;5;241;43m=\u001b[39;49m\u001b[43mparse_float\u001b[49m\u001b[43m,\u001b[49m\u001b[43m \u001b[49m\u001b[43mparse_int\u001b[49m\u001b[38;5;241;43m=\u001b[39;49m\u001b[43mparse_int\u001b[49m\u001b[43m,\u001b[49m\n\u001b[0;32m    296\u001b[0m \u001b[43m        \u001b[49m\u001b[43mparse_constant\u001b[49m\u001b[38;5;241;43m=\u001b[39;49m\u001b[43mparse_constant\u001b[49m\u001b[43m,\u001b[49m\u001b[43m \u001b[49m\u001b[43mobject_pairs_hook\u001b[49m\u001b[38;5;241;43m=\u001b[39;49m\u001b[43mobject_pairs_hook\u001b[49m\u001b[43m,\u001b[49m\u001b[43m \u001b[49m\u001b[38;5;241;43m*\u001b[39;49m\u001b[38;5;241;43m*\u001b[39;49m\u001b[43mkw\u001b[49m\u001b[43m)\u001b[49m\n",
      "File \u001b[1;32m~\\AppData\\Local\\Programs\\Python\\Python311\\Lib\\json\\__init__.py:346\u001b[0m, in \u001b[0;36mloads\u001b[1;34m(s, cls, object_hook, parse_float, parse_int, parse_constant, object_pairs_hook, **kw)\u001b[0m\n\u001b[0;32m    341\u001b[0m     s \u001b[38;5;241m=\u001b[39m s\u001b[38;5;241m.\u001b[39mdecode(detect_encoding(s), \u001b[38;5;124m'\u001b[39m\u001b[38;5;124msurrogatepass\u001b[39m\u001b[38;5;124m'\u001b[39m)\n\u001b[0;32m    343\u001b[0m \u001b[38;5;28;01mif\u001b[39;00m (\u001b[38;5;28mcls\u001b[39m \u001b[38;5;129;01mis\u001b[39;00m \u001b[38;5;28;01mNone\u001b[39;00m \u001b[38;5;129;01mand\u001b[39;00m object_hook \u001b[38;5;129;01mis\u001b[39;00m \u001b[38;5;28;01mNone\u001b[39;00m \u001b[38;5;129;01mand\u001b[39;00m\n\u001b[0;32m    344\u001b[0m         parse_int \u001b[38;5;129;01mis\u001b[39;00m \u001b[38;5;28;01mNone\u001b[39;00m \u001b[38;5;129;01mand\u001b[39;00m parse_float \u001b[38;5;129;01mis\u001b[39;00m \u001b[38;5;28;01mNone\u001b[39;00m \u001b[38;5;129;01mand\u001b[39;00m\n\u001b[0;32m    345\u001b[0m         parse_constant \u001b[38;5;129;01mis\u001b[39;00m \u001b[38;5;28;01mNone\u001b[39;00m \u001b[38;5;129;01mand\u001b[39;00m object_pairs_hook \u001b[38;5;129;01mis\u001b[39;00m \u001b[38;5;28;01mNone\u001b[39;00m \u001b[38;5;129;01mand\u001b[39;00m \u001b[38;5;129;01mnot\u001b[39;00m kw):\n\u001b[1;32m--> 346\u001b[0m     \u001b[38;5;28;01mreturn\u001b[39;00m \u001b[43m_default_decoder\u001b[49m\u001b[38;5;241;43m.\u001b[39;49m\u001b[43mdecode\u001b[49m\u001b[43m(\u001b[49m\u001b[43ms\u001b[49m\u001b[43m)\u001b[49m\n\u001b[0;32m    347\u001b[0m \u001b[38;5;28;01mif\u001b[39;00m \u001b[38;5;28mcls\u001b[39m \u001b[38;5;129;01mis\u001b[39;00m \u001b[38;5;28;01mNone\u001b[39;00m:\n\u001b[0;32m    348\u001b[0m     \u001b[38;5;28mcls\u001b[39m \u001b[38;5;241m=\u001b[39m JSONDecoder\n",
      "File \u001b[1;32m~\\AppData\\Local\\Programs\\Python\\Python311\\Lib\\json\\decoder.py:337\u001b[0m, in \u001b[0;36mJSONDecoder.decode\u001b[1;34m(self, s, _w)\u001b[0m\n\u001b[0;32m    332\u001b[0m \u001b[38;5;28;01mdef\u001b[39;00m \u001b[38;5;21mdecode\u001b[39m(\u001b[38;5;28mself\u001b[39m, s, _w\u001b[38;5;241m=\u001b[39mWHITESPACE\u001b[38;5;241m.\u001b[39mmatch):\n\u001b[0;32m    333\u001b[0m \u001b[38;5;250m    \u001b[39m\u001b[38;5;124;03m\"\"\"Return the Python representation of ``s`` (a ``str`` instance\u001b[39;00m\n\u001b[0;32m    334\u001b[0m \u001b[38;5;124;03m    containing a JSON document).\u001b[39;00m\n\u001b[0;32m    335\u001b[0m \n\u001b[0;32m    336\u001b[0m \u001b[38;5;124;03m    \"\"\"\u001b[39;00m\n\u001b[1;32m--> 337\u001b[0m     obj, end \u001b[38;5;241m=\u001b[39m \u001b[38;5;28;43mself\u001b[39;49m\u001b[38;5;241;43m.\u001b[39;49m\u001b[43mraw_decode\u001b[49m\u001b[43m(\u001b[49m\u001b[43ms\u001b[49m\u001b[43m,\u001b[49m\u001b[43m \u001b[49m\u001b[43midx\u001b[49m\u001b[38;5;241;43m=\u001b[39;49m\u001b[43m_w\u001b[49m\u001b[43m(\u001b[49m\u001b[43ms\u001b[49m\u001b[43m,\u001b[49m\u001b[43m \u001b[49m\u001b[38;5;241;43m0\u001b[39;49m\u001b[43m)\u001b[49m\u001b[38;5;241;43m.\u001b[39;49m\u001b[43mend\u001b[49m\u001b[43m(\u001b[49m\u001b[43m)\u001b[49m\u001b[43m)\u001b[49m\n\u001b[0;32m    338\u001b[0m     end \u001b[38;5;241m=\u001b[39m _w(s, end)\u001b[38;5;241m.\u001b[39mend()\n\u001b[0;32m    339\u001b[0m     \u001b[38;5;28;01mif\u001b[39;00m end \u001b[38;5;241m!=\u001b[39m \u001b[38;5;28mlen\u001b[39m(s):\n",
      "File \u001b[1;32m~\\AppData\\Local\\Programs\\Python\\Python311\\Lib\\json\\decoder.py:355\u001b[0m, in \u001b[0;36mJSONDecoder.raw_decode\u001b[1;34m(self, s, idx)\u001b[0m\n\u001b[0;32m    353\u001b[0m     obj, end \u001b[38;5;241m=\u001b[39m \u001b[38;5;28mself\u001b[39m\u001b[38;5;241m.\u001b[39mscan_once(s, idx)\n\u001b[0;32m    354\u001b[0m \u001b[38;5;28;01mexcept\u001b[39;00m \u001b[38;5;167;01mStopIteration\u001b[39;00m \u001b[38;5;28;01mas\u001b[39;00m err:\n\u001b[1;32m--> 355\u001b[0m     \u001b[38;5;28;01mraise\u001b[39;00m JSONDecodeError(\u001b[38;5;124m\"\u001b[39m\u001b[38;5;124mExpecting value\u001b[39m\u001b[38;5;124m\"\u001b[39m, s, err\u001b[38;5;241m.\u001b[39mvalue) \u001b[38;5;28;01mfrom\u001b[39;00m \u001b[38;5;28;01mNone\u001b[39;00m\n\u001b[0;32m    356\u001b[0m \u001b[38;5;28;01mreturn\u001b[39;00m obj, end\n",
      "\u001b[1;31mJSONDecodeError\u001b[0m: Expecting value: line 1 column 1 (char 0)"
     ]
    }
   ],
   "source": [
    "import os\n",
    "from json import load\n",
    "class_name_map = {}\n",
    "\n",
    "\n",
    "for synopsis in os.listdir('data/labelled/synopses'):\n",
    "    if synopsis.endswith(\".json\"):\n",
    "        with open(os.path.join('data/labelled/synopses',synopsis)) as f:\n",
    "            syn = load(f)\n",
    "            original_name = synopsis.split(' - ')[1].split('.')[0]\n",
    "            class_name_map[original_name] = syn['class']\n",
    "            class_name_map[original_name+' Conservation'] = syn[\"class\"]\n",
    "\n"
   ]
  },
  {
   "cell_type": "code",
   "execution_count": null,
   "metadata": {},
   "outputs": [],
   "source": [
    "def populate_json(result):\n",
    "    classes = result['classes']\n",
    "    # get most-common class\n",
    "    # return first most common if there is a tie\n",
    "    result['classes'] = max(set(classes), key=classes.count)\n",
    "    url = prefix + str(result['id'])\n",
    "    json = {\n",
    "        \"reference type\": \"CE Study\",\n",
    "        \"author\": result[\"author\"],\n",
    "        \"year\": result[\"year\"],\n",
    "        \"title\": result[\"title\"],\n",
    "        \"series editor\": None,\n",
    "        \"series/book title\": None,\n",
    "        \"place published\": 'None',\n",
    "        \"institution\": \"Conservation Evidence Team\",\n",
    "        \"publisher\": 'Conservation Evidence',\n",
    "        \"date\": None,\n",
    "        \"report number\": result[\"id\"],\n",
    "        \"doi\": None,\n",
    "        \"class\": class_name_map[result['classes'][0]],\n",
    "        \"abstract\": None,\n",
    "        \"url\": url,\n",
    "        \"text\": ''.join(result[\"text\"]),\n",
    "    }\n",
    "    return json"
   ]
  },
  {
   "cell_type": "code",
   "execution_count": null,
   "metadata": {},
   "outputs": [
    {
     "ename": "KeyError",
     "evalue": "'S'",
     "output_type": "error",
     "traceback": [
      "\u001b[1;31m---------------------------------------------------------------------------\u001b[0m",
      "\u001b[1;31mKeyError\u001b[0m                                  Traceback (most recent call last)",
      "Cell \u001b[1;32mIn[12], line 1\u001b[0m\n\u001b[1;32m----> 1\u001b[0m \u001b[43mpopulate_json\u001b[49m\u001b[43m(\u001b[49m\u001b[43mresults\u001b[49m\u001b[43m[\u001b[49m\u001b[38;5;241;43m3\u001b[39;49m\u001b[43m]\u001b[49m\u001b[43m)\u001b[49m\n",
      "Cell \u001b[1;32mIn[11], line 20\u001b[0m, in \u001b[0;36mpopulate_json\u001b[1;34m(result)\u001b[0m\n\u001b[0;32m      5\u001b[0m result[\u001b[38;5;124m'\u001b[39m\u001b[38;5;124mclasses\u001b[39m\u001b[38;5;124m'\u001b[39m] \u001b[38;5;241m=\u001b[39m \u001b[38;5;28mmax\u001b[39m(\u001b[38;5;28mset\u001b[39m(classes), key\u001b[38;5;241m=\u001b[39mclasses\u001b[38;5;241m.\u001b[39mcount)\n\u001b[0;32m      6\u001b[0m url \u001b[38;5;241m=\u001b[39m prefix \u001b[38;5;241m+\u001b[39m \u001b[38;5;28mstr\u001b[39m(result[\u001b[38;5;124m'\u001b[39m\u001b[38;5;124mid\u001b[39m\u001b[38;5;124m'\u001b[39m])\n\u001b[0;32m      7\u001b[0m json \u001b[38;5;241m=\u001b[39m {\n\u001b[0;32m      8\u001b[0m     \u001b[38;5;124m\"\u001b[39m\u001b[38;5;124mreference type\u001b[39m\u001b[38;5;124m\"\u001b[39m: \u001b[38;5;124m\"\u001b[39m\u001b[38;5;124mCE Study\u001b[39m\u001b[38;5;124m\"\u001b[39m,\n\u001b[0;32m      9\u001b[0m     \u001b[38;5;124m\"\u001b[39m\u001b[38;5;124mauthor\u001b[39m\u001b[38;5;124m\"\u001b[39m: result[\u001b[38;5;124m\"\u001b[39m\u001b[38;5;124mauthor\u001b[39m\u001b[38;5;124m\"\u001b[39m],\n\u001b[0;32m     10\u001b[0m     \u001b[38;5;124m\"\u001b[39m\u001b[38;5;124myear\u001b[39m\u001b[38;5;124m\"\u001b[39m: result[\u001b[38;5;124m\"\u001b[39m\u001b[38;5;124myear\u001b[39m\u001b[38;5;124m\"\u001b[39m],\n\u001b[0;32m     11\u001b[0m     \u001b[38;5;124m\"\u001b[39m\u001b[38;5;124mtitle\u001b[39m\u001b[38;5;124m\"\u001b[39m: result[\u001b[38;5;124m\"\u001b[39m\u001b[38;5;124mtitle\u001b[39m\u001b[38;5;124m\"\u001b[39m],\n\u001b[0;32m     12\u001b[0m     \u001b[38;5;124m\"\u001b[39m\u001b[38;5;124mseries editor\u001b[39m\u001b[38;5;124m\"\u001b[39m: \u001b[38;5;28;01mNone\u001b[39;00m,\n\u001b[0;32m     13\u001b[0m     \u001b[38;5;124m\"\u001b[39m\u001b[38;5;124mseries/book title\u001b[39m\u001b[38;5;124m\"\u001b[39m: \u001b[38;5;28;01mNone\u001b[39;00m,\n\u001b[0;32m     14\u001b[0m     \u001b[38;5;124m\"\u001b[39m\u001b[38;5;124mplace published\u001b[39m\u001b[38;5;124m\"\u001b[39m: \u001b[38;5;124m'\u001b[39m\u001b[38;5;124mNone\u001b[39m\u001b[38;5;124m'\u001b[39m,\n\u001b[0;32m     15\u001b[0m     \u001b[38;5;124m\"\u001b[39m\u001b[38;5;124minstitution\u001b[39m\u001b[38;5;124m\"\u001b[39m: \u001b[38;5;124m\"\u001b[39m\u001b[38;5;124mConservation Evidence Team\u001b[39m\u001b[38;5;124m\"\u001b[39m,\n\u001b[0;32m     16\u001b[0m     \u001b[38;5;124m\"\u001b[39m\u001b[38;5;124mpublisher\u001b[39m\u001b[38;5;124m\"\u001b[39m: \u001b[38;5;124m'\u001b[39m\u001b[38;5;124mConservation Evidence\u001b[39m\u001b[38;5;124m'\u001b[39m,\n\u001b[0;32m     17\u001b[0m     \u001b[38;5;124m\"\u001b[39m\u001b[38;5;124mdate\u001b[39m\u001b[38;5;124m\"\u001b[39m: \u001b[38;5;28;01mNone\u001b[39;00m,\n\u001b[0;32m     18\u001b[0m     \u001b[38;5;124m\"\u001b[39m\u001b[38;5;124mreport number\u001b[39m\u001b[38;5;124m\"\u001b[39m: result[\u001b[38;5;124m\"\u001b[39m\u001b[38;5;124mid\u001b[39m\u001b[38;5;124m\"\u001b[39m],\n\u001b[0;32m     19\u001b[0m     \u001b[38;5;124m\"\u001b[39m\u001b[38;5;124mdoi\u001b[39m\u001b[38;5;124m\"\u001b[39m: \u001b[38;5;28;01mNone\u001b[39;00m,\n\u001b[1;32m---> 20\u001b[0m     \u001b[38;5;124m\"\u001b[39m\u001b[38;5;124mclass\u001b[39m\u001b[38;5;124m\"\u001b[39m: \u001b[43mclass_name_map\u001b[49m\u001b[43m[\u001b[49m\u001b[43mresult\u001b[49m\u001b[43m[\u001b[49m\u001b[38;5;124;43m'\u001b[39;49m\u001b[38;5;124;43mclasses\u001b[39;49m\u001b[38;5;124;43m'\u001b[39;49m\u001b[43m]\u001b[49m\u001b[43m[\u001b[49m\u001b[38;5;241;43m0\u001b[39;49m\u001b[43m]\u001b[49m\u001b[43m]\u001b[49m,\n\u001b[0;32m     21\u001b[0m     \u001b[38;5;124m\"\u001b[39m\u001b[38;5;124mabstract\u001b[39m\u001b[38;5;124m\"\u001b[39m: \u001b[38;5;28;01mNone\u001b[39;00m,\n\u001b[0;32m     22\u001b[0m     \u001b[38;5;124m\"\u001b[39m\u001b[38;5;124murl\u001b[39m\u001b[38;5;124m\"\u001b[39m: url,\n\u001b[0;32m     23\u001b[0m     \u001b[38;5;124m\"\u001b[39m\u001b[38;5;124mtext\u001b[39m\u001b[38;5;124m\"\u001b[39m: \u001b[38;5;124m'\u001b[39m\u001b[38;5;124m'\u001b[39m\u001b[38;5;241m.\u001b[39mjoin(result[\u001b[38;5;124m\"\u001b[39m\u001b[38;5;124mtext\u001b[39m\u001b[38;5;124m\"\u001b[39m]),\n\u001b[0;32m     24\u001b[0m }\n\u001b[0;32m     25\u001b[0m \u001b[38;5;28;01mreturn\u001b[39;00m json\n",
      "\u001b[1;31mKeyError\u001b[0m: 'S'"
     ]
    }
   ],
   "source": [
    "populate_json(results[3])"
   ]
  },
  {
   "cell_type": "code",
   "execution_count": null,
   "metadata": {},
   "outputs": [
    {
     "data": {
      "text/plain": [
       "{'reference type': 'CE Study',\n",
       " 'author': 'Vickery J.A., Sutherland W.J. & Lane S.J. (1994) The management of grass pastures for brent geese. Journal of Applied Ecology, 31, 283-290.',\n",
       " 'year': '1994',\n",
       " 'title': 'The management of grass pastures for brent geese\\n\\n\\n\\nPublished source details\\n                                            Vickery J.A., Sutherland W.J. & Lane S.J. (1994) The management of grass pastures for brent geese. Journal of Applied Ecology, 31, 283-290.                                    \\n\\n\\n\\nShare\\n                \\n\\nTweet\\n                \\n\\n\\nIcons/envelope\\n\\n\\n\\nEmail\\n                \\n\\n\\n',\n",
       " 'series editor': None,\n",
       " 'series/book title': None,\n",
       " 'place published': 'None',\n",
       " 'institution': 'Conservation Evidence Team',\n",
       " 'publisher': 'Conservation Evidence',\n",
       " 'date': None,\n",
       " 'report number': 2,\n",
       " 'doi': None,\n",
       " 'class': 'Bird Conservation',\n",
       " 'abstract': None,\n",
       " 'url': 'https://www.conservationevidence.com/individual-study/<built-in function id>',\n",
       " 'text': \"A series of replicated trials on grassland sites at two reserves in Essex, England, between 1990 and 1992 (Vickery et al. 1994) found that brent geese Branta bernicla grazing densities on 24 grassland plots were not affected by the frequency of grass cutting (between two and five times a year). There were no differences between areas that were only cut, cut and grazed or only grazed. This study is discussed further in ‘Fertilise grasslands’ and ‘Employ grazing in natural and semi-natural habitats’.Mow or cut semi-natural grasslands/pasturesProvide 'sacrificial' grasslands to reduce the impact of wild geese on cropsEmploy grazing in artificial grasslands/pasturesA series of replicated controlled trials on grassland sites at two reserves in Essex, England, between 1990 and 1992 (Vickery et al. 1994) found that brent geese Branta bernicla grazed at significantly higher densities on fertilised and cut areas, compared to unfertilised areas, but only at high levels of fertiliser application (50 kg N/ha used: 28-30 droppings/m2 for fertilised areas vs. 23-28 droppings/m2 for controls; 18 kg N/ha\\xa0 used: 30-35 droppings/m2 for fertilised areas vs. 25-35 droppings/m2 for control areas). There were no differences between trials using organic and inorganic fertiliser.\\xa0A series of replicated controlled trials on grassland sites at two reserves in Essex, England, between 1990 and 1992 (Vickery et al. 1994) found that brent geese Branta bernicla did not graze at higher densities on plots that were areas grazed, compared to cut and grazed areas, or areas that were just cut. Goose grazing intensity was not affected by sheep grazing compared to cattle grazing. Six replicates of each treatment were used.This study is summarised as evidence for the following.Use grazing instead of cutting for pasture or grassland managementFertilize artificial grasslands A series of replicated controlled trials on grassland sites at two reserves in Essex, England, between 1990 and 1992 (Vickery et al. 1994) found that brent geese Branta bernicla grazed at significantly higher densities on fertilised and cut areas, compared to unfertilised areas, but only at high levels of fertiliser application (50 kg N/ha used: 28-30 droppings/m2 for fertilised areas vs. 23-28 droppings/m2 for controls; 18 kg N/ha\\xa0 used: 30-35 droppings/m2 for fertilised areas vs. 25-35 droppings/m2 for control areas). There were no differences between trials using organic and inorganic fertiliser.A randomised, replicated, controlled experiment in 1990-1992 on a pasture in Essex, UK (Vickery et al. 1994) found similar grazing intensities of brent geese Branta bernicla (pests) on sheep-grazed plots (averaging 31.6-39.5 total goose droppings/m²/winter), cut and grazed plots (28.2-36.4 droppings), and cut-only plots (28.5-36.8 droppings). The amount of vegetation was similar between grazed (223-236 g dry weight/m²), cut and grazed (195-255 g/m²) and cut-only plots (188-232 g/m²). In another randomised, replicated, controlled experiment, grazing intensities of brent geese were similar in sheep-grazed (59.6 total droppings/m²) and cattle-grazed (60.2 droppings/m²) plots. In the first experiment, grazed plots contained sheep in April-May or June and July-September and grazing intensities varied from 13.5-92.2 livestock unit days. Cut and grazed plots were cut on 26 June then grazed for one or two one-month periods. Cut plots were cut in late June and late August. Each treatment was replicated six times in 100 x 75 m plots. In the second experiment six plots (of 50 x 50 m) were grazed by 14 cattle and six plots were grazed by 6-11 sheep in June-August. Goose droppings were monitored in sample areas (with 1.5 m-radiuses) at 5 and 10 random points/plot (first and second experiments, respectively).A series of replicated trials on grassland sites at two reserves in Essex, England, between 1990 and 1992 (Vickery et al. 1994) found that brent geese Branta bernicla grazing densities on 24 grassland plots were not affected by the frequency of grass cutting (between two and five times a year). There were no differences between areas that were only cut, cut and grazed or only grazed. This study is discussed further in ‘Fertilise grasslands’ and ‘Employ grazing in natural and semi-natural habitats’.\\xa0\\xa0A series of replicated controlled trials on grassland sites at two reserves in Essex, England, between 1990 and 1992 (Vickery et al. 1994) found that brent geese Branta bernicla grazed at significantly higher densities on fertilized and cut areas, compared to unfertilized areas, but only at high levels of fertilizer application (50 kg N/ha used: 28-30 droppings/m2 for fertilized areas vs 23-28 droppings/m2 for controls, 18 kg N/ha\\xa0used: 30-35 droppings/m2 for fertilized areas vs 25-35 droppings/m2 for control areas). There were no differences between trials using organic and inorganic fertilizer.A series of replicated controlled trials on grassland sites at two reserves in Essex, England, between 1990 and 1992 (Vickery et al. 1994) found that brent geese Branta bernicla did not graze at higher densities on plots that were areas grazed, compared to cut and grazed areas, or areas that were just cut. Goose grazing intensity was not affected by sheep grazing compared to cattle grazing. Six replicates of each treatment were used.\\xa0\"}"
      ]
     },
     "execution_count": 33,
     "metadata": {},
     "output_type": "execute_result"
    }
   ],
   "source": [
    "json_results = [populate_json(r) for r in results]\n",
    "json_results[0]"
   ]
  },
  {
   "cell_type": "code",
   "execution_count": null,
   "metadata": {},
   "outputs": [
    {
     "ename": "NameError",
     "evalue": "name 'results' is not defined",
     "output_type": "error",
     "traceback": [
      "\u001b[1;31m---------------------------------------------------------------------------\u001b[0m",
      "\u001b[1;31mNameError\u001b[0m                                 Traceback (most recent call last)",
      "Cell \u001b[1;32mIn[1], line 3\u001b[0m\n\u001b[0;32m      1\u001b[0m \u001b[38;5;66;03m# get all classes\u001b[39;00m\n\u001b[0;32m      2\u001b[0m classes \u001b[38;5;241m=\u001b[39m \u001b[38;5;28mset\u001b[39m()\n\u001b[1;32m----> 3\u001b[0m \u001b[38;5;28;01mfor\u001b[39;00m r \u001b[38;5;129;01min\u001b[39;00m \u001b[43mresults\u001b[49m:\n\u001b[0;32m      4\u001b[0m     classes\u001b[38;5;241m.\u001b[39mupdate(r[\u001b[38;5;124m'\u001b[39m\u001b[38;5;124mclasses\u001b[39m\u001b[38;5;124m'\u001b[39m])\n\u001b[0;32m      5\u001b[0m classes\n",
      "\u001b[1;31mNameError\u001b[0m: name 'results' is not defined"
     ]
    }
   ],
   "source": [
    "# get all classes\n",
    "classes = set()\n",
    "for r in results:\n",
    "    classes.update(r['classes'])\n",
    "classes"
   ]
  },
  {
   "cell_type": "code",
   "execution_count": null,
   "metadata": {},
   "outputs": [
    {
     "data": {
      "application/vnd.jupyter.widget-view+json": {
       "model_id": "be391cae615c4192a092106f057354da",
       "version_major": 2,
       "version_minor": 0
      },
      "text/plain": [
       "  0%|          | 0/10105 [00:00<?, ?it/s]"
      ]
     },
     "metadata": {},
     "output_type": "display_data"
    }
   ],
   "source": [
    "def write_json(json_results):\n",
    "    # write to individual files\n",
    "\n",
    "    import json\n",
    "\n",
    "    try:\n",
    "\n",
    "        with open(\n",
    "            f\"data/labelled/studies/{results['id']} - {json_results['title'].replace('.','').replace(':','').replace('/','')[:25]}.json\",\n",
    "            \"w\",\n",
    "        ) as f:\n",
    "            json.dump(json_results, f, indent=4)\n",
    "\n",
    "    except:\n",
    "        try:\n",
    "            with open(\n",
    "                f\"data/labelled/studies/{results['id']} - {json_results['title'].replace('.','').replace(':','').replace('/','')[:10]}.json\",\n",
    "                \"w\",\n",
    "            ) as f:\n",
    "                json.dump(json_results, f, indent=4)\n",
    "        except:\n",
    "            with open(f\"data/labelled/studies/{results['id']}.json\", \"w\") as f:\n",
    "                json.dump(json_results, f, indent=4)\n",
    "\n",
    "\n",
    "for result in tqdm(json_results):\n",
    "    write_json(result)"
   ]
  }
 ],
 "metadata": {
  "kernelspec": {
   "display_name": "grey-literature-classification-bv5LGFdB",
   "language": "python",
   "name": "python3"
  },
  "language_info": {
   "codemirror_mode": {
    "name": "ipython",
    "version": 3
   },
   "file_extension": ".py",
   "mimetype": "text/x-python",
   "name": "python",
   "nbconvert_exporter": "python",
   "pygments_lexer": "ipython3",
   "version": "3.11.3"
  }
 },
 "nbformat": 4,
 "nbformat_minor": 2
}
