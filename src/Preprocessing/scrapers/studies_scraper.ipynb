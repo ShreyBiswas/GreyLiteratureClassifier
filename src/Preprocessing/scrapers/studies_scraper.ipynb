{
 "cells": [
  {
   "cell_type": "code",
   "execution_count": 1,
   "metadata": {},
   "outputs": [],
   "source": [
    "import requests\n",
    "import bs4 as BeautifulSoup"
   ]
  },
  {
   "cell_type": "code",
   "execution_count": 2,
   "metadata": {},
   "outputs": [],
   "source": [
    "prefix = \"https://www.conservationevidence.com/individual-study/\" # add number to end, from 2 to 12261\n",
    "# skip 1, it's a test page\n",
    "\n",
    "def get_study_text(study_number):\n",
    "    url = prefix + str(study_number)\n",
    "    page = requests.get(url)\n",
    "    if page.status_code == 404:\n",
    "        raise ValueError(\"Study not found\")\n",
    "    soup = BeautifulSoup.BeautifulSoup(page.content, 'html.parser')\n",
    "\n",
    "    summary = soup.find_all('section', class_='summary')\n",
    "    if len(summary) == 0:\n",
    "        return None\n",
    "\n",
    "    # get <p> tags out\n",
    "    text = summary[0].find_all('p')\n",
    "    title = soup.find_all('h1', class_='h1')[0].get_text()\n",
    "\n",
    "    # and classes\n",
    "    summary_classes = summary[0].find_all('td',attrs={'data-head': 'Category'})\n",
    "    classes = [c.find('img')['alt'] for c in summary_classes if c.find('img') is not None]\n",
    "\n",
    "\n",
    "    return {'title': title, 'text':[t.get_text() for t in text], 'classes': classes}"
   ]
  },
  {
   "cell_type": "code",
   "execution_count": 3,
   "metadata": {},
   "outputs": [],
   "source": [
    "def parse_text(text):\n",
    "    author = text[0].removeprefix('\\nPublished source details\\n')\n",
    "    author = author.strip()\n",
    "    year = author.split(\"(\", 1)[1].split(\")\")[0]\n",
    "\n",
    "    text = set(text[1:])\n",
    "\n",
    "    return author, year, text"
   ]
  },
  {
   "cell_type": "code",
   "execution_count": 4,
   "metadata": {},
   "outputs": [],
   "source": [
    "def make_request(study_number):\n",
    "    try:\n",
    "        result = get_study_text(study_number)\n",
    "        if result['text'] is None:\n",
    "            return None\n",
    "        result['id'] = study_number\n",
    "        result['author'], result['year'], result['text'] = parse_text(result['text'])\n",
    "        return result\n",
    "    except ValueError as e:\n",
    "        # print(f\"404 Error in {study_number}: {e}\")\n",
    "        return None\n",
    "    except Exception as e:\n",
    "        print(f\"Error in {study_number}: {e}\")\n",
    "        return None\n"
   ]
  },
  {
   "cell_type": "code",
   "execution_count": 5,
   "metadata": {},
   "outputs": [],
   "source": [
    "from tqdm.notebook import tqdm\n",
    "from concurrent.futures import ThreadPoolExecutor, as_completed"
   ]
  },
  {
   "cell_type": "code",
   "execution_count": 6,
   "metadata": {},
   "outputs": [
    {
     "data": {
      "text/plain": [
       "{'title': 'The management of grass pastures for brent geese\\n\\n\\n\\nPublished source details\\n                                            Vickery J.A., Sutherland W.J. & Lane S.J. (1994) The management of grass pastures for brent geese. Journal of Applied Ecology, 31, 283-290.                                    \\n\\n\\n\\nShare\\n                \\n\\nTweet\\n                \\n\\n\\nIcons/envelope\\n\\n\\n\\nEmail\\n                \\n\\n\\n',\n",
       " 'text': {'A randomised, replicated, controlled experiment in 1990-1992 on a pasture in Essex, UK (Vickery et al. 1994) found similar grazing intensities of brent geese Branta bernicla (pests) on sheep-grazed plots (averaging 31.6-39.5 total goose droppings/m²/winter), cut and grazed plots (28.2-36.4 droppings), and cut-only plots (28.5-36.8 droppings). The amount of vegetation was similar between grazed (223-236 g dry weight/m²), cut and grazed (195-255 g/m²) and cut-only plots (188-232 g/m²). In another randomised, replicated, controlled experiment, grazing intensities of brent geese were similar in sheep-grazed (59.6 total droppings/m²) and cattle-grazed (60.2 droppings/m²) plots. In the first experiment, grazed plots contained sheep in April-May or June and July-September and grazing intensities varied from 13.5-92.2 livestock unit days. Cut and grazed plots were cut on 26 June then grazed for one or two one-month periods. Cut plots were cut in late June and late August. Each treatment was replicated six times in 100 x 75 m plots. In the second experiment six plots (of 50 x 50 m) were grazed by 14 cattle and six plots were grazed by 6-11 sheep in June-August. Goose droppings were monitored in sample areas (with 1.5 m-radiuses) at 5 and 10 random points/plot (first and second experiments, respectively).',\n",
       "  'A series of replicated controlled trials on grassland sites at two reserves in Essex, England, between 1990 and 1992 (Vickery et al. 1994) found that brent geese Branta bernicla did not graze at higher densities on plots that were areas grazed, compared to cut and grazed areas, or areas that were just cut. Goose grazing intensity was not affected by sheep grazing compared to cattle grazing. Six replicates of each treatment were used.',\n",
       "  'A series of replicated controlled trials on grassland sites at two reserves in Essex, England, between 1990 and 1992 (Vickery et al. 1994) found that brent geese Branta bernicla did not graze at higher densities on plots that were areas grazed, compared to cut and grazed areas, or areas that were just cut. Goose grazing intensity was not affected by sheep grazing compared to cattle grazing. Six replicates of each treatment were used.\\xa0',\n",
       "  'A series of replicated controlled trials on grassland sites at two reserves in Essex, England, between 1990 and 1992 (Vickery et al. 1994) found that brent geese Branta bernicla grazed at significantly higher densities on fertilised and cut areas, compared to unfertilised areas, but only at high levels of fertiliser application (50 kg N/ha used: 28-30 droppings/m2 for fertilised areas vs. 23-28 droppings/m2 for controls; 18 kg N/ha\\xa0 used: 30-35 droppings/m2 for fertilised areas vs. 25-35 droppings/m2 for control areas). There were no differences between trials using organic and inorganic fertiliser.',\n",
       "  'A series of replicated controlled trials on grassland sites at two reserves in Essex, England, between 1990 and 1992 (Vickery et al. 1994) found that brent geese Branta bernicla grazed at significantly higher densities on fertilised and cut areas, compared to unfertilised areas, but only at high levels of fertiliser application (50 kg N/ha used: 28-30 droppings/m2 for fertilised areas vs. 23-28 droppings/m2 for controls; 18 kg N/ha\\xa0 used: 30-35 droppings/m2 for fertilised areas vs. 25-35 droppings/m2 for control areas). There were no differences between trials using organic and inorganic fertiliser.\\xa0',\n",
       "  'A series of replicated controlled trials on grassland sites at two reserves in Essex, England, between 1990 and 1992 (Vickery et al. 1994) found that brent geese Branta bernicla grazed at significantly higher densities on fertilized and cut areas, compared to unfertilized areas, but only at high levels of fertilizer application (50 kg N/ha used: 28-30 droppings/m2 for fertilized areas vs 23-28 droppings/m2 for controls, 18 kg N/ha\\xa0used: 30-35 droppings/m2 for fertilized areas vs 25-35 droppings/m2 for control areas). There were no differences between trials using organic and inorganic fertilizer.',\n",
       "  'A series of replicated trials on grassland sites at two reserves in Essex, England, between 1990 and 1992 (Vickery et al. 1994) found that brent geese Branta bernicla grazing densities on 24 grassland plots were not affected by the frequency of grass cutting (between two and five times a year). There were no differences between areas that were only cut, cut and grazed or only grazed. This study is discussed further in ‘Fertilise grasslands’ and ‘Employ grazing in natural and semi-natural habitats’.',\n",
       "  'A series of replicated trials on grassland sites at two reserves in Essex, England, between 1990 and 1992 (Vickery et al. 1994) found that brent geese Branta bernicla grazing densities on 24 grassland plots were not affected by the frequency of grass cutting (between two and five times a year). There were no differences between areas that were only cut, cut and grazed or only grazed. This study is discussed further in ‘Fertilise grasslands’ and ‘Employ grazing in natural and semi-natural habitats’.\\xa0',\n",
       "  'Employ grazing in artificial grasslands/pastures',\n",
       "  'Fertilize artificial grasslands ',\n",
       "  'Mow or cut semi-natural grasslands/pastures',\n",
       "  \"Provide 'sacrificial' grasslands to reduce the impact of wild geese on crops\",\n",
       "  'This study is summarised as evidence for the following.',\n",
       "  'Use grazing instead of cutting for pasture or grassland management',\n",
       "  '\\xa0'},\n",
       " 'classes': ['Bird Conservation',\n",
       "  'Bird Conservation',\n",
       "  'Bird Conservation',\n",
       "  'Farmland Conservation',\n",
       "  'Natural Pest Control'],\n",
       " 'id': 2,\n",
       " 'author': 'Vickery J.A., Sutherland W.J. & Lane S.J. (1994) The management of grass pastures for brent geese. Journal of Applied Ecology, 31, 283-290.',\n",
       " 'year': '1994'}"
      ]
     },
     "execution_count": 6,
     "metadata": {},
     "output_type": "execute_result"
    }
   ],
   "source": [
    "make_request(2)"
   ]
  },
  {
   "cell_type": "code",
   "execution_count": 7,
   "metadata": {},
   "outputs": [
    {
     "data": {
      "application/vnd.jupyter.widget-view+json": {
       "model_id": "1b9d3e4abe89434a8ce0ce81d867e4c6",
       "version_major": 2,
       "version_minor": 0
      },
      "text/plain": [
       "  0%|          | 0/12259 [00:00<?, ?it/s]"
      ]
     },
     "metadata": {},
     "output_type": "display_data"
    }
   ],
   "source": [
    "def scrape():\n",
    "    n  = 12261\n",
    "    # n = 10\n",
    "\n",
    "    results = [0 for _ in range(n-2)]\n",
    "\n",
    "    with tqdm(total=n-2) as pbar:\n",
    "        with ThreadPoolExecutor(max_workers=20) as executor:\n",
    "            futures = [executor.submit(make_request, i) for i in range(2, n)]\n",
    "\n",
    "            for future in as_completed(futures):\n",
    "                pbar.update(1)\n",
    "                result = future.result()\n",
    "                # store in results variable\n",
    "                if result is not None:\n",
    "                    results[result['id']-2] = result\n",
    "\n",
    "\n",
    "    return results\n",
    "\n",
    "results = scrape()"
   ]
  },
  {
   "cell_type": "code",
   "execution_count": 8,
   "metadata": {},
   "outputs": [],
   "source": [
    "# remove None values\n",
    "results = [r for r in results if type(r) == dict]"
   ]
  },
  {
   "cell_type": "code",
   "execution_count": 9,
   "metadata": {},
   "outputs": [
    {
     "data": {
      "text/plain": [
       "{'title': 'Habitat destruction and its effect on a population of smooth newts Triturus vulgaris: an unfortunate field experiment\\n\\n\\n\\nPublished source details\\n                                            Verrell P.A. (1987) Habitat destruction and its effect on a population of smooth newts Triturus vulgaris: an unfortunate field experiment. The Herpetological Journal, 1, 175-177.                                    \\n\\n\\n\\nShare\\n                \\n\\nTweet\\n                \\n\\n\\nIcons/envelope\\n\\n\\n\\nEmail\\n                \\n\\n\\n',\n",
       " 'text': {'As well as losing the benefits afforded by the terrestrial vegetation e.g. used as a terrestrial refuge/foraging area, European rabbit Oryctolagus cuniculus burrows known to be used as hibernacula by newts and common toads Bufo bufo, were also destroyed. Additionally, the opening up of Cleaver Pond has allowed greater ease of access and this has probably exacerbated problems of increased disturbance and capture of animals by members of the public. ',\n",
       "  \"From results of ‘before' and ‘after' newt surveys, the consequences of the marginal vegetation removal at Cleaver Pond suggests that this has been detrimental to the newt population. For both ponds the number of smooth newts recorded in 1986 were lower than in 1985. The decrease at Marigold Pond was 30% (cumulative total: 492 in 1985; 346 in 1986). However, the decrease at Cleaver Pond was far higher, estimated at 75% (65 in 1985; 16 in 1986). Additionally torching those parts of Cleaver Pond rendered more accessible in 1986 did not result in a high newt count (23 in total) suggesting that the between-years difference at Cleaver Pond was not due to a change in distribution within the pond.\",\n",
       "  \"From results of ‘before' and ‘after' newt surveys, the consequences of the marginal vegetation removal at Cleaver Pond suggests that this has been detrimental to the newt population. For both ponds the number of smooth newts recorded in 1986 were lower than in 1985. The decrease at Marigold Pond was 30% (cumulative total: 492 in 1985; 346 in 1986). However, the decrease at Cleaver Pond was far higher, estimated at 75% (65 in 1985; 16 in 1986). Additionally torching those parts of Cleaver Pond rendered more accessible in 1986 did not result in a high newt count (23 in total) suggesting that the between-years difference at Cleaver Pond was not due to a change in distribution within the pond.\\nAs well as losing the benefits afforded by the terrestrial vegetation e.g. used as a terrestrial refuge/foraging area, European rabbit Oryctolagus cuniculus burrows known to be used as hibernacula by newts and common toads Bufo bufo, were also destroyed. Additionally, the opening up of Cleaver Pond has allowed greater ease of access and this has probably exacerbated problems of increased disturbance and capture of animals by members of the public. \\nNote: If using or referring to this published study please read and quote the original paper.\",\n",
       "  'In England, several studies have shown that ponds with marginal scrub habitat are more likely to support amphibian populations than those without. Loss of terrestrial habitat surrounding ponds can be detrimental to amphibians which use ponds for breeding. An opportunity to study the effects of removal of marginal vegetation on a population of smooth newts Triturus vulgaris arose when scrub clearance was undertaken around a pond in Buckinghamshire, southern England.',\n",
       "  'Note: If using or referring to this published study please read and quote the original paper.',\n",
       "  'Vegetatation removal: Marginal vegetation (mainly hawthorn Crataegus monogyna) scrub around the northern edge of Cleaver Pond (situated on the Conniburrow housing estate, Milton Keynes), was cleared over winter between the 1985-1986 amphibian breeding seasons to control plant growth and render the site safer when visited by members of the public. Vegetation was cut and removed by the local authority. Prior to this management Cleaver Pond, and nearby Marigold Pond (approximately 400 m away and not subjected to vegetation removal), were subject to physical and biological surveys.   Smooth newt censuses: Night-time censuses were undertaken during the breeding seasons in 1985 and 1986 i.e. before and after the vegetation removal. Commencing in March, two or three visits per week between 19:30 to 11:00 h (starting at or around dusk) were made. In 1985 visits were terminated in mid-June, and in 1986 early July. At Marigold Pond in both years a census consisted of walking around the pond perimeter, scanning the shallower and less-vegetated areas with a spotlight and recording the number of newts observed. At Cleaver Pond with limited access in 1985, only a small area at the western end was accessible due to thick vegetation surrounding the pond elsewhere. During each visit, standing at the western end, the number of newts visible over a 10 minute period was recorded. In 1986, access to Cleaver Pond was greatly improved but the same census technique was employed as in 1985.'},\n",
       " 'classes': [],\n",
       " 'id': 7,\n",
       " 'author': 'Verrell P.A. (1987) Habitat destruction and its effect on a population of smooth newts Triturus vulgaris: an unfortunate field experiment. The Herpetological Journal, 1, 175-177.',\n",
       " 'year': '1987'}"
      ]
     },
     "execution_count": 9,
     "metadata": {},
     "output_type": "execute_result"
    }
   ],
   "source": [
    "results[3]"
   ]
  },
  {
   "cell_type": "code",
   "execution_count": 10,
   "metadata": {},
   "outputs": [],
   "source": [
    "# integrity check\n",
    "results = [r for r in results if type(r['classes']) == list]"
   ]
  },
  {
   "cell_type": "code",
   "execution_count": 11,
   "metadata": {},
   "outputs": [],
   "source": [
    "def populate_json(result):\n",
    "    url = prefix + str(result['id'])\n",
    "    json = {\n",
    "        \"reference type\": \"CE Study\",\n",
    "        \"author\": result[\"author\"],\n",
    "        \"year\": result[\"year\"],\n",
    "        \"title\": result[\"title\"],\n",
    "        \"series editor\": None,\n",
    "        \"series/book title\": None,\n",
    "        \"place published\": 'None',\n",
    "        \"institution\": \"Conservation Evidence Team\",\n",
    "        \"publisher\": 'Conservation Evidence',\n",
    "        \"report number\": result[\"id\"],\n",
    "        \"doi\": None,\n",
    "        \"multiclasses\": result['classes'],\n",
    "        'relevance': 'relevant',\n",
    "        \"abstract\": None,\n",
    "        \"url\": url,\n",
    "        \"text\": ''.join(result[\"text\"]),\n",
    "    }\n",
    "    return json"
   ]
  },
  {
   "cell_type": "code",
   "execution_count": 12,
   "metadata": {},
   "outputs": [
    {
     "data": {
      "text/plain": [
       "{'reference type': 'CE Study',\n",
       " 'author': 'Verrell P.A. (1987) Habitat destruction and its effect on a population of smooth newts Triturus vulgaris: an unfortunate field experiment. The Herpetological Journal, 1, 175-177.',\n",
       " 'year': '1987',\n",
       " 'title': 'Habitat destruction and its effect on a population of smooth newts Triturus vulgaris: an unfortunate field experiment\\n\\n\\n\\nPublished source details\\n                                            Verrell P.A. (1987) Habitat destruction and its effect on a population of smooth newts Triturus vulgaris: an unfortunate field experiment. The Herpetological Journal, 1, 175-177.                                    \\n\\n\\n\\nShare\\n                \\n\\nTweet\\n                \\n\\n\\nIcons/envelope\\n\\n\\n\\nEmail\\n                \\n\\n\\n',\n",
       " 'series editor': None,\n",
       " 'series/book title': None,\n",
       " 'place published': 'None',\n",
       " 'institution': 'Conservation Evidence Team',\n",
       " 'publisher': 'Conservation Evidence',\n",
       " 'date': None,\n",
       " 'report number': 7,\n",
       " 'doi': None,\n",
       " 'multiclasses': [],\n",
       " 'relevance': 'relevant',\n",
       " 'abstract': None,\n",
       " 'url': 'https://www.conservationevidence.com/individual-study/7',\n",
       " 'text': \"As well as losing the benefits afforded by the terrestrial vegetation e.g. used as a terrestrial refuge/foraging area, European rabbit Oryctolagus cuniculus burrows known to be used as hibernacula by newts and common toads Bufo bufo, were also destroyed. Additionally, the opening up of Cleaver Pond has allowed greater ease of access and this has probably exacerbated problems of increased disturbance and capture of animals by members of the public. From results of ‘before' and ‘after' newt surveys, the consequences of the marginal vegetation removal at Cleaver Pond suggests that this has been detrimental to the newt population. For both ponds the number of smooth newts recorded in 1986 were lower than in 1985. The decrease at Marigold Pond was 30% (cumulative total: 492 in 1985; 346 in 1986). However, the decrease at Cleaver Pond was far higher, estimated at 75% (65 in 1985; 16 in 1986). Additionally torching those parts of Cleaver Pond rendered more accessible in 1986 did not result in a high newt count (23 in total) suggesting that the between-years difference at Cleaver Pond was not due to a change in distribution within the pond.\\nAs well as losing the benefits afforded by the terrestrial vegetation e.g. used as a terrestrial refuge/foraging area, European rabbit Oryctolagus cuniculus burrows known to be used as hibernacula by newts and common toads Bufo bufo, were also destroyed. Additionally, the opening up of Cleaver Pond has allowed greater ease of access and this has probably exacerbated problems of increased disturbance and capture of animals by members of the public. \\nNote: If using or referring to this published study please read and quote the original paper.From results of ‘before' and ‘after' newt surveys, the consequences of the marginal vegetation removal at Cleaver Pond suggests that this has been detrimental to the newt population. For both ponds the number of smooth newts recorded in 1986 were lower than in 1985. The decrease at Marigold Pond was 30% (cumulative total: 492 in 1985; 346 in 1986). However, the decrease at Cleaver Pond was far higher, estimated at 75% (65 in 1985; 16 in 1986). Additionally torching those parts of Cleaver Pond rendered more accessible in 1986 did not result in a high newt count (23 in total) suggesting that the between-years difference at Cleaver Pond was not due to a change in distribution within the pond.Vegetatation removal: Marginal vegetation (mainly hawthorn Crataegus monogyna) scrub around the northern edge of Cleaver Pond (situated on the Conniburrow housing estate, Milton Keynes), was cleared over winter between the 1985-1986 amphibian breeding seasons to control plant growth and render the site safer when visited by members of the public. Vegetation was cut and removed by the local authority. Prior to this management Cleaver Pond, and nearby Marigold Pond (approximately 400 m away and not subjected to vegetation removal), were subject to physical and biological surveys.   Smooth newt censuses: Night-time censuses were undertaken during the breeding seasons in 1985 and 1986 i.e. before and after the vegetation removal. Commencing in March, two or three visits per week between 19:30 to 11:00 h (starting at or around dusk) were made. In 1985 visits were terminated in mid-June, and in 1986 early July. At Marigold Pond in both years a census consisted of walking around the pond perimeter, scanning the shallower and less-vegetated areas with a spotlight and recording the number of newts observed. At Cleaver Pond with limited access in 1985, only a small area at the western end was accessible due to thick vegetation surrounding the pond elsewhere. During each visit, standing at the western end, the number of newts visible over a 10 minute period was recorded. In 1986, access to Cleaver Pond was greatly improved but the same census technique was employed as in 1985.In England, several studies have shown that ponds with marginal scrub habitat are more likely to support amphibian populations than those without. Loss of terrestrial habitat surrounding ponds can be detrimental to amphibians which use ponds for breeding. An opportunity to study the effects of removal of marginal vegetation on a population of smooth newts Triturus vulgaris arose when scrub clearance was undertaken around a pond in Buckinghamshire, southern England.Note: If using or referring to this published study please read and quote the original paper.\"}"
      ]
     },
     "execution_count": 12,
     "metadata": {},
     "output_type": "execute_result"
    }
   ],
   "source": [
    "populate_json(results[3])"
   ]
  },
  {
   "cell_type": "code",
   "execution_count": 13,
   "metadata": {},
   "outputs": [
    {
     "data": {
      "text/plain": [
       "{'reference type': 'CE Study',\n",
       " 'author': 'Vickery J.A., Sutherland W.J. & Lane S.J. (1994) The management of grass pastures for brent geese. Journal of Applied Ecology, 31, 283-290.',\n",
       " 'year': '1994',\n",
       " 'title': 'The management of grass pastures for brent geese\\n\\n\\n\\nPublished source details\\n                                            Vickery J.A., Sutherland W.J. & Lane S.J. (1994) The management of grass pastures for brent geese. Journal of Applied Ecology, 31, 283-290.                                    \\n\\n\\n\\nShare\\n                \\n\\nTweet\\n                \\n\\n\\nIcons/envelope\\n\\n\\n\\nEmail\\n                \\n\\n\\n',\n",
       " 'series editor': None,\n",
       " 'series/book title': None,\n",
       " 'place published': 'None',\n",
       " 'institution': 'Conservation Evidence Team',\n",
       " 'publisher': 'Conservation Evidence',\n",
       " 'date': None,\n",
       " 'report number': 2,\n",
       " 'doi': None,\n",
       " 'multiclasses': ['Bird Conservation',\n",
       "  'Bird Conservation',\n",
       "  'Bird Conservation',\n",
       "  'Farmland Conservation',\n",
       "  'Natural Pest Control'],\n",
       " 'relevance': 'relevant',\n",
       " 'abstract': None,\n",
       " 'url': 'https://www.conservationevidence.com/individual-study/2',\n",
       " 'text': \"Provide 'sacrificial' grasslands to reduce the impact of wild geese on cropsMow or cut semi-natural grasslands/pasturesA series of replicated controlled trials on grassland sites at two reserves in Essex, England, between 1990 and 1992 (Vickery et al. 1994) found that brent geese Branta bernicla did not graze at higher densities on plots that were areas grazed, compared to cut and grazed areas, or areas that were just cut. Goose grazing intensity was not affected by sheep grazing compared to cattle grazing. Six replicates of each treatment were used.Employ grazing in artificial grasslands/pasturesUse grazing instead of cutting for pasture or grassland managementA series of replicated controlled trials on grassland sites at two reserves in Essex, England, between 1990 and 1992 (Vickery et al. 1994) found that brent geese Branta bernicla grazed at significantly higher densities on fertilised and cut areas, compared to unfertilised areas, but only at high levels of fertiliser application (50 kg N/ha used: 28-30 droppings/m2 for fertilised areas vs. 23-28 droppings/m2 for controls; 18 kg N/ha\\xa0 used: 30-35 droppings/m2 for fertilised areas vs. 25-35 droppings/m2 for control areas). There were no differences between trials using organic and inorganic fertiliser.\\xa0Fertilize artificial grasslands A series of replicated trials on grassland sites at two reserves in Essex, England, between 1990 and 1992 (Vickery et al. 1994) found that brent geese Branta bernicla grazing densities on 24 grassland plots were not affected by the frequency of grass cutting (between two and five times a year). There were no differences between areas that were only cut, cut and grazed or only grazed. This study is discussed further in ‘Fertilise grasslands’ and ‘Employ grazing in natural and semi-natural habitats’.A series of replicated controlled trials on grassland sites at two reserves in Essex, England, between 1990 and 1992 (Vickery et al. 1994) found that brent geese Branta bernicla did not graze at higher densities on plots that were areas grazed, compared to cut and grazed areas, or areas that were just cut. Goose grazing intensity was not affected by sheep grazing compared to cattle grazing. Six replicates of each treatment were used.\\xa0A series of replicated controlled trials on grassland sites at two reserves in Essex, England, between 1990 and 1992 (Vickery et al. 1994) found that brent geese Branta bernicla grazed at significantly higher densities on fertilized and cut areas, compared to unfertilized areas, but only at high levels of fertilizer application (50 kg N/ha used: 28-30 droppings/m2 for fertilized areas vs 23-28 droppings/m2 for controls, 18 kg N/ha\\xa0used: 30-35 droppings/m2 for fertilized areas vs 25-35 droppings/m2 for control areas). There were no differences between trials using organic and inorganic fertilizer.A randomised, replicated, controlled experiment in 1990-1992 on a pasture in Essex, UK (Vickery et al. 1994) found similar grazing intensities of brent geese Branta bernicla (pests) on sheep-grazed plots (averaging 31.6-39.5 total goose droppings/m²/winter), cut and grazed plots (28.2-36.4 droppings), and cut-only plots (28.5-36.8 droppings). The amount of vegetation was similar between grazed (223-236 g dry weight/m²), cut and grazed (195-255 g/m²) and cut-only plots (188-232 g/m²). In another randomised, replicated, controlled experiment, grazing intensities of brent geese were similar in sheep-grazed (59.6 total droppings/m²) and cattle-grazed (60.2 droppings/m²) plots. In the first experiment, grazed plots contained sheep in April-May or June and July-September and grazing intensities varied from 13.5-92.2 livestock unit days. Cut and grazed plots were cut on 26 June then grazed for one or two one-month periods. Cut plots were cut in late June and late August. Each treatment was replicated six times in 100 x 75 m plots. In the second experiment six plots (of 50 x 50 m) were grazed by 14 cattle and six plots were grazed by 6-11 sheep in June-August. Goose droppings were monitored in sample areas (with 1.5 m-radiuses) at 5 and 10 random points/plot (first and second experiments, respectively).A series of replicated controlled trials on grassland sites at two reserves in Essex, England, between 1990 and 1992 (Vickery et al. 1994) found that brent geese Branta bernicla grazed at significantly higher densities on fertilised and cut areas, compared to unfertilised areas, but only at high levels of fertiliser application (50 kg N/ha used: 28-30 droppings/m2 for fertilised areas vs. 23-28 droppings/m2 for controls; 18 kg N/ha\\xa0 used: 30-35 droppings/m2 for fertilised areas vs. 25-35 droppings/m2 for control areas). There were no differences between trials using organic and inorganic fertiliser.\\xa0A series of replicated trials on grassland sites at two reserves in Essex, England, between 1990 and 1992 (Vickery et al. 1994) found that brent geese Branta bernicla grazing densities on 24 grassland plots were not affected by the frequency of grass cutting (between two and five times a year). There were no differences between areas that were only cut, cut and grazed or only grazed. This study is discussed further in ‘Fertilise grasslands’ and ‘Employ grazing in natural and semi-natural habitats’.\\xa0This study is summarised as evidence for the following.\"}"
      ]
     },
     "execution_count": 13,
     "metadata": {},
     "output_type": "execute_result"
    }
   ],
   "source": [
    "json_results = [populate_json(r) for r in results]\n",
    "json_results[0]"
   ]
  },
  {
   "cell_type": "code",
   "execution_count": 14,
   "metadata": {},
   "outputs": [
    {
     "data": {
      "text/html": [
       "<div>\n",
       "<style scoped>\n",
       "    .dataframe tbody tr th:only-of-type {\n",
       "        vertical-align: middle;\n",
       "    }\n",
       "\n",
       "    .dataframe tbody tr th {\n",
       "        vertical-align: top;\n",
       "    }\n",
       "\n",
       "    .dataframe thead th {\n",
       "        text-align: right;\n",
       "    }\n",
       "</style>\n",
       "<table border=\"1\" class=\"dataframe\">\n",
       "  <thead>\n",
       "    <tr style=\"text-align: right;\">\n",
       "      <th></th>\n",
       "      <th>reference type</th>\n",
       "      <th>author</th>\n",
       "      <th>year</th>\n",
       "      <th>title</th>\n",
       "      <th>series editor</th>\n",
       "      <th>series/book title</th>\n",
       "      <th>place published</th>\n",
       "      <th>institution</th>\n",
       "      <th>publisher</th>\n",
       "      <th>date</th>\n",
       "      <th>report number</th>\n",
       "      <th>doi</th>\n",
       "      <th>multiclasses</th>\n",
       "      <th>relevance</th>\n",
       "      <th>abstract</th>\n",
       "      <th>url</th>\n",
       "      <th>text</th>\n",
       "    </tr>\n",
       "  </thead>\n",
       "  <tbody>\n",
       "    <tr>\n",
       "      <th>0</th>\n",
       "      <td>CE Study</td>\n",
       "      <td>Vickery J.A., Sutherland W.J. &amp; Lane S.J. (199...</td>\n",
       "      <td>1994</td>\n",
       "      <td>The management of grass pastures for brent gee...</td>\n",
       "      <td>None</td>\n",
       "      <td>None</td>\n",
       "      <td>None</td>\n",
       "      <td>Conservation Evidence Team</td>\n",
       "      <td>Conservation Evidence</td>\n",
       "      <td>None</td>\n",
       "      <td>2</td>\n",
       "      <td>None</td>\n",
       "      <td>[Bird Conservation, Bird Conservation, Bird Co...</td>\n",
       "      <td>relevant</td>\n",
       "      <td>None</td>\n",
       "      <td>https://www.conservationevidence.com/individua...</td>\n",
       "      <td>Provide 'sacrificial' grasslands to reduce the...</td>\n",
       "    </tr>\n",
       "    <tr>\n",
       "      <th>1</th>\n",
       "      <td>CE Study</td>\n",
       "      <td>Anon . (2004) Chemical control of Australian s...</td>\n",
       "      <td>2004</td>\n",
       "      <td>Chemical control of Australian swamp stonecrop...</td>\n",
       "      <td>None</td>\n",
       "      <td>None</td>\n",
       "      <td>None</td>\n",
       "      <td>Conservation Evidence Team</td>\n",
       "      <td>Conservation Evidence</td>\n",
       "      <td>None</td>\n",
       "      <td>5</td>\n",
       "      <td>None</td>\n",
       "      <td>[Control of Freshwater Invasive Species, Contr...</td>\n",
       "      <td>relevant</td>\n",
       "      <td>None</td>\n",
       "      <td>https://www.conservationevidence.com/individua...</td>\n",
       "      <td>Crassula helmsii: Use lightproof barriers to c...</td>\n",
       "    </tr>\n",
       "    <tr>\n",
       "      <th>2</th>\n",
       "      <td>CE Study</td>\n",
       "      <td>Marrs R.H., Phillips J.D.P., Todd P.A., Ghorba...</td>\n",
       "      <td>2004</td>\n",
       "      <td>Control of Molinia caerulea on upland moors\\n\\...</td>\n",
       "      <td>None</td>\n",
       "      <td>None</td>\n",
       "      <td>None</td>\n",
       "      <td>Conservation Evidence Team</td>\n",
       "      <td>Conservation Evidence</td>\n",
       "      <td>None</td>\n",
       "      <td>6</td>\n",
       "      <td>None</td>\n",
       "      <td>[Shrubland and Heathland Conservation, Shrubla...</td>\n",
       "      <td>relevant</td>\n",
       "      <td>None</td>\n",
       "      <td>https://www.conservationevidence.com/individua...</td>\n",
       "      <td>A randomized, replicated, controlled study in ...</td>\n",
       "    </tr>\n",
       "    <tr>\n",
       "      <th>3</th>\n",
       "      <td>CE Study</td>\n",
       "      <td>Verrell P.A. (1987) Habitat destruction and it...</td>\n",
       "      <td>1987</td>\n",
       "      <td>Habitat destruction and its effect on a popula...</td>\n",
       "      <td>None</td>\n",
       "      <td>None</td>\n",
       "      <td>None</td>\n",
       "      <td>Conservation Evidence Team</td>\n",
       "      <td>Conservation Evidence</td>\n",
       "      <td>None</td>\n",
       "      <td>7</td>\n",
       "      <td>None</td>\n",
       "      <td>[]</td>\n",
       "      <td>relevant</td>\n",
       "      <td>None</td>\n",
       "      <td>https://www.conservationevidence.com/individua...</td>\n",
       "      <td>As well as losing the benefits afforded by the...</td>\n",
       "    </tr>\n",
       "    <tr>\n",
       "      <th>4</th>\n",
       "      <td>CE Study</td>\n",
       "      <td>Sorace A., Petrassi F. &amp; Consiglio C. (2004) L...</td>\n",
       "      <td>2004</td>\n",
       "      <td>Long-distance relocation of nestboxes reduces ...</td>\n",
       "      <td>None</td>\n",
       "      <td>None</td>\n",
       "      <td>None</td>\n",
       "      <td>Conservation Evidence Team</td>\n",
       "      <td>Conservation Evidence</td>\n",
       "      <td>None</td>\n",
       "      <td>9</td>\n",
       "      <td>None</td>\n",
       "      <td>[Bird Conservation]</td>\n",
       "      <td>relevant</td>\n",
       "      <td>None</td>\n",
       "      <td>https://www.conservationevidence.com/individua...</td>\n",
       "      <td>A replicated, controlled study from 1995-1998 ...</td>\n",
       "    </tr>\n",
       "  </tbody>\n",
       "</table>\n",
       "</div>"
      ],
      "text/plain": [
       "  reference type                                             author  year  \\\n",
       "0       CE Study  Vickery J.A., Sutherland W.J. & Lane S.J. (199...  1994   \n",
       "1       CE Study  Anon . (2004) Chemical control of Australian s...  2004   \n",
       "2       CE Study  Marrs R.H., Phillips J.D.P., Todd P.A., Ghorba...  2004   \n",
       "3       CE Study  Verrell P.A. (1987) Habitat destruction and it...  1987   \n",
       "4       CE Study  Sorace A., Petrassi F. & Consiglio C. (2004) L...  2004   \n",
       "\n",
       "                                               title series editor  \\\n",
       "0  The management of grass pastures for brent gee...          None   \n",
       "1  Chemical control of Australian swamp stonecrop...          None   \n",
       "2  Control of Molinia caerulea on upland moors\\n\\...          None   \n",
       "3  Habitat destruction and its effect on a popula...          None   \n",
       "4  Long-distance relocation of nestboxes reduces ...          None   \n",
       "\n",
       "  series/book title place published                 institution  \\\n",
       "0              None            None  Conservation Evidence Team   \n",
       "1              None            None  Conservation Evidence Team   \n",
       "2              None            None  Conservation Evidence Team   \n",
       "3              None            None  Conservation Evidence Team   \n",
       "4              None            None  Conservation Evidence Team   \n",
       "\n",
       "               publisher  date  report number   doi  \\\n",
       "0  Conservation Evidence  None              2  None   \n",
       "1  Conservation Evidence  None              5  None   \n",
       "2  Conservation Evidence  None              6  None   \n",
       "3  Conservation Evidence  None              7  None   \n",
       "4  Conservation Evidence  None              9  None   \n",
       "\n",
       "                                        multiclasses relevance abstract  \\\n",
       "0  [Bird Conservation, Bird Conservation, Bird Co...  relevant     None   \n",
       "1  [Control of Freshwater Invasive Species, Contr...  relevant     None   \n",
       "2  [Shrubland and Heathland Conservation, Shrubla...  relevant     None   \n",
       "3                                                 []  relevant     None   \n",
       "4                                [Bird Conservation]  relevant     None   \n",
       "\n",
       "                                                 url  \\\n",
       "0  https://www.conservationevidence.com/individua...   \n",
       "1  https://www.conservationevidence.com/individua...   \n",
       "2  https://www.conservationevidence.com/individua...   \n",
       "3  https://www.conservationevidence.com/individua...   \n",
       "4  https://www.conservationevidence.com/individua...   \n",
       "\n",
       "                                                text  \n",
       "0  Provide 'sacrificial' grasslands to reduce the...  \n",
       "1  Crassula helmsii: Use lightproof barriers to c...  \n",
       "2  A randomized, replicated, controlled study in ...  \n",
       "3  As well as losing the benefits afforded by the...  \n",
       "4  A replicated, controlled study from 1995-1998 ...  "
      ]
     },
     "execution_count": 14,
     "metadata": {},
     "output_type": "execute_result"
    }
   ],
   "source": [
    "import pandas as pd\n",
    "\n",
    "df = pd.DataFrame(json_results)\n",
    "df.head()"
   ]
  },
  {
   "cell_type": "code",
   "execution_count": 15,
   "metadata": {},
   "outputs": [],
   "source": [
    "# write to json\n",
    "\n",
    "df.to_json('../../../data/unprocessed/studies/raw_studies.json', orient='records')"
   ]
  }
 ],
 "metadata": {
  "kernelspec": {
   "display_name": "grey-literature-classification-bv5LGFdB",
   "language": "python",
   "name": "python3"
  },
  "language_info": {
   "codemirror_mode": {
    "name": "ipython",
    "version": 3
   },
   "file_extension": ".py",
   "mimetype": "text/x-python",
   "name": "python",
   "nbconvert_exporter": "python",
   "pygments_lexer": "ipython3",
   "version": "3.10.12"
  }
 },
 "nbformat": 4,
 "nbformat_minor": 2
}
