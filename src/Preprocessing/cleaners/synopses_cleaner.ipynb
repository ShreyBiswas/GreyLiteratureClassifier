{
    "cells": [
        {
            "cell_type": "markdown",
            "metadata": {},
            "source": [
                "Note that PDFs are already downloaded via the Conservation Evidence website."
            ]
        },
        {
            "cell_type": "code",
            "execution_count": 5,
            "metadata": {},
            "outputs": [
                {
                    "data": {
                        "text/plain": [
                            "['../../../data/synopses/Amphibians/Amphibian.pdf',\n",
                            " '../../../data/synopses/Animals Ex-Situ/Management of Captive Animals.pdf',\n",
                            " '../../../data/synopses/Bats/Bat.pdf',\n",
                            " '../../../data/synopses/Birds/Bird.pdf',\n",
                            " '../../../data/synopses/Farmland/Farmland.pdf',\n",
                            " '../../../data/synopses/Farmland/Mediterranean Farmland.pdf',\n",
                            " '../../../data/synopses/Farmland/Soil Fertility.pdf',\n",
                            " '../../../data/synopses/Farmland/Sustainable Farming.pdf',\n",
                            " '../../../data/synopses/Fish/Marine Fish.pdf',\n",
                            " '../../../data/synopses/Forests/Forest.pdf',\n",
                            " '../../../data/synopses/Grassland/Grassland.pdf',\n",
                            " '../../../data/synopses/Insects/Bee.pdf',\n",
                            " '../../../data/synopses/Insects/Butterfly and Moth.pdf',\n",
                            " '../../../data/synopses/Invasive Fish/Invasive Freshwater Species.pdf',\n",
                            " '../../../data/synopses/Mammals/Primate.pdf',\n",
                            " '../../../data/synopses/Mammals/Terrestrial Mammal.pdf',\n",
                            " '../../../data/synopses/Marine/Biodiversity of Marine Artificial Structures.pdf',\n",
                            " '../../../data/synopses/Marine/Sustainable Aquaculture.pdf',\n",
                            " '../../../data/synopses/Marine Invertebrates/Subtidal Benthic Invertebrate.pdf',\n",
                            " '../../../data/synopses/Pests/Natural Pest Control.pdf',\n",
                            " '../../../data/synopses/Reptiles/Reptile.pdf',\n",
                            " '../../../data/synopses/Shrubland/Shrubland and Heathland.pdf',\n",
                            " '../../../data/synopses/Wetlands/Marsh and Swamp.pdf',\n",
                            " '../../../data/synopses/Wetlands/Peatland.pdf']"
                        ]
                    },
                    "execution_count": 5,
                    "metadata": {},
                    "output_type": "execute_result"
                }
            ],
            "source": [
                "# get all pdf files in subdirectories, but not at top level\n",
                "def get_pdf_files(directory):\n",
                "    import os\n",
                "    pdf_files = []\n",
                "    for root, dirs, files in os.walk(directory):\n",
                "        if root == directory: # don't include files I'm not sure about\n",
                "            continue\n",
                "        for file in files:\n",
                "            if file.endswith(\".pdf\"):\n",
                "                pdf_files.append(os.path.join(root, file).replace(\"\\\\\", \"/\"))\n",
                "                # pdf_files.append(os.path.join(root, file))\n",
                "    return pdf_files\n",
                "\n",
                "filepaths = get_pdf_files('../../../data/synopses/')\n",
                "filepaths"
            ]
        },
        {
            "cell_type": "code",
            "execution_count": 6,
            "metadata": {},
            "outputs": [],
            "source": [
                "def populate_json(result):\n",
                "    # result has the following keys: id, title, author, year, text, classes\n",
                "\n",
                "    json = {\n",
                "        \"reference type\": \"CE Study\",\n",
                "        \"author\": result[\"author\"],\n",
                "        \"year\": result[\"year\"],\n",
                "        \"title\": result[\"title\"],\n",
                "        \"series editor\": None,\n",
                "        \"series/book title\": None,\n",
                "        \"place published\": \"None\",\n",
                "        \"institution\": \"Conservation Evidence Team\",\n",
                "        \"publisher\": \"Conservation Evidence\",\n",
                "        \"date\": None,\n",
                "        \"doi\": None,\n",
                "        \"class\": max(\n",
                "            set(result[\"classes\"]), key=result[\"classes\"].count, default=None\n",
                "        ),\n",
                "        \"abstract\": None,\n",
                "        \"url\": 'PDF-PLACEHOLDER',\n",
                "        \"text\": result[\"text\"],\n",
                "    }\n",
                "    return json"
            ]
        },
        {
            "cell_type": "code",
            "execution_count": 7,
            "metadata": {},
            "outputs": [],
            "source": [
                "import pymupdf\n",
                "\n",
                "def parse_pdf(pdf_path):\n",
                "    pdf = pymupdf.open(pdf_path)\n",
                "    text = \"\"\n",
                "    for page in pdf:\n",
                "        text += page.get_text()\n",
                "\n",
                "\n",
                "    author = pdf.metadata.get(\"Author\", None)\n",
                "    year = pdf.metadata.get(\"ModDate\", None) # convert from bash to year\n",
                "    if year is not None:\n",
                "        year = year[2:6]\n",
                "    title = pdf.metadata.get(\"Title\", None)\n",
                "    if title is None:\n",
                "        title = pdf_path.split(\"/\")[-1].split(\".\")[0]\n",
                "\n",
                "    folder = pdf_path.split(\"/\")[2]\n",
                "\n",
                "    pdf.close()\n",
                "    return populate_json({\n",
                "        \"author\": author,\n",
                "        \"year\": year,\n",
                "        \"title\": title,\n",
                "        \"text\": text,\n",
                "        \"classes\": [folder],\n",
                "    })"
            ]
        },
        {
            "cell_type": "code",
            "execution_count": 8,
            "metadata": {},
            "outputs": [
                {
                    "data": {
                        "application/vnd.jupyter.widget-view+json": {
                            "model_id": "de690851d9a64f9fa8d511f004232f9a",
                            "version_major": 2,
                            "version_minor": 0
                        },
                        "text/plain": [
                            "  0%|          | 0/24 [00:00<?, ?it/s]"
                        ]
                    },
                    "metadata": {},
                    "output_type": "display_data"
                }
            ],
            "source": [
                "from tqdm.notebook import tqdm\n",
                "\n",
                "def write_json(i,record):\n",
                "\n",
                "    import json\n",
                "    with open(f'../../../data/labelled/synopses/{i} - {record[\"title\"]}.json', 'w') as f:\n",
                "        json.dump(record, f)\n",
                "\n",
                "for i,filepath in enumerate(tqdm(filepaths)):\n",
                "    record = parse_pdf(filepath)\n",
                "    write_json(i,record)\n"
            ]
        }
    ],
    "metadata": {
        "kernelspec": {
            "display_name": "grey-literature-classification-bv5LGFdB",
            "language": "python",
            "name": "python3"
        },
        "language_info": {
            "codemirror_mode": {
                "name": "ipython",
                "version": 3
            },
            "file_extension": ".py",
            "mimetype": "text/x-python",
            "name": "python",
            "nbconvert_exporter": "python",
            "pygments_lexer": "ipython3",
            "version": "3.11.3"
        }
    },
    "nbformat": 4,
    "nbformat_minor": 2
}
