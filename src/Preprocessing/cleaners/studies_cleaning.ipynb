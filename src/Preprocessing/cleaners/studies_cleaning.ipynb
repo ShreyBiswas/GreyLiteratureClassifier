{
 "cells": [
  {
   "cell_type": "code",
   "execution_count": 1,
   "metadata": {},
   "outputs": [],
   "source": [
    "# note - use a simple AI model to classify the labels"
   ]
  },
  {
   "cell_type": "code",
   "execution_count": 4,
   "metadata": {},
   "outputs": [],
   "source": [
    "labels = ['Amphibians',\n",
    " 'Animals Ex-Situ',\n",
    " 'Bacteria',\n",
    " 'Bats',\n",
    " 'Behaviour Change',\n",
    " 'Birds',\n",
    " 'Coastal',\n",
    " 'Farmland',\n",
    " 'Fish',\n",
    " 'Forests',\n",
    " 'Fungi',\n",
    " 'Grassland',\n",
    " 'Insects',\n",
    " 'Invasive Amphibians',\n",
    " 'Invasive Bacteria',\n",
    " 'Invasive Birds',\n",
    " 'Invasive Fish',\n",
    " 'Invasive Fungi',\n",
    " 'Invasive Invertebrates',\n",
    " 'Invasive Mammals',\n",
    " 'Invasive Plants',\n",
    " 'Invasive Reptiles',\n",
    " 'Invertebrates',\n",
    " 'Mammals',\n",
    " 'Marine',\n",
    " 'Marine Invertebrates',\n",
    " 'Pests',\n",
    " 'Plants Ex-Situ',\n",
    " 'Plants and Algae',\n",
    " 'Reptiles',\n",
    " 'Rivers and Lakes',\n",
    " 'Shrubland',\n",
    " 'Wetlands']"
   ]
  }
 ],
 "metadata": {
  "kernelspec": {
   "display_name": "GreyLiteratureClassifier-eJH_GeT1",
   "language": "python",
   "name": "python3"
  },
  "language_info": {
   "codemirror_mode": {
    "name": "ipython",
    "version": 3
   },
   "file_extension": ".py",
   "mimetype": "text/x-python",
   "name": "python",
   "nbconvert_exporter": "python",
   "pygments_lexer": "ipython3",
   "version": "3.10.12"
  }
 },
 "nbformat": 4,
 "nbformat_minor": 2
}
