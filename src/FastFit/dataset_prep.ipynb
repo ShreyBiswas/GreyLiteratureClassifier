{
 "cells": [
  {
   "cell_type": "code",
   "execution_count": 1,
   "metadata": {},
   "outputs": [],
   "source": [
    "import pandas as pd\n",
    "from tqdm.auto import tqdm\n",
    "tqdm.pandas()"
   ]
  },
  {
   "cell_type": "code",
   "execution_count": 2,
   "metadata": {},
   "outputs": [
    {
     "data": {
      "text/html": [
       "<div>\n",
       "<style scoped>\n",
       "    .dataframe tbody tr th:only-of-type {\n",
       "        vertical-align: middle;\n",
       "    }\n",
       "\n",
       "    .dataframe tbody tr th {\n",
       "        vertical-align: top;\n",
       "    }\n",
       "\n",
       "    .dataframe thead th {\n",
       "        text-align: right;\n",
       "    }\n",
       "</style>\n",
       "<table border=\"1\" class=\"dataframe\">\n",
       "  <thead>\n",
       "    <tr style=\"text-align: right;\">\n",
       "      <th></th>\n",
       "      <th>url</th>\n",
       "      <th>text</th>\n",
       "      <th>relevance</th>\n",
       "      <th>multiclasses</th>\n",
       "      <th>predictions</th>\n",
       "      <th>score</th>\n",
       "    </tr>\n",
       "  </thead>\n",
       "  <tbody>\n",
       "    <tr>\n",
       "      <th>218</th>\n",
       "      <td>https://deforsa.com/wp-content/uploads/2023/09...</td>\n",
       "      <td>Las 50 aves más comunes en DEFORSA The50 commo...</td>\n",
       "      <td>irrelevant</td>\n",
       "      <td>[]</td>\n",
       "      <td>relevant</td>\n",
       "      <td>1.0</td>\n",
       "    </tr>\n",
       "    <tr>\n",
       "      <th>222</th>\n",
       "      <td>https://www.zooreach.org/ZOO_WILD_Activities/2...</td>\n",
       "      <td>n o i t a The Western Ghats or 'Sahyadris' is ...</td>\n",
       "      <td>irrelevant</td>\n",
       "      <td>[]</td>\n",
       "      <td>relevant</td>\n",
       "      <td>1.0</td>\n",
       "    </tr>\n",
       "    <tr>\n",
       "      <th>221</th>\n",
       "      <td>https://www.zooreach.org/ZOO_WILD_Activities/2...</td>\n",
       "      <td>n o i t a The Western Ghats or 'Sahyadris' is ...</td>\n",
       "      <td>irrelevant</td>\n",
       "      <td>[]</td>\n",
       "      <td>relevant</td>\n",
       "      <td>1.0</td>\n",
       "    </tr>\n",
       "    <tr>\n",
       "      <th>220</th>\n",
       "      <td>https://yosemite.org/wp-content/uploads/2020/0...</td>\n",
       "      <td>HONEY BEE (Scientific name: Apis) Bees and oth...</td>\n",
       "      <td>irrelevant</td>\n",
       "      <td>[]</td>\n",
       "      <td>relevant</td>\n",
       "      <td>1.0</td>\n",
       "    </tr>\n",
       "    <tr>\n",
       "      <th>219</th>\n",
       "      <td>https://files.worldwildlife.org/wwfcmsprod/fil...</td>\n",
       "      <td>PLOW 0 2 0 PRINT 2 orld Wildlife Fund’s 2020 P...</td>\n",
       "      <td>irrelevant</td>\n",
       "      <td>[]</td>\n",
       "      <td>relevant</td>\n",
       "      <td>1.0</td>\n",
       "    </tr>\n",
       "  </tbody>\n",
       "</table>\n",
       "</div>"
      ],
      "text/plain": [
       "                                                   url  \\\n",
       "218  https://deforsa.com/wp-content/uploads/2023/09...   \n",
       "222  https://www.zooreach.org/ZOO_WILD_Activities/2...   \n",
       "221  https://www.zooreach.org/ZOO_WILD_Activities/2...   \n",
       "220  https://yosemite.org/wp-content/uploads/2020/0...   \n",
       "219  https://files.worldwildlife.org/wwfcmsprod/fil...   \n",
       "\n",
       "                                                  text   relevance  \\\n",
       "218  Las 50 aves más comunes en DEFORSA The50 commo...  irrelevant   \n",
       "222  n o i t a The Western Ghats or 'Sahyadris' is ...  irrelevant   \n",
       "221  n o i t a The Western Ghats or 'Sahyadris' is ...  irrelevant   \n",
       "220  HONEY BEE (Scientific name: Apis) Bees and oth...  irrelevant   \n",
       "219  PLOW 0 2 0 PRINT 2 orld Wildlife Fund’s 2020 P...  irrelevant   \n",
       "\n",
       "    multiclasses predictions  score  \n",
       "218           []    relevant    1.0  \n",
       "222           []    relevant    1.0  \n",
       "221           []    relevant    1.0  \n",
       "220           []    relevant    1.0  \n",
       "219           []    relevant    1.0  "
      ]
     },
     "execution_count": 2,
     "metadata": {},
     "output_type": "execute_result"
    }
   ],
   "source": [
    "potential = pd.read_json('../../data/level-1.5/potential/dev/data.json',orient='records')\n",
    "potential = potential.sort_values(by=\"score\", ascending=False)\n",
    "potential.head()"
   ]
  },
  {
   "cell_type": "code",
   "execution_count": 3,
   "metadata": {},
   "outputs": [
    {
     "name": "stdout",
     "output_type": "stream",
     "text": [
      "synopses\n",
      "scraped\n",
      "studies\n"
     ]
    },
    {
     "name": "stderr",
     "output_type": "stream",
     "text": [
      "/tmp/ipykernel_3024097/2467746426.py:10: FutureWarning: The behavior of 'to_datetime' with 'unit' when parsing strings is deprecated. In a future version, strings will be parsed as datetime strings, matching the behavior without a 'unit'. To retain the old behavior, explicitly cast ints or floats to numeric type before calling to_datetime.\n",
      "  data.append(pd.read_json(os.path.join(path, subdir,f'{subdir}.json'),orient='records')[['url','text','relevance','multiclasses']])\n",
      "/tmp/ipykernel_3024097/2467746426.py:10: FutureWarning: The behavior of 'to_datetime' with 'unit' when parsing strings is deprecated. In a future version, strings will be parsed as datetime strings, matching the behavior without a 'unit'. To retain the old behavior, explicitly cast ints or floats to numeric type before calling to_datetime.\n",
      "  data.append(pd.read_json(os.path.join(path, subdir,f'{subdir}.json'),orient='records')[['url','text','relevance','multiclasses']])\n",
      "/tmp/ipykernel_3024097/2467746426.py:10: FutureWarning: The behavior of 'to_datetime' with 'unit' when parsing strings is deprecated. In a future version, strings will be parsed as datetime strings, matching the behavior without a 'unit'. To retain the old behavior, explicitly cast ints or floats to numeric type before calling to_datetime.\n",
      "  data.append(pd.read_json(os.path.join(path, subdir,f'{subdir}.json'),orient='records')[['url','text','relevance','multiclasses']])\n"
     ]
    }
   ],
   "source": [
    "import os\n",
    "\n",
    "path = '../../data/level-0.5/'\n",
    "\n",
    "data = []\n",
    "\n",
    "for subdir in os.listdir(path):\n",
    "    if os.path.isdir(os.path.join(path, subdir)):\n",
    "        print(subdir)\n",
    "        data.append(pd.read_json(os.path.join(path, subdir,f'{subdir}.json'),orient='records')[['url','text','relevance','multiclasses']])\n",
    "\n",
    "synopses, scraped, studies = data"
   ]
  },
  {
   "cell_type": "code",
   "execution_count": 4,
   "metadata": {},
   "outputs": [],
   "source": [
    "action_data = pd.concat([synopses, studies]).reset_index(drop=True)\n",
    "other_data = pd.concat([scraped,potential]).reset_index(drop=True)"
   ]
  },
  {
   "cell_type": "code",
   "execution_count": null,
   "metadata": {},
   "outputs": [],
   "source": []
  },
  {
   "cell_type": "code",
   "execution_count": 5,
   "metadata": {},
   "outputs": [],
   "source": [
    "other_data['relevance'] = 'irrelevant'"
   ]
  },
  {
   "cell_type": "code",
   "execution_count": 6,
   "metadata": {},
   "outputs": [],
   "source": [
    "data = pd.concat([action_data, other_data]).reset_index(drop=True)"
   ]
  },
  {
   "cell_type": "code",
   "execution_count": 7,
   "metadata": {},
   "outputs": [
    {
     "name": "stdout",
     "output_type": "stream",
     "text": [
      "<class 'pandas.core.frame.DataFrame'>\n",
      "RangeIndex: 10436 entries, 0 to 10435\n",
      "Data columns (total 6 columns):\n",
      " #   Column        Non-Null Count  Dtype  \n",
      "---  ------        --------------  -----  \n",
      " 0   url           10436 non-null  object \n",
      " 1   text          10436 non-null  object \n",
      " 2   relevance     10436 non-null  object \n",
      " 3   multiclasses  10436 non-null  object \n",
      " 4   predictions   223 non-null    object \n",
      " 5   score         223 non-null    float64\n",
      "dtypes: float64(1), object(5)\n",
      "memory usage: 489.3+ KB\n"
     ]
    }
   ],
   "source": [
    "data.info()"
   ]
  },
  {
   "cell_type": "code",
   "execution_count": 8,
   "metadata": {},
   "outputs": [],
   "source": [
    "data = data.drop(columns=['predictions'])"
   ]
  },
  {
   "cell_type": "code",
   "execution_count": 9,
   "metadata": {},
   "outputs": [],
   "source": [
    "data.to_json('../../data/level-1.5/merged/data.json',orient='records')"
   ]
  }
 ],
 "metadata": {
  "kernelspec": {
   "display_name": "GreyLiteratureClassifier-eJH_GeT1",
   "language": "python",
   "name": "python3"
  },
  "language_info": {
   "codemirror_mode": {
    "name": "ipython",
    "version": 3
   },
   "file_extension": ".py",
   "mimetype": "text/x-python",
   "name": "python",
   "nbconvert_exporter": "python",
   "pygments_lexer": "ipython3",
   "version": "3.10.12"
  }
 },
 "nbformat": 4,
 "nbformat_minor": 2
}
