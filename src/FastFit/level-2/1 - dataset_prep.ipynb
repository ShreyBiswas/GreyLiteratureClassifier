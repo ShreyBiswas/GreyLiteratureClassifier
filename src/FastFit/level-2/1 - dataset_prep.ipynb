{
 "cells": [
  {
   "cell_type": "code",
   "execution_count": 1,
   "metadata": {},
   "outputs": [],
   "source": [
    "import pandas as pd\n",
    "from tqdm.auto import tqdm\n",
    "tqdm.pandas()"
   ]
  },
  {
   "cell_type": "code",
   "execution_count": 2,
   "metadata": {},
   "outputs": [
    {
     "name": "stdout",
     "output_type": "stream",
     "text": [
      "<class 'pandas.core.frame.DataFrame'>\n",
      "Index: 167 entries, 164 to 166\n",
      "Data columns (total 6 columns):\n",
      " #   Column        Non-Null Count  Dtype  \n",
      "---  ------        --------------  -----  \n",
      " 0   url           167 non-null    object \n",
      " 1   text          167 non-null    object \n",
      " 2   relevance     167 non-null    object \n",
      " 3   multiclasses  167 non-null    object \n",
      " 4   predictions   167 non-null    object \n",
      " 5   score-lv1     167 non-null    float64\n",
      "dtypes: float64(1), object(5)\n",
      "memory usage: 9.1+ KB\n"
     ]
    },
    {
     "data": {
      "text/html": [
       "<div>\n",
       "<style scoped>\n",
       "    .dataframe tbody tr th:only-of-type {\n",
       "        vertical-align: middle;\n",
       "    }\n",
       "\n",
       "    .dataframe tbody tr th {\n",
       "        vertical-align: top;\n",
       "    }\n",
       "\n",
       "    .dataframe thead th {\n",
       "        text-align: right;\n",
       "    }\n",
       "</style>\n",
       "<table border=\"1\" class=\"dataframe\">\n",
       "  <thead>\n",
       "    <tr style=\"text-align: right;\">\n",
       "      <th></th>\n",
       "      <th>url</th>\n",
       "      <th>text</th>\n",
       "      <th>relevance</th>\n",
       "      <th>multiclasses</th>\n",
       "      <th>predictions</th>\n",
       "      <th>score-lv1</th>\n",
       "    </tr>\n",
       "  </thead>\n",
       "  <tbody>\n",
       "    <tr>\n",
       "      <th>164</th>\n",
       "      <td>https://www.worldmosquitoprogram.org/sites/def...</td>\n",
       "      <td>Special Issue: Honoring Yukihiro Ozaki Applied...</td>\n",
       "      <td>irrelevant</td>\n",
       "      <td>[]</td>\n",
       "      <td>relevant</td>\n",
       "      <td>1.0</td>\n",
       "    </tr>\n",
       "    <tr>\n",
       "      <th>0</th>\n",
       "      <td>https://yearofthesalmon.org/wp-content/uploads...</td>\n",
       "      <td>International Year of the Salmon Synthesis Sym...</td>\n",
       "      <td>irrelevant</td>\n",
       "      <td>[]</td>\n",
       "      <td>relevant</td>\n",
       "      <td>1.0</td>\n",
       "    </tr>\n",
       "    <tr>\n",
       "      <th>1</th>\n",
       "      <td>https://digitalarchive.worldfishcenter.org/bit...</td>\n",
       "      <td>Use of Genetically Improved and Alien Species ...</td>\n",
       "      <td>irrelevant</td>\n",
       "      <td>[]</td>\n",
       "      <td>relevant</td>\n",
       "      <td>1.0</td>\n",
       "    </tr>\n",
       "    <tr>\n",
       "      <th>2</th>\n",
       "      <td>http://yoderlab.org/cms/wp-content/uploads/201...</td>\n",
       "      <td>Implications of lemuriform extinctions for the...</td>\n",
       "      <td>irrelevant</td>\n",
       "      <td>[]</td>\n",
       "      <td>relevant</td>\n",
       "      <td>1.0</td>\n",
       "    </tr>\n",
       "    <tr>\n",
       "      <th>3</th>\n",
       "      <td>http://assets.worldwildlife.org/publications/8...</td>\n",
       "      <td>REPORT INT 2015 Living Blue Planet Report Spec...</td>\n",
       "      <td>irrelevant</td>\n",
       "      <td>[]</td>\n",
       "      <td>relevant</td>\n",
       "      <td>1.0</td>\n",
       "    </tr>\n",
       "  </tbody>\n",
       "</table>\n",
       "</div>"
      ],
      "text/plain": [
       "                                                   url  \\\n",
       "164  https://www.worldmosquitoprogram.org/sites/def...   \n",
       "0    https://yearofthesalmon.org/wp-content/uploads...   \n",
       "1    https://digitalarchive.worldfishcenter.org/bit...   \n",
       "2    http://yoderlab.org/cms/wp-content/uploads/201...   \n",
       "3    http://assets.worldwildlife.org/publications/8...   \n",
       "\n",
       "                                                  text   relevance  \\\n",
       "164  Special Issue: Honoring Yukihiro Ozaki Applied...  irrelevant   \n",
       "0    International Year of the Salmon Synthesis Sym...  irrelevant   \n",
       "1    Use of Genetically Improved and Alien Species ...  irrelevant   \n",
       "2    Implications of lemuriform extinctions for the...  irrelevant   \n",
       "3    REPORT INT 2015 Living Blue Planet Report Spec...  irrelevant   \n",
       "\n",
       "    multiclasses predictions  score-lv1  \n",
       "164           []    relevant        1.0  \n",
       "0             []    relevant        1.0  \n",
       "1             []    relevant        1.0  \n",
       "2             []    relevant        1.0  \n",
       "3             []    relevant        1.0  "
      ]
     },
     "execution_count": 2,
     "metadata": {},
     "output_type": "execute_result"
    }
   ],
   "source": [
    "potential = pd.read_json('../../../data/level-1.5/potential/dev/data.json',orient='records')\n",
    "potential = potential.sort_values(by=\"score-lv1\", ascending=False)\n",
    "\n",
    "potential.info()\n",
    "potential.head()"
   ]
  },
  {
   "cell_type": "code",
   "execution_count": 3,
   "metadata": {},
   "outputs": [
    {
     "name": "stdout",
     "output_type": "stream",
     "text": [
      "Parsed synopses\n",
      "Parsed scraped\n"
     ]
    },
    {
     "name": "stderr",
     "output_type": "stream",
     "text": [
      "/tmp/ipykernel_87741/3614861073.py:9: FutureWarning: The behavior of 'to_datetime' with 'unit' when parsing strings is deprecated. In a future version, strings will be parsed as datetime strings, matching the behavior without a 'unit'. To retain the old behavior, explicitly cast ints or floats to numeric type before calling to_datetime.\n",
      "  data.append(pd.read_json(os.path.join(path, subdir,f'{subdir}.json'),orient='records')[['url','text','relevance','multiclasses']])\n",
      "/tmp/ipykernel_87741/3614861073.py:9: FutureWarning: The behavior of 'to_datetime' with 'unit' when parsing strings is deprecated. In a future version, strings will be parsed as datetime strings, matching the behavior without a 'unit'. To retain the old behavior, explicitly cast ints or floats to numeric type before calling to_datetime.\n",
      "  data.append(pd.read_json(os.path.join(path, subdir,f'{subdir}.json'),orient='records')[['url','text','relevance','multiclasses']])\n",
      "/tmp/ipykernel_87741/3614861073.py:9: FutureWarning: The behavior of 'to_datetime' with 'unit' when parsing strings is deprecated. In a future version, strings will be parsed as datetime strings, matching the behavior without a 'unit'. To retain the old behavior, explicitly cast ints or floats to numeric type before calling to_datetime.\n",
      "  data.append(pd.read_json(os.path.join(path, subdir,f'{subdir}.json'),orient='records')[['url','text','relevance','multiclasses']])\n"
     ]
    },
    {
     "name": "stdout",
     "output_type": "stream",
     "text": [
      "Parsed studies\n"
     ]
    }
   ],
   "source": [
    "import os\n",
    "\n",
    "path = '../../../data/level-0.5/'\n",
    "\n",
    "data = []\n",
    "\n",
    "for subdir in os.listdir(path):\n",
    "    if os.path.isdir(os.path.join(path, subdir)):\n",
    "        data.append(pd.read_json(os.path.join(path, subdir,f'{subdir}.json'),orient='records')[['url','text','relevance','multiclasses']])\n",
    "        print(f'Parsed {subdir}')\n",
    "\n",
    "synopses, scraped, studies = data"
   ]
  },
  {
   "cell_type": "code",
   "execution_count": 4,
   "metadata": {},
   "outputs": [],
   "source": [
    "action_data = pd.concat([synopses, studies]).reset_index(drop=True)\n",
    "other_data = pd.concat([scraped,potential]).reset_index(drop=True)"
   ]
  },
  {
   "cell_type": "code",
   "execution_count": 5,
   "metadata": {},
   "outputs": [],
   "source": [
    "other_data['relevance'] = 'irrelevant'"
   ]
  },
  {
   "cell_type": "code",
   "execution_count": 6,
   "metadata": {},
   "outputs": [],
   "source": [
    "data = pd.concat([action_data, other_data]).reset_index(drop=True)"
   ]
  },
  {
   "cell_type": "code",
   "execution_count": 7,
   "metadata": {},
   "outputs": [
    {
     "name": "stdout",
     "output_type": "stream",
     "text": [
      "<class 'pandas.core.frame.DataFrame'>\n",
      "RangeIndex: 8763 entries, 0 to 8762\n",
      "Data columns (total 6 columns):\n",
      " #   Column        Non-Null Count  Dtype  \n",
      "---  ------        --------------  -----  \n",
      " 0   url           8763 non-null   object \n",
      " 1   text          8763 non-null   object \n",
      " 2   relevance     8763 non-null   object \n",
      " 3   multiclasses  8763 non-null   object \n",
      " 4   predictions   167 non-null    object \n",
      " 5   score-lv1     167 non-null    float64\n",
      "dtypes: float64(1), object(5)\n",
      "memory usage: 410.9+ KB\n"
     ]
    }
   ],
   "source": [
    "data.info()"
   ]
  },
  {
   "cell_type": "code",
   "execution_count": 8,
   "metadata": {},
   "outputs": [],
   "source": [
    "data = data.drop(columns=['predictions'])"
   ]
  },
  {
   "cell_type": "code",
   "execution_count": 9,
   "metadata": {},
   "outputs": [
    {
     "name": "stdout",
     "output_type": "stream",
     "text": [
      "167\n"
     ]
    }
   ],
   "source": [
    "print(\n",
    "    len(\n",
    "        data[data['score-lv1'] >=0.95]\n",
    "    )\n",
    ")"
   ]
  },
  {
   "cell_type": "code",
   "execution_count": 10,
   "metadata": {},
   "outputs": [],
   "source": [
    "data.to_json('../../../data/level-1.5/merged/data.json',orient='records')"
   ]
  }
 ],
 "metadata": {
  "kernelspec": {
   "display_name": "GreyLiteratureClassifier-eJH_GeT1",
   "language": "python",
   "name": "python3"
  },
  "language_info": {
   "codemirror_mode": {
    "name": "ipython",
    "version": 3
   },
   "file_extension": ".py",
   "mimetype": "text/x-python",
   "name": "python",
   "nbconvert_exporter": "python",
   "pygments_lexer": "ipython3",
   "version": "3.10.12"
  }
 },
 "nbformat": 4,
 "nbformat_minor": 2
}
