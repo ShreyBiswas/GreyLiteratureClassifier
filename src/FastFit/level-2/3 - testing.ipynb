{
 "cells": [
  {
   "cell_type": "code",
   "execution_count": 1,
   "metadata": {},
   "outputs": [],
   "source": [
    "from FastFitClassifier import FastFitClassifier\n",
    "import pandas as pd\n",
    "from tqdm.auto import tqdm\n",
    "\n",
    "tqdm.pandas()"
   ]
  },
  {
   "cell_type": "code",
   "execution_count": 2,
   "metadata": {},
   "outputs": [],
   "source": [
    "DEV = True\n",
    "model_path = \"./models/relevance/avsolatorio/GIST-small-Embedding-v0\"\n",
    "# model_path = './models/relevance/avsolatorio/GIST-Embedding-v0'\n",
    "\n",
    "\n",
    "if DEV:\n",
    "    model_path=model_path.replace('relevance', 'relevance/dev')\n",
    "else:\n",
    "    model_path = model_path.replace('-small','')"
   ]
  },
  {
   "cell_type": "code",
   "execution_count": 3,
   "metadata": {},
   "outputs": [
    {
     "name": "stdout",
     "output_type": "stream",
     "text": [
      "Loading data...\n",
      "Data loaded.\n",
      "<class 'pandas.core.frame.DataFrame'>\n",
      "RangeIndex: 167 entries, 0 to 166\n",
      "Data columns (total 6 columns):\n",
      " #   Column        Non-Null Count  Dtype  \n",
      "---  ------        --------------  -----  \n",
      " 0   url           167 non-null    object \n",
      " 1   text          167 non-null    object \n",
      " 2   relevance     167 non-null    object \n",
      " 3   multiclasses  167 non-null    object \n",
      " 4   predictions   167 non-null    object \n",
      " 5   score-lv1     167 non-null    float64\n",
      "dtypes: float64(1), object(5)\n",
      "memory usage: 8.0+ KB\n"
     ]
    }
   ],
   "source": [
    "def import_labelled_data(path=\"data/level-1.5/potential/data.json\"):\n",
    "    data = pd.read_json(path, encoding=\"latin-1\")\n",
    "    return data\n",
    "\n",
    "\n",
    "\n",
    "print(\"Loading data...\")\n",
    "\n",
    "test_dataset = import_labelled_data(path=\"../../../data/level-1.5/potential/dev/data.json\", )\n",
    "\n",
    "\n",
    "print(\"Data loaded.\")\n",
    "\n",
    "if DEV:\n",
    "    test_dataset = test_dataset.sample(min(5000,len(test_dataset)))\n",
    "\n",
    "test_dataset = test_dataset.sample(frac=1).reset_index(drop=True)\n",
    "\n",
    "\n",
    "test_dataset.info()"
   ]
  },
  {
   "cell_type": "code",
   "execution_count": 4,
   "metadata": {},
   "outputs": [
    {
     "data": {
      "text/html": [
       "<div>\n",
       "<style scoped>\n",
       "    .dataframe tbody tr th:only-of-type {\n",
       "        vertical-align: middle;\n",
       "    }\n",
       "\n",
       "    .dataframe tbody tr th {\n",
       "        vertical-align: top;\n",
       "    }\n",
       "\n",
       "    .dataframe thead th {\n",
       "        text-align: right;\n",
       "    }\n",
       "</style>\n",
       "<table border=\"1\" class=\"dataframe\">\n",
       "  <thead>\n",
       "    <tr style=\"text-align: right;\">\n",
       "      <th></th>\n",
       "      <th>url</th>\n",
       "      <th>text</th>\n",
       "      <th>relevance</th>\n",
       "      <th>multiclasses</th>\n",
       "      <th>predictions</th>\n",
       "      <th>score-lv1</th>\n",
       "    </tr>\n",
       "  </thead>\n",
       "  <tbody>\n",
       "    <tr>\n",
       "      <th>0</th>\n",
       "      <td>https://www.wppcinc.org/uploads/3/8/0/4/380435...</td>\n",
       "      <td>Impact of proposed Port of Hastings expansion ...</td>\n",
       "      <td>irrelevant</td>\n",
       "      <td>[]</td>\n",
       "      <td>relevant</td>\n",
       "      <td>1.0</td>\n",
       "    </tr>\n",
       "    <tr>\n",
       "      <th>1</th>\n",
       "      <td>http://xerces.org/sites/default/files/publicat...</td>\n",
       "      <td>Nesting &amp; Overwintering Habitat FOR POLLINATOR...</td>\n",
       "      <td>irrelevant</td>\n",
       "      <td>[]</td>\n",
       "      <td>relevant</td>\n",
       "      <td>1.0</td>\n",
       "    </tr>\n",
       "    <tr>\n",
       "      <th>2</th>\n",
       "      <td>https://cms.zsl.org/sites/default/files/2022-1...</td>\n",
       "      <td>W Stefanie Deinet I L D Christina Ieronymidou ...</td>\n",
       "      <td>irrelevant</td>\n",
       "      <td>[]</td>\n",
       "      <td>relevant</td>\n",
       "      <td>1.0</td>\n",
       "    </tr>\n",
       "    <tr>\n",
       "      <th>3</th>\n",
       "      <td>https://digitalarchive.worldfishcenter.org/bit...</td>\n",
       "      <td>Partnership for Aquaculture Development in Tim...</td>\n",
       "      <td>irrelevant</td>\n",
       "      <td>[]</td>\n",
       "      <td>relevant</td>\n",
       "      <td>1.0</td>\n",
       "    </tr>\n",
       "    <tr>\n",
       "      <th>4</th>\n",
       "      <td>https://www.worldlandtrust.org/wp-content/uplo...</td>\n",
       "      <td>Saving Borneo’s Orangutan Corridors The latest...</td>\n",
       "      <td>irrelevant</td>\n",
       "      <td>[]</td>\n",
       "      <td>relevant</td>\n",
       "      <td>1.0</td>\n",
       "    </tr>\n",
       "  </tbody>\n",
       "</table>\n",
       "</div>"
      ],
      "text/plain": [
       "                                                 url  \\\n",
       "0  https://www.wppcinc.org/uploads/3/8/0/4/380435...   \n",
       "1  http://xerces.org/sites/default/files/publicat...   \n",
       "2  https://cms.zsl.org/sites/default/files/2022-1...   \n",
       "3  https://digitalarchive.worldfishcenter.org/bit...   \n",
       "4  https://www.worldlandtrust.org/wp-content/uplo...   \n",
       "\n",
       "                                                text   relevance multiclasses  \\\n",
       "0  Impact of proposed Port of Hastings expansion ...  irrelevant           []   \n",
       "1  Nesting & Overwintering Habitat FOR POLLINATOR...  irrelevant           []   \n",
       "2  W Stefanie Deinet I L D Christina Ieronymidou ...  irrelevant           []   \n",
       "3  Partnership for Aquaculture Development in Tim...  irrelevant           []   \n",
       "4  Saving Borneo’s Orangutan Corridors The latest...  irrelevant           []   \n",
       "\n",
       "  predictions  score-lv1  \n",
       "0    relevant        1.0  \n",
       "1    relevant        1.0  \n",
       "2    relevant        1.0  \n",
       "3    relevant        1.0  \n",
       "4    relevant        1.0  "
      ]
     },
     "execution_count": 4,
     "metadata": {},
     "output_type": "execute_result"
    }
   ],
   "source": [
    "test_dataset.head()"
   ]
  },
  {
   "cell_type": "code",
   "execution_count": 5,
   "metadata": {},
   "outputs": [],
   "source": [
    "import torch\n",
    "torch.cuda.empty_cache()"
   ]
  },
  {
   "cell_type": "code",
   "execution_count": 6,
   "metadata": {},
   "outputs": [
    {
     "name": "stdout",
     "output_type": "stream",
     "text": [
      "Loading model from ./models/relevance/dev/avsolatorio/GIST-small-Embedding-v0 ...\n",
      "Model loaded.\n",
      "Tokenizer loaded....\n",
      "Building classifier pipeline...\r"
     ]
    },
    {
     "name": "stderr",
     "output_type": "stream",
     "text": [
      "The model 'FastFit' is not supported for text-classification. Supported models are ['AlbertForSequenceClassification', 'BartForSequenceClassification', 'BertForSequenceClassification', 'BigBirdForSequenceClassification', 'BigBirdPegasusForSequenceClassification', 'BioGptForSequenceClassification', 'BloomForSequenceClassification', 'CamembertForSequenceClassification', 'CanineForSequenceClassification', 'LlamaForSequenceClassification', 'ConvBertForSequenceClassification', 'CTRLForSequenceClassification', 'Data2VecTextForSequenceClassification', 'DebertaForSequenceClassification', 'DebertaV2ForSequenceClassification', 'DistilBertForSequenceClassification', 'ElectraForSequenceClassification', 'ErnieForSequenceClassification', 'ErnieMForSequenceClassification', 'EsmForSequenceClassification', 'FalconForSequenceClassification', 'FlaubertForSequenceClassification', 'FNetForSequenceClassification', 'FunnelForSequenceClassification', 'GemmaForSequenceClassification', 'Gemma2ForSequenceClassification', 'GPT2ForSequenceClassification', 'GPT2ForSequenceClassification', 'GPTBigCodeForSequenceClassification', 'GPTNeoForSequenceClassification', 'GPTNeoXForSequenceClassification', 'GPTJForSequenceClassification', 'IBertForSequenceClassification', 'JambaForSequenceClassification', 'JetMoeForSequenceClassification', 'LayoutLMForSequenceClassification', 'LayoutLMv2ForSequenceClassification', 'LayoutLMv3ForSequenceClassification', 'LEDForSequenceClassification', 'LiltForSequenceClassification', 'LlamaForSequenceClassification', 'LongformerForSequenceClassification', 'LukeForSequenceClassification', 'MarkupLMForSequenceClassification', 'MBartForSequenceClassification', 'MegaForSequenceClassification', 'MegatronBertForSequenceClassification', 'MistralForSequenceClassification', 'MixtralForSequenceClassification', 'MobileBertForSequenceClassification', 'MPNetForSequenceClassification', 'MptForSequenceClassification', 'MraForSequenceClassification', 'MT5ForSequenceClassification', 'MvpForSequenceClassification', 'NezhaForSequenceClassification', 'NystromformerForSequenceClassification', 'OpenLlamaForSequenceClassification', 'OpenAIGPTForSequenceClassification', 'OPTForSequenceClassification', 'PerceiverForSequenceClassification', 'PersimmonForSequenceClassification', 'PhiForSequenceClassification', 'Phi3ForSequenceClassification', 'PLBartForSequenceClassification', 'QDQBertForSequenceClassification', 'Qwen2ForSequenceClassification', 'Qwen2MoeForSequenceClassification', 'ReformerForSequenceClassification', 'RemBertForSequenceClassification', 'RobertaForSequenceClassification', 'RobertaPreLayerNormForSequenceClassification', 'RoCBertForSequenceClassification', 'RoFormerForSequenceClassification', 'SqueezeBertForSequenceClassification', 'StableLmForSequenceClassification', 'Starcoder2ForSequenceClassification', 'T5ForSequenceClassification', 'TapasForSequenceClassification', 'TransfoXLForSequenceClassification', 'UMT5ForSequenceClassification', 'XLMForSequenceClassification', 'XLMRobertaForSequenceClassification', 'XLMRobertaXLForSequenceClassification', 'XLNetForSequenceClassification', 'XmodForSequenceClassification', 'YosoForSequenceClassification'].\n"
     ]
    },
    {
     "name": "stdout",
     "output_type": "stream",
     "text": [
      "\n",
      "Classifier pipeline built.\n"
     ]
    }
   ],
   "source": [
    "classifier = FastFitClassifier(\n",
    "    model_path=model_path,\n",
    "    text_overlap_proportion=0.2,\n",
    "    device='cuda'\n",
    ")"
   ]
  },
  {
   "cell_type": "code",
   "execution_count": 7,
   "metadata": {},
   "outputs": [
    {
     "name": "stdout",
     "output_type": "stream",
     "text": [
      "Chunking data...\r"
     ]
    },
    {
     "data": {
      "application/vnd.jupyter.widget-view+json": {
       "model_id": "2ca5c55fe73743ba81ed73ec8a021107",
       "version_major": 2,
       "version_minor": 0
      },
      "text/plain": [
       "  0%|          | 0/167 [00:00<?, ?it/s]"
      ]
     },
     "metadata": {},
     "output_type": "display_data"
    },
    {
     "name": "stdout",
     "output_type": "stream",
     "text": [
      "Data chunked.\n",
      "Predicting from chunks...\r"
     ]
    },
    {
     "data": {
      "application/vnd.jupyter.widget-view+json": {
       "model_id": "bfd268189cb74906b28fb9e4cc022e06",
       "version_major": 2,
       "version_minor": 0
      },
      "text/plain": [
       "Files\t:   0%|          | 0/167 [00:00<?, ?it/s]"
      ]
     },
     "metadata": {},
     "output_type": "display_data"
    },
    {
     "data": {
      "application/vnd.jupyter.widget-view+json": {
       "model_id": "bc95174c677648fcae6b1e3b2551b944",
       "version_major": 2,
       "version_minor": 0
      },
      "text/plain": [
       "Chunks\t:   0%|          | 0/34234 [00:00<?, ?it/s]"
      ]
     },
     "metadata": {},
     "output_type": "display_data"
    },
    {
     "name": "stdout",
     "output_type": "stream",
     "text": [
      "Calculated predictions.\n",
      "Evaluating model...\n",
      "\n",
      "-----------------------------------------------------\n",
      "\n",
      "Classification Report: \n",
      "              precision    recall  f1-score   support\n",
      "\n",
      "  irrelevant       1.00      0.99      0.99       167\n",
      "    relevant       0.00      0.00      0.00         0\n",
      "\n",
      "    accuracy                           0.99       167\n",
      "   macro avg       0.50      0.49      0.50       167\n",
      "weighted avg       1.00      0.99      0.99       167\n",
      "\n",
      "-----------------------------------------------------\n",
      "Accuracy: 0.98802\n",
      "Precision: 0.5\n",
      "Specificity: 0.98802\n"
     ]
    },
    {
     "name": "stderr",
     "output_type": "stream",
     "text": [
      "/workspace/GreyLit/venv/lib/python3.10/site-packages/sklearn/metrics/_classification.py:1531: UndefinedMetricWarning: Recall is ill-defined and being set to 0.0 in labels with no true samples. Use `zero_division` parameter to control this behavior.\n",
      "  _warn_prf(average, modifier, f\"{metric.capitalize()} is\", len(result))\n",
      "/workspace/GreyLit/venv/lib/python3.10/site-packages/sklearn/metrics/_classification.py:1531: UndefinedMetricWarning: Recall is ill-defined and being set to 0.0 in labels with no true samples. Use `zero_division` parameter to control this behavior.\n",
      "  _warn_prf(average, modifier, f\"{metric.capitalize()} is\", len(result))\n",
      "/workspace/GreyLit/venv/lib/python3.10/site-packages/sklearn/metrics/_classification.py:1531: UndefinedMetricWarning: Recall is ill-defined and being set to 0.0 in labels with no true samples. Use `zero_division` parameter to control this behavior.\n",
      "  _warn_prf(average, modifier, f\"{metric.capitalize()} is\", len(result))\n"
     ]
    },
    {
     "data": {
      "image/png": "[encoded data removed]",
      "text/plain": [
       "<Figure size 640x480 with 2 Axes>"
      ]
     },
     "metadata": {},
     "output_type": "display_data"
    }
   ],
   "source": [
    "\n",
    "#! on fastfit/modeling.py, line 838, inserting **kwargs to the function arguments\n",
    "#! it's easier to just silently accept and not use extra tokenizer return values\n",
    "#! than getting it to stop outputting things like token_type_ids\n",
    "\n",
    "predicted_data = classifier.evaluate(\n",
    "    test_dataset,\n",
    "    metrics=[\n",
    "        \"accuracy\",\n",
    "        \"precision\",\n",
    "        \"classification-report\",\n",
    "        \"specificity\",\n",
    "        \"confusion-matrix-mpl\",\n",
    "    ],\n",
    "    aggregate=\"majority\",\n",
    "\n",
    ")"
   ]
  },
  {
   "cell_type": "code",
   "execution_count": 8,
   "metadata": {},
   "outputs": [],
   "source": [
    "potential = predicted_data[predicted_data[\"predictions\"] == \"relevant\"]\n",
    "potential = potential.sort_values(by=\"score-lv2\", ascending=False)\n"
   ]
  },
  {
   "cell_type": "code",
   "execution_count": 9,
   "metadata": {},
   "outputs": [
    {
     "data": {
      "text/html": [
       "<div>\n",
       "<style scoped>\n",
       "    .dataframe tbody tr th:only-of-type {\n",
       "        vertical-align: middle;\n",
       "    }\n",
       "\n",
       "    .dataframe tbody tr th {\n",
       "        vertical-align: top;\n",
       "    }\n",
       "\n",
       "    .dataframe thead th {\n",
       "        text-align: right;\n",
       "    }\n",
       "</style>\n",
       "<table border=\"1\" class=\"dataframe\">\n",
       "  <thead>\n",
       "    <tr style=\"text-align: right;\">\n",
       "      <th></th>\n",
       "      <th>url</th>\n",
       "      <th>text</th>\n",
       "      <th>relevance</th>\n",
       "      <th>multiclasses</th>\n",
       "      <th>predictions</th>\n",
       "      <th>score-lv1</th>\n",
       "      <th>score-lv2</th>\n",
       "    </tr>\n",
       "  </thead>\n",
       "  <tbody>\n",
       "    <tr>\n",
       "      <th>0</th>\n",
       "      <td>https://www.wppcinc.org/uploads/3/8/0/4/380435...</td>\n",
       "      <td>Impact of proposed Port of Hastings expansion ...</td>\n",
       "      <td>irrelevant</td>\n",
       "      <td>[]</td>\n",
       "      <td>irrelevant</td>\n",
       "      <td>1.0</td>\n",
       "      <td>0.995811</td>\n",
       "    </tr>\n",
       "    <tr>\n",
       "      <th>1</th>\n",
       "      <td>http://xerces.org/sites/default/files/publicat...</td>\n",
       "      <td>Nesting &amp; Overwintering Habitat FOR POLLINATOR...</td>\n",
       "      <td>irrelevant</td>\n",
       "      <td>[]</td>\n",
       "      <td>irrelevant</td>\n",
       "      <td>1.0</td>\n",
       "      <td>1.000000</td>\n",
       "    </tr>\n",
       "    <tr>\n",
       "      <th>2</th>\n",
       "      <td>https://cms.zsl.org/sites/default/files/2022-1...</td>\n",
       "      <td>W Stefanie Deinet I L D Christina Ieronymidou ...</td>\n",
       "      <td>irrelevant</td>\n",
       "      <td>[]</td>\n",
       "      <td>irrelevant</td>\n",
       "      <td>1.0</td>\n",
       "      <td>0.996987</td>\n",
       "    </tr>\n",
       "    <tr>\n",
       "      <th>3</th>\n",
       "      <td>https://digitalarchive.worldfishcenter.org/bit...</td>\n",
       "      <td>Partnership for Aquaculture Development in Tim...</td>\n",
       "      <td>irrelevant</td>\n",
       "      <td>[]</td>\n",
       "      <td>irrelevant</td>\n",
       "      <td>1.0</td>\n",
       "      <td>1.000000</td>\n",
       "    </tr>\n",
       "    <tr>\n",
       "      <th>4</th>\n",
       "      <td>https://www.worldlandtrust.org/wp-content/uplo...</td>\n",
       "      <td>Saving Borneo’s Orangutan Corridors The latest...</td>\n",
       "      <td>irrelevant</td>\n",
       "      <td>[]</td>\n",
       "      <td>irrelevant</td>\n",
       "      <td>1.0</td>\n",
       "      <td>1.000000</td>\n",
       "    </tr>\n",
       "    <tr>\n",
       "      <th>5</th>\n",
       "      <td>https://www.worthingarchaeological.org/uploads...</td>\n",
       "      <td>News sheet June – July 2019 submitted to the N...</td>\n",
       "      <td>irrelevant</td>\n",
       "      <td>[]</td>\n",
       "      <td>irrelevant</td>\n",
       "      <td>1.0</td>\n",
       "      <td>0.999996</td>\n",
       "    </tr>\n",
       "    <tr>\n",
       "      <th>6</th>\n",
       "      <td>https://yearofthesalmon.org/wp-content/uploads...</td>\n",
       "      <td>Conserving salmon at the southern end of their...</td>\n",
       "      <td>irrelevant</td>\n",
       "      <td>[]</td>\n",
       "      <td>irrelevant</td>\n",
       "      <td>1.0</td>\n",
       "      <td>1.000000</td>\n",
       "    </tr>\n",
       "    <tr>\n",
       "      <th>7</th>\n",
       "      <td>http://xerces.org/sites/default/files/19-053_B...</td>\n",
       "      <td>PROTECTING POLLINATORS FROM PESTICIDES Buying ...</td>\n",
       "      <td>irrelevant</td>\n",
       "      <td>[]</td>\n",
       "      <td>irrelevant</td>\n",
       "      <td>1.0</td>\n",
       "      <td>1.000000</td>\n",
       "    </tr>\n",
       "    <tr>\n",
       "      <th>8</th>\n",
       "      <td>https://zenodo.org/records/7920766/files/Europ...</td>\n",
       "      <td>Synthesis Report on the Environmental Impacts ...</td>\n",
       "      <td>irrelevant</td>\n",
       "      <td>[]</td>\n",
       "      <td>irrelevant</td>\n",
       "      <td>1.0</td>\n",
       "      <td>0.997005</td>\n",
       "    </tr>\n",
       "    <tr>\n",
       "      <th>9</th>\n",
       "      <td>https://yearofthesalmon.org/wp-content/uploads...</td>\n",
       "      <td>Supplementary stocking selects for domesticate...</td>\n",
       "      <td>irrelevant</td>\n",
       "      <td>[]</td>\n",
       "      <td>irrelevant</td>\n",
       "      <td>1.0</td>\n",
       "      <td>1.000000</td>\n",
       "    </tr>\n",
       "  </tbody>\n",
       "</table>\n",
       "</div>"
      ],
      "text/plain": [
       "                                                 url  \\\n",
       "0  https://www.wppcinc.org/uploads/3/8/0/4/380435...   \n",
       "1  http://xerces.org/sites/default/files/publicat...   \n",
       "2  https://cms.zsl.org/sites/default/files/2022-1...   \n",
       "3  https://digitalarchive.worldfishcenter.org/bit...   \n",
       "4  https://www.worldlandtrust.org/wp-content/uplo...   \n",
       "5  https://www.worthingarchaeological.org/uploads...   \n",
       "6  https://yearofthesalmon.org/wp-content/uploads...   \n",
       "7  http://xerces.org/sites/default/files/19-053_B...   \n",
       "8  https://zenodo.org/records/7920766/files/Europ...   \n",
       "9  https://yearofthesalmon.org/wp-content/uploads...   \n",
       "\n",
       "                                                text   relevance multiclasses  \\\n",
       "0  Impact of proposed Port of Hastings expansion ...  irrelevant           []   \n",
       "1  Nesting & Overwintering Habitat FOR POLLINATOR...  irrelevant           []   \n",
       "2  W Stefanie Deinet I L D Christina Ieronymidou ...  irrelevant           []   \n",
       "3  Partnership for Aquaculture Development in Tim...  irrelevant           []   \n",
       "4  Saving Borneo’s Orangutan Corridors The latest...  irrelevant           []   \n",
       "5  News sheet June – July 2019 submitted to the N...  irrelevant           []   \n",
       "6  Conserving salmon at the southern end of their...  irrelevant           []   \n",
       "7  PROTECTING POLLINATORS FROM PESTICIDES Buying ...  irrelevant           []   \n",
       "8  Synthesis Report on the Environmental Impacts ...  irrelevant           []   \n",
       "9  Supplementary stocking selects for domesticate...  irrelevant           []   \n",
       "\n",
       "  predictions  score-lv1  score-lv2  \n",
       "0  irrelevant        1.0   0.995811  \n",
       "1  irrelevant        1.0   1.000000  \n",
       "2  irrelevant        1.0   0.996987  \n",
       "3  irrelevant        1.0   1.000000  \n",
       "4  irrelevant        1.0   1.000000  \n",
       "5  irrelevant        1.0   0.999996  \n",
       "6  irrelevant        1.0   1.000000  \n",
       "7  irrelevant        1.0   1.000000  \n",
       "8  irrelevant        1.0   0.997005  \n",
       "9  irrelevant        1.0   1.000000  "
      ]
     },
     "execution_count": 9,
     "metadata": {},
     "output_type": "execute_result"
    }
   ],
   "source": [
    "predicted_data.sort_values(by=\"score-lv2\", ascending=False)['url']\n",
    "predicted_data.head(10)"
   ]
  },
  {
   "cell_type": "code",
   "execution_count": 10,
   "metadata": {},
   "outputs": [
    {
     "data": {
      "text/html": [
       "<div>\n",
       "<style scoped>\n",
       "    .dataframe tbody tr th:only-of-type {\n",
       "        vertical-align: middle;\n",
       "    }\n",
       "\n",
       "    .dataframe tbody tr th {\n",
       "        vertical-align: top;\n",
       "    }\n",
       "\n",
       "    .dataframe thead th {\n",
       "        text-align: right;\n",
       "    }\n",
       "</style>\n",
       "<table border=\"1\" class=\"dataframe\">\n",
       "  <thead>\n",
       "    <tr style=\"text-align: right;\">\n",
       "      <th></th>\n",
       "      <th>url</th>\n",
       "      <th>text</th>\n",
       "      <th>relevance</th>\n",
       "      <th>multiclasses</th>\n",
       "      <th>predictions</th>\n",
       "      <th>score-lv1</th>\n",
       "      <th>score-lv2</th>\n",
       "    </tr>\n",
       "  </thead>\n",
       "  <tbody>\n",
       "    <tr>\n",
       "      <th>38</th>\n",
       "      <td>https://zenodo.org/records/1160658/files/Full-...</td>\n",
       "      <td>th Full-length huntingtin Q23 expression and p...</td>\n",
       "      <td>irrelevant</td>\n",
       "      <td>[]</td>\n",
       "      <td>relevant</td>\n",
       "      <td>1.0</td>\n",
       "      <td>1.000000</td>\n",
       "    </tr>\n",
       "    <tr>\n",
       "      <th>159</th>\n",
       "      <td>http://makir.mak.ac.ug/bitstream/handle/10570/...</td>\n",
       "      <td>Real-Time Imaging of the Intracellular Glutath...</td>\n",
       "      <td>irrelevant</td>\n",
       "      <td>[]</td>\n",
       "      <td>relevant</td>\n",
       "      <td>1.0</td>\n",
       "      <td>0.987162</td>\n",
       "    </tr>\n",
       "  </tbody>\n",
       "</table>\n",
       "</div>"
      ],
      "text/plain": [
       "                                                   url  \\\n",
       "38   https://zenodo.org/records/1160658/files/Full-...   \n",
       "159  http://makir.mak.ac.ug/bitstream/handle/10570/...   \n",
       "\n",
       "                                                  text   relevance  \\\n",
       "38   th Full-length huntingtin Q23 expression and p...  irrelevant   \n",
       "159  Real-Time Imaging of the Intracellular Glutath...  irrelevant   \n",
       "\n",
       "    multiclasses predictions  score-lv1  score-lv2  \n",
       "38            []    relevant        1.0   1.000000  \n",
       "159           []    relevant        1.0   0.987162  "
      ]
     },
     "execution_count": 10,
     "metadata": {},
     "output_type": "execute_result"
    }
   ],
   "source": [
    "potential.head()"
   ]
  },
  {
   "cell_type": "code",
   "execution_count": 11,
   "metadata": {},
   "outputs": [],
   "source": [
    "\n",
    "if DEV:\n",
    "    from os import makedirs, path\n",
    "    if not path.exists(\"../../../data/level-2.5/potential/dev\"):\n",
    "        makedirs(\"../../../data/level-2.5/potential/dev\")\n",
    "    potential.to_json(\"../../../data/level-2.5/potential/dev/data.json\", orient=\"records\", indent=4)\n",
    "else:\n",
    "    potential.to_json(\"../../../data/level-2.5/potential/data.json\", orient=\"records\", indent=4)"
   ]
  },
  {
   "cell_type": "code",
   "execution_count": 12,
   "metadata": {},
   "outputs": [
    {
     "name": "stdout",
     "output_type": "stream",
     "text": [
      "38     https://zenodo.org/records/1160658/files/Full-length%20huntingtin%20Q23%20expression%20and%20purification%20%E2%80%93%2025th%20January%202018%20.pdf?download=1\n",
      "159                                                             http://makir.mak.ac.ug/bitstream/handle/10570/2127/kasozi-mohring-conas-res.pdf?sequence=1&isAllowed=y\n",
      "Name: url, dtype: object\n"
     ]
    }
   ],
   "source": [
    "with pd.option_context('display.max_colwidth', 400):\n",
    "    print(potential['url'])"
   ]
  },
  {
   "cell_type": "code",
   "execution_count": null,
   "metadata": {},
   "outputs": [],
   "source": []
  }
 ],
 "metadata": {
  "kernelspec": {
   "display_name": "GreyLiteratureClassifier-pwi3iMQR",
   "language": "python",
   "name": "python3"
  },
  "language_info": {
   "codemirror_mode": {
    "name": "ipython",
    "version": 3
   },
   "file_extension": ".py",
   "mimetype": "text/x-python",
   "name": "python",
   "nbconvert_exporter": "python",
   "pygments_lexer": "ipython3",
   "version": "3.10.12"
  }
 },
 "nbformat": 4,
 "nbformat_minor": 2
}
