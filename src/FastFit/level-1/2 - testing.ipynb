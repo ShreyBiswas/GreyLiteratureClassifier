{
 "cells": [
  {
   "cell_type": "code",
   "execution_count": 7,
   "metadata": {},
   "outputs": [],
   "source": [
    "from FastFitClassifier import FastFitClassifier\n",
    "import pandas as pd\n",
    "from tqdm.auto import tqdm\n",
    "\n",
    "tqdm.pandas()"
   ]
  },
  {
   "cell_type": "code",
   "execution_count": 8,
   "metadata": {},
   "outputs": [],
   "source": [
    "DEV = True\n",
    "model_path = \"./models/relevance/avsolatorio/GIST-small-Embedding-v0\"\n",
    "\n",
    "\n",
    "\n",
    "if not DEV:\n",
    "    model_path = './models/relevance/avsolatorio/GIST-Embedding-v0'\n",
    "\n",
    "model_path = './models/relevance/dev/jinaai/jina-embeddings-v2-small-en'"
   ]
  },
  {
   "cell_type": "code",
   "execution_count": 9,
   "metadata": {},
   "outputs": [
    {
     "name": "stdout",
     "output_type": "stream",
     "text": [
      "Loading data...\n",
      "Data loaded.\n",
      "<class 'pandas.core.frame.DataFrame'>\n",
      "RangeIndex: 5000 entries, 0 to 4999\n",
      "Data columns (total 4 columns):\n",
      " #   Column        Non-Null Count  Dtype \n",
      "---  ------        --------------  ----- \n",
      " 0   url           5000 non-null   object\n",
      " 1   text          5000 non-null   object\n",
      " 2   relevance     5000 non-null   object\n",
      " 3   multiclasses  5000 non-null   object\n",
      "dtypes: object(4)\n",
      "memory usage: 156.4+ KB\n"
     ]
    }
   ],
   "source": [
    "def import_labelled_data(path=\"data/level-0.5/data.json\"):\n",
    "    data = pd.read_json(path, encoding=\"latin-1\")\n",
    "    return data\n",
    "\n",
    "\n",
    "\n",
    "print(\"Loading data...\")\n",
    "\n",
    "test_dataset = import_labelled_data(path=\"../../../data/level-0.5/irrelevant.json\", )\n",
    "\n",
    "print(\"Data loaded.\")\n",
    "\n",
    "if DEV:\n",
    "    test_dataset = test_dataset.sample(5000)\n",
    "\n",
    "test_dataset = test_dataset.sample(frac=1).reset_index(drop=True)\n",
    "\n",
    "\n",
    "test_dataset.info()"
   ]
  },
  {
   "cell_type": "code",
   "execution_count": 10,
   "metadata": {},
   "outputs": [
    {
     "data": {
      "text/html": [
       "<div>\n",
       "<style scoped>\n",
       "    .dataframe tbody tr th:only-of-type {\n",
       "        vertical-align: middle;\n",
       "    }\n",
       "\n",
       "    .dataframe tbody tr th {\n",
       "        vertical-align: top;\n",
       "    }\n",
       "\n",
       "    .dataframe thead th {\n",
       "        text-align: right;\n",
       "    }\n",
       "</style>\n",
       "<table border=\"1\" class=\"dataframe\">\n",
       "  <thead>\n",
       "    <tr style=\"text-align: right;\">\n",
       "      <th></th>\n",
       "      <th>url</th>\n",
       "      <th>text</th>\n",
       "      <th>relevance</th>\n",
       "      <th>multiclasses</th>\n",
       "    </tr>\n",
       "  </thead>\n",
       "  <tbody>\n",
       "    <tr>\n",
       "      <th>0</th>\n",
       "      <td>https://www.deped.gov.ph/wp-content/uploads/CO...</td>\n",
       "      <td>of Philippines Republic DEPARTMENT OF EDUCATIO...</td>\n",
       "      <td>irrelevant</td>\n",
       "      <td>[]</td>\n",
       "    </tr>\n",
       "    <tr>\n",
       "      <th>1</th>\n",
       "      <td>https://repositorio.usmp.edu.pe/bitstream/hand...</td>\n",
       "      <td>FACULTAD DE CIENCIAS DE LA COMUNICACIÓN, TURIS...</td>\n",
       "      <td>irrelevant</td>\n",
       "      <td>[]</td>\n",
       "    </tr>\n",
       "    <tr>\n",
       "      <th>2</th>\n",
       "      <td>https://www.daytonsuperior.com/docs/default-so...</td>\n",
       "      <td>Page 1/9 Safety Data Sheet acc. to OSHA HCS Pr...</td>\n",
       "      <td>irrelevant</td>\n",
       "      <td>[]</td>\n",
       "    </tr>\n",
       "    <tr>\n",
       "      <th>3</th>\n",
       "      <td>https://perso.lpsm.paris/~aguyader/files/teach...</td>\n",
       "      <td>Université Rennes 2 Licence MASS 2 Année 2013/...</td>\n",
       "      <td>irrelevant</td>\n",
       "      <td>[]</td>\n",
       "    </tr>\n",
       "    <tr>\n",
       "      <th>4</th>\n",
       "      <td>http://diassere.org.pe/wp-content/uploads/2019...</td>\n",
       "      <td>Miguel Ángel Ramos Padilla es profesor de la F...</td>\n",
       "      <td>irrelevant</td>\n",
       "      <td>[]</td>\n",
       "    </tr>\n",
       "  </tbody>\n",
       "</table>\n",
       "</div>"
      ],
      "text/plain": [
       "                                                 url  \\\n",
       "0  https://www.deped.gov.ph/wp-content/uploads/CO...   \n",
       "1  https://repositorio.usmp.edu.pe/bitstream/hand...   \n",
       "2  https://www.daytonsuperior.com/docs/default-so...   \n",
       "3  https://perso.lpsm.paris/~aguyader/files/teach...   \n",
       "4  http://diassere.org.pe/wp-content/uploads/2019...   \n",
       "\n",
       "                                                text   relevance multiclasses  \n",
       "0  of Philippines Republic DEPARTMENT OF EDUCATIO...  irrelevant           []  \n",
       "1  FACULTAD DE CIENCIAS DE LA COMUNICACIÓN, TURIS...  irrelevant           []  \n",
       "2  Page 1/9 Safety Data Sheet acc. to OSHA HCS Pr...  irrelevant           []  \n",
       "3  Université Rennes 2 Licence MASS 2 Année 2013/...  irrelevant           []  \n",
       "4  Miguel Ángel Ramos Padilla es profesor de la F...  irrelevant           []  "
      ]
     },
     "execution_count": 10,
     "metadata": {},
     "output_type": "execute_result"
    }
   ],
   "source": [
    "test_dataset.head()"
   ]
  },
  {
   "cell_type": "code",
   "execution_count": 11,
   "metadata": {},
   "outputs": [],
   "source": [
    "import torch\n",
    "torch.cuda.empty_cache()"
   ]
  },
  {
   "cell_type": "code",
   "execution_count": 12,
   "metadata": {},
   "outputs": [
    {
     "name": "stdout",
     "output_type": "stream",
     "text": [
      "Loading model from ./models/relevance/dev/jinaai/jina-embeddings-v2-small-en ...\n",
      "Model loaded.\n",
      "Tokenizer loaded with max_length: 2147483648\n",
      "Building classifier pipeline...\r"
     ]
    },
    {
     "name": "stderr",
     "output_type": "stream",
     "text": [
      "The model 'FastFit' is not supported for text-classification. Supported models are ['AlbertForSequenceClassification', 'BartForSequenceClassification', 'BertForSequenceClassification', 'BigBirdForSequenceClassification', 'BigBirdPegasusForSequenceClassification', 'BioGptForSequenceClassification', 'BloomForSequenceClassification', 'CamembertForSequenceClassification', 'CanineForSequenceClassification', 'LlamaForSequenceClassification', 'ConvBertForSequenceClassification', 'CTRLForSequenceClassification', 'Data2VecTextForSequenceClassification', 'DebertaForSequenceClassification', 'DebertaV2ForSequenceClassification', 'DistilBertForSequenceClassification', 'ElectraForSequenceClassification', 'ErnieForSequenceClassification', 'ErnieMForSequenceClassification', 'EsmForSequenceClassification', 'FalconForSequenceClassification', 'FlaubertForSequenceClassification', 'FNetForSequenceClassification', 'FunnelForSequenceClassification', 'GemmaForSequenceClassification', 'Gemma2ForSequenceClassification', 'GPT2ForSequenceClassification', 'GPT2ForSequenceClassification', 'GPTBigCodeForSequenceClassification', 'GPTNeoForSequenceClassification', 'GPTNeoXForSequenceClassification', 'GPTJForSequenceClassification', 'IBertForSequenceClassification', 'JambaForSequenceClassification', 'JetMoeForSequenceClassification', 'LayoutLMForSequenceClassification', 'LayoutLMv2ForSequenceClassification', 'LayoutLMv3ForSequenceClassification', 'LEDForSequenceClassification', 'LiltForSequenceClassification', 'LlamaForSequenceClassification', 'LongformerForSequenceClassification', 'LukeForSequenceClassification', 'MarkupLMForSequenceClassification', 'MBartForSequenceClassification', 'MegaForSequenceClassification', 'MegatronBertForSequenceClassification', 'MistralForSequenceClassification', 'MixtralForSequenceClassification', 'MobileBertForSequenceClassification', 'MPNetForSequenceClassification', 'MptForSequenceClassification', 'MraForSequenceClassification', 'MT5ForSequenceClassification', 'MvpForSequenceClassification', 'NezhaForSequenceClassification', 'NystromformerForSequenceClassification', 'OpenLlamaForSequenceClassification', 'OpenAIGPTForSequenceClassification', 'OPTForSequenceClassification', 'PerceiverForSequenceClassification', 'PersimmonForSequenceClassification', 'PhiForSequenceClassification', 'Phi3ForSequenceClassification', 'PLBartForSequenceClassification', 'QDQBertForSequenceClassification', 'Qwen2ForSequenceClassification', 'Qwen2MoeForSequenceClassification', 'ReformerForSequenceClassification', 'RemBertForSequenceClassification', 'RobertaForSequenceClassification', 'RobertaPreLayerNormForSequenceClassification', 'RoCBertForSequenceClassification', 'RoFormerForSequenceClassification', 'SqueezeBertForSequenceClassification', 'StableLmForSequenceClassification', 'Starcoder2ForSequenceClassification', 'T5ForSequenceClassification', 'TapasForSequenceClassification', 'TransfoXLForSequenceClassification', 'UMT5ForSequenceClassification', 'XLMForSequenceClassification', 'XLMRobertaForSequenceClassification', 'XLMRobertaXLForSequenceClassification', 'XLNetForSequenceClassification', 'XmodForSequenceClassification', 'YosoForSequenceClassification'].\n"
     ]
    },
    {
     "name": "stdout",
     "output_type": "stream",
     "text": [
      "\n",
      "Classifier pipeline built.\n"
     ]
    }
   ],
   "source": [
    "classifier = FastFitClassifier(\n",
    "    model_path=model_path,\n",
    "    text_overlap_proportion=0.2,\n",
    "    device='cuda:0',\n",
    "    max_length=4096\n",
    ")"
   ]
  },
  {
   "cell_type": "markdown",
   "metadata": {},
   "source": [
    "#### Profiling Section"
   ]
  },
  {
   "cell_type": "code",
   "execution_count": 13,
   "metadata": {},
   "outputs": [
    {
     "name": "stdout",
     "output_type": "stream",
     "text": [
      "Looking in indexes: https://pypi.org/simple, https://pypi.ngc.nvidia.com\n",
      "Requirement already satisfied: line_profiler in /workspace/GreyLit/venv/lib/python3.10/site-packages (4.1.3)\n",
      "\n",
      "\u001b[1m[\u001b[0m\u001b[34;49mnotice\u001b[0m\u001b[1;39;49m]\u001b[0m\u001b[39;49m A new release of pip is available: \u001b[0m\u001b[31;49m24.1.2\u001b[0m\u001b[39;49m -> \u001b[0m\u001b[32;49m24.2\u001b[0m\n",
      "\u001b[1m[\u001b[0m\u001b[34;49mnotice\u001b[0m\u001b[1;39;49m]\u001b[0m\u001b[39;49m To update, run: \u001b[0m\u001b[32;49mpip install --upgrade pip\u001b[0m\n"
     ]
    }
   ],
   "source": [
    "!python -m pip install line_profiler\n",
    "%load_ext line_profiler"
   ]
  },
  {
   "cell_type": "code",
   "execution_count": 14,
   "metadata": {},
   "outputs": [
    {
     "name": "stdout",
     "output_type": "stream",
     "text": [
      "Chunking data...\r"
     ]
    },
    {
     "data": {
      "application/vnd.jupyter.widget-view+json": {
       "model_id": "538dbb340b6c427ca136bdb01b0669e9",
       "version_major": 2,
       "version_minor": 0
      },
      "text/plain": [
       "  0%|          | 0/100 [00:00<?, ?it/s]"
      ]
     },
     "metadata": {},
     "output_type": "display_data"
    },
    {
     "name": "stdout",
     "output_type": "stream",
     "text": [
      "Data chunked.\n",
      "Predicting from chunks...\r"
     ]
    },
    {
     "data": {
      "application/vnd.jupyter.widget-view+json": {
       "model_id": "b6422178e3824efb891aea41f53cc706",
       "version_major": 2,
       "version_minor": 0
      },
      "text/plain": [
       "Files\t:   0%|          | 0/100 [00:00<?, ?it/s]"
      ]
     },
     "metadata": {},
     "output_type": "display_data"
    },
    {
     "data": {
      "application/vnd.jupyter.widget-view+json": {
       "model_id": "6885ec1fd3424f469c21e3917d56b5a8",
       "version_major": 2,
       "version_minor": 0
      },
      "text/plain": [
       "Chunks\t:   0%|          | 0/3368 [00:00<?, ?it/s]"
      ]
     },
     "metadata": {},
     "output_type": "display_data"
    },
    {
     "name": "stderr",
     "output_type": "stream",
     "text": [
      "BertSdpaSelfAttention is used but `torch.nn.functional.scaled_dot_product_attention` does not support non-absolute `position_embedding_type` or `output_attentions=True` or `head_mask`. Falling back to the manual attention implementation, but specifying the manual implementation will be required from Transformers version v5.0.0 onwards. This warning can be removed using the argument `attn_implementation=\"eager\"` when loading the model.\n"
     ]
    },
    {
     "name": "stdout",
     "output_type": "stream",
     "text": [
      "Calculated predictions.\n"
     ]
    },
    {
     "name": "stdout",
     "output_type": "stream",
     "text": [
      "Timer unit: 0.001 s\n",
      "\n",
      "Total time: 34.2189 s\n",
      "File: /workspace/GreyLit/GreyLiteratureClassifier/src/FastFit/level-1/FastFitClassifier.py\n",
      "Function: predict_chunks at line 52\n",
      "\n",
      "Line #      Hits         Time  Per Hit   % Time  Line Contents\n",
      "==============================================================\n",
      "    52                                               def predict_chunks(self, chunked_text, chunk_id_counts,chunk_ids, batch_size=64):\n",
      "    53         1          0.0      0.0      0.0          predictions = []\n",
      "    54         1          0.0      0.0      0.0          scores = []\n",
      "    55                                           \n",
      "    56         1          0.0      0.0      0.0          i = 0\n",
      "    57                                           \n",
      "    58         1          0.1      0.1      0.0          print(\"Predicting from chunks...\", end=\"\\r\")\n",
      "    59                                           \n",
      "    60         2         29.8     14.9      0.1          with tqdm(total=len(chunk_id_counts),desc='Files\\t') as files_pbar:\n",
      "    61         2         33.2     16.6      0.1              with tqdm(total=len(chunked_text),desc='Chunks\\t',miniters=50) as chunks_pbar:\n",
      "    62                                           \n",
      "    63      3369      33494.5      9.9     97.9                  for output in self.classifier(chunked_text,batch_size=batch_size,num_workers=16,truncation=True):\n",
      "    64      3368          6.4      0.0      0.0                      predictions.append(output['label'])\n",
      "    65      3368          3.7      0.0      0.0                      scores.append(output['score'])\n",
      "    66      3368        190.1      0.1      0.6                      chunks_pbar.update(1)\n",
      "    67                                           \n",
      "    68      3368        184.8      0.1      0.5                      chunk_id_counts[chunk_ids.iloc[i]] -= 1\n",
      "    69      3368        138.5      0.0      0.4                      if chunk_id_counts[chunk_ids.iloc[i]] == 0:\n",
      "    70       100        134.0      1.3      0.4                          files_pbar.update(1)\n",
      "    71      3368          3.7      0.0      0.0                      i += 1\n",
      "    72                                           \n",
      "    73         1          0.1      0.1      0.0          print(\"Calculated predictions.\")\n",
      "    74         1          0.0      0.0      0.0          return predictions, scores"
     ]
    }
   ],
   "source": [
    "from transformers.pipelines.pt_utils import KeyDataset\n",
    "from datasets import Dataset\n",
    "print(\"Chunking data...\", end=\"\\r\")\n",
    "from chunking import chunk_dataset_and_explode\n",
    "\n",
    "data = test_dataset.sample(100)\n",
    "\n",
    "max_len=4096\n",
    "\n",
    "chunked_data = chunk_dataset_and_explode(\n",
    "    data, max_len=max_len, overlap=int(max_len * 0.2)\n",
    ")\n",
    "\n",
    "# get dict of chunk_ids to counts of that id so we can track when we've finished all chunks for a file\n",
    "chunk_id_counts = chunked_data[\"chunk_id\"].value_counts().to_dict()\n",
    "\n",
    "print(\"Data chunked.\")\n",
    "\n",
    "chunked_dataset = Dataset.from_pandas(chunked_data)\n",
    "\n",
    "print(\"Predicting...\", end=\"\\r\")\n",
    "\n",
    "%lprun -u 1e-3 -f FastFitClassifier.predict_chunks classifier.predict_chunks(KeyDataset(chunked_dataset,'text'),chunk_id_counts, chunked_data['chunk_id'],batch_size=16)"
   ]
  },
  {
   "cell_type": "markdown",
   "metadata": {},
   "source": [
    "##### End Profiling"
   ]
  },
  {
   "cell_type": "code",
   "execution_count": 15,
   "metadata": {},
   "outputs": [
    {
     "name": "stdout",
     "output_type": "stream",
     "text": [
      "Chunking data...\r"
     ]
    },
    {
     "data": {
      "application/vnd.jupyter.widget-view+json": {
       "model_id": "d5c4d6aab6de44ac9241ae87036440a6",
       "version_major": 2,
       "version_minor": 0
      },
      "text/plain": [
       "  0%|          | 0/5000 [00:00<?, ?it/s]"
      ]
     },
     "metadata": {},
     "output_type": "display_data"
    },
    {
     "name": "stdout",
     "output_type": "stream",
     "text": [
      "Data chunked.\n",
      "Converting to Dataset format...\n",
      "Predicting from chunks...\r"
     ]
    },
    {
     "data": {
      "application/vnd.jupyter.widget-view+json": {
       "model_id": "3ce17326f0c24e1d942ec10beba5afd5",
       "version_major": 2,
       "version_minor": 0
      },
      "text/plain": [
       "Files\t:   0%|          | 0/5000 [00:00<?, ?it/s]"
      ]
     },
     "metadata": {},
     "output_type": "display_data"
    },
    {
     "data": {
      "application/vnd.jupyter.widget-view+json": {
       "model_id": "cb75210ba73749a19a1af9988a04950a",
       "version_major": 2,
       "version_minor": 0
      },
      "text/plain": [
       "Chunks\t:   0%|          | 0/5000 [00:00<?, ?it/s]"
      ]
     },
     "metadata": {},
     "output_type": "display_data"
    },
    {
     "name": "stdout",
     "output_type": "stream",
     "text": [
      "Calculated predictions.\n",
      "Evaluating model...\n",
      "\n",
      "-----------------------------------------------------\n",
      "\n"
     ]
    },
    {
     "name": "stderr",
     "output_type": "stream",
     "text": [
      "/workspace/GreyLit/venv/lib/python3.10/site-packages/sklearn/metrics/_classification.py:1531: UndefinedMetricWarning: Recall is ill-defined and being set to 0.0 in labels with no true samples. Use `zero_division` parameter to control this behavior.\n",
      "  _warn_prf(average, modifier, f\"{metric.capitalize()} is\", len(result))\n",
      "/workspace/GreyLit/venv/lib/python3.10/site-packages/sklearn/metrics/_classification.py:1531: UndefinedMetricWarning: Recall is ill-defined and being set to 0.0 in labels with no true samples. Use `zero_division` parameter to control this behavior.\n",
      "  _warn_prf(average, modifier, f\"{metric.capitalize()} is\", len(result))\n",
      "/workspace/GreyLit/venv/lib/python3.10/site-packages/sklearn/metrics/_classification.py:1531: UndefinedMetricWarning: Recall is ill-defined and being set to 0.0 in labels with no true samples. Use `zero_division` parameter to control this behavior.\n",
      "  _warn_prf(average, modifier, f\"{metric.capitalize()} is\", len(result))\n"
     ]
    },
    {
     "name": "stdout",
     "output_type": "stream",
     "text": [
      "Classification Report: \n",
      "              precision    recall  f1-score   support\n",
      "\n",
      "  irrelevant       1.00      0.97      0.98      5000\n",
      "    relevant       0.00      0.00      0.00         0\n",
      "\n",
      "    accuracy                           0.97      5000\n",
      "   macro avg       0.50      0.48      0.49      5000\n",
      "weighted avg       1.00      0.97      0.98      5000\n",
      "\n",
      "-----------------------------------------------------\n",
      "Accuracy: 0.9658\n",
      "Precision: 0.5\n",
      "Specificity: 0.9658\n"
     ]
    },
    {
     "data": {
      "image/png": "[encoded data removed]",
      "text/plain": [
       "<Figure size 640x480 with 2 Axes>"
      ]
     },
     "metadata": {},
     "output_type": "display_data"
    }
   ],
   "source": [
    "\n",
    "#! on fastfit/modeling.py, line 838, inserting **kwargs\n",
    "#! it's easier than getting the tokenizer to stop outputting\n",
    "#! extra info like token_type_ids\n",
    "\n",
    "predicted_data = classifier.evaluate(\n",
    "    test_dataset,\n",
    "    metrics=[\n",
    "        \"accuracy\",\n",
    "        \"precision\",\n",
    "        \"classification-report\",\n",
    "        \"specificity\",\n",
    "        \"confusion-matrix-mpl\",\n",
    "    ],\n",
    "    aggregate=\"majority\",\n",
    "    batch_size=16,\n",
    ")"
   ]
  },
  {
   "cell_type": "code",
   "execution_count": 16,
   "metadata": {},
   "outputs": [],
   "source": [
    "potential = predicted_data[predicted_data[\"predictions\"] == \"relevant\"]\n",
    "potential = potential.sort_values(by=\"score-lv1\", ascending=False)\n"
   ]
  },
  {
   "cell_type": "code",
   "execution_count": 17,
   "metadata": {},
   "outputs": [],
   "source": [
    "potential = potential[potential['text'].apply(lambda x: x!='No summary for this intervention.')]\n",
    "potential = potential[potential['score-lv1'].apply(lambda x: x>=0.95)].reset_index(drop=True)"
   ]
  },
  {
   "cell_type": "code",
   "execution_count": 18,
   "metadata": {},
   "outputs": [
    {
     "name": "stdout",
     "output_type": "stream",
     "text": [
      "Max score: 1.0\n",
      "Min score: 0.9999731779098511\n"
     ]
    }
   ],
   "source": [
    "# get max min range of score\n",
    "max_score = potential['score-lv1'].max()\n",
    "min_score = potential['score-lv1'].min()\n",
    "print(f\"Max score: {max_score}\")\n",
    "print(f\"Min score: {min_score}\")\n",
    "\n"
   ]
  },
  {
   "cell_type": "code",
   "execution_count": 19,
   "metadata": {},
   "outputs": [
    {
     "data": {
      "text/html": [
       "<div>\n",
       "<style scoped>\n",
       "    .dataframe tbody tr th:only-of-type {\n",
       "        vertical-align: middle;\n",
       "    }\n",
       "\n",
       "    .dataframe tbody tr th {\n",
       "        vertical-align: top;\n",
       "    }\n",
       "\n",
       "    .dataframe thead th {\n",
       "        text-align: right;\n",
       "    }\n",
       "</style>\n",
       "<table border=\"1\" class=\"dataframe\">\n",
       "  <thead>\n",
       "    <tr style=\"text-align: right;\">\n",
       "      <th></th>\n",
       "      <th>url</th>\n",
       "      <th>text</th>\n",
       "      <th>relevance</th>\n",
       "      <th>multiclasses</th>\n",
       "      <th>predictions</th>\n",
       "      <th>score-lv1</th>\n",
       "    </tr>\n",
       "  </thead>\n",
       "  <tbody>\n",
       "    <tr>\n",
       "      <th>0</th>\n",
       "      <td>https://yearofthesalmon.org/wp-content/uploads/2022/12/11-Status-and-Trend-Masahide-Kaeriyama.pdf</td>\n",
       "      <td>International Year of the Salmon Synthesis Symposium 4-6 October 2022 / Westin Bayshore, Vancouver, Canada Status and trend of production of Japanese chum salmon under the warming climate Masahide Kaeriyama Arctic Research Center, Hokkaido University salmon@arc.hokucai.ac.jp l Objects • This presentation reviews the evidence for warming climate impacts on Pacific salmon: (1) Temporal changes i...</td>\n",
       "      <td>irrelevant</td>\n",
       "      <td>[]</td>\n",
       "      <td>relevant</td>\n",
       "      <td>1.0</td>\n",
       "    </tr>\n",
       "    <tr>\n",
       "      <th>1</th>\n",
       "      <td>https://digitalarchive.worldfishcenter.org/bitstream/handle/20.500.12348/2068/WF_390.pdf?sequence=1&amp;isAllowed=y</td>\n",
       "      <td>Use of Genetically Improved and Alien Species for Aquaculture and Conservation of Aquatic Biodiversity in Africa Edited by Modadugu V. Gupta Devin M. Bartley Belen O. Acosta CHAPTER | Topic i Use of Genetically Improved and Alien Species for Aquaculture and Conservation of Aquatic Biodiversity in Africa Edited by Modadugu V. Gupta Devin M. Bartley Belen O. Acosta 2004 Published by WorldFish Ce...</td>\n",
       "      <td>irrelevant</td>\n",
       "      <td>[]</td>\n",
       "      <td>relevant</td>\n",
       "      <td>1.0</td>\n",
       "    </tr>\n",
       "    <tr>\n",
       "      <th>2</th>\n",
       "      <td>http://yoderlab.org/cms/wp-content/uploads/2014/04/PNAS-2016-Federman-1523825113.pdf</td>\n",
       "      <td>Implications of lemuriform extinctions for the Malagasy flora a,1 b c a d,e f Sarah Federman , Alex Dornburg , Douglas C. Daly , Alexander Downie , George H. Perry , Anne D. Yoder , g g a h,i,j Eric J. Sargis , Alison F. Richard , Michael J. Donoghue , and Andrea L. Baden a b Department of Ecology and Evolutionary Biology, Yale University, New Haven, CT 06520; North Carolina Museum of Natural ...</td>\n",
       "      <td>irrelevant</td>\n",
       "      <td>[]</td>\n",
       "      <td>relevant</td>\n",
       "      <td>1.0</td>\n",
       "    </tr>\n",
       "    <tr>\n",
       "      <th>3</th>\n",
       "      <td>http://assets.worldwildlife.org/publications/817/files/original/Living_Blue_Planet_Report_2015_Final_LR.pdf</td>\n",
       "      <td>REPORT INT 2015 Living Blue Planet Report Species, habitats and human well-being WWF WWF is one of the world’s largest and most experienced independent conservation organizations, with over 5 million supporters and a global network active in more than 100 countries. WWF’s mission is to stop the degradation of the planet’s natural environment and to build a future in which humans live in harmon...</td>\n",
       "      <td>irrelevant</td>\n",
       "      <td>[]</td>\n",
       "      <td>relevant</td>\n",
       "      <td>1.0</td>\n",
       "    </tr>\n",
       "    <tr>\n",
       "      <th>4</th>\n",
       "      <td>https://yearofthesalmon.org/wp-content/uploads/2022/12/14-Managing-Salmon-Facilitator.pdf</td>\n",
       "      <td>Managing Salmon Fisheries in a Rapidly Changing Salmosphere: The Future of Management Emerging Trends/Issues in Salmon Management to focus on through to 2030 Trends Regarding Challenges for Salmon: Growing uncertainty with respect to: • Climate change – influences all phases of life cycle including marine food production &amp; migration patterns - influencing growth, survival, vulnerability to fis...</td>\n",
       "      <td>irrelevant</td>\n",
       "      <td>[]</td>\n",
       "      <td>relevant</td>\n",
       "      <td>1.0</td>\n",
       "    </tr>\n",
       "    <tr>\n",
       "      <th>5</th>\n",
       "      <td>https://digitalarchive.worldfishcenter.org/bitstream/handle/20.500.12348/2992/Pub%20SR76%2022.pdf?sequence=1&amp;isAllowed=y</td>\n",
       "      <td>source Ecology of the Coral Reef System Rodolfo B. Reyes, Jr. Kathleen N. Kesner Association of Southeast Asian NationNnited States Coastal Resources Management Project International Center for Living Aquatic Resources Management Fisheries Stock Assessment-CollaborativeR esearch Support Program University of Rhode Island University of the Philippines Marine Science Institute Resource Ecology o...</td>\n",
       "      <td>irrelevant</td>\n",
       "      <td>[]</td>\n",
       "      <td>relevant</td>\n",
       "      <td>1.0</td>\n",
       "    </tr>\n",
       "    <tr>\n",
       "      <th>6</th>\n",
       "      <td>https://zenodo.org/records/2491937/files/article.pdf</td>\n",
       "      <td>Downloaded from http://jgslegacy.lyellcollection.org/ at New York University on April 27, 2015 Vol. 66.] MEGALOSA URUS BRADLEYI, 111 5. On a S~:w.i, of MEa,~LO~,~URVS fi'om the G a~Av OoT,I~ of MINCHINHA~fPTON (GLOUCESSERSHIRE). By AR~HVa SmTI~ WOODWARD, LL.D. , F.R.S. , Sec.G.S. (Read January 26th, 1910.) [PL/kTE XIII.] ALTtfOUGtt the carnivorous Dinosaur Meqalosa,rus was first dis- covered i...</td>\n",
       "      <td>irrelevant</td>\n",
       "      <td>[]</td>\n",
       "      <td>relevant</td>\n",
       "      <td>1.0</td>\n",
       "    </tr>\n",
       "    <tr>\n",
       "      <th>7</th>\n",
       "      <td>http://youthla.org/wp-content/uploads/2018/05/restoration.pdf</td>\n",
       "      <td>Ecological Engineering 71 (2014) 584–597 Contents lists available at ScienceDirect Ecological Engineering jo u r n a l h o m e p a g e : w w w . e l s e v i e r . c o m / l o c a t e / e c o l e n g Restoration design for Three Gorges Reservoir shorelands, combining traditional agro-ecological knowledge with landscape Chinese analysis ecological ∗ Chundi Chen , Colin Meurk, Jilong Chen, Mingqu...</td>\n",
       "      <td>irrelevant</td>\n",
       "      <td>[]</td>\n",
       "      <td>relevant</td>\n",
       "      <td>1.0</td>\n",
       "    </tr>\n",
       "    <tr>\n",
       "      <th>8</th>\n",
       "      <td>https://www.ws-virology.org/wp-content/uploads/2021/12/Virus-entry.pdf</td>\n",
       "      <td>Viruses 2012, 4, 117-139; doi:10.3390/v4010117 OPEN ACCESS viruses ISSN 1999-4915 www.mdpi.com/journal/viruses Review Molecular and Cellular Aspects of Rhabdovirus Entry Aurélie A. V. Albertini, Eduard Baquero, Anna Ferlin and Yves Gaudin * Laboratoire de Virologie Moléculaire et Structurale, Centre de Recherche de Gif, CNRS (UPR 3296), Avenue de la Terrasse, 91198, Gif sur Yvette Cedex, Franc...</td>\n",
       "      <td>irrelevant</td>\n",
       "      <td>[]</td>\n",
       "      <td>relevant</td>\n",
       "      <td>1.0</td>\n",
       "    </tr>\n",
       "    <tr>\n",
       "      <th>9</th>\n",
       "      <td>https://www.ypsyork.org/wp-content/uploads/2019/09/Newsletter-Aug-2019.pdf</td>\n",
       "      <td>AUGUST 2019 FFoouunnddeedd 11882222 NEWSLETTER Yorkshire Philosophical Society Promoting the public understanding of science since 1822 The Lodge, Museum Gardens, York, YO1 7DR, tel 01904 656713 email info@ypsyork.org web www.ypsyork.org/ Notes from the Chair The Lecture Programme for the first half of 2019 has been successfully concluded and included memorial lectures for Mr Alan Owen, former...</td>\n",
       "      <td>irrelevant</td>\n",
       "      <td>[]</td>\n",
       "      <td>relevant</td>\n",
       "      <td>1.0</td>\n",
       "    </tr>\n",
       "  </tbody>\n",
       "</table>\n",
       "</div>"
      ],
      "text/plain": [
       "                                                                                                                        url  \\\n",
       "0                         https://yearofthesalmon.org/wp-content/uploads/2022/12/11-Status-and-Trend-Masahide-Kaeriyama.pdf   \n",
       "1           https://digitalarchive.worldfishcenter.org/bitstream/handle/20.500.12348/2068/WF_390.pdf?sequence=1&isAllowed=y   \n",
       "2                                      http://yoderlab.org/cms/wp-content/uploads/2014/04/PNAS-2016-Federman-1523825113.pdf   \n",
       "3               http://assets.worldwildlife.org/publications/817/files/original/Living_Blue_Planet_Report_2015_Final_LR.pdf   \n",
       "4                                 https://yearofthesalmon.org/wp-content/uploads/2022/12/14-Managing-Salmon-Facilitator.pdf   \n",
       "5  https://digitalarchive.worldfishcenter.org/bitstream/handle/20.500.12348/2992/Pub%20SR76%2022.pdf?sequence=1&isAllowed=y   \n",
       "6                                                                      https://zenodo.org/records/2491937/files/article.pdf   \n",
       "7                                                             http://youthla.org/wp-content/uploads/2018/05/restoration.pdf   \n",
       "8                                                    https://www.ws-virology.org/wp-content/uploads/2021/12/Virus-entry.pdf   \n",
       "9                                                https://www.ypsyork.org/wp-content/uploads/2019/09/Newsletter-Aug-2019.pdf   \n",
       "\n",
       "                                                                                                                                                                                                                                                                                                                                                                                                              text  \\\n",
       "0  International Year of the Salmon Synthesis Symposium 4-6 October 2022 / Westin Bayshore, Vancouver, Canada Status and trend of production of Japanese chum salmon under the warming climate Masahide Kaeriyama Arctic Research Center, Hokkaido University salmon@arc.hokucai.ac.jp l Objects • This presentation reviews the evidence for warming climate impacts on Pacific salmon: (1) Temporal changes i...   \n",
       "1  Use of Genetically Improved and Alien Species for Aquaculture and Conservation of Aquatic Biodiversity in Africa Edited by Modadugu V. Gupta Devin M. Bartley Belen O. Acosta CHAPTER | Topic i Use of Genetically Improved and Alien Species for Aquaculture and Conservation of Aquatic Biodiversity in Africa Edited by Modadugu V. Gupta Devin M. Bartley Belen O. Acosta 2004 Published by WorldFish Ce...   \n",
       "2  Implications of lemuriform extinctions for the Malagasy flora a,1 b c a d,e f Sarah Federman , Alex Dornburg , Douglas C. Daly , Alexander Downie , George H. Perry , Anne D. Yoder , g g a h,i,j Eric J. Sargis , Alison F. Richard , Michael J. Donoghue , and Andrea L. Baden a b Department of Ecology and Evolutionary Biology, Yale University, New Haven, CT 06520; North Carolina Museum of Natural ...   \n",
       "3  REPORT INT 2015 Living Blue Planet Report Species, habitats and human well-being WWF WWF is one of the world’s largest and most experienced independent conservation organizations, with over 5 million supporters and a global network active in more than 100 countries. WWF’s mission is to stop the degradation of the planet’s natural environment and to build a future in which humans live in harmon...   \n",
       "4  Managing Salmon Fisheries in a Rapidly Changing Salmosphere: The Future of Management Emerging Trends/Issues in Salmon Management to focus on through to 2030 Trends Regarding Challenges for Salmon: Growing uncertainty with respect to: • Climate change – influences all phases of life cycle including marine food production & migration patterns - influencing growth, survival, vulnerability to fis...   \n",
       "5  source Ecology of the Coral Reef System Rodolfo B. Reyes, Jr. Kathleen N. Kesner Association of Southeast Asian NationNnited States Coastal Resources Management Project International Center for Living Aquatic Resources Management Fisheries Stock Assessment-CollaborativeR esearch Support Program University of Rhode Island University of the Philippines Marine Science Institute Resource Ecology o...   \n",
       "6  Downloaded from http://jgslegacy.lyellcollection.org/ at New York University on April 27, 2015 Vol. 66.] MEGALOSA URUS BRADLEYI, 111 5. On a S~:w.i, of MEa,~LO~,~URVS fi'om the G a~Av OoT,I~ of MINCHINHA~fPTON (GLOUCESSERSHIRE). By AR~HVa SmTI~ WOODWARD, LL.D. , F.R.S. , Sec.G.S. (Read January 26th, 1910.) [PL/kTE XIII.] ALTtfOUGtt the carnivorous Dinosaur Meqalosa,rus was first dis- covered i...   \n",
       "7  Ecological Engineering 71 (2014) 584–597 Contents lists available at ScienceDirect Ecological Engineering jo u r n a l h o m e p a g e : w w w . e l s e v i e r . c o m / l o c a t e / e c o l e n g Restoration design for Three Gorges Reservoir shorelands, combining traditional agro-ecological knowledge with landscape Chinese analysis ecological ∗ Chundi Chen , Colin Meurk, Jilong Chen, Mingqu...   \n",
       "8  Viruses 2012, 4, 117-139; doi:10.3390/v4010117 OPEN ACCESS viruses ISSN 1999-4915 www.mdpi.com/journal/viruses Review Molecular and Cellular Aspects of Rhabdovirus Entry Aurélie A. V. Albertini, Eduard Baquero, Anna Ferlin and Yves Gaudin * Laboratoire de Virologie Moléculaire et Structurale, Centre de Recherche de Gif, CNRS (UPR 3296), Avenue de la Terrasse, 91198, Gif sur Yvette Cedex, Franc...   \n",
       "9  AUGUST 2019 FFoouunnddeedd 11882222 NEWSLETTER Yorkshire Philosophical Society Promoting the public understanding of science since 1822 The Lodge, Museum Gardens, York, YO1 7DR, tel 01904 656713 email info@ypsyork.org web www.ypsyork.org/ Notes from the Chair The Lecture Programme for the first half of 2019 has been successfully concluded and included memorial lectures for Mr Alan Owen, former...   \n",
       "\n",
       "    relevance multiclasses predictions  score-lv1  \n",
       "0  irrelevant           []    relevant        1.0  \n",
       "1  irrelevant           []    relevant        1.0  \n",
       "2  irrelevant           []    relevant        1.0  \n",
       "3  irrelevant           []    relevant        1.0  \n",
       "4  irrelevant           []    relevant        1.0  \n",
       "5  irrelevant           []    relevant        1.0  \n",
       "6  irrelevant           []    relevant        1.0  \n",
       "7  irrelevant           []    relevant        1.0  \n",
       "8  irrelevant           []    relevant        1.0  \n",
       "9  irrelevant           []    relevant        1.0  "
      ]
     },
     "metadata": {},
     "output_type": "display_data"
    }
   ],
   "source": [
    "with pd.option_context('display.max_colwidth', 400):\n",
    "    display(potential.head(10))"
   ]
  },
  {
   "cell_type": "code",
   "execution_count": 20,
   "metadata": {},
   "outputs": [],
   "source": [
    "\n",
    "if DEV:\n",
    "    from os import makedirs, path\n",
    "    if not path.exists(\"../../../data/level-1.5/potential/dev\"):\n",
    "        makedirs(\"../../../data/level-1.5/potential/dev\")\n",
    "    potential.to_json(\"../../../data/level-1.5/potential/dev/data.json\", orient=\"records\", indent=4)\n",
    "else:\n",
    "    potential.to_json(\"../../../data/level-1.5/potential/data.json\", orient=\"records\", indent=4)"
   ]
  }
 ],
 "metadata": {
  "kernelspec": {
   "display_name": "GreyLiteratureClassifier-pwi3iMQR",
   "language": "python",
   "name": "python3"
  },
  "language_info": {
   "codemirror_mode": {
    "name": "ipython",
    "version": 3
   },
   "file_extension": ".py",
   "mimetype": "text/x-python",
   "name": "python",
   "nbconvert_exporter": "python",
   "pygments_lexer": "ipython3",
   "version": "3.10.12"
  }
 },
 "nbformat": 4,
 "nbformat_minor": 2
}
