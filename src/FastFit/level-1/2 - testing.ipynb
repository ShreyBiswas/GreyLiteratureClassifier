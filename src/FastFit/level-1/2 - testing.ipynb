{
 "cells": [
  {
   "cell_type": "code",
   "execution_count": 1,
   "metadata": {},
   "outputs": [],
   "source": [
    "from FastFitClassifier import FastFitClassifier\n",
    "import pandas as pd\n",
    "from tqdm.auto import tqdm\n",
    "\n",
    "tqdm.pandas()"
   ]
  },
  {
   "cell_type": "code",
   "execution_count": 2,
   "metadata": {},
   "outputs": [],
   "source": [
    "DEV = True\n",
    "model_path = \"./models/relevance/avsolatorio/GIST-small-Embedding-v0\"\n",
    "\n",
    "\n",
    "\n",
    "if not DEV:\n",
    "    model_path = './models/relevance/avsolatorio/GIST-Embedding-v0'"
   ]
  },
  {
   "cell_type": "code",
   "execution_count": 3,
   "metadata": {},
   "outputs": [
    {
     "name": "stdout",
     "output_type": "stream",
     "text": [
      "Loading data...\n",
      "Data loaded.\n",
      "<class 'pandas.core.frame.DataFrame'>\n",
      "RangeIndex: 5000 entries, 0 to 4999\n",
      "Data columns (total 4 columns):\n",
      " #   Column        Non-Null Count  Dtype \n",
      "---  ------        --------------  ----- \n",
      " 0   url           5000 non-null   object\n",
      " 1   text          5000 non-null   object\n",
      " 2   relevance     5000 non-null   object\n",
      " 3   multiclasses  5000 non-null   object\n",
      "dtypes: object(4)\n",
      "memory usage: 156.4+ KB\n"
     ]
    }
   ],
   "source": [
    "def import_labelled_data(path=\"data/level-0.5/data.json\"):\n",
    "    data = pd.read_json(path, encoding=\"latin-1\")\n",
    "    return data\n",
    "\n",
    "\n",
    "\n",
    "print(\"Loading data...\")\n",
    "\n",
    "test_dataset = import_labelled_data(path=\"../../../data/level-0.5/irrelevant.json\", )\n",
    "\n",
    "print(\"Data loaded.\")\n",
    "\n",
    "if DEV:\n",
    "    test_dataset = test_dataset.sample(5000)\n",
    "\n",
    "test_dataset = test_dataset.sample(frac=1).reset_index(drop=True)\n",
    "\n",
    "\n",
    "test_dataset.info()"
   ]
  },
  {
   "cell_type": "code",
   "execution_count": 4,
   "metadata": {},
   "outputs": [
    {
     "data": {
      "text/html": [
       "<div>\n",
       "<style scoped>\n",
       "    .dataframe tbody tr th:only-of-type {\n",
       "        vertical-align: middle;\n",
       "    }\n",
       "\n",
       "    .dataframe tbody tr th {\n",
       "        vertical-align: top;\n",
       "    }\n",
       "\n",
       "    .dataframe thead th {\n",
       "        text-align: right;\n",
       "    }\n",
       "</style>\n",
       "<table border=\"1\" class=\"dataframe\">\n",
       "  <thead>\n",
       "    <tr style=\"text-align: right;\">\n",
       "      <th></th>\n",
       "      <th>url</th>\n",
       "      <th>text</th>\n",
       "      <th>relevance</th>\n",
       "      <th>multiclasses</th>\n",
       "    </tr>\n",
       "  </thead>\n",
       "  <tbody>\n",
       "    <tr>\n",
       "      <th>0</th>\n",
       "      <td>https://gcg.gov.ph/files/0zpWcX7MgM5HMBp3Hazs.pdf</td>\n",
       "      <td>PARTIES: THE with G-OVERNMENT GOOD ON COMMISSI...</td>\n",
       "      <td>irrelevant</td>\n",
       "      <td>[]</td>\n",
       "    </tr>\n",
       "    <tr>\n",
       "      <th>1</th>\n",
       "      <td>https://documents1.worldbank.org/curated/en/09...</td>\n",
       "      <td>d e z i r o h t u A e r u s o l c s i D c i l ...</td>\n",
       "      <td>irrelevant</td>\n",
       "      <td>[]</td>\n",
       "    </tr>\n",
       "    <tr>\n",
       "      <th>2</th>\n",
       "      <td>https://www.wseas.org/multimedia/books/2008/is...</td>\n",
       "      <td>NEW ASPECTS OF AUTOMATIC CONTROL, MODELLING AN...</td>\n",
       "      <td>irrelevant</td>\n",
       "      <td>[]</td>\n",
       "    </tr>\n",
       "    <tr>\n",
       "      <th>3</th>\n",
       "      <td>https://ddjudge.com/assets/normal-probability-...</td>\n",
       "      <td>Normal Probability Distribution Notes Aka, the...</td>\n",
       "      <td>irrelevant</td>\n",
       "      <td>[]</td>\n",
       "    </tr>\n",
       "    <tr>\n",
       "      <th>4</th>\n",
       "      <td>http://archive.xbrl.org/25th/sites/25thconfere...</td>\n",
       "      <td>INSR7: Data Standards and Insurance Supervisio...</td>\n",
       "      <td>irrelevant</td>\n",
       "      <td>[]</td>\n",
       "    </tr>\n",
       "  </tbody>\n",
       "</table>\n",
       "</div>"
      ],
      "text/plain": [
       "                                                 url  \\\n",
       "0  https://gcg.gov.ph/files/0zpWcX7MgM5HMBp3Hazs.pdf   \n",
       "1  https://documents1.worldbank.org/curated/en/09...   \n",
       "2  https://www.wseas.org/multimedia/books/2008/is...   \n",
       "3  https://ddjudge.com/assets/normal-probability-...   \n",
       "4  http://archive.xbrl.org/25th/sites/25thconfere...   \n",
       "\n",
       "                                                text   relevance multiclasses  \n",
       "0  PARTIES: THE with G-OVERNMENT GOOD ON COMMISSI...  irrelevant           []  \n",
       "1  d e z i r o h t u A e r u s o l c s i D c i l ...  irrelevant           []  \n",
       "2  NEW ASPECTS OF AUTOMATIC CONTROL, MODELLING AN...  irrelevant           []  \n",
       "3  Normal Probability Distribution Notes Aka, the...  irrelevant           []  \n",
       "4  INSR7: Data Standards and Insurance Supervisio...  irrelevant           []  "
      ]
     },
     "execution_count": 4,
     "metadata": {},
     "output_type": "execute_result"
    }
   ],
   "source": [
    "test_dataset.head()"
   ]
  },
  {
   "cell_type": "code",
   "execution_count": 5,
   "metadata": {},
   "outputs": [],
   "source": [
    "import torch\n",
    "torch.cuda.empty_cache()"
   ]
  },
  {
   "cell_type": "code",
   "execution_count": 6,
   "metadata": {},
   "outputs": [
    {
     "name": "stdout",
     "output_type": "stream",
     "text": [
      "Loading model from ./models/relevance/avsolatorio/GIST-small-Embedding-v0 ...\n",
      "Model loaded.\n",
      "Tokenizer loaded....\n",
      "Building classifier pipeline...\r"
     ]
    },
    {
     "name": "stderr",
     "output_type": "stream",
     "text": [
      "The model 'FastFit' is not supported for text-classification. Supported models are ['AlbertForSequenceClassification', 'BartForSequenceClassification', 'BertForSequenceClassification', 'BigBirdForSequenceClassification', 'BigBirdPegasusForSequenceClassification', 'BioGptForSequenceClassification', 'BloomForSequenceClassification', 'CamembertForSequenceClassification', 'CanineForSequenceClassification', 'LlamaForSequenceClassification', 'ConvBertForSequenceClassification', 'CTRLForSequenceClassification', 'Data2VecTextForSequenceClassification', 'DebertaForSequenceClassification', 'DebertaV2ForSequenceClassification', 'DistilBertForSequenceClassification', 'ElectraForSequenceClassification', 'ErnieForSequenceClassification', 'ErnieMForSequenceClassification', 'EsmForSequenceClassification', 'FalconForSequenceClassification', 'FlaubertForSequenceClassification', 'FNetForSequenceClassification', 'FunnelForSequenceClassification', 'GemmaForSequenceClassification', 'Gemma2ForSequenceClassification', 'GPT2ForSequenceClassification', 'GPT2ForSequenceClassification', 'GPTBigCodeForSequenceClassification', 'GPTNeoForSequenceClassification', 'GPTNeoXForSequenceClassification', 'GPTJForSequenceClassification', 'IBertForSequenceClassification', 'JambaForSequenceClassification', 'JetMoeForSequenceClassification', 'LayoutLMForSequenceClassification', 'LayoutLMv2ForSequenceClassification', 'LayoutLMv3ForSequenceClassification', 'LEDForSequenceClassification', 'LiltForSequenceClassification', 'LlamaForSequenceClassification', 'LongformerForSequenceClassification', 'LukeForSequenceClassification', 'MarkupLMForSequenceClassification', 'MBartForSequenceClassification', 'MegaForSequenceClassification', 'MegatronBertForSequenceClassification', 'MistralForSequenceClassification', 'MixtralForSequenceClassification', 'MobileBertForSequenceClassification', 'MPNetForSequenceClassification', 'MptForSequenceClassification', 'MraForSequenceClassification', 'MT5ForSequenceClassification', 'MvpForSequenceClassification', 'NezhaForSequenceClassification', 'NystromformerForSequenceClassification', 'OpenLlamaForSequenceClassification', 'OpenAIGPTForSequenceClassification', 'OPTForSequenceClassification', 'PerceiverForSequenceClassification', 'PersimmonForSequenceClassification', 'PhiForSequenceClassification', 'Phi3ForSequenceClassification', 'PLBartForSequenceClassification', 'QDQBertForSequenceClassification', 'Qwen2ForSequenceClassification', 'Qwen2MoeForSequenceClassification', 'ReformerForSequenceClassification', 'RemBertForSequenceClassification', 'RobertaForSequenceClassification', 'RobertaPreLayerNormForSequenceClassification', 'RoCBertForSequenceClassification', 'RoFormerForSequenceClassification', 'SqueezeBertForSequenceClassification', 'StableLmForSequenceClassification', 'Starcoder2ForSequenceClassification', 'T5ForSequenceClassification', 'TapasForSequenceClassification', 'TransfoXLForSequenceClassification', 'UMT5ForSequenceClassification', 'XLMForSequenceClassification', 'XLMRobertaForSequenceClassification', 'XLMRobertaXLForSequenceClassification', 'XLNetForSequenceClassification', 'XmodForSequenceClassification', 'YosoForSequenceClassification'].\n"
     ]
    },
    {
     "name": "stdout",
     "output_type": "stream",
     "text": [
      "\n",
      "Classifier pipeline built.\n"
     ]
    }
   ],
   "source": [
    "classifier = FastFitClassifier(\n",
    "    model_path=model_path,\n",
    "    text_overlap_proportion=0.2,\n",
    "    device='cuda:0'\n",
    ")"
   ]
  },
  {
   "cell_type": "markdown",
   "metadata": {},
   "source": [
    "#### Profiling Section"
   ]
  },
  {
   "cell_type": "code",
   "execution_count": 7,
   "metadata": {},
   "outputs": [
    {
     "name": "stdout",
     "output_type": "stream",
     "text": [
      "Looking in indexes: https://pypi.org/simple, https://pypi.ngc.nvidia.com\n",
      "Requirement already satisfied: line_profiler in /root/.local/share/virtualenvs/GreyLiteratureClassifier-eJH_GeT1/lib/python3.10/site-packages (4.1.3)\n",
      "\n",
      "\u001b[1m[\u001b[0m\u001b[34;49mnotice\u001b[0m\u001b[1;39;49m]\u001b[0m\u001b[39;49m A new release of pip is available: \u001b[0m\u001b[31;49m24.1.2\u001b[0m\u001b[39;49m -> \u001b[0m\u001b[32;49m24.2\u001b[0m\n",
      "\u001b[1m[\u001b[0m\u001b[34;49mnotice\u001b[0m\u001b[1;39;49m]\u001b[0m\u001b[39;49m To update, run: \u001b[0m\u001b[32;49mpip install --upgrade pip\u001b[0m\n"
     ]
    }
   ],
   "source": [
    "!pip install line_profiler\n",
    "%load_ext line_profiler"
   ]
  },
  {
   "cell_type": "code",
   "execution_count": 8,
   "metadata": {},
   "outputs": [
    {
     "name": "stdout",
     "output_type": "stream",
     "text": [
      "Chunking data...\r"
     ]
    },
    {
     "data": {
      "application/vnd.jupyter.widget-view+json": {
       "model_id": "de2f49b8caa44f209e9507d2a5d327e8",
       "version_major": 2,
       "version_minor": 0
      },
      "text/plain": [
       "  0%|          | 0/100 [00:00<?, ?it/s]"
      ]
     },
     "metadata": {},
     "output_type": "display_data"
    },
    {
     "name": "stdout",
     "output_type": "stream",
     "text": [
      "Data chunked.\n",
      "Predicting from chunks...\r"
     ]
    },
    {
     "data": {
      "application/vnd.jupyter.widget-view+json": {
       "model_id": "abe8cc81f2394b3db4258e1736180fb6",
       "version_major": 2,
       "version_minor": 0
      },
      "text/plain": [
       "Files\t:   0%|          | 0/100 [00:00<?, ?it/s]"
      ]
     },
     "metadata": {},
     "output_type": "display_data"
    },
    {
     "data": {
      "application/vnd.jupyter.widget-view+json": {
       "model_id": "e3fcf0c634f94811b1eea802db85bebf",
       "version_major": 2,
       "version_minor": 0
      },
      "text/plain": [
       "Chunks\t:   0%|          | 0/24801 [00:00<?, ?it/s]"
      ]
     },
     "metadata": {},
     "output_type": "display_data"
    },
    {
     "name": "stdout",
     "output_type": "stream",
     "text": [
      "Calculated predictions.\n"
     ]
    },
    {
     "name": "stdout",
     "output_type": "stream",
     "text": [
      "Timer unit: 0.001 s\n",
      "\n",
      "Total time: 41.1477 s\n",
      "File: /GreyLitDocker/GreyLiteratureClassifier/src/FastFit/level-1/FastFitClassifier.py\n",
      "Function: predict_chunks at line 51\n",
      "\n",
      "Line #      Hits         Time  Per Hit   % Time  Line Contents\n",
      "==============================================================\n",
      "    51                                               def predict_chunks(self, chunked_text, chunk_id_counts,chunk_ids):\n",
      "    52         1          0.0      0.0      0.0          predictions = []\n",
      "    53         1          0.0      0.0      0.0          scores = []\n",
      "    54                                           \n",
      "    55         1          0.0      0.0      0.0          i = 0\n",
      "    56                                           \n",
      "    57         1          0.1      0.1      0.0          print(\"Predicting from chunks...\", end=\"\\r\")\n",
      "    58                                           \n",
      "    59         2         30.9     15.5      0.1          with tqdm(total=len(chunk_id_counts),desc='Files\\t') as files_pbar:\n",
      "    60         2         29.4     14.7      0.1              with tqdm(total=len(chunked_text),desc='Chunks\\t',miniters=50) as chunks_pbar:\n",
      "    61                                           \n",
      "    62     24802      38150.7      1.5     92.7                  for output in self.classifier(chunked_text,batch_size=128,num_workers=16,truncation=True):\n",
      "    63     24801         35.4      0.0      0.1                      predictions.append(output['label'])\n",
      "    64     24801         21.7      0.0      0.1                      scores.append(output['score'])\n",
      "    65     24801        598.6      0.0      1.5                      chunks_pbar.update(1)\n",
      "    66                                           \n",
      "    67     24801       1143.4      0.0      2.8                      chunk_id_counts[chunk_ids.iloc[i]] -= 1\n",
      "    68     24801        962.9      0.0      2.3                      if chunk_id_counts[chunk_ids.iloc[i]] == 0:\n",
      "    69       100        150.0      1.5      0.4                          files_pbar.update(1)\n",
      "    70     24801         24.3      0.0      0.1                      i += 1\n",
      "    71                                           \n",
      "    72         1          0.1      0.1      0.0          print(\"Calculated predictions.\")\n",
      "    73         1          0.0      0.0      0.0          return predictions, scores"
     ]
    }
   ],
   "source": [
    "from transformers.pipelines.pt_utils import KeyDataset\n",
    "from datasets import Dataset\n",
    "print(\"Chunking data...\", end=\"\\r\")\n",
    "from chunking import chunk_dataset_and_explode\n",
    "\n",
    "data = test_dataset.sample(100)\n",
    "\n",
    "chunked_data = chunk_dataset_and_explode(\n",
    "    data, max_len=512, overlap=int(512 * 0.2)\n",
    ")\n",
    "\n",
    "# get dict of chunk_ids to counts of that id so we can track when we've finished all chunks for a file\n",
    "chunk_id_counts = chunked_data[\"chunk_id\"].value_counts().to_dict()\n",
    "\n",
    "print(\"Data chunked.\")\n",
    "\n",
    "chunked_dataset = Dataset.from_pandas(chunked_data)\n",
    "\n",
    "print(\"Predicting...\", end=\"\\r\")\n",
    "\n",
    "%lprun -u 1e-3 -f FastFitClassifier.predict_chunks classifier.predict_chunks(KeyDataset(chunked_dataset,'text'),chunk_id_counts, chunked_data['chunk_id'])"
   ]
  },
  {
   "cell_type": "markdown",
   "metadata": {},
   "source": [
    "##### End Profiling"
   ]
  },
  {
   "cell_type": "code",
   "execution_count": 9,
   "metadata": {},
   "outputs": [
    {
     "name": "stdout",
     "output_type": "stream",
     "text": [
      "Chunking data...\r"
     ]
    },
    {
     "data": {
      "application/vnd.jupyter.widget-view+json": {
       "model_id": "4cf1d8a093d2479c91bf1850d9c12ffd",
       "version_major": 2,
       "version_minor": 0
      },
      "text/plain": [
       "  0%|          | 0/5000 [00:00<?, ?it/s]"
      ]
     },
     "metadata": {},
     "output_type": "display_data"
    },
    {
     "name": "stdout",
     "output_type": "stream",
     "text": [
      "Data chunked.\n",
      "Predicting from chunks...\r"
     ]
    },
    {
     "data": {
      "application/vnd.jupyter.widget-view+json": {
       "model_id": "f49e39e921274361a42b51f6762ada8e",
       "version_major": 2,
       "version_minor": 0
      },
      "text/plain": [
       "Files\t:   0%|          | 0/5000 [00:00<?, ?it/s]"
      ]
     },
     "metadata": {},
     "output_type": "display_data"
    },
    {
     "data": {
      "application/vnd.jupyter.widget-view+json": {
       "model_id": "7b3a5eadb1cf4264bdf7374b7fb56c9c",
       "version_major": 2,
       "version_minor": 0
      },
      "text/plain": [
       "Chunks\t:   0%|          | 0/1495450 [00:00<?, ?it/s]"
      ]
     },
     "metadata": {},
     "output_type": "display_data"
    },
    {
     "name": "stdout",
     "output_type": "stream",
     "text": [
      "Calculated predictions.\n",
      "Evaluating model...\n",
      "\n",
      "-----------------------------------------------------\n",
      "\n"
     ]
    },
    {
     "name": "stderr",
     "output_type": "stream",
     "text": [
      "/root/.local/share/virtualenvs/GreyLiteratureClassifier-eJH_GeT1/lib/python3.10/site-packages/sklearn/metrics/_classification.py:1531: UndefinedMetricWarning: Recall is ill-defined and being set to 0.0 in labels with no true samples. Use `zero_division` parameter to control this behavior.\n",
      "  _warn_prf(average, modifier, f\"{metric.capitalize()} is\", len(result))\n",
      "/root/.local/share/virtualenvs/GreyLiteratureClassifier-eJH_GeT1/lib/python3.10/site-packages/sklearn/metrics/_classification.py:1531: UndefinedMetricWarning: Recall is ill-defined and being set to 0.0 in labels with no true samples. Use `zero_division` parameter to control this behavior.\n",
      "  _warn_prf(average, modifier, f\"{metric.capitalize()} is\", len(result))\n",
      "/root/.local/share/virtualenvs/GreyLiteratureClassifier-eJH_GeT1/lib/python3.10/site-packages/sklearn/metrics/_classification.py:1531: UndefinedMetricWarning: Recall is ill-defined and being set to 0.0 in labels with no true samples. Use `zero_division` parameter to control this behavior.\n",
      "  _warn_prf(average, modifier, f\"{metric.capitalize()} is\", len(result))\n"
     ]
    },
    {
     "name": "stdout",
     "output_type": "stream",
     "text": [
      "Classification Report: \n",
      "              precision    recall  f1-score   support\n",
      "\n",
      "  irrelevant       1.00      0.96      0.98      5000\n",
      "    relevant       0.00      0.00      0.00         0\n",
      "\n",
      "    accuracy                           0.96      5000\n",
      "   macro avg       0.50      0.48      0.49      5000\n",
      "weighted avg       1.00      0.96      0.98      5000\n",
      "\n",
      "-----------------------------------------------------\n",
      "Accuracy: 0.9576\n",
      "Precision: 0.5\n",
      "Specificity: 0.9576\n"
     ]
    },
    {
     "data": {
      "image/png": "[encoded data removed]",
      "text/plain": [
       "<Figure size 640x480 with 2 Axes>"
      ]
     },
     "metadata": {},
     "output_type": "display_data"
    }
   ],
   "source": [
    "\n",
    "#! on fastfit/modeling.py, line 838, inserting **kwargs\n",
    "#! it's easier than getting the tokenizer to stop outputting\n",
    "#! extra info like token_type_ids\n",
    "\n",
    "predicted_data = classifier.evaluate(\n",
    "    test_dataset,\n",
    "    metrics=[\n",
    "        \"accuracy\",\n",
    "        \"precision\",\n",
    "        \"classification-report\",\n",
    "        \"specificity\",\n",
    "        \"confusion-matrix-mpl\",\n",
    "    ],\n",
    "    aggregate=\"majority\",\n",
    ")"
   ]
  },
  {
   "cell_type": "code",
   "execution_count": 10,
   "metadata": {},
   "outputs": [],
   "source": [
    "potential = predicted_data[predicted_data[\"predictions\"] == \"relevant\"]\n",
    "potential = potential.sort_values(by=\"score-lv1\", ascending=False)\n"
   ]
  },
  {
   "cell_type": "code",
   "execution_count": 11,
   "metadata": {},
   "outputs": [],
   "source": [
    "potential = potential[potential['text'].apply(lambda x: x!='No summary for this intervention.')]\n",
    "potential = potential[potential['score-lv1'].apply(lambda x: x>=0.95)].reset_index(drop=True)"
   ]
  },
  {
   "cell_type": "code",
   "execution_count": 12,
   "metadata": {},
   "outputs": [
    {
     "name": "stdout",
     "output_type": "stream",
     "text": [
      "Max score: 1.0\n",
      "Min score: 0.950026695217405\n"
     ]
    }
   ],
   "source": [
    "# get max min range of score\n",
    "max_score = potential['score-lv1'].max()\n",
    "min_score = potential['score-lv1'].min()\n",
    "print(f\"Max score: {max_score}\")\n",
    "print(f\"Min score: {min_score}\")\n",
    "\n"
   ]
  },
  {
   "cell_type": "code",
   "execution_count": 15,
   "metadata": {},
   "outputs": [
    {
     "data": {
      "text/html": [
       "<div>\n",
       "<style scoped>\n",
       "    .dataframe tbody tr th:only-of-type {\n",
       "        vertical-align: middle;\n",
       "    }\n",
       "\n",
       "    .dataframe tbody tr th {\n",
       "        vertical-align: top;\n",
       "    }\n",
       "\n",
       "    .dataframe thead th {\n",
       "        text-align: right;\n",
       "    }\n",
       "</style>\n",
       "<table border=\"1\" class=\"dataframe\">\n",
       "  <thead>\n",
       "    <tr style=\"text-align: right;\">\n",
       "      <th></th>\n",
       "      <th>url</th>\n",
       "      <th>text</th>\n",
       "      <th>relevance</th>\n",
       "      <th>multiclasses</th>\n",
       "      <th>predictions</th>\n",
       "      <th>score-lv1</th>\n",
       "    </tr>\n",
       "  </thead>\n",
       "  <tbody>\n",
       "    <tr>\n",
       "      <th>0</th>\n",
       "      <td>https://www.wyomingwildsheep.org/wp-content/uploads/2022/02/TX-Desert-BHS-Restoration.pdf</td>\n",
       "      <td>R ESTORATION AND R ESTORATION AND MANAGEMENT OF D ESERT MANAGEMENT OF D ESERT B IGHORN S HEEP IN T EXAS B IGHORN S HEEP IN T EXAS By Froylan Hernandez, Louis A. Harveson, By Froylan Hernandez, Louis A. Harveson, Thomas S. Janke, Reagan T. Gage, Clay E. Brewer, Thomas S. Janke, Reagan T. Gage, Clay E. Brewer, Justin Foster, and Shawn Locke Justin Foster, and Shawn Locke A BRIEF HISTORY OF TEXAS...</td>\n",
       "      <td>irrelevant</td>\n",
       "      <td>[]</td>\n",
       "      <td>relevant</td>\n",
       "      <td>1.0</td>\n",
       "    </tr>\n",
       "    <tr>\n",
       "      <th>1</th>\n",
       "      <td>https://yosemite.org/wp-content/uploads/2020/04/yosemite-conservancy-honey-bee-coloring-sheet.pdf</td>\n",
       "      <td>HONEY BEE (Scientific name: Apis) Bees and other pollinators play an important role in ecosystems. As they collect nectar and pollen from flowers, they help plants reproduce. Many of the foods we eat depend on pollinators! You can help bees, butterflies and other pollinators by planting and protecting native flowers in your area. . Illustration by Lora Spielman Visit us online: yosemite.org</td>\n",
       "      <td>irrelevant</td>\n",
       "      <td>[]</td>\n",
       "      <td>relevant</td>\n",
       "      <td>1.0</td>\n",
       "    </tr>\n",
       "    <tr>\n",
       "      <th>2</th>\n",
       "      <td>https://wtip.org/wp-content/uploads/2022/02/2019-bee-project-handout.pdf</td>\n",
       "      <td>Wild Bee Surveys in Minnesota February, 2019 Our knowledge of wild bees Wild bees are vital components of Minnesota’s ecosystems by providing essential ecosystem services such as pollination. Although our knowledge of the diversity and distribution of Minnesota’s bees is improving, large gaps still exist. Laying the foundation for bee research Minnesota has an engaged and growing community of ...</td>\n",
       "      <td>irrelevant</td>\n",
       "      <td>[]</td>\n",
       "      <td>relevant</td>\n",
       "      <td>1.0</td>\n",
       "    </tr>\n",
       "    <tr>\n",
       "      <th>3</th>\n",
       "      <td>https://www.zooreach.org/ZOO_WILD_Activities/2014/FWB/Reptiles-foldout.pdf</td>\n",
       "      <td>n o i t a The Western Ghats or 'Sahyadris' is home to some very v live up to 100 years, some individuals have been Reptiles, namely snakes, lizards, crocodiles and r 4 5 e s n SCINCIDAE AGAMIDAE Geckoella deccanensis Salea anamallayana o C unique flora, fauna and fungi. The terrestrial ecosystem of | 1 4 recorded to live up to 150 years. India has 28 turtles are cold-blooded animals and their ...</td>\n",
       "      <td>irrelevant</td>\n",
       "      <td>[]</td>\n",
       "      <td>relevant</td>\n",
       "      <td>1.0</td>\n",
       "    </tr>\n",
       "    <tr>\n",
       "      <th>4</th>\n",
       "      <td>https://files.worldwildlife.org/wwfcmsprod/files/Publication/file/803vp43xa0_PlowprintReport_2020_FINAL_08042020.pdf?_ga=2.242573121.291245891.1635943104-2027897033.1635943104</td>\n",
       "      <td>PLOW 0 2 0 PRINT 2 orld Wildlife Fund’s 2020 Plowprint Report finds that policies, and a global pandemic has added additional pressures from 2014 to 2018, tillage of grasslands across the to maintaining agricultural livelihoods. The novel coronavirus W Great Plains occurred at an average rate of four foot- has negatively impacted food supply chains and the delivery and ball fields every minute...</td>\n",
       "      <td>irrelevant</td>\n",
       "      <td>[]</td>\n",
       "      <td>relevant</td>\n",
       "      <td>1.0</td>\n",
       "    </tr>\n",
       "    <tr>\n",
       "      <th>5</th>\n",
       "      <td>https://www.wrisc.org/_files/ugd/b37ba2_4ec05a3b8c524530993feba2ed05d339.pdf</td>\n",
       "      <td>Wild Rivers Invasive Species Coalition WILD RIVERS ISC December 2023 Issue 26 2023 Accomplishments! • • • • • • Round Leaf Bittersweet: Leaves can be highly variable in shape and come to a point (left), Berries are red with bright yellow fruit capsules that remain on throughout the winter (right) Recognizing Local Populations of Round-leaf Bittersweet American Bittersweet —a native alternative...</td>\n",
       "      <td>irrelevant</td>\n",
       "      <td>[]</td>\n",
       "      <td>relevant</td>\n",
       "      <td>1.0</td>\n",
       "    </tr>\n",
       "    <tr>\n",
       "      <th>6</th>\n",
       "      <td>https://yearofthesalmon.org/wp-content/uploads/2022/12/63-Potential-factors-influencing-variation-David_Scott.pdf</td>\n",
       "      <td>Potential factors influencing variation in freshwater and estuarine growth rates of juvenile Chinook salmon in the Fraser River, B.C. David Scott, Misty MacDuffee, Lia Chalifour, Scott G. Hinch th IYS Symposium October 5 , 2022 Acknowledgments Raincoast Conserva.on Founda.on Misty MacDuﬀee and the rest of the team Fisheries and Oceans Canada Murray Manson, Eric Rondeau, Terry Beacham, Suzanne ...</td>\n",
       "      <td>irrelevant</td>\n",
       "      <td>[]</td>\n",
       "      <td>relevant</td>\n",
       "      <td>1.0</td>\n",
       "    </tr>\n",
       "    <tr>\n",
       "      <th>7</th>\n",
       "      <td>https://www.zooreach.org/ZOO_WILD_Activities/2014/FWB/Aquatic-plants-foldout.pdf</td>\n",
       "      <td>n o i t a v r e s Non Flowering Plants - Algae n o Flowering Plants - Dicotyledons C | n Azolla pinnata o i t a c u Azollaceae (Salviniaceae) d E | Alternanthera sessilis Pogostemon stellatus Trapa natans h Sahyãdri The c r a e s e Amaranthaceae Labiatae (Lamiaceae) Trapaceae R Chara braunii Acmella paniculata Characeae Compositae Stonewort Aquatic Plants m o n c o . i t d l a r d Species rich...</td>\n",
       "      <td>irrelevant</td>\n",
       "      <td>[]</td>\n",
       "      <td>relevant</td>\n",
       "      <td>1.0</td>\n",
       "    </tr>\n",
       "    <tr>\n",
       "      <th>8</th>\n",
       "      <td>https://www.xerces.org/sites/default/files/2018-05/13-042_02_XercesSoc_Pollinator-Mgmt-Organic-Seed-Producers_web.pdf</td>\n",
       "      <td>Pollinator Management for Organic Seed Producers Eric Mader and Jennifer Hopwood The Xerces Society FOR INVERTEBRATE CONSERVATION REVIEW PROVIDED BY ORGANIC SEED ALLIANCE The Xerces Society for Invertebrate Conservation is a nonprofit organization that protects wildlife through the conservation of invertebrates and their habitat. Established in 1971, the Society is at the forefront of inverteb...</td>\n",
       "      <td>irrelevant</td>\n",
       "      <td>[]</td>\n",
       "      <td>relevant</td>\n",
       "      <td>1.0</td>\n",
       "    </tr>\n",
       "    <tr>\n",
       "      <th>9</th>\n",
       "      <td>https://yearofthesalmon.org/wp-content/uploads/2022/12/36-Warming-rivers-in-the-Atlantic-coast-Tommi_Linnansaari.pdf</td>\n",
       "      <td>Warming rivers in the Atlantic coast; Is this the end of Atlantic salmon (Salmo salar)? IYS Synthesis symposium October 5, 2022 Tommi Linnansaari, Antóin M. O’Sullivan, Emily Corey, Ryan Carrow, R. Allen Curry, Richard A. Cunjak INteractions in Tomorrow’s Environment Laboratory (UNB-INTEL) Email: tommi.linnansaari@unb.ca @tlinnans @unbsalmon Dr. Cunjak Dr. Curry Dr. Corey Dr. O’Sullivan R. Car...</td>\n",
       "      <td>irrelevant</td>\n",
       "      <td>[]</td>\n",
       "      <td>relevant</td>\n",
       "      <td>1.0</td>\n",
       "    </tr>\n",
       "  </tbody>\n",
       "</table>\n",
       "</div>"
      ],
      "text/plain": [
       "                                                                                                                                                                               url  \\\n",
       "0                                                                                        https://www.wyomingwildsheep.org/wp-content/uploads/2022/02/TX-Desert-BHS-Restoration.pdf   \n",
       "1                                                                                https://yosemite.org/wp-content/uploads/2020/04/yosemite-conservancy-honey-bee-coloring-sheet.pdf   \n",
       "2                                                                                                         https://wtip.org/wp-content/uploads/2022/02/2019-bee-project-handout.pdf   \n",
       "3                                                                                                       https://www.zooreach.org/ZOO_WILD_Activities/2014/FWB/Reptiles-foldout.pdf   \n",
       "4  https://files.worldwildlife.org/wwfcmsprod/files/Publication/file/803vp43xa0_PlowprintReport_2020_FINAL_08042020.pdf?_ga=2.242573121.291245891.1635943104-2027897033.1635943104   \n",
       "5                                                                                                     https://www.wrisc.org/_files/ugd/b37ba2_4ec05a3b8c524530993feba2ed05d339.pdf   \n",
       "6                                                                https://yearofthesalmon.org/wp-content/uploads/2022/12/63-Potential-factors-influencing-variation-David_Scott.pdf   \n",
       "7                                                                                                 https://www.zooreach.org/ZOO_WILD_Activities/2014/FWB/Aquatic-plants-foldout.pdf   \n",
       "8                                                            https://www.xerces.org/sites/default/files/2018-05/13-042_02_XercesSoc_Pollinator-Mgmt-Organic-Seed-Producers_web.pdf   \n",
       "9                                                             https://yearofthesalmon.org/wp-content/uploads/2022/12/36-Warming-rivers-in-the-Atlantic-coast-Tommi_Linnansaari.pdf   \n",
       "\n",
       "                                                                                                                                                                                                                                                                                                                                                                                                              text  \\\n",
       "0  R ESTORATION AND R ESTORATION AND MANAGEMENT OF D ESERT MANAGEMENT OF D ESERT B IGHORN S HEEP IN T EXAS B IGHORN S HEEP IN T EXAS By Froylan Hernandez, Louis A. Harveson, By Froylan Hernandez, Louis A. Harveson, Thomas S. Janke, Reagan T. Gage, Clay E. Brewer, Thomas S. Janke, Reagan T. Gage, Clay E. Brewer, Justin Foster, and Shawn Locke Justin Foster, and Shawn Locke A BRIEF HISTORY OF TEXAS...   \n",
       "1       HONEY BEE (Scientific name: Apis) Bees and other pollinators play an important role in ecosystems. As they collect nectar and pollen from flowers, they help plants reproduce. Many of the foods we eat depend on pollinators! You can help bees, butterflies and other pollinators by planting and protecting native flowers in your area. . Illustration by Lora Spielman Visit us online: yosemite.org    \n",
       "2  Wild Bee Surveys in Minnesota February, 2019 Our knowledge of wild bees Wild bees are vital components of Minnesota’s ecosystems by providing essential ecosystem services such as pollination. Although our knowledge of the diversity and distribution of Minnesota’s bees is improving, large gaps still exist. Laying the foundation for bee research Minnesota has an engaged and growing community of ...   \n",
       "3  n o i t a The Western Ghats or 'Sahyadris' is home to some very v live up to 100 years, some individuals have been Reptiles, namely snakes, lizards, crocodiles and r 4 5 e s n SCINCIDAE AGAMIDAE Geckoella deccanensis Salea anamallayana o C unique flora, fauna and fungi. The terrestrial ecosystem of | 1 4 recorded to live up to 150 years. India has 28 turtles are cold-blooded animals and their ...   \n",
       "4  PLOW 0 2 0 PRINT 2 orld Wildlife Fund’s 2020 Plowprint Report finds that policies, and a global pandemic has added additional pressures from 2014 to 2018, tillage of grasslands across the to maintaining agricultural livelihoods. The novel coronavirus W Great Plains occurred at an average rate of four foot- has negatively impacted food supply chains and the delivery and ball fields every minute...   \n",
       "5  Wild Rivers Invasive Species Coalition WILD RIVERS ISC December 2023 Issue 26 2023 Accomplishments! • • • • • • Round Leaf Bittersweet: Leaves can be highly variable in shape and come to a point (left), Berries are red with bright yellow fruit capsules that remain on throughout the winter (right) Recognizing Local Populations of Round-leaf Bittersweet American Bittersweet —a native alternative...   \n",
       "6  Potential factors influencing variation in freshwater and estuarine growth rates of juvenile Chinook salmon in the Fraser River, B.C. David Scott, Misty MacDuffee, Lia Chalifour, Scott G. Hinch th IYS Symposium October 5 , 2022 Acknowledgments Raincoast Conserva.on Founda.on Misty MacDuﬀee and the rest of the team Fisheries and Oceans Canada Murray Manson, Eric Rondeau, Terry Beacham, Suzanne ...   \n",
       "7  n o i t a v r e s Non Flowering Plants - Algae n o Flowering Plants - Dicotyledons C | n Azolla pinnata o i t a c u Azollaceae (Salviniaceae) d E | Alternanthera sessilis Pogostemon stellatus Trapa natans h Sahyãdri The c r a e s e Amaranthaceae Labiatae (Lamiaceae) Trapaceae R Chara braunii Acmella paniculata Characeae Compositae Stonewort Aquatic Plants m o n c o . i t d l a r d Species rich...   \n",
       "8  Pollinator Management for Organic Seed Producers Eric Mader and Jennifer Hopwood The Xerces Society FOR INVERTEBRATE CONSERVATION REVIEW PROVIDED BY ORGANIC SEED ALLIANCE The Xerces Society for Invertebrate Conservation is a nonprofit organization that protects wildlife through the conservation of invertebrates and their habitat. Established in 1971, the Society is at the forefront of inverteb...   \n",
       "9  Warming rivers in the Atlantic coast; Is this the end of Atlantic salmon (Salmo salar)? IYS Synthesis symposium October 5, 2022 Tommi Linnansaari, Antóin M. O’Sullivan, Emily Corey, Ryan Carrow, R. Allen Curry, Richard A. Cunjak INteractions in Tomorrow’s Environment Laboratory (UNB-INTEL) Email: tommi.linnansaari@unb.ca @tlinnans @unbsalmon Dr. Cunjak Dr. Curry Dr. Corey Dr. O’Sullivan R. Car...   \n",
       "\n",
       "    relevance multiclasses predictions  score-lv1  \n",
       "0  irrelevant           []    relevant        1.0  \n",
       "1  irrelevant           []    relevant        1.0  \n",
       "2  irrelevant           []    relevant        1.0  \n",
       "3  irrelevant           []    relevant        1.0  \n",
       "4  irrelevant           []    relevant        1.0  \n",
       "5  irrelevant           []    relevant        1.0  \n",
       "6  irrelevant           []    relevant        1.0  \n",
       "7  irrelevant           []    relevant        1.0  \n",
       "8  irrelevant           []    relevant        1.0  \n",
       "9  irrelevant           []    relevant        1.0  "
      ]
     },
     "metadata": {},
     "output_type": "display_data"
    }
   ],
   "source": [
    "with pd.option_context('display.max_colwidth', 400):\n",
    "    display(potential.head(10))"
   ]
  },
  {
   "cell_type": "code",
   "execution_count": 13,
   "metadata": {},
   "outputs": [],
   "source": [
    "\n",
    "if DEV:\n",
    "    from os import makedirs, path\n",
    "    if not path.exists(\"../../../data/level-1.5/potential/dev\"):\n",
    "        makedirs(\"../../../data/level-1.5/potential/dev\")\n",
    "    potential.to_json(\"../../../data/level-1.5/potential/dev/data.json\", orient=\"records\", indent=4)\n",
    "else:\n",
    "    potential.to_json(\"../../../data/level-1.5/potential/data.json\", orient=\"records\", indent=4)"
   ]
  }
 ],
 "metadata": {
  "kernelspec": {
   "display_name": "GreyLiteratureClassifier-pwi3iMQR",
   "language": "python",
   "name": "python3"
  },
  "language_info": {
   "codemirror_mode": {
    "name": "ipython",
    "version": 3
   },
   "file_extension": ".py",
   "mimetype": "text/x-python",
   "name": "python",
   "nbconvert_exporter": "python",
   "pygments_lexer": "ipython3",
   "version": "3.10.12"
  }
 },
 "nbformat": 4,
 "nbformat_minor": 2
}
