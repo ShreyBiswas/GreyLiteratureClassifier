{
 "cells": [
  {
   "cell_type": "code",
   "execution_count": 1,
   "metadata": {},
   "outputs": [],
   "source": [
    "import pandas as pd\n",
    "from FastFitClassifier import FastFitClassifier\n",
    "from tqdm.auto import tqdm\n",
    "\n",
    "tqdm.pandas()"
   ]
  },
  {
   "cell_type": "code",
   "execution_count": 2,
   "metadata": {},
   "outputs": [],
   "source": [
    "classifier_type = 'relevance'\n",
    "\n",
    "model_path = \"./models/relevance/avsolatorio/GIST-small-Embedding-v0\"\n",
    "# model_path = './models/relevance/avsolatorio/GIST-Embedding-v0'"
   ]
  },
  {
   "cell_type": "code",
   "execution_count": 3,
   "metadata": {},
   "outputs": [
    {
     "name": "stdout",
     "output_type": "stream",
     "text": [
      "Loading data...\n",
      "Data loaded.\n",
      "<class 'pandas.core.frame.DataFrame'>\n",
      "RangeIndex: 500 entries, 0 to 499\n",
      "Data columns (total 4 columns):\n",
      " #   Column        Non-Null Count  Dtype \n",
      "---  ------        --------------  ----- \n",
      " 0   url           500 non-null    object\n",
      " 1   text          500 non-null    object\n",
      " 2   relevance     500 non-null    object\n",
      " 3   multiclasses  500 non-null    object\n",
      "dtypes: object(4)\n",
      "memory usage: 15.8+ KB\n"
     ]
    }
   ],
   "source": [
    "def import_labelled_data(path=\"data/labelled/data.json\"):\n",
    "    data = pd.read_json(path, encoding=\"latin-1\")\n",
    "    return data\n",
    "\n",
    "\n",
    "\n",
    "print(\"Loading data...\")\n",
    "\n",
    "test_dataset = import_labelled_data(path=\"../../data/labelled/irrelevant.json\", )\n",
    "\n",
    "\n",
    "print(\"Data loaded.\")\n",
    "\n",
    "test_dataset = test_dataset.sample(500)\n",
    "\n",
    "test_dataset = test_dataset.sample(frac=1).reset_index(drop=True)\n",
    "\n",
    "\n",
    "test_dataset.info()"
   ]
  },
  {
   "cell_type": "code",
   "execution_count": 4,
   "metadata": {},
   "outputs": [
    {
     "data": {
      "text/html": [
       "<div>\n",
       "<style scoped>\n",
       "    .dataframe tbody tr th:only-of-type {\n",
       "        vertical-align: middle;\n",
       "    }\n",
       "\n",
       "    .dataframe tbody tr th {\n",
       "        vertical-align: top;\n",
       "    }\n",
       "\n",
       "    .dataframe thead th {\n",
       "        text-align: right;\n",
       "    }\n",
       "</style>\n",
       "<table border=\"1\" class=\"dataframe\">\n",
       "  <thead>\n",
       "    <tr style=\"text-align: right;\">\n",
       "      <th></th>\n",
       "      <th>url</th>\n",
       "      <th>text</th>\n",
       "      <th>relevance</th>\n",
       "      <th>multiclasses</th>\n",
       "    </tr>\n",
       "  </thead>\n",
       "  <tbody>\n",
       "    <tr>\n",
       "      <th>0</th>\n",
       "      <td>https://documents1.worldbank.org/curated/en/92...</td>\n",
       "      <td>d e z i r o h t u A e r u s o l c DANUBE s i D...</td>\n",
       "      <td>irrelevant</td>\n",
       "      <td>[]</td>\n",
       "    </tr>\n",
       "    <tr>\n",
       "      <th>1</th>\n",
       "      <td>https://cabatuan.gov.ph/wp-content/uploads/202...</td>\n",
       "      <td>P HILIPPINE B IDDING D OCUMENTS (As Harmonized...</td>\n",
       "      <td>irrelevant</td>\n",
       "      <td>[]</td>\n",
       "    </tr>\n",
       "    <tr>\n",
       "      <th>2</th>\n",
       "      <td>https://deepdivestocks.com/wp-content/uploads/...</td>\n",
       "      <td>Liquidity Dependent Price Stability Primer DIS...</td>\n",
       "      <td>irrelevant</td>\n",
       "      <td>[]</td>\n",
       "    </tr>\n",
       "    <tr>\n",
       "      <th>3</th>\n",
       "      <td>https://budget.finance.go.ug/sites/default/fil...</td>\n",
       "      <td>LG Draft Budget Estimates 2024/25 VOTE: 836 Ig...</td>\n",
       "      <td>irrelevant</td>\n",
       "      <td>[]</td>\n",
       "    </tr>\n",
       "    <tr>\n",
       "      <th>4</th>\n",
       "      <td>https://www.decaturedc.com/wp-content/uploads/...</td>\n",
       "      <td>CONTACT Kathy Bodnar Associate E: kathy@caspia...</td>\n",
       "      <td>irrelevant</td>\n",
       "      <td>[]</td>\n",
       "    </tr>\n",
       "    <tr>\n",
       "      <th>...</th>\n",
       "      <td>...</td>\n",
       "      <td>...</td>\n",
       "      <td>...</td>\n",
       "      <td>...</td>\n",
       "    </tr>\n",
       "    <tr>\n",
       "      <th>495</th>\n",
       "      <td>https://decra.com/hubfs/Estimating-Sheet-Villa...</td>\n",
       "      <td>Estimating Sheet (Metric) - DECRA Villa Tile -...</td>\n",
       "      <td>irrelevant</td>\n",
       "      <td>[]</td>\n",
       "    </tr>\n",
       "    <tr>\n",
       "      <th>496</th>\n",
       "      <td>https://documents1.worldbank.org/curated/en/42...</td>\n",
       "      <td>d e z i r o h t u A e r u s o l c s i D c i l ...</td>\n",
       "      <td>irrelevant</td>\n",
       "      <td>[]</td>\n",
       "    </tr>\n",
       "    <tr>\n",
       "      <th>497</th>\n",
       "      <td>https://www.yourreturn.org/Treatments/Teeth/Cu...</td>\n",
       "      <td>A Special Note for Book Preview Readers Fast p...</td>\n",
       "      <td>irrelevant</td>\n",
       "      <td>[]</td>\n",
       "    </tr>\n",
       "    <tr>\n",
       "      <th>498</th>\n",
       "      <td>https://zenodo.org/records/10964254/files/FOSC...</td>\n",
       "      <td>1 Including traditional ecological knowledge (...</td>\n",
       "      <td>irrelevant</td>\n",
       "      <td>[]</td>\n",
       "    </tr>\n",
       "    <tr>\n",
       "      <th>499</th>\n",
       "      <td>https://products.z-wavealliance.org/ProductMan...</td>\n",
       "      <td>ENG INSTALLATION NOTES: VII. DETECTING LACK OF...</td>\n",
       "      <td>irrelevant</td>\n",
       "      <td>[]</td>\n",
       "    </tr>\n",
       "  </tbody>\n",
       "</table>\n",
       "<p>500 rows × 4 columns</p>\n",
       "</div>"
      ],
      "text/plain": [
       "                                                   url  \\\n",
       "0    https://documents1.worldbank.org/curated/en/92...   \n",
       "1    https://cabatuan.gov.ph/wp-content/uploads/202...   \n",
       "2    https://deepdivestocks.com/wp-content/uploads/...   \n",
       "3    https://budget.finance.go.ug/sites/default/fil...   \n",
       "4    https://www.decaturedc.com/wp-content/uploads/...   \n",
       "..                                                 ...   \n",
       "495  https://decra.com/hubfs/Estimating-Sheet-Villa...   \n",
       "496  https://documents1.worldbank.org/curated/en/42...   \n",
       "497  https://www.yourreturn.org/Treatments/Teeth/Cu...   \n",
       "498  https://zenodo.org/records/10964254/files/FOSC...   \n",
       "499  https://products.z-wavealliance.org/ProductMan...   \n",
       "\n",
       "                                                  text   relevance  \\\n",
       "0    d e z i r o h t u A e r u s o l c DANUBE s i D...  irrelevant   \n",
       "1    P HILIPPINE B IDDING D OCUMENTS (As Harmonized...  irrelevant   \n",
       "2    Liquidity Dependent Price Stability Primer DIS...  irrelevant   \n",
       "3    LG Draft Budget Estimates 2024/25 VOTE: 836 Ig...  irrelevant   \n",
       "4    CONTACT Kathy Bodnar Associate E: kathy@caspia...  irrelevant   \n",
       "..                                                 ...         ...   \n",
       "495  Estimating Sheet (Metric) - DECRA Villa Tile -...  irrelevant   \n",
       "496  d e z i r o h t u A e r u s o l c s i D c i l ...  irrelevant   \n",
       "497  A Special Note for Book Preview Readers Fast p...  irrelevant   \n",
       "498  1 Including traditional ecological knowledge (...  irrelevant   \n",
       "499  ENG INSTALLATION NOTES: VII. DETECTING LACK OF...  irrelevant   \n",
       "\n",
       "    multiclasses  \n",
       "0             []  \n",
       "1             []  \n",
       "2             []  \n",
       "3             []  \n",
       "4             []  \n",
       "..           ...  \n",
       "495           []  \n",
       "496           []  \n",
       "497           []  \n",
       "498           []  \n",
       "499           []  \n",
       "\n",
       "[500 rows x 4 columns]"
      ]
     },
     "execution_count": 4,
     "metadata": {},
     "output_type": "execute_result"
    }
   ],
   "source": [
    "test_dataset"
   ]
  },
  {
   "cell_type": "code",
   "execution_count": 5,
   "metadata": {},
   "outputs": [],
   "source": [
    "import torch\n",
    "torch.cuda.empty_cache()"
   ]
  },
  {
   "cell_type": "code",
   "execution_count": 6,
   "metadata": {},
   "outputs": [
    {
     "name": "stdout",
     "output_type": "stream",
     "text": [
      "Loading model from ./models/relevance/avsolatorio/GIST-small-Embedding-v0 ...\n",
      "Model loaded.\n",
      "Tokenizer loaded....\n",
      "Building classifier pipeline...\r"
     ]
    },
    {
     "name": "stderr",
     "output_type": "stream",
     "text": [
      "The model 'FastFit' is not supported for text-classification. Supported models are ['AlbertForSequenceClassification', 'BartForSequenceClassification', 'BertForSequenceClassification', 'BigBirdForSequenceClassification', 'BigBirdPegasusForSequenceClassification', 'BioGptForSequenceClassification', 'BloomForSequenceClassification', 'CamembertForSequenceClassification', 'CanineForSequenceClassification', 'LlamaForSequenceClassification', 'ConvBertForSequenceClassification', 'CTRLForSequenceClassification', 'Data2VecTextForSequenceClassification', 'DebertaForSequenceClassification', 'DebertaV2ForSequenceClassification', 'DistilBertForSequenceClassification', 'ElectraForSequenceClassification', 'ErnieForSequenceClassification', 'ErnieMForSequenceClassification', 'EsmForSequenceClassification', 'FalconForSequenceClassification', 'FlaubertForSequenceClassification', 'FNetForSequenceClassification', 'FunnelForSequenceClassification', 'GemmaForSequenceClassification', 'Gemma2ForSequenceClassification', 'GPT2ForSequenceClassification', 'GPT2ForSequenceClassification', 'GPTBigCodeForSequenceClassification', 'GPTNeoForSequenceClassification', 'GPTNeoXForSequenceClassification', 'GPTJForSequenceClassification', 'IBertForSequenceClassification', 'JambaForSequenceClassification', 'JetMoeForSequenceClassification', 'LayoutLMForSequenceClassification', 'LayoutLMv2ForSequenceClassification', 'LayoutLMv3ForSequenceClassification', 'LEDForSequenceClassification', 'LiltForSequenceClassification', 'LlamaForSequenceClassification', 'LongformerForSequenceClassification', 'LukeForSequenceClassification', 'MarkupLMForSequenceClassification', 'MBartForSequenceClassification', 'MegaForSequenceClassification', 'MegatronBertForSequenceClassification', 'MistralForSequenceClassification', 'MixtralForSequenceClassification', 'MobileBertForSequenceClassification', 'MPNetForSequenceClassification', 'MptForSequenceClassification', 'MraForSequenceClassification', 'MT5ForSequenceClassification', 'MvpForSequenceClassification', 'NezhaForSequenceClassification', 'NystromformerForSequenceClassification', 'OpenLlamaForSequenceClassification', 'OpenAIGPTForSequenceClassification', 'OPTForSequenceClassification', 'PerceiverForSequenceClassification', 'PersimmonForSequenceClassification', 'PhiForSequenceClassification', 'Phi3ForSequenceClassification', 'PLBartForSequenceClassification', 'QDQBertForSequenceClassification', 'Qwen2ForSequenceClassification', 'Qwen2MoeForSequenceClassification', 'ReformerForSequenceClassification', 'RemBertForSequenceClassification', 'RobertaForSequenceClassification', 'RobertaPreLayerNormForSequenceClassification', 'RoCBertForSequenceClassification', 'RoFormerForSequenceClassification', 'SqueezeBertForSequenceClassification', 'StableLmForSequenceClassification', 'Starcoder2ForSequenceClassification', 'T5ForSequenceClassification', 'TapasForSequenceClassification', 'TransfoXLForSequenceClassification', 'UMT5ForSequenceClassification', 'XLMForSequenceClassification', 'XLMRobertaForSequenceClassification', 'XLMRobertaXLForSequenceClassification', 'XLNetForSequenceClassification', 'XmodForSequenceClassification', 'YosoForSequenceClassification'].\n"
     ]
    },
    {
     "name": "stdout",
     "output_type": "stream",
     "text": [
      "\n",
      "Classifier pipeline built.\n"
     ]
    }
   ],
   "source": [
    "classifier = FastFitClassifier(\n",
    "    model_path=model_path,\n",
    "    text_overlap_proportion=0.2,\n",
    "    device='cuda:0'\n",
    ")"
   ]
  },
  {
   "cell_type": "code",
   "execution_count": 7,
   "metadata": {},
   "outputs": [],
   "source": [
    "import torch\n",
    "torch.cuda.empty_cache()"
   ]
  },
  {
   "cell_type": "code",
   "execution_count": 8,
   "metadata": {},
   "outputs": [
    {
     "name": "stdout",
     "output_type": "stream",
     "text": [
      "Chunking data...\r"
     ]
    },
    {
     "data": {
      "application/vnd.jupyter.widget-view+json": {
       "model_id": "848c280a796e4eec97d404d51cddc31a",
       "version_major": 2,
       "version_minor": 0
      },
      "text/plain": [
       "  0%|          | 0/500 [00:00<?, ?it/s]"
      ]
     },
     "metadata": {},
     "output_type": "display_data"
    },
    {
     "name": "stdout",
     "output_type": "stream",
     "text": [
      "Data chunked.\n",
      "Predicting from chunks...\r"
     ]
    },
    {
     "data": {
      "application/vnd.jupyter.widget-view+json": {
       "model_id": "7fef5e8d46034a3e8f71506a68c6ff49",
       "version_major": 2,
       "version_minor": 0
      },
      "text/plain": [
       "Files\t:   0%|          | 0/500 [00:00<?, ?it/s]"
      ]
     },
     "metadata": {},
     "output_type": "display_data"
    },
    {
     "data": {
      "application/vnd.jupyter.widget-view+json": {
       "model_id": "d345522d88e044ada6f42713632b979b",
       "version_major": 2,
       "version_minor": 0
      },
      "text/plain": [
       "Chunks\t:   0%|          | 0/159248 [00:00<?, ?it/s]"
      ]
     },
     "metadata": {},
     "output_type": "display_data"
    }
   ],
   "source": [
    "\n",
    "#! on fastfit/modeling.py, line 838, inserting **kwargs\n",
    "#! it's easier than getting the tokenizer to stop outputting\n",
    "#! extra info like token_type_ids\n",
    "\n",
    "classifier.evaluate(\n",
    "    test_dataset,\n",
    "    metrics=[\n",
    "        \"accuracy\",\n",
    "        \"precision\",\n",
    "        \"classification-report\",\n",
    "        \"specificity\",\n",
    "        \"confusion-matrix-mpl\",\n",
    "    ],\n",
    "    aggregate=\"majority\",\n",
    ")"
   ]
  },
  {
   "cell_type": "code",
   "execution_count": null,
   "metadata": {},
   "outputs": [
    {
     "name": "stdout",
     "output_type": "stream",
     "text": [
      "Chunking data...\r"
     ]
    },
    {
     "data": {
      "application/vnd.jupyter.widget-view+json": {
       "model_id": "900bec641a4a454db75d51490a6d4689",
       "version_major": 2,
       "version_minor": 0
      },
      "text/plain": [
       "  0%|          | 0/10 [00:00<?, ?it/s]"
      ]
     },
     "metadata": {},
     "output_type": "display_data"
    },
    {
     "name": "stdout",
     "output_type": "stream",
     "text": [
      "Data chunked.\n",
      "Predicting from chunks...\r"
     ]
    },
    {
     "data": {
      "application/vnd.jupyter.widget-view+json": {
       "model_id": "c84ebef6ab9c40b38055233ec52b8470",
       "version_major": 2,
       "version_minor": 0
      },
      "text/plain": [
       "Files\t:   0%|          | 0/10 [00:00<?, ?it/s]"
      ]
     },
     "metadata": {},
     "output_type": "display_data"
    },
    {
     "data": {
      "application/vnd.jupyter.widget-view+json": {
       "model_id": "27a14ebfec894964b759b9ab29a27afc",
       "version_major": 2,
       "version_minor": 0
      },
      "text/plain": [
       "Chunks\t:   0%|          | 0/3343 [00:00<?, ?it/s]"
      ]
     },
     "metadata": {},
     "output_type": "display_data"
    },
    {
     "name": "stdout",
     "output_type": "stream",
     "text": [
      "Calculated predictions.\n"
     ]
    },
    {
     "data": {
      "text/html": [
       "<div>\n",
       "<style scoped>\n",
       "    .dataframe tbody tr th:only-of-type {\n",
       "        vertical-align: middle;\n",
       "    }\n",
       "\n",
       "    .dataframe tbody tr th {\n",
       "        vertical-align: top;\n",
       "    }\n",
       "\n",
       "    .dataframe thead th {\n",
       "        text-align: right;\n",
       "    }\n",
       "</style>\n",
       "<table border=\"1\" class=\"dataframe\">\n",
       "  <thead>\n",
       "    <tr style=\"text-align: right;\">\n",
       "      <th></th>\n",
       "      <th>url</th>\n",
       "      <th>text</th>\n",
       "      <th>relevance</th>\n",
       "      <th>multiclasses</th>\n",
       "      <th>predictions</th>\n",
       "    </tr>\n",
       "  </thead>\n",
       "  <tbody>\n",
       "    <tr>\n",
       "      <th>350</th>\n",
       "      <td>https://repositorio.uncp.edu.pe/bitstream/hand...</td>\n",
       "      <td>Facultad de Sociología Reasentamiento e implic...</td>\n",
       "      <td>irrelevant</td>\n",
       "      <td>[]</td>\n",
       "      <td>irrelevant</td>\n",
       "    </tr>\n",
       "    <tr>\n",
       "      <th>1861</th>\n",
       "      <td>https://www.arla.ph/49f584/globalassets/arla-g...</td>\n",
       "      <td>20 årsredovisning 12 innehåll FÖrvAlTningsrAPP...</td>\n",
       "      <td>irrelevant</td>\n",
       "      <td>[]</td>\n",
       "      <td>irrelevant</td>\n",
       "    </tr>\n",
       "    <tr>\n",
       "      <th>812</th>\n",
       "      <td>https://www.daywireless.com/downloads/wave/eme...</td>\n",
       "      <td>PRIORITY COMMUNICATION FOR BROADBAND PTT | BRO...</td>\n",
       "      <td>irrelevant</td>\n",
       "      <td>[]</td>\n",
       "      <td>irrelevant</td>\n",
       "    </tr>\n",
       "    <tr>\n",
       "      <th>1567</th>\n",
       "      <td>https://redge.org.pe/sites/default/files/La%20...</td>\n",
       "      <td>La otra lucha contra el cáncer Justicia Fiscal...</td>\n",
       "      <td>irrelevant</td>\n",
       "      <td>[]</td>\n",
       "      <td>irrelevant</td>\n",
       "    </tr>\n",
       "    <tr>\n",
       "      <th>353</th>\n",
       "      <td>https://www.ddmworks.com/assets/images/instruc...</td>\n",
       "      <td>Solstice /Sky Short Throw Shifter This short t...</td>\n",
       "      <td>irrelevant</td>\n",
       "      <td>[]</td>\n",
       "      <td>irrelevant</td>\n",
       "    </tr>\n",
       "    <tr>\n",
       "      <th>547</th>\n",
       "      <td>https://gatt-disputes.wto.org/sites/default/fi...</td>\n",
       "      <td>RESTRICTED 25 GENERAL AGREEMENT O N %V , * Q i...</td>\n",
       "      <td>irrelevant</td>\n",
       "      <td>[]</td>\n",
       "      <td>irrelevant</td>\n",
       "    </tr>\n",
       "    <tr>\n",
       "      <th>93</th>\n",
       "      <td>https://budget.finance.go.ug/sites/default/fil...</td>\n",
       "      <td>LG Draft Budget Estimates 2024/25 VOTE: 823 Bu...</td>\n",
       "      <td>irrelevant</td>\n",
       "      <td>[]</td>\n",
       "      <td>irrelevant</td>\n",
       "    </tr>\n",
       "    <tr>\n",
       "      <th>1596</th>\n",
       "      <td>https://fami.com.ph/wp-content/uploads/2024/05...</td>\n",
       "      <td>COVER SHEET C S 2 0 1 8 - 0 1 6 4 6 SEC Regist...</td>\n",
       "      <td>irrelevant</td>\n",
       "      <td>[]</td>\n",
       "      <td>irrelevant</td>\n",
       "    </tr>\n",
       "    <tr>\n",
       "      <th>1586</th>\n",
       "      <td>https://documents1.worldbank.org/curated/en/09...</td>\n",
       "      <td>d e z i r o h t u A e r u s o l c s i D c i l ...</td>\n",
       "      <td>irrelevant</td>\n",
       "      <td>[]</td>\n",
       "      <td>irrelevant</td>\n",
       "    </tr>\n",
       "    <tr>\n",
       "      <th>1138</th>\n",
       "      <td>https://documents1.worldbank.org/curated/en/77...</td>\n",
       "      <td>d e z i r o h t u A e r u s o l c s i D c i l ...</td>\n",
       "      <td>irrelevant</td>\n",
       "      <td>[]</td>\n",
       "      <td>irrelevant</td>\n",
       "    </tr>\n",
       "  </tbody>\n",
       "</table>\n",
       "</div>"
      ],
      "text/plain": [
       "                                                    url  \\\n",
       "350   https://repositorio.uncp.edu.pe/bitstream/hand...   \n",
       "1861  https://www.arla.ph/49f584/globalassets/arla-g...   \n",
       "812   https://www.daywireless.com/downloads/wave/eme...   \n",
       "1567  https://redge.org.pe/sites/default/files/La%20...   \n",
       "353   https://www.ddmworks.com/assets/images/instruc...   \n",
       "547   https://gatt-disputes.wto.org/sites/default/fi...   \n",
       "93    https://budget.finance.go.ug/sites/default/fil...   \n",
       "1596  https://fami.com.ph/wp-content/uploads/2024/05...   \n",
       "1586  https://documents1.worldbank.org/curated/en/09...   \n",
       "1138  https://documents1.worldbank.org/curated/en/77...   \n",
       "\n",
       "                                                   text   relevance  \\\n",
       "350   Facultad de Sociología Reasentamiento e implic...  irrelevant   \n",
       "1861  20 årsredovisning 12 innehåll FÖrvAlTningsrAPP...  irrelevant   \n",
       "812   PRIORITY COMMUNICATION FOR BROADBAND PTT | BRO...  irrelevant   \n",
       "1567  La otra lucha contra el cáncer Justicia Fiscal...  irrelevant   \n",
       "353   Solstice /Sky Short Throw Shifter This short t...  irrelevant   \n",
       "547   RESTRICTED 25 GENERAL AGREEMENT O N %V , * Q i...  irrelevant   \n",
       "93    LG Draft Budget Estimates 2024/25 VOTE: 823 Bu...  irrelevant   \n",
       "1596  COVER SHEET C S 2 0 1 8 - 0 1 6 4 6 SEC Regist...  irrelevant   \n",
       "1586  d e z i r o h t u A e r u s o l c s i D c i l ...  irrelevant   \n",
       "1138  d e z i r o h t u A e r u s o l c s i D c i l ...  irrelevant   \n",
       "\n",
       "     multiclasses predictions  \n",
       "350            []  irrelevant  \n",
       "1861           []  irrelevant  \n",
       "812            []  irrelevant  \n",
       "1567           []  irrelevant  \n",
       "353            []  irrelevant  \n",
       "547            []  irrelevant  \n",
       "93             []  irrelevant  \n",
       "1596           []  irrelevant  \n",
       "1586           []  irrelevant  \n",
       "1138           []  irrelevant  "
      ]
     },
     "execution_count": 9,
     "metadata": {},
     "output_type": "execute_result"
    }
   ],
   "source": [
    "t = test_dataset.sample(10)\n",
    "classifier.predict(t)"
   ]
  },
  {
   "cell_type": "code",
   "execution_count": null,
   "metadata": {},
   "outputs": [
    {
     "name": "stdout",
     "output_type": "stream",
     "text": [
      "Chunking data...\r"
     ]
    },
    {
     "data": {
      "application/vnd.jupyter.widget-view+json": {
       "model_id": "c56167a4835b4e8dae9f66c8ad63fe10",
       "version_major": 2,
       "version_minor": 0
      },
      "text/plain": [
       "  0%|          | 0/2 [00:00<?, ?it/s]"
      ]
     },
     "metadata": {},
     "output_type": "display_data"
    },
    {
     "name": "stdout",
     "output_type": "stream",
     "text": [
      "Data chunked.\n",
      "Predicting from chunks...\r"
     ]
    },
    {
     "data": {
      "application/vnd.jupyter.widget-view+json": {
       "model_id": "5d04968700f8496d921193450021cb48",
       "version_major": 2,
       "version_minor": 0
      },
      "text/plain": [
       "Files\t:   0%|          | 0/2 [00:00<?, ?it/s]"
      ]
     },
     "metadata": {},
     "output_type": "display_data"
    },
    {
     "data": {
      "application/vnd.jupyter.widget-view+json": {
       "model_id": "9341b939e8fd457c80283211b4544180",
       "version_major": 2,
       "version_minor": 0
      },
      "text/plain": [
       "Chunks\t:   0%|          | 0/2 [00:00<?, ?it/s]"
      ]
     },
     "metadata": {},
     "output_type": "display_data"
    },
    {
     "name": "stdout",
     "output_type": "stream",
     "text": [
      "Calculated predictions.\n"
     ]
    },
    {
     "data": {
      "text/html": [
       "<div>\n",
       "<style scoped>\n",
       "    .dataframe tbody tr th:only-of-type {\n",
       "        vertical-align: middle;\n",
       "    }\n",
       "\n",
       "    .dataframe tbody tr th {\n",
       "        vertical-align: top;\n",
       "    }\n",
       "\n",
       "    .dataframe thead th {\n",
       "        text-align: right;\n",
       "    }\n",
       "</style>\n",
       "<table border=\"1\" class=\"dataframe\">\n",
       "  <thead>\n",
       "    <tr style=\"text-align: right;\">\n",
       "      <th></th>\n",
       "      <th>text</th>\n",
       "      <th>relevance</th>\n",
       "      <th>predictions</th>\n",
       "    </tr>\n",
       "  </thead>\n",
       "  <tbody>\n",
       "    <tr>\n",
       "      <th>0</th>\n",
       "      <td>Quantifying the effects of Entry Level Steward...</td>\n",
       "      <td>relevant</td>\n",
       "      <td>relevant</td>\n",
       "    </tr>\n",
       "    <tr>\n",
       "      <th>1</th>\n",
       "      <td>The economy in the UK depends on a number of f...</td>\n",
       "      <td>irrelevant</td>\n",
       "      <td>irrelevant</td>\n",
       "    </tr>\n",
       "  </tbody>\n",
       "</table>\n",
       "</div>"
      ],
      "text/plain": [
       "                                                text   relevance predictions\n",
       "0  Quantifying the effects of Entry Level Steward...    relevant    relevant\n",
       "1  The economy in the UK depends on a number of f...  irrelevant  irrelevant"
      ]
     },
     "execution_count": 10,
     "metadata": {},
     "output_type": "execute_result"
    }
   ],
   "source": [
    "t = pd.DataFrame(\n",
    "    [\n",
    "        {\"text\": \"Quantifying the effects of Entry Level Stewardship (ELS) on biodiversity at the farm scale: The Hillesden Experiment\", \"relevance\": \"relevant\"},\n",
    "        {\"text\": \"The economy in the UK depends on a number of factors: the government\", \"relevance\": \"irrelevant\"},\n",
    "    ]\n",
    ")\n",
    "classifier.predict(t)"
   ]
  },
  {
   "cell_type": "code",
   "execution_count": null,
   "metadata": {},
   "outputs": [],
   "source": []
  }
 ],
 "metadata": {
  "kernelspec": {
   "display_name": "GreyLiteratureClassifier-pwi3iMQR",
   "language": "python",
   "name": "python3"
  },
  "language_info": {
   "codemirror_mode": {
    "name": "ipython",
    "version": 3
   },
   "file_extension": ".py",
   "mimetype": "text/x-python",
   "name": "python",
   "nbconvert_exporter": "python",
   "pygments_lexer": "ipython3",
   "version": "3.10.12"
  }
 },
 "nbformat": 4,
 "nbformat_minor": 2
}
